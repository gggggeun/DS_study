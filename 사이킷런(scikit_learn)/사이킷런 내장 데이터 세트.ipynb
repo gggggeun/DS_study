{
  "nbformat": 4,
  "nbformat_minor": 0,
  "metadata": {
    "colab": {
      "name": "Untitled8.ipynb",
      "provenance": [],
      "authorship_tag": "ABX9TyPVX+RdtR9VnbWUIpJOYXwA",
      "include_colab_link": true
    },
    "kernelspec": {
      "name": "python3",
      "display_name": "Python 3"
    }
  },
  "cells": [
    {
      "cell_type": "markdown",
      "metadata": {
        "id": "view-in-github",
        "colab_type": "text"
      },
      "source": [
        "<a href=\"https://colab.research.google.com/github/gggggeun/study/blob/main/%EC%82%AC%EC%9D%B4%ED%82%B7%EB%9F%B0(scikit_learn)/%EC%82%AC%EC%9D%B4%ED%82%B7%EB%9F%B0%20%EB%82%B4%EC%9E%A5%20%EB%8D%B0%EC%9D%B4%ED%84%B0%20%EC%84%B8%ED%8A%B8.ipynb\" target=\"_parent\"><img src=\"https://colab.research.google.com/assets/colab-badge.svg\" alt=\"Open In Colab\"/></a>"
      ]
    },
    {
      "cell_type": "markdown",
      "metadata": {
        "id": "3uuO6VK5X40U"
      },
      "source": [
        "# 사이킷런 내장 데이터 세트"
      ]
    },
    {
      "cell_type": "markdown",
      "metadata": {
        "id": "y1gozr1ZYLW-"
      },
      "source": [
        "사이킷런에는 별도의 외부 웹사이트에서 데이터 세트를 내려받을 필요 없이 예제로 활용할 수 있는 간단하면서도 좋은 데이터 세트가 내장되어 있습니다. 이 데이터는 datasets 모듈에 있는 여러 API를 호출해 만들 수 있습니다."
      ]
    },
    {
      "cell_type": "code",
      "metadata": {
        "id": "lfMQTruHX4Bm"
      },
      "source": [
        "# 지도학습 (분류와 회귀)을 연습하귀 위한 예제용도의 데이터 세트\r\n",
        "\r\n",
        "# 분류 (Classification)\r\n",
        "datasets.load_breast_cancer() # 위스콘신 유방암 피처들과 악성/음성 레이블 데이터 세트\r\n",
        "datasets.load_digits()        # 0에서 9까지 숫자의 이미지 픽셀 데이터 세트\r\n",
        "datasets.load_iris()          # 붓꽃에 대한 피처를 가진 데이터 세트\r\n",
        "\r\n",
        "# 회귀 (Regression)\r\n",
        "datasets.load_boston()        # 미국 보스턴의 집 피처들과 가격에 대한 데이터 세트\r\n",
        "datasets.load_diabetes()      # 당뇨 데이터 세트"
      ],
      "execution_count": null,
      "outputs": []
    },
    {
      "cell_type": "code",
      "metadata": {
        "id": "qZ8MrKmoYqIC"
      },
      "source": [
        "# 비지도 학습 (분류와 클러스터링)을 위한 표본 데이터 생성기\r\n",
        "\r\n",
        "datasets.make_classifications()  # 분류를 위한 데이터 세트를 만듭니다.\r\n",
        "                                 # 특히 높은 상관도, 불필요한 속성 등의 노이즈 효과를 위한 데이터를 무작위로 생성해 줍니다.\r\n",
        "datasets.make_blobs()   # 클러스터링을 위한 데이터 세트를 무작위로 생성해 줍니다. \r\n",
        "                        # 군집 지정 개수에 따라 여러 가지 클러스터링을 위한 데이터 세트를 쉽게 만들어 줍니다."
      ],
      "execution_count": null,
      "outputs": []
    },
    {
      "cell_type": "markdown",
      "metadata": {
        "id": "TmwgaIoEZKMm"
      },
      "source": [
        "fetch\r\n",
        "\r\n",
        "fetch 계열의 명령은 데이터의 크기가 커서 패키지에 처음부터 저장돼 있지 않고 인터넷에서 내려받아 홈 디렉터리 아래의 scikit_learn_data라는 서브 디렉터리에 저장한 후 추후 불러들이는 데이터입니다. 따라서 최초 사용 시에 인터넷에 연결돼 있지 않으면 사용할 수 없습니다."
      ]
    },
    {
      "cell_type": "code",
      "metadata": {
        "id": "-DMDjDTCZPBf"
      },
      "source": [
        "fetch_covtype()        # 회귀 분석용 토지 조사 자료\r\n",
        "fetch_20newsgroupw()   # 뉴스 그룹 텍스트 자료\r\n",
        "fetch_olivtti_faces()  # 얼굴 이미지 자료\r\n",
        "fetch_lfw_people()     # 얼굴 이미지 자료\r\n",
        "fetch_lfw__pairs()     # 얼굴 이미지 자료\r\n",
        "fetch_rcv()            # 로이터 뉴스 말뭉치\r\n",
        "fetch_mldata()         # ML 웹사이트에서 다운로드"
      ],
      "execution_count": null,
      "outputs": []
    },
    {
      "cell_type": "markdown",
      "metadata": {
        "id": "yGfPaWtmZhke"
      },
      "source": [
        "## 예제 데이터의 구성 (분류나 회귀를 위한 연습용 예제 데이터)"
      ]
    },
    {
      "cell_type": "markdown",
      "metadata": {
        "id": "6zZkcnZEZvwY"
      },
      "source": [
        "- data는 피처의 데이터 세트를 가리킵니다.\r\n",
        "- target은 분류 시 레이블 값, 회귀일 때는 숫자 결과값 데이터 세트입니다.\r\n",
        "- target_names는 개별 레이블의 이름을 나타냅니다.\r\n",
        "- feature_names는 피처의 이름을 나타냅니다.\r\n",
        "- DESCR은 데이터 세트에 대한 설명과 각 피처의 설명을 나타냅니다.\r\n",
        "\r\n",
        "data,target은 넘파이 배열(ndarray)타입이며, target_names, feature_names는 넘파이 배열 또는 파이썬 리스트(list)입니다. DESCR은 스트링 타입입니다. 피처의 데이터 값을 반환받기 위해서는 내장 데이터 세트 API를 호출한 뒤에 그 Key 값을 지정하면 됩니다."
      ]
    },
    {
      "cell_type": "code",
      "metadata": {
        "colab": {
          "base_uri": "https://localhost:8080/"
        },
        "id": "_LAHNqYVHWNT",
        "outputId": "633e9262-0b2f-4b38-8340-8617ef994541"
      },
      "source": [
        "from sklearn.datasets import load_iris\r\n",
        "\r\n",
        "iris_data = load_iris()\r\n",
        "print(type(iris_data))"
      ],
      "execution_count": 1,
      "outputs": [
        {
          "output_type": "stream",
          "text": [
            "<class 'sklearn.utils.Bunch'>\n"
          ],
          "name": "stdout"
        }
      ]
    },
    {
      "cell_type": "markdown",
      "metadata": {
        "id": "2iwOJ8eXaLjp"
      },
      "source": [
        "load_iris() API의 반환 결과는 sklearn.utils.Bunch 클래스 입니다. \r\n",
        "\r\n",
        "Bunch 클래스는 파이썬 딕셔너리 자료형과 유사합니다. 데이터 세트에 내장돼 있는 대부분의 데이터 세트는 이와 같이 딕셔너리 형태 값을 반환합니다. 딕셔너리 형태이므로 load_iris() 데이트 세트의 key 값을 확인해 보겠습니다."
      ]
    },
    {
      "cell_type": "code",
      "metadata": {
        "colab": {
          "base_uri": "https://localhost:8080/"
        },
        "id": "nkn37wK7Hggu",
        "outputId": "c0a061fd-5e3c-415f-98a6-9cec15ddfac9"
      },
      "source": [
        "keys = iris_data.keys()\r\n",
        "print('붓꽃 데이터 세트의 키들 :', keys)"
      ],
      "execution_count": 2,
      "outputs": [
        {
          "output_type": "stream",
          "text": [
            "붓꽃 데이터 세트의 키들 : dict_keys(['data', 'target', 'target_names', 'DESCR', 'feature_names', 'filename'])\n"
          ],
          "name": "stdout"
        }
      ]
    },
    {
      "cell_type": "markdown",
      "metadata": {
        "id": "H43LMxI8aR_W"
      },
      "source": [
        "데이터 키는 피처들의 데이터 값을 가리킵니다. 데이터 세트가 딕셔너리 형태이기 때문에 피처 데이터 값을 추출하기 위해서는 데이터 세트.data(또는 데이터 세트['data'])를 이용하면 됩니다."
      ]
    },
    {
      "cell_type": "code",
      "metadata": {
        "colab": {
          "base_uri": "https://localhost:8080/"
        },
        "id": "_kn0jWxFIR8L",
        "outputId": "fa5a7590-1d8e-4443-eb28-0ec5812f070d"
      },
      "source": [
        "print('feature_names의 type : ', type(iris_data.feature_names))\r\n",
        "print('feature_names의 shape : ', len(iris_data.feature_names))\r\n",
        "print(iris_data.feature_names)"
      ],
      "execution_count": 3,
      "outputs": [
        {
          "output_type": "stream",
          "text": [
            "feature_names의 type :  <class 'list'>\n",
            "feature_names의 shape :  4\n",
            "['sepal length (cm)', 'sepal width (cm)', 'petal length (cm)', 'petal width (cm)']\n"
          ],
          "name": "stdout"
        }
      ]
    },
    {
      "cell_type": "code",
      "metadata": {
        "colab": {
          "base_uri": "https://localhost:8080/"
        },
        "id": "hnFKhZaCI-1R",
        "outputId": "20e54cb2-3a15-4b3a-c395-bc838f0fcc67"
      },
      "source": [
        "print('target_names 의 type : ', type(iris_data['target_names']))\r\n",
        "print('target_names 의 shape : ', len(iris_data['target_names']))\r\n",
        "print(iris_data['target_names'])"
      ],
      "execution_count": 4,
      "outputs": [
        {
          "output_type": "stream",
          "text": [
            "target_names 의 type :  <class 'numpy.ndarray'>\n",
            "target_names 의 shape :  3\n",
            "['setosa' 'versicolor' 'virginica']\n"
          ],
          "name": "stdout"
        }
      ]
    }
  ]
}