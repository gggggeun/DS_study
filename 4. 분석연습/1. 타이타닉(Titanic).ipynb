{
  "nbformat": 4,
  "nbformat_minor": 0,
  "metadata": {
    "colab": {
      "name": "타이타닉(Titanic) 데이터분석.ipynb",
      "provenance": [],
      "include_colab_link": true
    },
    "kernelspec": {
      "name": "python3",
      "display_name": "Python 3"
    }
  },
  "cells": [
    {
      "cell_type": "markdown",
      "metadata": {
        "id": "view-in-github",
        "colab_type": "text"
      },
      "source": [
        "<a href=\"https://colab.research.google.com/github/gggggeun/study/blob/main/4.%20%EB%B6%84%EC%84%9D%EC%97%B0%EC%8A%B5/1.%20%ED%83%80%EC%9D%B4%ED%83%80%EB%8B%89(Titanic).ipynb\" target=\"_parent\"><img src=\"https://colab.research.google.com/assets/colab-badge.svg\" alt=\"Open In Colab\"/></a>"
      ]
    },
    {
      "cell_type": "markdown",
      "metadata": {
        "id": "Hkj37N36PRgb"
      },
      "source": [
        "이번 타이타닉 데이터 분석은 오직 train/test data로만 나눴고, test 결과는 다소 test set에 과적합 되었습니다.또한 평가지표는 정확도(Accuracy)만 측정되어 정확한 평가가 이루어지지 않았음을 미리 알려드립니다."
      ]
    },
    {
      "cell_type": "code",
      "metadata": {
        "id": "dd_cudjOswS7"
      },
      "source": [
        "from google.colab import files\r\n",
        "files.upload()"
      ],
      "execution_count": null,
      "outputs": []
    },
    {
      "cell_type": "code",
      "metadata": {
        "id": "KCMn2sTauAqB"
      },
      "source": [
        "import pandas as pd\r\n",
        "import numpy as np\r\n",
        "import matplotlib.pyplot as plt\r\n",
        "import seaborn as sns\r\n",
        "%matplotlib inline"
      ],
      "execution_count": null,
      "outputs": []
    },
    {
      "cell_type": "code",
      "metadata": {
        "colab": {
          "base_uri": "https://localhost:8080/",
          "height": 314
        },
        "id": "uf8uSTcotohu",
        "outputId": "a2cc56c9-370b-4273-9112-925c24fae64c"
      },
      "source": [
        "df = pd.read_csv('train (1).csv')\r\n",
        "df.head(3)"
      ],
      "execution_count": null,
      "outputs": [
        {
          "output_type": "execute_result",
          "data": {
            "text/html": [
              "<div>\n",
              "<style scoped>\n",
              "    .dataframe tbody tr th:only-of-type {\n",
              "        vertical-align: middle;\n",
              "    }\n",
              "\n",
              "    .dataframe tbody tr th {\n",
              "        vertical-align: top;\n",
              "    }\n",
              "\n",
              "    .dataframe thead th {\n",
              "        text-align: right;\n",
              "    }\n",
              "</style>\n",
              "<table border=\"1\" class=\"dataframe\">\n",
              "  <thead>\n",
              "    <tr style=\"text-align: right;\">\n",
              "      <th></th>\n",
              "      <th>PassengerId</th>\n",
              "      <th>Survived</th>\n",
              "      <th>Pclass</th>\n",
              "      <th>Name</th>\n",
              "      <th>Sex</th>\n",
              "      <th>Age</th>\n",
              "      <th>SibSp</th>\n",
              "      <th>Parch</th>\n",
              "      <th>Ticket</th>\n",
              "      <th>Fare</th>\n",
              "      <th>Cabin</th>\n",
              "      <th>Embarked</th>\n",
              "    </tr>\n",
              "  </thead>\n",
              "  <tbody>\n",
              "    <tr>\n",
              "      <th>0</th>\n",
              "      <td>1</td>\n",
              "      <td>0</td>\n",
              "      <td>3</td>\n",
              "      <td>Braund, Mr. Owen Harris</td>\n",
              "      <td>male</td>\n",
              "      <td>22.0</td>\n",
              "      <td>1</td>\n",
              "      <td>0</td>\n",
              "      <td>A/5 21171</td>\n",
              "      <td>7.2500</td>\n",
              "      <td>NaN</td>\n",
              "      <td>S</td>\n",
              "    </tr>\n",
              "    <tr>\n",
              "      <th>1</th>\n",
              "      <td>2</td>\n",
              "      <td>1</td>\n",
              "      <td>1</td>\n",
              "      <td>Cumings, Mrs. John Bradley (Florence Briggs Th...</td>\n",
              "      <td>female</td>\n",
              "      <td>38.0</td>\n",
              "      <td>1</td>\n",
              "      <td>0</td>\n",
              "      <td>PC 17599</td>\n",
              "      <td>71.2833</td>\n",
              "      <td>C85</td>\n",
              "      <td>C</td>\n",
              "    </tr>\n",
              "    <tr>\n",
              "      <th>2</th>\n",
              "      <td>3</td>\n",
              "      <td>1</td>\n",
              "      <td>3</td>\n",
              "      <td>Heikkinen, Miss. Laina</td>\n",
              "      <td>female</td>\n",
              "      <td>26.0</td>\n",
              "      <td>0</td>\n",
              "      <td>0</td>\n",
              "      <td>STON/O2. 3101282</td>\n",
              "      <td>7.9250</td>\n",
              "      <td>NaN</td>\n",
              "      <td>S</td>\n",
              "    </tr>\n",
              "  </tbody>\n",
              "</table>\n",
              "</div>"
            ],
            "text/plain": [
              "   PassengerId  Survived  Pclass  ...     Fare Cabin  Embarked\n",
              "0            1         0       3  ...   7.2500   NaN         S\n",
              "1            2         1       1  ...  71.2833   C85         C\n",
              "2            3         1       3  ...   7.9250   NaN         S\n",
              "\n",
              "[3 rows x 12 columns]"
            ]
          },
          "metadata": {
            "tags": []
          },
          "execution_count": 64
        }
      ]
    },
    {
      "cell_type": "code",
      "metadata": {
        "colab": {
          "base_uri": "https://localhost:8080/",
          "height": 138
        },
        "id": "FQpyKfPA0tT6",
        "outputId": "5e914ea2-ea8b-4f3d-9df9-d2714335d838"
      },
      "source": [
        "# 필요없는 feature 제거\r\n",
        "df.drop(['PassengerId','Name','Ticket'],axis=1,inplace=True)\r\n",
        "df.head(3)"
      ],
      "execution_count": null,
      "outputs": [
        {
          "output_type": "execute_result",
          "data": {
            "text/html": [
              "<div>\n",
              "<style scoped>\n",
              "    .dataframe tbody tr th:only-of-type {\n",
              "        vertical-align: middle;\n",
              "    }\n",
              "\n",
              "    .dataframe tbody tr th {\n",
              "        vertical-align: top;\n",
              "    }\n",
              "\n",
              "    .dataframe thead th {\n",
              "        text-align: right;\n",
              "    }\n",
              "</style>\n",
              "<table border=\"1\" class=\"dataframe\">\n",
              "  <thead>\n",
              "    <tr style=\"text-align: right;\">\n",
              "      <th></th>\n",
              "      <th>Survived</th>\n",
              "      <th>Pclass</th>\n",
              "      <th>Sex</th>\n",
              "      <th>Age</th>\n",
              "      <th>SibSp</th>\n",
              "      <th>Parch</th>\n",
              "      <th>Fare</th>\n",
              "      <th>Cabin</th>\n",
              "      <th>Embarked</th>\n",
              "    </tr>\n",
              "  </thead>\n",
              "  <tbody>\n",
              "    <tr>\n",
              "      <th>0</th>\n",
              "      <td>0</td>\n",
              "      <td>3</td>\n",
              "      <td>male</td>\n",
              "      <td>22.0</td>\n",
              "      <td>1</td>\n",
              "      <td>0</td>\n",
              "      <td>7.2500</td>\n",
              "      <td>NaN</td>\n",
              "      <td>S</td>\n",
              "    </tr>\n",
              "    <tr>\n",
              "      <th>1</th>\n",
              "      <td>1</td>\n",
              "      <td>1</td>\n",
              "      <td>female</td>\n",
              "      <td>38.0</td>\n",
              "      <td>1</td>\n",
              "      <td>0</td>\n",
              "      <td>71.2833</td>\n",
              "      <td>C85</td>\n",
              "      <td>C</td>\n",
              "    </tr>\n",
              "    <tr>\n",
              "      <th>2</th>\n",
              "      <td>1</td>\n",
              "      <td>3</td>\n",
              "      <td>female</td>\n",
              "      <td>26.0</td>\n",
              "      <td>0</td>\n",
              "      <td>0</td>\n",
              "      <td>7.9250</td>\n",
              "      <td>NaN</td>\n",
              "      <td>S</td>\n",
              "    </tr>\n",
              "  </tbody>\n",
              "</table>\n",
              "</div>"
            ],
            "text/plain": [
              "   Survived  Pclass     Sex   Age  SibSp  Parch     Fare Cabin Embarked\n",
              "0         0       3    male  22.0      1      0   7.2500   NaN        S\n",
              "1         1       1  female  38.0      1      0  71.2833   C85        C\n",
              "2         1       3  female  26.0      0      0   7.9250   NaN        S"
            ]
          },
          "metadata": {
            "tags": []
          },
          "execution_count": 65
        }
      ]
    },
    {
      "cell_type": "code",
      "metadata": {
        "colab": {
          "base_uri": "https://localhost:8080/"
        },
        "id": "dQB2nAsltxAd",
        "outputId": "498ca2c4-83fe-4c38-e48e-854ac8cd62d7"
      },
      "source": [
        "# 데이터 정보\r\n",
        "df.info()"
      ],
      "execution_count": null,
      "outputs": [
        {
          "output_type": "stream",
          "text": [
            "<class 'pandas.core.frame.DataFrame'>\n",
            "RangeIndex: 891 entries, 0 to 890\n",
            "Data columns (total 9 columns):\n",
            " #   Column    Non-Null Count  Dtype  \n",
            "---  ------    --------------  -----  \n",
            " 0   Survived  891 non-null    int64  \n",
            " 1   Pclass    891 non-null    int64  \n",
            " 2   Sex       891 non-null    object \n",
            " 3   Age       714 non-null    float64\n",
            " 4   SibSp     891 non-null    int64  \n",
            " 5   Parch     891 non-null    int64  \n",
            " 6   Fare      891 non-null    float64\n",
            " 7   Cabin     204 non-null    object \n",
            " 8   Embarked  889 non-null    object \n",
            "dtypes: float64(2), int64(4), object(3)\n",
            "memory usage: 62.8+ KB\n"
          ],
          "name": "stdout"
        }
      ]
    },
    {
      "cell_type": "code",
      "metadata": {
        "colab": {
          "base_uri": "https://localhost:8080/"
        },
        "id": "74hBXvdouRMK",
        "outputId": "17989bab-8b58-48b8-927e-cc4fed6c04cb"
      },
      "source": [
        "# 결측값 정리\r\n",
        "df['Age'].fillna(df['Age'].mean(),inplace=True)\r\n",
        "df['Cabin'].fillna('N', inplace=True)\r\n",
        "df['Embarked'].fillna('N', inplace=True)\r\n",
        "print('총 결측치 수:',df.isnull().sum().sum())"
      ],
      "execution_count": null,
      "outputs": [
        {
          "output_type": "stream",
          "text": [
            "총 결측치 수: 0\n"
          ],
          "name": "stdout"
        }
      ]
    },
    {
      "cell_type": "code",
      "metadata": {
        "colab": {
          "base_uri": "https://localhost:8080/"
        },
        "id": "sr_-y9RmvV_d",
        "outputId": "50a72c5b-e9d0-4a10-ada2-6a97c462e502"
      },
      "source": [
        "# 문자열 피처\r\n",
        "print('Sex 값 분포 :\\n',df['Sex'].value_counts())\r\n",
        "print('\\nCabin 값 분포 :\\n', df['Cabin'].value_counts())\r\n",
        "print('\\nEmbarked 값 분포 :\\n', df['Embarked'].value_counts())"
      ],
      "execution_count": null,
      "outputs": [
        {
          "output_type": "stream",
          "text": [
            "Sex 값 분포 :\n",
            " male      577\n",
            "female    314\n",
            "Name: Sex, dtype: int64\n",
            "\n",
            "Cabin 값 분포 :\n",
            " N              687\n",
            "C23 C25 C27      4\n",
            "B96 B98          4\n",
            "G6               4\n",
            "F2               3\n",
            "              ... \n",
            "D11              1\n",
            "B79              1\n",
            "C148             1\n",
            "D50              1\n",
            "D48              1\n",
            "Name: Cabin, Length: 148, dtype: int64\n",
            "\n",
            "Embarked 값 분포 :\n",
            " S    644\n",
            "C    168\n",
            "Q     77\n",
            "N      2\n",
            "Name: Embarked, dtype: int64\n"
          ],
          "name": "stdout"
        }
      ]
    },
    {
      "cell_type": "markdown",
      "metadata": {
        "id": "ZhR_GHTTx5Ac"
      },
      "source": [
        "Cabin 값의 결측치가 많은 뿐더러 제대로 표기 되지않음(여러개가 표기됨). Cabin의 앞은 선실 등급으로 보이며 부유한 사람(일등실)과 가난한 사람(삼등실) 대비 살아날 확률 확인 가능"
      ]
    },
    {
      "cell_type": "code",
      "metadata": {
        "colab": {
          "base_uri": "https://localhost:8080/"
        },
        "id": "8tE_8YOVwf-N",
        "outputId": "206e756a-6771-456d-b670-fb9a6a8fa3fd"
      },
      "source": [
        "df['Cabin'] = df['Cabin'].str[:1]\r\n",
        "df['Cabin'].head()"
      ],
      "execution_count": null,
      "outputs": [
        {
          "output_type": "execute_result",
          "data": {
            "text/plain": [
              "0    N\n",
              "1    C\n",
              "2    N\n",
              "3    C\n",
              "4    N\n",
              "Name: Cabin, dtype: object"
            ]
          },
          "metadata": {
            "tags": []
          },
          "execution_count": 69
        }
      ]
    },
    {
      "cell_type": "markdown",
      "metadata": {
        "id": "6kvEXa8Xy_wn"
      },
      "source": [
        "타이타닉 영화에서도 여성과 아이들, 노약자가 제일 먼저 구조 대상입니다.  그리고 아마 그 다음이 부자와 유명인 이었을 것입니다. 안타깝게도 삼등실에 탄 많은 가난한 사람들의 사망률이 높을 것 입니다. 성별이 생존 확률에 어떤 영향을 미쳤는지, 성별에 따른 생존자 수를 비교해 보겠습니다."
      ]
    },
    {
      "cell_type": "code",
      "metadata": {
        "colab": {
          "base_uri": "https://localhost:8080/"
        },
        "id": "zG5mfp8ry6Sk",
        "outputId": "6cb120b5-8f19-4036-adcc-0832f9d6ffdc"
      },
      "source": [
        "df.groupby(['Sex','Survived'])['Survived'].count()"
      ],
      "execution_count": null,
      "outputs": [
        {
          "output_type": "execute_result",
          "data": {
            "text/plain": [
              "Sex     Survived\n",
              "female  0            81\n",
              "        1           233\n",
              "male    0           468\n",
              "        1           109\n",
              "Name: Survived, dtype: int64"
            ]
          },
          "metadata": {
            "tags": []
          },
          "execution_count": 70
        }
      ]
    },
    {
      "cell_type": "code",
      "metadata": {
        "colab": {
          "base_uri": "https://localhost:8080/",
          "height": 279
        },
        "id": "0AD-0rs0zkMu",
        "outputId": "a76d9d4f-7ab0-4b86-f7b2-de6ad3cfe5bb"
      },
      "source": [
        "# 성별에 따른 생존율\r\n",
        "sns.barplot(x='Sex',y='Survived',data=df);"
      ],
      "execution_count": null,
      "outputs": [
        {
          "output_type": "display_data",
          "data": {
            "image/png": "[encoded data removed]",
            "text/plain": [
              "<Figure size 432x288 with 1 Axes>"
            ]
          },
          "metadata": {
            "tags": [],
            "needs_background": "light"
          }
        }
      ]
    },
    {
      "cell_type": "code",
      "metadata": {
        "colab": {
          "base_uri": "https://localhost:8080/",
          "height": 279
        },
        "id": "xaxNu59Xz96Y",
        "outputId": "990d62d5-4973-4ee1-9b68-8f0707db3e8d"
      },
      "source": [
        "# 객실 등급과 성별에 따른 생존율\r\n",
        "sns.barplot(x='Pclass', y='Survived', hue='Sex',data=df);"
      ],
      "execution_count": null,
      "outputs": [
        {
          "output_type": "display_data",
          "data": {
            "image/png": "[encoded data removed]",
            "text/plain": [
              "<Figure size 432x288 with 1 Axes>"
            ]
          },
          "metadata": {
            "tags": [],
            "needs_background": "light"
          }
        }
      ]
    },
    {
      "cell_type": "markdown",
      "metadata": {
        "id": "idMzD3i60ePZ"
      },
      "source": [
        "여성의 경우 1,2등실에 따른 생존율이 차이가 많이 없으나, 3등실의 경우 생존률이 상대적으로 떨어짐을 알 수 있다. 남성의 경우 일등실의 생존확률이 이삼등실보다 월등히 높습니다."
      ]
    },
    {
      "cell_type": "code",
      "metadata": {
        "colab": {
          "base_uri": "https://localhost:8080/",
          "height": 389
        },
        "id": "VwWaA-MG0OZG",
        "outputId": "10105481-06b8-494f-cb55-a9fff28d4cd1"
      },
      "source": [
        "# 나이에 따른 생존확률\r\n",
        "def get_category(age):\r\n",
        "  cat=''\r\n",
        "  if age <=-1: cat = \"Unknown\"\r\n",
        "  elif age <=5: cat = \"Baby\"\r\n",
        "  elif age <=12: cat = \"Child\"\r\n",
        "  elif age <=18: cat = \"Teenager\"\r\n",
        "  elif age <=25: cat = \"Student\"\r\n",
        "  elif age <=35: cat = \"Young Adult\"\r\n",
        "  elif age <=60: cat = \"Adult\"\r\n",
        "  else : cat = \"Elderly\"\r\n",
        "\r\n",
        "  return cat\r\n",
        "\r\n",
        "plt.figure(figsize=(10,6))\r\n",
        "\r\n",
        "# X축을 순차적으로 표시하기 위한 설정\r\n",
        "group_names = ['Unknown','Baby','Child','Teenager','Student','Young Adult','Adult','Elderly']\r\n",
        "\r\n",
        "#lambda 식에 위에서 생성한 get_category() 함수를 반환값으로 지정\r\n",
        "# get_category(X)는 입력값으로 'Age' 칼럼 값을 받아서 해당하는 cat 반환\r\n",
        "\r\n",
        "df['Age_cat'] = df['Age'].apply(lambda x: get_category(x))\r\n",
        "sns.barplot(x='Age_cat',y='Survived',hue='Sex',data=df, order=group_names)\r\n",
        "df.drop('Age_cat', axis=1, inplace=True)"
      ],
      "execution_count": null,
      "outputs": [
        {
          "output_type": "display_data",
          "data": {
            "image/png": "[encoded data removed]",
            "text/plain": [
              "<Figure size 720x432 with 1 Axes>"
            ]
          },
          "metadata": {
            "tags": [],
            "needs_background": "light"
          }
        }
      ]
    },
    {
      "cell_type": "markdown",
      "metadata": {
        "id": "tG_Q0VUH2gVd"
      },
      "source": [
        "여자 Baby의 경우 비교적 생존 확률이 높았고, 여자 Chile는 다른 연령대에 비해 생존률이 낮습니다. 그리고 여자 Elderly의 경우 생존률이 매우 높았습니다. 이제까지 분석한 결과 Sex, Age, PClass 등이 중요하게 생존과 관련있는 피처임을 알 수 있었습니다.\r\n",
        "\r\n",
        "이제 남아있는 문자열 카테고리 피처를 encoding 하겠습니다."
      ]
    },
    {
      "cell_type": "code",
      "metadata": {
        "colab": {
          "base_uri": "https://localhost:8080/",
          "height": 198
        },
        "id": "GpQfJ17x2Smm",
        "outputId": "59d1010a-ab6e-4988-87e2-391f4afecb43"
      },
      "source": [
        "from sklearn import preprocessing\r\n",
        "\r\n",
        "def encode_features(dataDF):\r\n",
        "  features = ['Cabin','Sex','Embarked']\r\n",
        "  for feature in features :\r\n",
        "    le = preprocessing.LabelEncoder()\r\n",
        "    le = le.fit(dataDF[feature])\r\n",
        "    dataDF[feature] = le.transform(dataDF[feature])\r\n",
        "\r\n",
        "  return dataDF\r\n",
        "\r\n",
        "df = encode_features(df)\r\n",
        "df.head()"
      ],
      "execution_count": null,
      "outputs": [
        {
          "output_type": "execute_result",
          "data": {
            "text/html": [
              "<div>\n",
              "<style scoped>\n",
              "    .dataframe tbody tr th:only-of-type {\n",
              "        vertical-align: middle;\n",
              "    }\n",
              "\n",
              "    .dataframe tbody tr th {\n",
              "        vertical-align: top;\n",
              "    }\n",
              "\n",
              "    .dataframe thead th {\n",
              "        text-align: right;\n",
              "    }\n",
              "</style>\n",
              "<table border=\"1\" class=\"dataframe\">\n",
              "  <thead>\n",
              "    <tr style=\"text-align: right;\">\n",
              "      <th></th>\n",
              "      <th>Survived</th>\n",
              "      <th>Pclass</th>\n",
              "      <th>Sex</th>\n",
              "      <th>Age</th>\n",
              "      <th>SibSp</th>\n",
              "      <th>Parch</th>\n",
              "      <th>Fare</th>\n",
              "      <th>Cabin</th>\n",
              "      <th>Embarked</th>\n",
              "    </tr>\n",
              "  </thead>\n",
              "  <tbody>\n",
              "    <tr>\n",
              "      <th>0</th>\n",
              "      <td>0</td>\n",
              "      <td>3</td>\n",
              "      <td>1</td>\n",
              "      <td>22.0</td>\n",
              "      <td>1</td>\n",
              "      <td>0</td>\n",
              "      <td>7.2500</td>\n",
              "      <td>7</td>\n",
              "      <td>3</td>\n",
              "    </tr>\n",
              "    <tr>\n",
              "      <th>1</th>\n",
              "      <td>1</td>\n",
              "      <td>1</td>\n",
              "      <td>0</td>\n",
              "      <td>38.0</td>\n",
              "      <td>1</td>\n",
              "      <td>0</td>\n",
              "      <td>71.2833</td>\n",
              "      <td>2</td>\n",
              "      <td>0</td>\n",
              "    </tr>\n",
              "    <tr>\n",
              "      <th>2</th>\n",
              "      <td>1</td>\n",
              "      <td>3</td>\n",
              "      <td>0</td>\n",
              "      <td>26.0</td>\n",
              "      <td>0</td>\n",
              "      <td>0</td>\n",
              "      <td>7.9250</td>\n",
              "      <td>7</td>\n",
              "      <td>3</td>\n",
              "    </tr>\n",
              "    <tr>\n",
              "      <th>3</th>\n",
              "      <td>1</td>\n",
              "      <td>1</td>\n",
              "      <td>0</td>\n",
              "      <td>35.0</td>\n",
              "      <td>1</td>\n",
              "      <td>0</td>\n",
              "      <td>53.1000</td>\n",
              "      <td>2</td>\n",
              "      <td>3</td>\n",
              "    </tr>\n",
              "    <tr>\n",
              "      <th>4</th>\n",
              "      <td>0</td>\n",
              "      <td>3</td>\n",
              "      <td>1</td>\n",
              "      <td>35.0</td>\n",
              "      <td>0</td>\n",
              "      <td>0</td>\n",
              "      <td>8.0500</td>\n",
              "      <td>7</td>\n",
              "      <td>3</td>\n",
              "    </tr>\n",
              "  </tbody>\n",
              "</table>\n",
              "</div>"
            ],
            "text/plain": [
              "   Survived  Pclass  Sex   Age  SibSp  Parch     Fare  Cabin  Embarked\n",
              "0         0       3    1  22.0      1      0   7.2500      7         3\n",
              "1         1       1    0  38.0      1      0  71.2833      2         0\n",
              "2         1       3    0  26.0      0      0   7.9250      7         3\n",
              "3         1       1    0  35.0      1      0  53.1000      2         3\n",
              "4         0       3    1  35.0      0      0   8.0500      7         3"
            ]
          },
          "metadata": {
            "tags": []
          },
          "execution_count": 74
        }
      ]
    },
    {
      "cell_type": "markdown",
      "metadata": {
        "id": "W-OGzJmA90Sl"
      },
      "source": [
        "지금까지 피처를 가공한 내역을 정리하고 함수만들기"
      ]
    },
    {
      "cell_type": "code",
      "metadata": {
        "id": "8gaAV9MM4_tK"
      },
      "source": [
        "# Null 처리 함수\r\n",
        "def fillna(dfo):\r\n",
        "  dfo['Age'].fillna(dfo['Age'].mean(), inplace=True)\r\n",
        "  dfo['Cabin'].fillna('N', inplace=True)\r\n",
        "  dfo['Embarked'].fillna('N', inplace=True)\r\n",
        "  dfo['Fare'].fillna(0, inplace=True)\r\n",
        "  return dfo\r\n",
        "\r\n",
        "# 머신러닝에 불필요한 속성 제거\r\n",
        "def drop_features(dfo):\r\n",
        "  dfo.drop(['PassengerId', 'Name', 'Ticket'], axis=1, inplace=True)\r\n",
        "\r\n",
        "# 레이블 인코딩\r\n",
        "def format_features(dfo):\r\n",
        "  dfo['Cabin']= dfo['Cabin'].str[:1]\r\n",
        "  features = ['Cabin','Sex','Embarked']\r\n",
        "  for feature in features:\r\n",
        "    le = preprocessing.LabelEncoder()\r\n",
        "    le = le.fit(dfo[feature])\r\n",
        "    dfo[feature] = le.transform(dfo[feature])\r\n",
        "  return dfo\r\n",
        "\r\n",
        "# 앞에서 설정한 데이터 전처리 함수 호출\r\n",
        "def transform_features(dfo):\r\n",
        "  dfo = fillna(dfo)\r\n",
        "  dfo = drop_features(dfo)\r\n",
        "  dfo = format_features(dfo)\r\n",
        "  return dfo"
      ],
      "execution_count": null,
      "outputs": []
    },
    {
      "cell_type": "markdown",
      "metadata": {
        "id": "EIq-EKhh-KQN"
      },
      "source": [
        "머선러닝 알고리즘으로 생존자 예측하기\r\n",
        "- DecisionTree\r\n",
        "- RandomForest\r\n",
        "- Logistic Regression"
      ]
    },
    {
      "cell_type": "code",
      "metadata": {
        "id": "9kxz47ju1ZZy"
      },
      "source": [
        "# train_test_split()\r\n",
        "from sklearn.model_selection import train_test_split\r\n",
        "target = df['Survived']\r\n",
        "feature = df.drop('Survived',axis=1)\r\n",
        "X_train, X_test,y_train, y_test = train_test_split(feature, target, test_size=0.2, random_state=10)"
      ],
      "execution_count": null,
      "outputs": []
    },
    {
      "cell_type": "markdown",
      "metadata": {
        "id": "xfCOrFUs-WD3"
      },
      "source": [
        "최적화 전 (Before)"
      ]
    },
    {
      "cell_type": "code",
      "metadata": {
        "colab": {
          "base_uri": "https://localhost:8080/"
        },
        "id": "f9dlcSJR2oXC",
        "outputId": "6295fb35-f8fe-4773-babb-ee131366263b"
      },
      "source": [
        "from sklearn.tree import DecisionTreeClassifier\r\n",
        "from sklearn.ensemble import RandomForestClassifier\r\n",
        "from sklearn.linear_model import LogisticRegression\r\n",
        "from sklearn.metrics import accuracy_score\r\n",
        "\r\n",
        "# 사이킷런 Classifir 클래스 생성\r\n",
        "dt_clf = DecisionTreeClassifier(random_state=11)\r\n",
        "rf_clf = RandomForestClassifier(random_state=11)\r\n",
        "lr_clf = LogisticRegression()\r\n",
        "\r\n",
        "# DecisionTreeClassifier 학습/예측/평가\r\n",
        "dt_clf.fit(X_train, y_train)\r\n",
        "dt_pred = dt_clf.predict(X_test)\r\n",
        "print('DecisionTree 정확도 : {0:.4f}'.format(accuracy_score(y_test, dt_pred)))\r\n",
        "\r\n",
        "# RandomForestClassifier 학습/예측/평가\r\n",
        "rf_clf.fit(X_train, y_train)\r\n",
        "rf_pred = rf_clf.predict(X_test)\r\n",
        "print('RandomForest 정확도 : {0:.4f}'.format(accuracy_score(y_test, rf_pred)))\r\n",
        "\r\n",
        "# LogisticRegression 학습/예측/평가\r\n",
        "lr_clf.fit(X_train, y_train)\r\n",
        "lr_pred = lr_clf.predict(X_test)\r\n",
        "print('Logistic Regression 정확도 : {0:.4f}'.format(accuracy_score(y_test, lr_pred)))"
      ],
      "execution_count": null,
      "outputs": [
        {
          "output_type": "stream",
          "text": [
            "DecisionTree 정확도 : 0.7877\n",
            "RandomForest 정확도 : 0.8324\n",
            "Logistic Regression 정확도 : 0.8268\n"
          ],
          "name": "stdout"
        },
        {
          "output_type": "stream",
          "text": [
            "/usr/local/lib/python3.6/dist-packages/sklearn/linear_model/_logistic.py:940: ConvergenceWarning: lbfgs failed to converge (status=1):\n",
            "STOP: TOTAL NO. of ITERATIONS REACHED LIMIT.\n",
            "\n",
            "Increase the number of iterations (max_iter) or scale the data as shown in:\n",
            "    https://scikit-learn.org/stable/modules/preprocessing.html\n",
            "Please also refer to the documentation for alternative solver options:\n",
            "    https://scikit-learn.org/stable/modules/linear_model.html#logistic-regression\n",
            "  extra_warning_msg=_LOGISTIC_SOLVER_CONVERGENCE_MSG)\n"
          ],
          "name": "stderr"
        }
      ]
    },
    {
      "cell_type": "markdown",
      "metadata": {
        "id": "K_FsDIlX-bLL"
      },
      "source": [
        "최적화 후 (After)"
      ]
    },
    {
      "cell_type": "code",
      "metadata": {
        "colab": {
          "base_uri": "https://localhost:8080/"
        },
        "id": "dnStTdsZ8LgU",
        "outputId": "8c23f415-6d39-402c-bf91-0c27081d3aff"
      },
      "source": [
        "# DecisionTree & KFold\r\n",
        "\r\n",
        "from sklearn.model_selection import KFold\r\n",
        "\r\n",
        "def exec_kfold(clf, folds=5):\r\n",
        "  # 폴드 세트를 5개인 KFold객체를 생성, 폴드 수만큼 예측결과 저장을 위한 리스트 객체 생성.\r\n",
        "  kfold = KFold(n_splits=folds)\r\n",
        "  scores = []\r\n",
        "\r\n",
        "  # KFold 교차 검증 수행.\r\n",
        "  for iter_count, (train_index, test_index) in enumerate(kfold.split(feature)):\r\n",
        "    # X_titanic_df 데이터에서 교차 검증별로 학습과 검증 데이터를 가리키는 index 생성\r\n",
        "    X_train, X_test = feature.values[train_index], feature.values[test_index]\r\n",
        "    y_train, y_test = target.values[train_index], target.values[test_index]\r\n",
        "\r\n",
        "    # Classifier 학습, 예측, 정확도 계산\r\n",
        "    clf.fit(X_train, y_train)\r\n",
        "    predictions = clf.predict(X_test)\r\n",
        "    accuracy = accuracy_score(y_test, predictions)\r\n",
        "    scores.append(accuracy)\r\n",
        "    print('교차검증 {0} 정확도 : {1:.4f}'.format(iter_count, accuracy))\r\n",
        "\r\n",
        "  # 5개 fold에서의 평균 정확도 계산.\r\n",
        "  mean_score = np.mean(scores)\r\n",
        "  print(\"평균정확도 :{0:.4f}\".format(mean_score))\r\n",
        "\r\n",
        "# exec_kfold 호출\r\n",
        "exec_kfold(dt_clf, folds=5)"
      ],
      "execution_count": null,
      "outputs": [
        {
          "output_type": "stream",
          "text": [
            "교차검증 0 정확도 : 0.7542\n",
            "교차검증 1 정확도 : 0.7809\n",
            "교차검증 2 정확도 : 0.7865\n",
            "교차검증 3 정확도 : 0.7697\n",
            "교차검증 4 정확도 : 0.8202\n",
            "평균정확도 :0.7823\n"
          ],
          "name": "stdout"
        }
      ]
    },
    {
      "cell_type": "code",
      "metadata": {
        "colab": {
          "base_uri": "https://localhost:8080/"
        },
        "id": "Y-1LFq4DpYG4",
        "outputId": "b2682262-0729-490e-a20b-00be3cfe17cd"
      },
      "source": [
        "# RandomForest & KFold\r\n",
        "\r\n",
        "# exec_kfold 호출\r\n",
        "exec_kfold(rf_clf, folds=5)"
      ],
      "execution_count": null,
      "outputs": [
        {
          "output_type": "stream",
          "text": [
            "교차검증 0 정확도 : 0.7933\n",
            "교차검증 1 정확도 : 0.8090\n",
            "교차검증 2 정확도 : 0.8371\n",
            "교차검증 3 정확도 : 0.7753\n",
            "교차검증 4 정확도 : 0.8596\n",
            "평균정확도 :0.8148\n"
          ],
          "name": "stdout"
        }
      ]
    },
    {
      "cell_type": "code",
      "metadata": {
        "colab": {
          "base_uri": "https://localhost:8080/"
        },
        "id": "wkBAB_VVpzVE",
        "outputId": "beec9467-25fc-4f79-ab89-ee0422e3ac82"
      },
      "source": [
        "# Logistic Regression & KFold\r\n",
        "\r\n",
        "# exec_kfold 호출\r\n",
        "exec_kfold(lr_clf, folds=5)"
      ],
      "execution_count": null,
      "outputs": [
        {
          "output_type": "stream",
          "text": [
            "교차검증 0 정확도 : 0.8045\n",
            "교차검증 1 정확도 : 0.7809\n",
            "교차검증 2 정확도 : 0.7753\n",
            "교차검증 3 정확도 : 0.7472\n",
            "교차검증 4 정확도 : 0.8090\n",
            "평균정확도 :0.7834\n"
          ],
          "name": "stdout"
        },
        {
          "output_type": "stream",
          "text": [
            "/usr/local/lib/python3.6/dist-packages/sklearn/linear_model/_logistic.py:940: ConvergenceWarning: lbfgs failed to converge (status=1):\n",
            "STOP: TOTAL NO. of ITERATIONS REACHED LIMIT.\n",
            "\n",
            "Increase the number of iterations (max_iter) or scale the data as shown in:\n",
            "    https://scikit-learn.org/stable/modules/preprocessing.html\n",
            "Please also refer to the documentation for alternative solver options:\n",
            "    https://scikit-learn.org/stable/modules/linear_model.html#logistic-regression\n",
            "  extra_warning_msg=_LOGISTIC_SOLVER_CONVERGENCE_MSG)\n",
            "/usr/local/lib/python3.6/dist-packages/sklearn/linear_model/_logistic.py:940: ConvergenceWarning: lbfgs failed to converge (status=1):\n",
            "STOP: TOTAL NO. of ITERATIONS REACHED LIMIT.\n",
            "\n",
            "Increase the number of iterations (max_iter) or scale the data as shown in:\n",
            "    https://scikit-learn.org/stable/modules/preprocessing.html\n",
            "Please also refer to the documentation for alternative solver options:\n",
            "    https://scikit-learn.org/stable/modules/linear_model.html#logistic-regression\n",
            "  extra_warning_msg=_LOGISTIC_SOLVER_CONVERGENCE_MSG)\n",
            "/usr/local/lib/python3.6/dist-packages/sklearn/linear_model/_logistic.py:940: ConvergenceWarning: lbfgs failed to converge (status=1):\n",
            "STOP: TOTAL NO. of ITERATIONS REACHED LIMIT.\n",
            "\n",
            "Increase the number of iterations (max_iter) or scale the data as shown in:\n",
            "    https://scikit-learn.org/stable/modules/preprocessing.html\n",
            "Please also refer to the documentation for alternative solver options:\n",
            "    https://scikit-learn.org/stable/modules/linear_model.html#logistic-regression\n",
            "  extra_warning_msg=_LOGISTIC_SOLVER_CONVERGENCE_MSG)\n",
            "/usr/local/lib/python3.6/dist-packages/sklearn/linear_model/_logistic.py:940: ConvergenceWarning: lbfgs failed to converge (status=1):\n",
            "STOP: TOTAL NO. of ITERATIONS REACHED LIMIT.\n",
            "\n",
            "Increase the number of iterations (max_iter) or scale the data as shown in:\n",
            "    https://scikit-learn.org/stable/modules/preprocessing.html\n",
            "Please also refer to the documentation for alternative solver options:\n",
            "    https://scikit-learn.org/stable/modules/linear_model.html#logistic-regression\n",
            "  extra_warning_msg=_LOGISTIC_SOLVER_CONVERGENCE_MSG)\n",
            "/usr/local/lib/python3.6/dist-packages/sklearn/linear_model/_logistic.py:940: ConvergenceWarning: lbfgs failed to converge (status=1):\n",
            "STOP: TOTAL NO. of ITERATIONS REACHED LIMIT.\n",
            "\n",
            "Increase the number of iterations (max_iter) or scale the data as shown in:\n",
            "    https://scikit-learn.org/stable/modules/preprocessing.html\n",
            "Please also refer to the documentation for alternative solver options:\n",
            "    https://scikit-learn.org/stable/modules/linear_model.html#logistic-regression\n",
            "  extra_warning_msg=_LOGISTIC_SOLVER_CONVERGENCE_MSG)\n"
          ],
          "name": "stderr"
        }
      ]
    },
    {
      "cell_type": "code",
      "metadata": {
        "colab": {
          "base_uri": "https://localhost:8080/"
        },
        "id": "NC7KxqvaE6W_",
        "outputId": "07c0b3a3-cb24-4d23-b8b1-09f9071ccecb"
      },
      "source": [
        "# Decision Tree & cross_val_score()\r\n",
        "\r\n",
        "from sklearn.model_selection import cross_val_score\r\n",
        "\r\n",
        "scores = cross_val_score(dt_clf, feature, target, cv=5)\r\n",
        "for iter_count, accuracy in enumerate(scores):\r\n",
        "  print(\"교차검증 {0} 정확도 : {1:.4f}\".format(iter_count, accuracy))\r\n",
        "\r\n",
        "print(\"평균 정확도: {0:.4f}\".format(np.mean(scores)))"
      ],
      "execution_count": null,
      "outputs": [
        {
          "output_type": "stream",
          "text": [
            "교차검증 0 정확도 : 0.7430\n",
            "교차검증 1 정확도 : 0.7753\n",
            "교차검증 2 정확도 : 0.7921\n",
            "교차검증 3 정확도 : 0.7865\n",
            "교차검증 4 정확도 : 0.8427\n",
            "평균 정확도: 0.7879\n"
          ],
          "name": "stdout"
        }
      ]
    },
    {
      "cell_type": "code",
      "metadata": {
        "colab": {
          "base_uri": "https://localhost:8080/"
        },
        "id": "HMDld7naoh8Z",
        "outputId": "4d93a8cc-7174-44c7-bebf-c9806c86de0b"
      },
      "source": [
        "# RandomForest & cross_val_score()\r\n",
        "\r\n",
        "from sklearn.model_selection import cross_val_score\r\n",
        "\r\n",
        "scores = cross_val_score(rf_clf, feature, target, cv=5)\r\n",
        "for iter_count, accuracy in enumerate(scores):\r\n",
        "  print(\"교차검증 {0} 정확도 : {1:.4f}\".format(iter_count, accuracy))\r\n",
        "\r\n",
        "print(\"평균 정확도: {0:.4f}\".format(np.mean(scores)))"
      ],
      "execution_count": null,
      "outputs": [
        {
          "output_type": "stream",
          "text": [
            "교차검증 0 정확도 : 0.7933\n",
            "교차검증 1 정확도 : 0.7978\n",
            "교차검증 2 정확도 : 0.8483\n",
            "교차검증 3 정확도 : 0.7640\n",
            "교차검증 4 정확도 : 0.8652\n",
            "평균 정확도: 0.8137\n"
          ],
          "name": "stdout"
        }
      ]
    },
    {
      "cell_type": "code",
      "metadata": {
        "colab": {
          "base_uri": "https://localhost:8080/"
        },
        "id": "8EPJbW7zrITX",
        "outputId": "a4d242b5-7b14-49e3-9276-e64a88246da5"
      },
      "source": [
        "# Logistic Regression & cross_val_score()\r\n",
        "\r\n",
        "from sklearn.model_selection import cross_val_score\r\n",
        "\r\n",
        "scores = cross_val_score(lr_clf, feature, target, cv=5)\r\n",
        "for iter_count, accuracy in enumerate(scores):\r\n",
        "  print(\"교차검증 {0} 정확도 : {1:.4f}\".format(iter_count, accuracy))\r\n",
        "\r\n",
        "print(\"평균 정확도: {0:.4f}\".format(np.mean(scores)))"
      ],
      "execution_count": null,
      "outputs": [
        {
          "output_type": "stream",
          "text": [
            "교차검증 0 정확도 : 0.7989\n",
            "교차검증 1 정확도 : 0.7697\n",
            "교차검증 2 정확도 : 0.7809\n",
            "교차검증 3 정확도 : 0.7753\n",
            "교차검증 4 정확도 : 0.7978\n",
            "평균 정확도: 0.7845\n"
          ],
          "name": "stdout"
        },
        {
          "output_type": "stream",
          "text": [
            "/usr/local/lib/python3.6/dist-packages/sklearn/linear_model/_logistic.py:940: ConvergenceWarning: lbfgs failed to converge (status=1):\n",
            "STOP: TOTAL NO. of ITERATIONS REACHED LIMIT.\n",
            "\n",
            "Increase the number of iterations (max_iter) or scale the data as shown in:\n",
            "    https://scikit-learn.org/stable/modules/preprocessing.html\n",
            "Please also refer to the documentation for alternative solver options:\n",
            "    https://scikit-learn.org/stable/modules/linear_model.html#logistic-regression\n",
            "  extra_warning_msg=_LOGISTIC_SOLVER_CONVERGENCE_MSG)\n",
            "/usr/local/lib/python3.6/dist-packages/sklearn/linear_model/_logistic.py:940: ConvergenceWarning: lbfgs failed to converge (status=1):\n",
            "STOP: TOTAL NO. of ITERATIONS REACHED LIMIT.\n",
            "\n",
            "Increase the number of iterations (max_iter) or scale the data as shown in:\n",
            "    https://scikit-learn.org/stable/modules/preprocessing.html\n",
            "Please also refer to the documentation for alternative solver options:\n",
            "    https://scikit-learn.org/stable/modules/linear_model.html#logistic-regression\n",
            "  extra_warning_msg=_LOGISTIC_SOLVER_CONVERGENCE_MSG)\n",
            "/usr/local/lib/python3.6/dist-packages/sklearn/linear_model/_logistic.py:940: ConvergenceWarning: lbfgs failed to converge (status=1):\n",
            "STOP: TOTAL NO. of ITERATIONS REACHED LIMIT.\n",
            "\n",
            "Increase the number of iterations (max_iter) or scale the data as shown in:\n",
            "    https://scikit-learn.org/stable/modules/preprocessing.html\n",
            "Please also refer to the documentation for alternative solver options:\n",
            "    https://scikit-learn.org/stable/modules/linear_model.html#logistic-regression\n",
            "  extra_warning_msg=_LOGISTIC_SOLVER_CONVERGENCE_MSG)\n",
            "/usr/local/lib/python3.6/dist-packages/sklearn/linear_model/_logistic.py:940: ConvergenceWarning: lbfgs failed to converge (status=1):\n",
            "STOP: TOTAL NO. of ITERATIONS REACHED LIMIT.\n",
            "\n",
            "Increase the number of iterations (max_iter) or scale the data as shown in:\n",
            "    https://scikit-learn.org/stable/modules/preprocessing.html\n",
            "Please also refer to the documentation for alternative solver options:\n",
            "    https://scikit-learn.org/stable/modules/linear_model.html#logistic-regression\n",
            "  extra_warning_msg=_LOGISTIC_SOLVER_CONVERGENCE_MSG)\n",
            "/usr/local/lib/python3.6/dist-packages/sklearn/linear_model/_logistic.py:940: ConvergenceWarning: lbfgs failed to converge (status=1):\n",
            "STOP: TOTAL NO. of ITERATIONS REACHED LIMIT.\n",
            "\n",
            "Increase the number of iterations (max_iter) or scale the data as shown in:\n",
            "    https://scikit-learn.org/stable/modules/preprocessing.html\n",
            "Please also refer to the documentation for alternative solver options:\n",
            "    https://scikit-learn.org/stable/modules/linear_model.html#logistic-regression\n",
            "  extra_warning_msg=_LOGISTIC_SOLVER_CONVERGENCE_MSG)\n"
          ],
          "name": "stderr"
        }
      ]
    },
    {
      "cell_type": "code",
      "metadata": {
        "colab": {
          "base_uri": "https://localhost:8080/"
        },
        "id": "m_jozQBSfScn",
        "outputId": "58d93803-ed0e-4dc6-dc30-906c3a00787a"
      },
      "source": [
        "# DecisionTree & GridSearchCV\r\n",
        "from sklearn.model_selection import GridSearchCV\r\n",
        "\r\n",
        "parameters = {'max_depth' : [2,3,5,10],\r\n",
        "              'min_samples_split' : [2,3,5],\r\n",
        "              'min_samples_leaf' : [1,5,8]}\r\n",
        "\r\n",
        "grid_dclf = GridSearchCV(dt_clf, param_grid=parameters, scoring='accuracy', cv=5)\r\n",
        "grid_dclf.fit(X_train, y_train)\r\n",
        "\r\n",
        "print('GridSearchCV 최적 하이퍼 파라미터:', grid_dclf.best_params_)\r\n",
        "print('GridSearchCV 최고 정확도:{0:.4f}'.format(grid_dclf.best_score_))\r\n",
        "best_dclf = grid_dclf.best_estimator_\r\n",
        "\r\n",
        "#GridSearchCV의 최적 하이퍼 파라미터로 학습된 Estimator로 예측 및 평가 수행.\r\n",
        "dpredictions = best_dclf.predict(X_test)\r\n",
        "accuracy = accuracy_score(y_test, dpredictions)\r\n",
        "print('test set 정확도 :{0:.4f}'.format(accuracy))"
      ],
      "execution_count": null,
      "outputs": [
        {
          "output_type": "stream",
          "text": [
            "GridSearchCV 최적 하이퍼 파라미터: {'max_depth': 5, 'min_samples_leaf': 8, 'min_samples_split': 2}\n",
            "GridSearchCV 최고 정확도:0.8132\n",
            "test set 정확도 :0.8212\n"
          ],
          "name": "stdout"
        }
      ]
    },
    {
      "cell_type": "code",
      "metadata": {
        "colab": {
          "base_uri": "https://localhost:8080/"
        },
        "id": "x7AP-upDjNPh",
        "outputId": "ea825959-b321-482b-e3ed-f1c75f3d6e1f"
      },
      "source": [
        "# RandomForest & GridSearchCV\r\n",
        "from sklearn.model_selection import GridSearchCV\r\n",
        "\r\n",
        "parameters = {'max_depth' : [2,3,5,10],\r\n",
        "              'min_samples_split' : [2,3,5],\r\n",
        "              'min_samples_leaf' : [1,5,8]}\r\n",
        "\r\n",
        "grid_rclf = GridSearchCV(rf_clf, n_jobs=-1, param_grid=parameters, scoring='accuracy', cv=5)\r\n",
        "grid_rclf.fit(X_train, y_train)\r\n",
        "\r\n",
        "print('GridSearchCV 최적 하이퍼 파라미터:', grid_rclf.best_params_)\r\n",
        "print('GridSearchCV 최고 정확도:{0:.4f}'.format(grid_rclf.best_score_))\r\n",
        "best_rclf = grid_rclf.best_estimator_\r\n",
        "\r\n",
        "#GridSearchCV의 최적 하이퍼 파라미터로 학습된 Estimator로 예측 및 평가 수행.\r\n",
        "rpredictions = best_rclf.predict(X_test)\r\n",
        "accuracy = accuracy_score(y_test, rpredictions)\r\n",
        "print('test set 정확도 :{0:.4f}'.format(accuracy))"
      ],
      "execution_count": null,
      "outputs": [
        {
          "output_type": "stream",
          "text": [
            "GridSearchCV 최적 하이퍼 파라미터: {'max_depth': 10, 'min_samples_leaf': 5, 'min_samples_split': 2}\n",
            "GridSearchCV 최고 정확도:0.8160\n",
            "test set 정확도 :0.8492\n"
          ],
          "name": "stdout"
        }
      ]
    },
    {
      "cell_type": "code",
      "metadata": {
        "colab": {
          "base_uri": "https://localhost:8080/",
          "height": 138
        },
        "id": "uEVLJA4Awf6C",
        "outputId": "70399596-bbd1-4a48-f50d-ab022a860eca"
      },
      "source": [
        "import pandas as pd\r\n",
        "result = pd.DataFrame({'basic' :{'DecisonTree': 78.77, 'RandomForest' :83.24,'Logistic' :82.68},\r\n",
        "                      'Kfold' : {'DecisonTree':78.23,'RandomForest' :81.48,'Logistic' :78.34},\r\n",
        "                      'cross_val_scores' : {'DecisonTree':78.79,'RandomForest' :81.37,'Logistic' :78.45},\r\n",
        "                      'GridSearchCV' : {'DecisonTree':82.12,'RandomForest' :84.92}})\r\n",
        "result"
      ],
      "execution_count": null,
      "outputs": [
        {
          "output_type": "execute_result",
          "data": {
            "text/html": [
              "<div>\n",
              "<style scoped>\n",
              "    .dataframe tbody tr th:only-of-type {\n",
              "        vertical-align: middle;\n",
              "    }\n",
              "\n",
              "    .dataframe tbody tr th {\n",
              "        vertical-align: top;\n",
              "    }\n",
              "\n",
              "    .dataframe thead th {\n",
              "        text-align: right;\n",
              "    }\n",
              "</style>\n",
              "<table border=\"1\" class=\"dataframe\">\n",
              "  <thead>\n",
              "    <tr style=\"text-align: right;\">\n",
              "      <th></th>\n",
              "      <th>basic</th>\n",
              "      <th>Kfold</th>\n",
              "      <th>cross_val_scores</th>\n",
              "      <th>GridSearchCV</th>\n",
              "    </tr>\n",
              "  </thead>\n",
              "  <tbody>\n",
              "    <tr>\n",
              "      <th>DecisonTree</th>\n",
              "      <td>78.77</td>\n",
              "      <td>78.23</td>\n",
              "      <td>78.79</td>\n",
              "      <td>82.12</td>\n",
              "    </tr>\n",
              "    <tr>\n",
              "      <th>RandomForest</th>\n",
              "      <td>83.24</td>\n",
              "      <td>81.48</td>\n",
              "      <td>81.37</td>\n",
              "      <td>84.92</td>\n",
              "    </tr>\n",
              "    <tr>\n",
              "      <th>Logistic</th>\n",
              "      <td>82.68</td>\n",
              "      <td>78.34</td>\n",
              "      <td>78.45</td>\n",
              "      <td>NaN</td>\n",
              "    </tr>\n",
              "  </tbody>\n",
              "</table>\n",
              "</div>"
            ],
            "text/plain": [
              "              basic  Kfold  cross_val_scores  GridSearchCV\n",
              "DecisonTree   78.77  78.23             78.79         82.12\n",
              "RandomForest  83.24  81.48             81.37         84.92\n",
              "Logistic      82.68  78.34             78.45           NaN"
            ]
          },
          "metadata": {
            "tags": []
          },
          "execution_count": 158
        }
      ]
    },
    {
      "cell_type": "code",
      "metadata": {
        "colab": {
          "base_uri": "https://localhost:8080/",
          "height": 285
        },
        "id": "lRUh2MWMxhCl",
        "outputId": "c74f8734-41ac-4522-c530-cb3def12708f"
      },
      "source": [
        "sns.lineplot(data=result.T)"
      ],
      "execution_count": null,
      "outputs": [
        {
          "output_type": "execute_result",
          "data": {
            "text/plain": [
              "<matplotlib.axes._subplots.AxesSubplot at 0x7f3c02d83470>"
            ]
          },
          "metadata": {
            "tags": []
          },
          "execution_count": 159
        },
        {
          "output_type": "display_data",
          "data": {
            "image/png": "[encoded data removed]",
            "text/plain": [
              "<Figure size 432x288 with 1 Axes>"
            ]
          },
          "metadata": {
            "tags": [],
            "needs_background": "light"
          }
        }
      ]
    },
    {
      "cell_type": "code",
      "metadata": {
        "id": "yX6L2PI5zCea"
      },
      "source": [
        ""
      ],
      "execution_count": null,
      "outputs": []
    }
  ]
}