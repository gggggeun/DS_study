{
  "nbformat": 4,
  "nbformat_minor": 0,
  "metadata": {
    "colab": {
      "name": "IMDB(영화리뷰분류).ipynb",
      "provenance": [],
      "authorship_tag": "ABX9TyOdTDf9I/550jAmdq7RS44G",
      "include_colab_link": true
    },
    "kernelspec": {
      "name": "python3",
      "display_name": "Python 3"
    },
    "language_info": {
      "name": "python"
    }
  },
  "cells": [
    {
      "cell_type": "markdown",
      "metadata": {
        "id": "view-in-github",
        "colab_type": "text"
      },
      "source": [
        "<a href=\"https://colab.research.google.com/github/gggggeun/study/blob/main/IMDB(%EC%98%81%ED%99%94%EB%A6%AC%EB%B7%B0%EB%B6%84%EB%A5%98_%EC%97%B0%EC%8A%B5).ipynb\" target=\"_parent\"><img src=\"https://colab.research.google.com/assets/colab-badge.svg\" alt=\"Open In Colab\"/></a>"
      ]
    },
    {
      "cell_type": "markdown",
      "metadata": {
        "id": "ezZANqz6NCos"
      },
      "source": [
        "[케라스 창시자에게 배우는 딥러닝] 참고"
      ]
    },
    {
      "cell_type": "markdown",
      "metadata": {
        "id": "mKwpqT5vMqXJ"
      },
      "source": [
        "# 영화 리뷰 분류 : IMDB 데이터셋\n",
        "\n",
        "2종 분류(two-class classification) 또는 이진 분류(binary classification)는 아마 가장 널리 적용된 머신 러닝 문제일 것입니다. 이 예제에서 리뷰 텍스트를 기반으로 영화 리뷰를 긍정(positive)과 부정(nagative)으로 분류하는 방법을 연습해 보겠습니다.\n",
        "\n",
        "IMDB 데이터셋도 케라스에 포함되어 있으며, 이 데이터는 전처리되어 있어 각 리뷰(단어 시퀀스)가 숫자 시퀀스로 변환되어 있습니다. 여기서 각 숫자는 사전에 있는 고유한 단어를 나타냅니다."
      ]
    },
    {
      "cell_type": "markdown",
      "metadata": {
        "id": "GaPPypSpVLdS"
      },
      "source": [
        "## 데이터 불러오기"
      ]
    },
    {
      "cell_type": "code",
      "metadata": {
        "colab": {
          "base_uri": "https://localhost:8080/"
        },
        "id": "UrCncy8NMow6",
        "outputId": "30ffc4eb-4e71-4789-e293-509ee842ba25"
      },
      "source": [
        "from keras.datasets import imdb\n",
        "\n",
        "(train_data, train_labels), (test_data, test_labels) = imdb.load_data(num_words=10000) #자주나타나는 단어 1만개만 사용"
      ],
      "execution_count": 1,
      "outputs": [
        {
          "output_type": "stream",
          "text": [
            "<string>:6: VisibleDeprecationWarning: Creating an ndarray from ragged nested sequences (which is a list-or-tuple of lists-or-tuples-or ndarrays with different lengths or shapes) is deprecated. If you meant to do this, you must specify 'dtype=object' when creating the ndarray\n",
            "/usr/local/lib/python3.7/dist-packages/tensorflow/python/keras/datasets/imdb.py:159: VisibleDeprecationWarning: Creating an ndarray from ragged nested sequences (which is a list-or-tuple of lists-or-tuples-or ndarrays with different lengths or shapes) is deprecated. If you meant to do this, you must specify 'dtype=object' when creating the ndarray\n",
            "  x_train, y_train = np.array(xs[:idx]), np.array(labels[:idx])\n",
            "/usr/local/lib/python3.7/dist-packages/tensorflow/python/keras/datasets/imdb.py:160: VisibleDeprecationWarning: Creating an ndarray from ragged nested sequences (which is a list-or-tuple of lists-or-tuples-or ndarrays with different lengths or shapes) is deprecated. If you meant to do this, you must specify 'dtype=object' when creating the ndarray\n",
            "  x_test, y_test = np.array(xs[idx:]), np.array(labels[idx:])\n"
          ],
          "name": "stderr"
        }
      ]
    },
    {
      "cell_type": "code",
      "metadata": {
        "colab": {
          "base_uri": "https://localhost:8080/"
        },
        "id": "VM2sTmnSOeAG",
        "outputId": "21c871ed-c20f-423d-ba84-87f65f76b598"
      },
      "source": [
        "# 리뷰의 목록. 각 리뷰= 단어 인덱스의 리스트(단어시퀀스가 인코딩됨)\n",
        "print(train_data[0])"
      ],
      "execution_count": 2,
      "outputs": [
        {
          "output_type": "stream",
          "text": [
            "[1, 14, 22, 16, 43, 530, 973, 1622, 1385, 65, 458, 4468, 66, 3941, 4, 173, 36, 256, 5, 25, 100, 43, 838, 112, 50, 670, 2, 9, 35, 480, 284, 5, 150, 4, 172, 112, 167, 2, 336, 385, 39, 4, 172, 4536, 1111, 17, 546, 38, 13, 447, 4, 192, 50, 16, 6, 147, 2025, 19, 14, 22, 4, 1920, 4613, 469, 4, 22, 71, 87, 12, 16, 43, 530, 38, 76, 15, 13, 1247, 4, 22, 17, 515, 17, 12, 16, 626, 18, 2, 5, 62, 386, 12, 8, 316, 8, 106, 5, 4, 2223, 5244, 16, 480, 66, 3785, 33, 4, 130, 12, 16, 38, 619, 5, 25, 124, 51, 36, 135, 48, 25, 1415, 33, 6, 22, 12, 215, 28, 77, 52, 5, 14, 407, 16, 82, 2, 8, 4, 107, 117, 5952, 15, 256, 4, 2, 7, 3766, 5, 723, 36, 71, 43, 530, 476, 26, 400, 317, 46, 7, 4, 2, 1029, 13, 104, 88, 4, 381, 15, 297, 98, 32, 2071, 56, 26, 141, 6, 194, 7486, 18, 4, 226, 22, 21, 134, 476, 26, 480, 5, 144, 30, 5535, 18, 51, 36, 28, 224, 92, 25, 104, 4, 226, 65, 16, 38, 1334, 88, 12, 16, 283, 5, 16, 4472, 113, 103, 32, 15, 16, 5345, 19, 178, 32]\n"
          ],
          "name": "stdout"
        }
      ]
    },
    {
      "cell_type": "code",
      "metadata": {
        "colab": {
          "base_uri": "https://localhost:8080/"
        },
        "id": "EKp4vCsCOzlb",
        "outputId": "25da35e9-d130-4551-cf45-4b68cc609c8a"
      },
      "source": [
        "# 0 = 부정, 1 = 긍정\n",
        "train_labels[0]"
      ],
      "execution_count": 3,
      "outputs": [
        {
          "output_type": "execute_result",
          "data": {
            "text/plain": [
              "1"
            ]
          },
          "metadata": {
            "tags": []
          },
          "execution_count": 3
        }
      ]
    },
    {
      "cell_type": "code",
      "metadata": {
        "colab": {
          "base_uri": "https://localhost:8080/"
        },
        "id": "fzaJ-2E_PM8z",
        "outputId": "b90b63fb-2e2f-4173-ff40-01e887c6fd66"
      },
      "source": [
        "max([max(sequence) for sequence in train_data])"
      ],
      "execution_count": 4,
      "outputs": [
        {
          "output_type": "execute_result",
          "data": {
            "text/plain": [
              "9999"
            ]
          },
          "metadata": {
            "tags": []
          },
          "execution_count": 4
        }
      ]
    },
    {
      "cell_type": "code",
      "metadata": {
        "id": "UIPdXJwFPVwC"
      },
      "source": [
        "#decoded_review\n",
        "\n",
        "word_index = imdb.get_word_index()  #wrod_index는 단어와 정수 인덱스를 매핑한 딕셔너리이다.\n",
        "reverse_word_index = dict(\n",
        "    [(value, key) for (key, value) in word_index.items()])   # 정수 인덱스와 단어를 매핑하도록 뒤집는다.\n",
        "decoded_review = ' '.join(\n",
        "    [reverse_word_index.get(i - 3, '?') for i in train_data[0]])   # ? : 리뷰를 디코딩함. 0,1,2는 '패딩', '문서 시작', '사전에 없음'을 위한 인덱스 이므로 3을 뺀다."
      ],
      "execution_count": 5,
      "outputs": []
    },
    {
      "cell_type": "markdown",
      "metadata": {
        "id": "MhZzhSCbSLe_"
      },
      "source": [
        "## 데이터 전처리 (인코딩)\n",
        "\n",
        "신경망에 숫자 리스트를 주입할 수 없기 때문에 리스트를 텐서로 바꿔야 한다. 두 가지 방법이 있다.\n",
        "\n",
        "- 방법1 : 같은 길이가 되도록 리스트에 패딩(padding)을 추가하고 (samples, sequence_length) 크기의 정수 텐서로 변환한다. (가장 긴 리뷰는 2,494개의 단어이므로 훈련데이터를 변환한 텐서의 크기는 (25000, 2494)이다.) 그 다음 이 정수 텐서를 다룰 수 있는 층을 신경망의 첫 번째 층으로 사용한다.(Embedding층을 말한다.)\n",
        "\n",
        "- 방법2 : 리스트를 원-핫 인코딩(one-hot encoding)하여 0과 1의 벡터로 변환한다. 예를 들어 시퀀스 [3,5]를 인덱스 3과 5의 위치는 1이고 그 외는 모두 0인 10,000차원의 벡터로 각각 변환한다. (리스트가 하나의 벡터로 변환되므로 훈련 데이터를 변환한 텐서의 크기는 (25000, 10000)가 된다.) 그 다음 부동 소수 벡터 데이터를 다룰 수 있는 Dense 층을 신경망의 첫 번째 층으로 사용한다.\n"
      ]
    },
    {
      "cell_type": "code",
      "metadata": {
        "id": "9XFkzWldR05r"
      },
      "source": [
        "# 방법2 - 원핫인코딩\n",
        "\n",
        "import numpy as np\n",
        "\n",
        "def vectorize_sequences(sequences, dimension=10000):\n",
        "  results = np.zeros((len(sequences), dimension))  #크기가 (len(sequences), dimension)이고 모든 원소가 0인 행렬을 만든다.\n",
        "  for i, sequence in enumerate(sequences):\n",
        "    results[i, sequence] = 1.  #results[i]에서 특정 인덱스의 위치를 1로 만든다.\n",
        "  return results\n",
        "  \n",
        "x_train = vectorize_sequences(train_data)  # 데이터를 벡터로 변환_train = vectorize_sequences(train_data)  # 데이터를 벡터로 변환\n",
        "x_test = vectorize_sequences(test_data)"
      ],
      "execution_count": 6,
      "outputs": []
    },
    {
      "cell_type": "code",
      "metadata": {
        "colab": {
          "base_uri": "https://localhost:8080/"
        },
        "id": "C7TOwv2kUuQh",
        "outputId": "ea46f2fa-c8c7-4304-8956-a8467f0bb8e6"
      },
      "source": [
        "x_train[0]"
      ],
      "execution_count": 7,
      "outputs": [
        {
          "output_type": "execute_result",
          "data": {
            "text/plain": [
              "array([0., 1., 1., ..., 0., 0., 0.])"
            ]
          },
          "metadata": {
            "tags": []
          },
          "execution_count": 7
        }
      ]
    },
    {
      "cell_type": "code",
      "metadata": {
        "colab": {
          "base_uri": "https://localhost:8080/"
        },
        "id": "2moGflxPVe59",
        "outputId": "db5d270c-d7ae-4b4a-c469-2dcec68715de"
      },
      "source": [
        "len(x_train[0])"
      ],
      "execution_count": 8,
      "outputs": [
        {
          "output_type": "execute_result",
          "data": {
            "text/plain": [
              "10000"
            ]
          },
          "metadata": {
            "tags": []
          },
          "execution_count": 8
        }
      ]
    },
    {
      "cell_type": "code",
      "metadata": {
        "id": "deZiNodrUwGZ"
      },
      "source": [
        "# 레이블 벡터로 변환\n",
        "\n",
        "y_train = np.asarray(train_labels).astype('float32')\n",
        "y_test = np.asarray(test_labels).astype('float32')"
      ],
      "execution_count": 9,
      "outputs": []
    },
    {
      "cell_type": "markdown",
      "metadata": {
        "id": "dpAO7MPXVJJt"
      },
      "source": [
        "## 신경망 모델\n",
        "\n",
        "- 입력데이터 = 벡터\n",
        "- 레이블 = 스칼라(1 or 0)\n",
        "- 이런 문제엔 relu 활성화 함수를 사용한 와넌 연결 층의 네트워크가 잘 작동함.\n",
        "- 첫번째 dense층에 전달한 매개변수는 은닉 유닛(hidden unit)의 개수이다. 하나의 은닉 유닛은 층이 나타내는 표현 공간에서 하나의 차원이 된다. 16개의 은닉 유닛이 있다는 것은 가중치 행렬 W의 크기가 (input_dimension, 16)이라는 뜻이다. 입력데이터와 W를 점곱하면 입력 데이터가 16차원으로 표현된 공간으로 투영된다.(그리고 편향 벡터b를 더하고 relu연산 적용)\n",
        "- 은닉 유닛을 늘리면 신경망이 더욱 복잡한 표현을 학습할 수 있지만, 계산 비용이 커지고 원하지 않는 패턴을 학습할 수도 있다. (훈련데이터에서는 성능이 향상되지만, 테스트 데이터에서는 그렇지 않은 과적합현상 발생.)"
      ]
    },
    {
      "cell_type": "markdown",
      "metadata": {
        "id": "RmnKlOt1a2G7"
      },
      "source": [
        "**활성화 함수가 필요한 이유**\n",
        "\n",
        "relu와 같은 활성화 함수(또는 비선형성(non-linearity))가 없다면 Dense층은 선형적인 연산인 점곱과 덧셈 2개로 구성된다.\n",
        "```\n",
        "output = dot(W, input) + b\n",
        "```\n",
        "그러므로 이 층은 입력에 대한 선형 변환(아핀 변환)만을 학습할 수 있다. 이 층의 가설 공간은 입력 데이터를 16차원의 공간으로 바꾸는 가능한 모든 선형 변환의 집합이다. 이런 가설 공간은 매우 제약이 많으며, 선형 층을 깊게 쌓아도 여전히 하나의 선형 연산이기 때문에 층을 여러 개로 구성하는 장점이 없다. 즉, 층을 추가해도 가설 공간이 확장되지 않는다.\n",
        "\n",
        "가설 공간을 풍부하게 만들어 층을 깊게 만드는 장점을 살리기 위해서는 비선형성 또는 활성화 함수를 추가해야 한다. relu는 딥러닝에서 가장 인기 있는 활성화 함수이다. 비슷한 것으로 prelu, elu 등 이 있다."
      ]
    },
    {
      "cell_type": "code",
      "metadata": {
        "id": "PpLxW_d1VCV0"
      },
      "source": [
        "# 16개의 은닉 유닛을 가진 2개의 은닉층\n",
        "# 현재 리뷰의 감정을 스칼라 값의 예측으로 출력하는 세 번째 층\n",
        "# 은닉층 활성화 함수 relu(음수는 0), 출력층 활성화 함수 sigmoid(0~1 사이의 점수)\n",
        "\n",
        "\n",
        "from keras import models\n",
        "from keras import layers\n",
        "\n",
        "model = models.Sequential()\n",
        "model.add(layers.Dense(16, activation='relu', input_shape=(10000,)))\n",
        "model.add(layers.Dense(16, activation='relu'))\n",
        "model.add(layers.Dense(1, activation='sigmoid'))"
      ],
      "execution_count": 10,
      "outputs": []
    },
    {
      "cell_type": "markdown",
      "metadata": {
        "id": "9HRfz7mcbrSh"
      },
      "source": [
        "## 손실함수와 옵티마이저\n",
        "\n",
        "이진 분류 문제이고 신경망의 출력이 확률이기 때문에(네트워크의 끝에 시그모이드 활성화 함수를 사용한 하나의 유닛으로 된 층을 놓았다.) biniary_crossentropy 손실이 적합하다. 이 함수가 유일한 선택은 아니고 mean_squared_error도 사용할 수 있다. 확률을 출력하는 모델을 사용할 때는 크로스엔트로피가 최선의 선택이다. \n",
        "\n",
        "**크로스엔트로피(crossentropy)**는 정보 이론(Information Theory) 분야에서 온 개념으로 확률 분포 간의 차이를 측정한다. 여기에서는 **원본 분포와 예측 분포 사이를 측정**한다."
      ]
    },
    {
      "cell_type": "code",
      "metadata": {
        "id": "f-n7P7SEc_5C"
      },
      "source": [
        "model.compile(optimizer = \"rmsprop\",\n",
        "              loss = \"binary_crossentropy\",\n",
        "              metrics = [\"accuracy\"])"
      ],
      "execution_count": 11,
      "outputs": []
    },
    {
      "cell_type": "markdown",
      "metadata": {
        "id": "jh1Kd_Akc_Yj"
      },
      "source": [
        "케라스에 rmsprop, binary_crossentropy, accuracy가 포함되어 있기 떄문에 옵티마이저, 손실함수, 측정 지표를 문자열로 지정하는 것이 가능하다. 이따금 옵티마이저의 매개변수를 바꾸거나 자신만의 손실 함수, 측정 함수를 전달해야 할 경우가 있다. 전자의 경우에는 옵티마이저 파이썬 클래스를 사용해 객체를 직접 만들어 optimizer 매개변수에 전달하면 된다. 후자의 경우 loss와 metrics 매개변수에 함수 객체를 전달하면 된다."
      ]
    },
    {
      "cell_type": "code",
      "metadata": {
        "id": "Qu6nEAgldwd6"
      },
      "source": [
        "#옵티마이저 파이썬 클래스를 사용해 객체를 직접 만들어 optimizer 매개변수에 전달\n",
        "\n",
        "from keras import optimizers\n",
        "\n",
        "model.compile(optimizer=optimizers.RMSprop(lr=0.001),\n",
        "              loss='binary_crossentropy',\n",
        "              metrics=['accuracy'])"
      ],
      "execution_count": 12,
      "outputs": []
    },
    {
      "cell_type": "code",
      "metadata": {
        "id": "8rtsbJsJeAY3"
      },
      "source": [
        "# loss와 metrics 매개변수에 함수 객체 전달\n",
        "from keras import losses\n",
        "from keras import metrics\n",
        "\n",
        "model.compile(optimizer=optimizers.RMSprop(lr=0.001),\n",
        "              loss = losses.binary_crossentropy,\n",
        "              metrics=[metrics.binary_accuracy])"
      ],
      "execution_count": 13,
      "outputs": []
    },
    {
      "cell_type": "markdown",
      "metadata": {
        "id": "j4Febb8hei3j"
      },
      "source": [
        "## 훈련 검증\n",
        "\n",
        "검증 세트 만들기"
      ]
    },
    {
      "cell_type": "code",
      "metadata": {
        "id": "mmTBSqGbehth"
      },
      "source": [
        "x_val = x_train[:10000]\n",
        "partial_x_train = x_train[10000:]\n",
        "y_val = y_train[:10000]\n",
        "partial_y_train = y_train[10000:]"
      ],
      "execution_count": 14,
      "outputs": []
    },
    {
      "cell_type": "code",
      "metadata": {
        "colab": {
          "base_uri": "https://localhost:8080/"
        },
        "id": "bj1P8xwcuWr7",
        "outputId": "04870545-5b32-4a43-cf8c-ed9f27f392ae"
      },
      "source": [
        "x_val.shape"
      ],
      "execution_count": 15,
      "outputs": [
        {
          "output_type": "execute_result",
          "data": {
            "text/plain": [
              "(10000, 10000)"
            ]
          },
          "metadata": {
            "tags": []
          },
          "execution_count": 15
        }
      ]
    },
    {
      "cell_type": "code",
      "metadata": {
        "colab": {
          "base_uri": "https://localhost:8080/"
        },
        "id": "ZK95u5qquZlb",
        "outputId": "b26d8b37-a36e-4fd8-eed6-2cd073dae7eb"
      },
      "source": [
        "partial_x_train.shape"
      ],
      "execution_count": 16,
      "outputs": [
        {
          "output_type": "execute_result",
          "data": {
            "text/plain": [
              "(15000, 10000)"
            ]
          },
          "metadata": {
            "tags": []
          },
          "execution_count": 16
        }
      ]
    },
    {
      "cell_type": "markdown",
      "metadata": {
        "id": "WOUxwBfgfXWA"
      },
      "source": [
        "이제 모델을 512개의 샘플씩 미니 배치를 만들어 20번의 에포크 동안 훈련시킨다. (x_train과 y_train 텐서에 있는 모든 샘플에 대해 20번 반복한다.)\n",
        "동시에 따로 떼어 놓은 1만 개의 샘플에서 손실과 정확도를 측정할 것이다. 이렇게 하려면 validation_data 매개변수에 검증 데이터를 전달해야 한다.\n",
        "\n",
        "정확도를 지정할 때 'accuracy' 또는 'acc' 모두 가능하다. 이렇게 하면 자동으로 이진 분류에는 metrics.binary_accuracy 함수가 되고, 다중 분류에는 metrics.categorical_accuracy함수가 된다. "
      ]
    },
    {
      "cell_type": "code",
      "metadata": {
        "colab": {
          "base_uri": "https://localhost:8080/"
        },
        "id": "24mOCkjYfO8b",
        "outputId": "8debb472-e0c3-48df-9c75-b79e178e4bbe"
      },
      "source": [
        "model.compile(optimizer='rmsprop',\n",
        "              loss = 'binary_crossentropy',\n",
        "              metrics=['acc'])\n",
        "history = model.fit(partial_x_train,\n",
        "                    partial_y_train,\n",
        "                    epochs=20,\n",
        "                    batch_size=512,\n",
        "                    validation_data=(x_val, y_val))"
      ],
      "execution_count": 17,
      "outputs": [
        {
          "output_type": "stream",
          "text": [
            "Epoch 1/20\n",
            "30/30 [==============================] - 3s 60ms/step - loss: 0.5866 - acc: 0.7100 - val_loss: 0.3780 - val_acc: 0.8715\n",
            "Epoch 2/20\n",
            "30/30 [==============================] - 1s 36ms/step - loss: 0.3144 - acc: 0.9049 - val_loss: 0.3029 - val_acc: 0.8879\n",
            "Epoch 3/20\n",
            "30/30 [==============================] - 1s 37ms/step - loss: 0.2210 - acc: 0.9334 - val_loss: 0.2816 - val_acc: 0.8890\n",
            "Epoch 4/20\n",
            "30/30 [==============================] - 1s 36ms/step - loss: 0.1699 - acc: 0.9486 - val_loss: 0.2790 - val_acc: 0.8881\n",
            "Epoch 5/20\n",
            "30/30 [==============================] - 1s 36ms/step - loss: 0.1389 - acc: 0.9565 - val_loss: 0.2825 - val_acc: 0.8886\n",
            "Epoch 6/20\n",
            "30/30 [==============================] - 1s 35ms/step - loss: 0.1093 - acc: 0.9680 - val_loss: 0.3030 - val_acc: 0.8848\n",
            "Epoch 7/20\n",
            "30/30 [==============================] - 1s 36ms/step - loss: 0.0970 - acc: 0.9698 - val_loss: 0.3132 - val_acc: 0.8816\n",
            "Epoch 8/20\n",
            "30/30 [==============================] - 1s 36ms/step - loss: 0.0752 - acc: 0.9805 - val_loss: 0.3512 - val_acc: 0.8727\n",
            "Epoch 9/20\n",
            "30/30 [==============================] - 1s 37ms/step - loss: 0.0635 - acc: 0.9837 - val_loss: 0.3621 - val_acc: 0.8770\n",
            "Epoch 10/20\n",
            "30/30 [==============================] - 1s 36ms/step - loss: 0.0504 - acc: 0.9887 - val_loss: 0.3986 - val_acc: 0.8769\n",
            "Epoch 11/20\n",
            "30/30 [==============================] - 1s 36ms/step - loss: 0.0431 - acc: 0.9901 - val_loss: 0.4104 - val_acc: 0.8754\n",
            "Epoch 12/20\n",
            "30/30 [==============================] - 1s 36ms/step - loss: 0.0337 - acc: 0.9932 - val_loss: 0.4509 - val_acc: 0.8752\n",
            "Epoch 13/20\n",
            "30/30 [==============================] - 1s 36ms/step - loss: 0.0260 - acc: 0.9957 - val_loss: 0.4749 - val_acc: 0.8724\n",
            "Epoch 14/20\n",
            "30/30 [==============================] - 1s 37ms/step - loss: 0.0206 - acc: 0.9968 - val_loss: 0.5335 - val_acc: 0.8704\n",
            "Epoch 15/20\n",
            "30/30 [==============================] - 1s 37ms/step - loss: 0.0171 - acc: 0.9984 - val_loss: 0.5490 - val_acc: 0.8682\n",
            "Epoch 16/20\n",
            "30/30 [==============================] - 1s 37ms/step - loss: 0.0112 - acc: 0.9992 - val_loss: 0.6810 - val_acc: 0.8598\n",
            "Epoch 17/20\n",
            "30/30 [==============================] - 1s 37ms/step - loss: 0.0129 - acc: 0.9981 - val_loss: 0.6146 - val_acc: 0.8674\n",
            "Epoch 18/20\n",
            "30/30 [==============================] - 1s 36ms/step - loss: 0.0067 - acc: 0.9999 - val_loss: 0.6437 - val_acc: 0.8622\n",
            "Epoch 19/20\n",
            "30/30 [==============================] - 1s 35ms/step - loss: 0.0073 - acc: 0.9992 - val_loss: 0.6810 - val_acc: 0.8652\n",
            "Epoch 20/20\n",
            "30/30 [==============================] - 1s 37ms/step - loss: 0.0042 - acc: 0.9999 - val_loss: 0.7911 - val_acc: 0.8488\n"
          ],
          "name": "stdout"
        }
      ]
    },
    {
      "cell_type": "markdown",
      "metadata": {
        "id": "yfI1gGMVfXF2"
      },
      "source": [
        "CPU를 사용해도 에폭마다 2초도 안걸린다. 전체 훈련은 20초 이상 정도 걸린다. 에포크가 끝날 때마다 1만 개의 검증 샘플 데이터에서 손실과 정확도를 계산하기 때문에 약간씩 지연된다.\n",
        "\n",
        "model.fit() 메서드는 History 객체를 반환한다. 이 객체는 훈련하는 동안 발생한 모든 정보를 담고 있는 딕셔너리인 history속성을 가지고 있다.\n",
        "\n",
        "history.history 딕셔너리에 있는 측정지표의 키는 정확도일 경우 'acc', 크로스엔트로피의 경우 'ce' 사용"
      ]
    },
    {
      "cell_type": "code",
      "metadata": {
        "colab": {
          "base_uri": "https://localhost:8080/"
        },
        "id": "Et5vydAKhEGt",
        "outputId": "6fb5b78d-2c19-4131-ce8d-3d198a364baf"
      },
      "source": [
        "history_dict = history.history\n",
        "history_dict.keys()"
      ],
      "execution_count": 19,
      "outputs": [
        {
          "output_type": "execute_result",
          "data": {
            "text/plain": [
              "dict_keys(['loss', 'acc', 'val_loss', 'val_acc'])"
            ]
          },
          "metadata": {
            "tags": []
          },
          "execution_count": 19
        }
      ]
    },
    {
      "cell_type": "markdown",
      "metadata": {
        "id": "plLtjihhhRhd"
      },
      "source": [
        "이 딕셔너리 훈련과 검증하는 동안 모니터링할 측정 지표당 하나씩 모두 4개의 항목을 담고 있다. 이어지는 두 목록에서 맷플롯립을 사용해 훈련과 검증 데이터에 대한 손실과 정확도를 그린다."
      ]
    },
    {
      "cell_type": "code",
      "metadata": {
        "colab": {
          "base_uri": "https://localhost:8080/",
          "height": 295
        },
        "id": "C8_qml4shK1A",
        "outputId": "e07e686e-89c8-474d-d02e-1aa162d4ac2b"
      },
      "source": [
        "# 훈련(epochs) & 검증 손실\n",
        "import matplotlib.pyplot as plt\n",
        "\n",
        "history_dict = history.history\n",
        "loss = history_dict['loss']\n",
        "val_loss = history_dict['val_loss']\n",
        "\n",
        "epochs = range(1, len(loss) + 1)\n",
        "\n",
        "plt.plot(epochs, loss, 'bo', label=\"Training loss\")  #bo = 파란색 점\n",
        "plt.plot(epochs, val_loss, 'b', label=\"Validation loss\")   #b = 파란색 실선\n",
        "plt.title('Training and validation loss')\n",
        "plt.xlabel('Epochs')\n",
        "plt.ylabel('Loss')\n",
        "plt.legend()\n",
        "\n",
        "plt.show()"
      ],
      "execution_count": 20,
      "outputs": [
        {
          "output_type": "display_data",
          "data": {
            "image/png": "[encoded data removed]",
            "text/plain": [
              "<Figure size 432x288 with 1 Axes>"
            ]
          },
          "metadata": {
            "tags": [],
            "needs_background": "light"
          }
        }
      ]
    },
    {
      "cell_type": "code",
      "metadata": {
        "colab": {
          "base_uri": "https://localhost:8080/",
          "height": 295
        },
        "id": "9WxitsX2uQTu",
        "outputId": "8388b462-fac4-40b6-e4a9-95338d4f4277"
      },
      "source": [
        "# 훈련(ehochs) & 검증 정확도\n",
        "\n",
        "plt.clf()   # 그래프 초기화\n",
        "acc = history_dict['acc']\n",
        "val_acc = history_dict['val_acc']\n",
        "\n",
        "plt.plot(epochs, acc, 'bo', label=\"Training acc\")\n",
        "plt.plot(epochs, val_acc, 'b', label=\"Validation acc\")\n",
        "plt.title(\"Training and validation acc\")\n",
        "plt.xlabel('Epochs')\n",
        "plt.ylabel('Accuracy')\n",
        "plt.legend()\n",
        "\n",
        "plt.show()\n"
      ],
      "execution_count": 21,
      "outputs": [
        {
          "output_type": "display_data",
          "data": {
            "image/png": "[encoded data removed]",
            "text/plain": [
              "<Figure size 432x288 with 1 Axes>"
            ]
          },
          "metadata": {
            "tags": [],
            "needs_background": "light"
          }
        }
      ]
    },
    {
      "cell_type": "markdown",
      "metadata": {
        "id": "eEE527HFydM_"
      },
      "source": [
        "훈련 손실이 에포크마다 감소하고 훈련 정확도는 에포크마다 증가한다. 경사 하강법 최적화를 사용했을 때 반복마다 최소화되는 것이 손실이므로 기대했던 대로다. 하지만 검증 손실과 정확도는 성능이 좋지 않다. 4번째 에포크 부터 loss와 정확도의 그래프가 역전되는 것 같다. \n",
        "\n",
        "이처럼 훈련 세트에서 잘 작동하는 모델이 처음 보는 데이터에서는 잘 작동하지 않을 수 있다. 이런 현상을 '과대적합(overfitting)' 되었다고 한다.\n",
        "\n",
        "두번째 에포크 이후부터 훈련 데이터에 과도하게 최적화되어 훈련 데이터에 특화된 표현을 학습하므로 훈련 세트 이외의 데이터에는 일반화되지 못한다.\n",
        "\n",
        "이런 경우 과대적합을 방지하기 위해 세 번째 에포크 이후에 훈련을 중지할 수 있다. 또는 과대적합을 완화하는 다양한 종류의 기술을 사용하는 방법이 있다."
      ]
    },
    {
      "cell_type": "code",
      "metadata": {
        "colab": {
          "base_uri": "https://localhost:8080/"
        },
        "id": "rd6mvRRMiOZM",
        "outputId": "41109f09-5029-4428-f000-1da717c7b500"
      },
      "source": [
        "# epochs=4 모델 다시 훈련, train데이터 학습 + test 데이터 fit\n",
        "\n",
        "model = models.Sequential()\n",
        "model.add(layers.Dense(16, activation='relu', input_shape=(10000,)))\n",
        "model.add(layers.Dense(16, activation='relu'))\n",
        "model.add(layers.Dense(1, activation='sigmoid'))\n",
        "\n",
        "model.compile(optimizer='rmsprop',\n",
        "              loss = 'binary_crossentropy',\n",
        "              metrics = ['accuracy'])\n",
        "\n",
        "model.fit(x_train, y_train, epochs=4, batch_size=512)\n",
        "results = model.evaluate(x_test, y_test)"
      ],
      "execution_count": 22,
      "outputs": [
        {
          "output_type": "stream",
          "text": [
            "Epoch 1/4\n",
            "49/49 [==============================] - 2s 25ms/step - loss: 0.5514 - accuracy: 0.7272\n",
            "Epoch 2/4\n",
            "49/49 [==============================] - 1s 26ms/step - loss: 0.2665 - accuracy: 0.9112\n",
            "Epoch 3/4\n",
            "49/49 [==============================] - 1s 26ms/step - loss: 0.1958 - accuracy: 0.9336\n",
            "Epoch 4/4\n",
            "49/49 [==============================] - 1s 26ms/step - loss: 0.1602 - accuracy: 0.9452\n",
            "782/782 [==============================] - 2s 2ms/step - loss: 0.2954 - accuracy: 0.8830\n"
          ],
          "name": "stdout"
        }
      ]
    },
    {
      "cell_type": "code",
      "metadata": {
        "colab": {
          "base_uri": "https://localhost:8080/"
        },
        "id": "NSf27aKA1GwE",
        "outputId": "00709141-8ad9-4f9a-ed05-4828c0c4ecd6"
      },
      "source": [
        "results"
      ],
      "execution_count": 51,
      "outputs": [
        {
          "output_type": "execute_result",
          "data": {
            "text/plain": [
              "[0.29415419697761536, 0.8834800124168396]"
            ]
          },
          "metadata": {
            "tags": []
          },
          "execution_count": 51
        }
      ]
    },
    {
      "cell_type": "markdown",
      "metadata": {
        "id": "xYaRnz501SeJ"
      },
      "source": [
        "모델을 단순한 방식으로 다시 훈련 시켰더니 88%의 정확도를 달성했다. 여기에 최고 수준 기법을 사용하면 95%에 가까운 성능을 얻을 수도 있다. "
      ]
    },
    {
      "cell_type": "markdown",
      "metadata": {
        "id": "oDhufNf31lfs"
      },
      "source": [
        "## 훈련된 모델로 새로운 데이터 예측\n",
        "\n",
        "모델을 훈련시키고 이를 실전 환경에 사용해보자.\n",
        "predict 메서드를 사용해 어떤 리뷰가 긍정일 확률을 예측할 수 있다."
      ]
    },
    {
      "cell_type": "code",
      "metadata": {
        "colab": {
          "base_uri": "https://localhost:8080/"
        },
        "id": "pbJjBSnb1PyH",
        "outputId": "ef9e4d5a-928f-4212-89e1-f47923b56f04"
      },
      "source": [
        "model.predict(x_test)"
      ],
      "execution_count": 52,
      "outputs": [
        {
          "output_type": "execute_result",
          "data": {
            "text/plain": [
              "array([[0.18747443],\n",
              "       [0.99955577],\n",
              "       [0.8868468 ],\n",
              "       ...,\n",
              "       [0.11205223],\n",
              "       [0.07117888],\n",
              "       [0.6381034 ]], dtype=float32)"
            ]
          },
          "metadata": {
            "tags": []
          },
          "execution_count": 52
        }
      ]
    },
    {
      "cell_type": "markdown",
      "metadata": {
        "id": "ZTHGhmUz10_l"
      },
      "source": [
        "모델은 어떤 샘플에 대해 0.99 또는 0.01과 같은 확신을 가지고 있지만, 어떤 샘플에 대해서는 확신이 부족하다. (0.6, 0.4)"
      ]
    },
    {
      "cell_type": "markdown",
      "metadata": {
        "id": "-eiGgjw92Fg4"
      },
      "source": [
        "## 추가 실험\n",
        "\n",
        "- 은닉층을 1개 또는 3개를 사용하고 검증과 테스트 정확도에 어떤 영향을 끼치는지 확인하기\n",
        "- 층의 은닉 유닛을 추가하거나 줄여보기. 32개, 64개 유닛 등\n",
        "- binary_crossentropy 대신 mse 손실 함수를 사용해보기\n",
        "- relu 대신 tanh 활성화 함수(초창기 신경망에 인기 있던 함수) 사용해 보기."
      ]
    },
    {
      "cell_type": "code",
      "metadata": {
        "colab": {
          "base_uri": "https://localhost:8080/"
        },
        "id": "L47rdV2e1xnV",
        "outputId": "ffd77752-8465-4a68-ef08-081d3202df09"
      },
      "source": [
        "# 은닉층 1개 사용해보기\n",
        "model = models.Sequential()\n",
        "model.add(layers.Dense(16, activation='relu', input_shape=(10000,)))\n",
        "model.add(layers.Dense(1, activation='sigmoid'))\n",
        "\n",
        "model.compile(optimizer='rmsprop',\n",
        "              loss = 'binary_crossentropy',\n",
        "              metrics = ['accuracy'])\n",
        "\n",
        "model.fit(x_train, y_train, epochs=4, batch_size=512)\n",
        "results = model.evaluate(x_test, y_test)\n",
        "results"
      ],
      "execution_count": 53,
      "outputs": [
        {
          "output_type": "stream",
          "text": [
            "Epoch 1/4\n",
            "49/49 [==============================] - 2s 31ms/step - loss: 0.5439 - accuracy: 0.7459\n",
            "Epoch 2/4\n",
            "49/49 [==============================] - 1s 30ms/step - loss: 0.2863 - accuracy: 0.9089\n",
            "Epoch 3/4\n",
            "49/49 [==============================] - 2s 42ms/step - loss: 0.2189 - accuracy: 0.9275\n",
            "Epoch 4/4\n",
            "49/49 [==============================] - 2s 42ms/step - loss: 0.1830 - accuracy: 0.9396\n",
            "782/782 [==============================] - 2s 2ms/step - loss: 0.2863 - accuracy: 0.8853\n"
          ],
          "name": "stdout"
        },
        {
          "output_type": "execute_result",
          "data": {
            "text/plain": [
              "[0.28625068068504333, 0.8852800130844116]"
            ]
          },
          "metadata": {
            "tags": []
          },
          "execution_count": 53
        }
      ]
    },
    {
      "cell_type": "code",
      "metadata": {
        "colab": {
          "base_uri": "https://localhost:8080/"
        },
        "id": "a0dc3LK03UCx",
        "outputId": "782ae6b6-aa48-4b9d-b989-a27fd36f5322"
      },
      "source": [
        "# 은닉층 3개 사용해보기\n",
        "model = models.Sequential()\n",
        "model.add(layers.Dense(16, activation='relu', input_shape=(10000,)))\n",
        "model.add(layers.Dense(16, activation='relu'))\n",
        "model.add(layers.Dense(16, activation='relu'))\n",
        "model.add(layers.Dense(1, activation='sigmoid'))\n",
        "\n",
        "model.compile(optimizer='rmsprop',\n",
        "              loss = 'binary_crossentropy',\n",
        "              metrics = ['accuracy'])\n",
        "\n",
        "model.fit(x_train, y_train, epochs=4, batch_size=512)\n",
        "results = model.evaluate(x_test, y_test)\n",
        "results"
      ],
      "execution_count": 54,
      "outputs": [
        {
          "output_type": "stream",
          "text": [
            "Epoch 1/4\n",
            "49/49 [==============================] - 3s 40ms/step - loss: 0.5851 - accuracy: 0.7245\n",
            "Epoch 2/4\n",
            "49/49 [==============================] - 2s 36ms/step - loss: 0.2737 - accuracy: 0.9062\n",
            "Epoch 3/4\n",
            "49/49 [==============================] - 1s 28ms/step - loss: 0.2012 - accuracy: 0.9291\n",
            "Epoch 4/4\n",
            "49/49 [==============================] - 1s 28ms/step - loss: 0.1594 - accuracy: 0.9461\n",
            "782/782 [==============================] - 2s 2ms/step - loss: 0.3006 - accuracy: 0.8819\n"
          ],
          "name": "stdout"
        },
        {
          "output_type": "execute_result",
          "data": {
            "text/plain": [
              "[0.3006231486797333, 0.881879985332489]"
            ]
          },
          "metadata": {
            "tags": []
          },
          "execution_count": 54
        }
      ]
    },
    {
      "cell_type": "code",
      "metadata": {
        "colab": {
          "base_uri": "https://localhost:8080/"
        },
        "id": "od_dsfYe-ecC",
        "outputId": "c77b089d-862b-4d39-bfba-90172c120979"
      },
      "source": [
        "# 은닉층 5개 사용해보기\n",
        "model = models.Sequential()\n",
        "model.add(layers.Dense(16, activation='relu', input_shape=(10000,)))\n",
        "model.add(layers.Dense(16, activation='relu'))\n",
        "model.add(layers.Dense(16, activation='relu'))\n",
        "model.add(layers.Dense(16, activation='relu'))\n",
        "model.add(layers.Dense(16, activation='relu'))\n",
        "model.add(layers.Dense(1, activation='sigmoid'))\n",
        "\n",
        "model.compile(optimizer='rmsprop',\n",
        "              loss = 'binary_crossentropy',\n",
        "              metrics = ['accuracy'])\n",
        "\n",
        "model.fit(x_train, y_train, epochs=4, batch_size=512)\n",
        "results = model.evaluate(x_test, y_test)\n",
        "results"
      ],
      "execution_count": 23,
      "outputs": [
        {
          "output_type": "stream",
          "text": [
            "Epoch 1/4\n",
            "49/49 [==============================] - 2s 28ms/step - loss: 0.5792 - accuracy: 0.7217\n",
            "Epoch 2/4\n",
            "49/49 [==============================] - 1s 27ms/step - loss: 0.2624 - accuracy: 0.9039\n",
            "Epoch 3/4\n",
            "49/49 [==============================] - 1s 27ms/step - loss: 0.1879 - accuracy: 0.9343\n",
            "Epoch 4/4\n",
            "49/49 [==============================] - 1s 27ms/step - loss: 0.1481 - accuracy: 0.9500\n",
            "782/782 [==============================] - 2s 2ms/step - loss: 0.3376 - accuracy: 0.8731\n"
          ],
          "name": "stdout"
        },
        {
          "output_type": "execute_result",
          "data": {
            "text/plain": [
              "[0.3376409113407135, 0.8730800151824951]"
            ]
          },
          "metadata": {
            "tags": []
          },
          "execution_count": 23
        }
      ]
    },
    {
      "cell_type": "code",
      "metadata": {
        "colab": {
          "base_uri": "https://localhost:8080/"
        },
        "id": "laYnUAtb_DSd",
        "outputId": "1dc645a6-2300-41be-9432-39b5d2259f57"
      },
      "source": [
        "# 은닉유닛 32\n",
        "model = models.Sequential()\n",
        "model.add(layers.Dense(32, activation='relu', input_shape=(10000,)))\n",
        "model.add(layers.Dense(32, activation='relu'))\n",
        "model.add(layers.Dense(1, activation='sigmoid'))\n",
        "\n",
        "model.compile(optimizer='rmsprop',\n",
        "              loss = 'binary_crossentropy',\n",
        "              metrics = ['accuracy'])\n",
        "\n",
        "model.fit(x_train, y_train, epochs=4, batch_size=512)\n",
        "results = model.evaluate(x_test, y_test)"
      ],
      "execution_count": 24,
      "outputs": [
        {
          "output_type": "stream",
          "text": [
            "Epoch 1/4\n",
            "49/49 [==============================] - 2s 32ms/step - loss: 0.5314 - accuracy: 0.7465\n",
            "Epoch 2/4\n",
            "49/49 [==============================] - 2s 31ms/step - loss: 0.2569 - accuracy: 0.9081\n",
            "Epoch 3/4\n",
            "49/49 [==============================] - 2s 31ms/step - loss: 0.1838 - accuracy: 0.9362\n",
            "Epoch 4/4\n",
            "49/49 [==============================] - 2s 31ms/step - loss: 0.1562 - accuracy: 0.9421\n",
            "782/782 [==============================] - 2s 2ms/step - loss: 0.3385 - accuracy: 0.8703\n"
          ],
          "name": "stdout"
        }
      ]
    },
    {
      "cell_type": "code",
      "metadata": {
        "colab": {
          "base_uri": "https://localhost:8080/"
        },
        "id": "1togaeP7_P5c",
        "outputId": "499baa56-8a8b-4ed4-9d61-cfc4be85c9bd"
      },
      "source": [
        "# 은닉유닛 32\n",
        "model = models.Sequential()\n",
        "model.add(layers.Dense(16, activation='relu', input_shape=(10000,)))\n",
        "model.add(layers.Dense(32, activation='relu'))\n",
        "model.add(layers.Dense(1, activation='sigmoid'))\n",
        "\n",
        "model.compile(optimizer='rmsprop',\n",
        "              loss = 'binary_crossentropy',\n",
        "              metrics = ['accuracy'])\n",
        "\n",
        "model.fit(x_train, y_train, epochs=4, batch_size=512)\n",
        "results = model.evaluate(x_test, y_test)"
      ],
      "execution_count": 25,
      "outputs": [
        {
          "output_type": "stream",
          "text": [
            "Epoch 1/4\n",
            "49/49 [==============================] - 2s 27ms/step - loss: 0.5441 - accuracy: 0.7384\n",
            "Epoch 2/4\n",
            "49/49 [==============================] - 1s 28ms/step - loss: 0.2577 - accuracy: 0.9108\n",
            "Epoch 3/4\n",
            "49/49 [==============================] - 1s 27ms/step - loss: 0.1938 - accuracy: 0.9352\n",
            "Epoch 4/4\n",
            "49/49 [==============================] - 1s 26ms/step - loss: 0.1596 - accuracy: 0.9478\n",
            "782/782 [==============================] - 2s 2ms/step - loss: 0.3116 - accuracy: 0.8787\n"
          ],
          "name": "stdout"
        }
      ]
    },
    {
      "cell_type": "code",
      "metadata": {
        "colab": {
          "base_uri": "https://localhost:8080/"
        },
        "id": "McKp0PaDAI-4",
        "outputId": "c6817046-7e20-4a2d-b0b3-71c7043e0707"
      },
      "source": [
        "# 은닉유닛 64 은닉층 4\n",
        "model = models.Sequential()\n",
        "model.add(layers.Dense(16, activation='relu', input_shape=(10000,)))\n",
        "model.add(layers.Dense(32, activation='relu'))\n",
        "model.add(layers.Dense(64, activation='relu'))\n",
        "model.add(layers.Dense(64, activation='relu'))\n",
        "model.add(layers.Dense(1, activation='sigmoid'))\n",
        "\n",
        "model.compile(optimizer='rmsprop',\n",
        "              loss = 'binary_crossentropy',\n",
        "              metrics = ['accuracy'])\n",
        "\n",
        "model.fit(x_train, y_train, epochs=4, batch_size=512)\n",
        "results = model.evaluate(x_test, y_test)"
      ],
      "execution_count": 26,
      "outputs": [
        {
          "output_type": "stream",
          "text": [
            "Epoch 1/4\n",
            "49/49 [==============================] - 2s 28ms/step - loss: 0.5744 - accuracy: 0.6937\n",
            "Epoch 2/4\n",
            "49/49 [==============================] - 1s 27ms/step - loss: 0.2552 - accuracy: 0.9019\n",
            "Epoch 3/4\n",
            "49/49 [==============================] - 1s 27ms/step - loss: 0.1858 - accuracy: 0.9313\n",
            "Epoch 4/4\n",
            "49/49 [==============================] - 1s 27ms/step - loss: 0.1545 - accuracy: 0.9432\n",
            "782/782 [==============================] - 2s 2ms/step - loss: 0.3465 - accuracy: 0.8734\n"
          ],
          "name": "stdout"
        }
      ]
    },
    {
      "cell_type": "code",
      "metadata": {
        "colab": {
          "base_uri": "https://localhost:8080/"
        },
        "id": "5cCoTIoyAJzb",
        "outputId": "11eef09d-bd79-4721-d004-fa8ab31df3ae"
      },
      "source": [
        "# 은닉유닛 64 은닉층 2\n",
        "model = models.Sequential()\n",
        "model.add(layers.Dense(64, activation='relu', input_shape=(10000,)))\n",
        "model.add(layers.Dense(64, activation='relu'))\n",
        "model.add(layers.Dense(1, activation='sigmoid'))\n",
        "\n",
        "model.compile(optimizer='rmsprop',\n",
        "              loss = 'binary_crossentropy',\n",
        "              metrics = ['accuracy'])\n",
        "\n",
        "model.fit(x_train, y_train, epochs=4, batch_size=512)\n",
        "results = model.evaluate(x_test, y_test)"
      ],
      "execution_count": 12,
      "outputs": [
        {
          "output_type": "stream",
          "text": [
            "Epoch 1/4\n",
            "49/49 [==============================] - 3s 44ms/step - loss: 0.5281 - accuracy: 0.7361\n",
            "Epoch 2/4\n",
            "49/49 [==============================] - 2s 44ms/step - loss: 0.2384 - accuracy: 0.9120\n",
            "Epoch 3/4\n",
            "49/49 [==============================] - 2s 45ms/step - loss: 0.1730 - accuracy: 0.9383\n",
            "Epoch 4/4\n",
            "49/49 [==============================] - 2s 43ms/step - loss: 0.1396 - accuracy: 0.9499\n",
            "782/782 [==============================] - 2s 3ms/step - loss: 0.3627 - accuracy: 0.8709\n"
          ],
          "name": "stdout"
        }
      ]
    },
    {
      "cell_type": "code",
      "metadata": {
        "colab": {
          "base_uri": "https://localhost:8080/"
        },
        "id": "kcVcgEx8A9a8",
        "outputId": "0443a604-a212-4cfa-fb05-42c5aba649ea"
      },
      "source": [
        "# 은닉유닛 8,16 은닉층 2\n",
        "model = models.Sequential()\n",
        "model.add(layers.Dense(8, activation='relu', input_shape=(10000,)))\n",
        "model.add(layers.Dense(16, activation='relu'))\n",
        "model.add(layers.Dense(1, activation='sigmoid'))\n",
        "\n",
        "model.compile(optimizer='rmsprop',\n",
        "              loss = 'binary_crossentropy',\n",
        "              metrics = ['accuracy'])\n",
        "\n",
        "model.fit(x_train, y_train, epochs=4, batch_size=512)\n",
        "results = model.evaluate(x_test, y_test)"
      ],
      "execution_count": 13,
      "outputs": [
        {
          "output_type": "stream",
          "text": [
            "Epoch 1/4\n",
            "49/49 [==============================] - 2s 32ms/step - loss: 0.5686 - accuracy: 0.7212\n",
            "Epoch 2/4\n",
            "49/49 [==============================] - 2s 32ms/step - loss: 0.2968 - accuracy: 0.9037\n",
            "Epoch 3/4\n",
            "49/49 [==============================] - 2s 32ms/step - loss: 0.2117 - accuracy: 0.9310\n",
            "Epoch 4/4\n",
            "49/49 [==============================] - 2s 31ms/step - loss: 0.1750 - accuracy: 0.9416\n",
            "782/782 [==============================] - 2s 2ms/step - loss: 0.3163 - accuracy: 0.8739\n"
          ],
          "name": "stdout"
        }
      ]
    },
    {
      "cell_type": "code",
      "metadata": {
        "colab": {
          "base_uri": "https://localhost:8080/"
        },
        "id": "Eog-1YQCBVxA",
        "outputId": "242f7e1b-c015-4358-f400-f511ba5e386b"
      },
      "source": [
        "# 은닉층 1개 , loss=mse\n",
        "model = models.Sequential()\n",
        "model.add(layers.Dense(16, activation='relu', input_shape=(10000,)))\n",
        "model.add(layers.Dense(1, activation='sigmoid'))\n",
        "\n",
        "model.compile(optimizer='rmsprop',\n",
        "              loss = 'mse',\n",
        "              metrics = ['accuracy'])\n",
        "\n",
        "model.fit(x_train, y_train, epochs=4, batch_size=512)\n",
        "results = model.evaluate(x_test, y_test)\n",
        "results"
      ],
      "execution_count": 14,
      "outputs": [
        {
          "output_type": "stream",
          "text": [
            "Epoch 1/4\n",
            "49/49 [==============================] - 2s 32ms/step - loss: 0.1793 - accuracy: 0.7459\n",
            "Epoch 2/4\n",
            "49/49 [==============================] - 2s 32ms/step - loss: 0.0842 - accuracy: 0.9122\n",
            "Epoch 3/4\n",
            "49/49 [==============================] - 2s 32ms/step - loss: 0.0637 - accuracy: 0.9308\n",
            "Epoch 4/4\n",
            "49/49 [==============================] - 2s 32ms/step - loss: 0.0537 - accuracy: 0.9402\n",
            "782/782 [==============================] - 1s 2ms/step - loss: 0.0852 - accuracy: 0.8859\n"
          ],
          "name": "stdout"
        },
        {
          "output_type": "execute_result",
          "data": {
            "text/plain": [
              "[0.08517131209373474, 0.8858799934387207]"
            ]
          },
          "metadata": {
            "tags": []
          },
          "execution_count": 14
        }
      ]
    },
    {
      "cell_type": "code",
      "metadata": {
        "colab": {
          "base_uri": "https://localhost:8080/"
        },
        "id": "CnKk2ClPBcFM",
        "outputId": "43b2622f-c981-4fb4-d605-79b4041c1bc3"
      },
      "source": [
        "# 은닉층 1개 , loss=mse,  act=tanh,sigmoid\n",
        "model = models.Sequential()\n",
        "model.add(layers.Dense(16, activation='tanh', input_shape=(10000,)))\n",
        "model.add(layers.Dense(1, activation='sigmoid'))\n",
        "\n",
        "model.compile(optimizer='rmsprop',\n",
        "              loss = 'mse',\n",
        "              metrics = ['accuracy'])\n",
        "\n",
        "model.fit(x_train, y_train, epochs=4, batch_size=512)\n",
        "results = model.evaluate(x_test, y_test)\n",
        "results"
      ],
      "execution_count": 15,
      "outputs": [
        {
          "output_type": "stream",
          "text": [
            "Epoch 1/4\n",
            "49/49 [==============================] - 2s 30ms/step - loss: 0.1746 - accuracy: 0.7444\n",
            "Epoch 2/4\n",
            "49/49 [==============================] - 1s 29ms/step - loss: 0.0799 - accuracy: 0.9134\n",
            "Epoch 3/4\n",
            "49/49 [==============================] - 1s 30ms/step - loss: 0.0611 - accuracy: 0.9299\n",
            "Epoch 4/4\n",
            "49/49 [==============================] - 1s 29ms/step - loss: 0.0474 - accuracy: 0.9470\n",
            "782/782 [==============================] - 1s 2ms/step - loss: 0.0857 - accuracy: 0.8850\n"
          ],
          "name": "stdout"
        },
        {
          "output_type": "execute_result",
          "data": {
            "text/plain": [
              "[0.0857023075222969, 0.8850399851799011]"
            ]
          },
          "metadata": {
            "tags": []
          },
          "execution_count": 15
        }
      ]
    },
    {
      "cell_type": "code",
      "metadata": {
        "colab": {
          "base_uri": "https://localhost:8080/"
        },
        "id": "4aqD7CuKCd2h",
        "outputId": "ac47ab1f-99f4-436a-d672-190c24438bce"
      },
      "source": [
        "# 은닉층 2개 , loss=mse,  act=relu,sigmoid, batch_size= 1000\n",
        "model = models.Sequential()\n",
        "model.add(layers.Dense(16, activation='relu', input_shape=(10000,)))\n",
        "model.add(layers.Dense(16, activation='relu'))\n",
        "model.add(layers.Dense(1, activation='sigmoid'))\n",
        "\n",
        "model.compile(optimizer='rmsprop',\n",
        "              loss = 'mse',\n",
        "              metrics = ['accuracy'])\n",
        "\n",
        "model.fit(x_train, y_train, epochs=4, batch_size=1000)\n",
        "results = model.evaluate(x_test, y_test)\n",
        "results"
      ],
      "execution_count": 16,
      "outputs": [
        {
          "output_type": "stream",
          "text": [
            "Epoch 1/4\n",
            "25/25 [==============================] - 2s 53ms/step - loss: 0.2077 - accuracy: 0.6953\n",
            "Epoch 2/4\n",
            "25/25 [==============================] - 1s 52ms/step - loss: 0.1072 - accuracy: 0.8904\n",
            "Epoch 3/4\n",
            "25/25 [==============================] - 1s 52ms/step - loss: 0.0766 - accuracy: 0.9215\n",
            "Epoch 4/4\n",
            "25/25 [==============================] - 1s 51ms/step - loss: 0.0615 - accuracy: 0.9328\n",
            "782/782 [==============================] - 2s 2ms/step - loss: 0.0897 - accuracy: 0.8820\n"
          ],
          "name": "stdout"
        },
        {
          "output_type": "execute_result",
          "data": {
            "text/plain": [
              "[0.0896628201007843, 0.8820000290870667]"
            ]
          },
          "metadata": {
            "tags": []
          },
          "execution_count": 16
        }
      ]
    },
    {
      "cell_type": "code",
      "metadata": {
        "colab": {
          "base_uri": "https://localhost:8080/"
        },
        "id": "aLH7Dg8NC-av",
        "outputId": "87776864-10c2-48e5-86b7-40e1b69a8e41"
      },
      "source": [
        "# 은닉층 2개 , loss=mse,  act=relu,sigmoid, batch_size= 2000\n",
        "model = models.Sequential()\n",
        "model.add(layers.Dense(16, activation='relu', input_shape=(10000,)))\n",
        "model.add(layers.Dense(16, activation='relu'))\n",
        "model.add(layers.Dense(1, activation='sigmoid'))\n",
        "\n",
        "model.compile(optimizer='rmsprop',\n",
        "              loss = 'mse',\n",
        "              metrics = ['accuracy'])\n",
        "\n",
        "model.fit(x_train, y_train, epochs=4, batch_size=2000)\n",
        "results = model.evaluate(x_test, y_test)\n",
        "results"
      ],
      "execution_count": 18,
      "outputs": [
        {
          "output_type": "stream",
          "text": [
            "Epoch 1/4\n",
            "13/13 [==============================] - 2s 93ms/step - loss: 0.2293 - accuracy: 0.6211\n",
            "Epoch 2/4\n",
            "13/13 [==============================] - 1s 92ms/step - loss: 0.1478 - accuracy: 0.8658\n",
            "Epoch 3/4\n",
            "13/13 [==============================] - 1s 92ms/step - loss: 0.1140 - accuracy: 0.8942\n",
            "Epoch 4/4\n",
            "13/13 [==============================] - 1s 89ms/step - loss: 0.0930 - accuracy: 0.9110\n",
            "782/782 [==============================] - 2s 2ms/step - loss: 0.1175 - accuracy: 0.8486\n"
          ],
          "name": "stdout"
        },
        {
          "output_type": "execute_result",
          "data": {
            "text/plain": [
              "[0.11745226383209229, 0.8485999703407288]"
            ]
          },
          "metadata": {
            "tags": []
          },
          "execution_count": 18
        }
      ]
    },
    {
      "cell_type": "code",
      "metadata": {
        "colab": {
          "base_uri": "https://localhost:8080/"
        },
        "id": "pI_wNMM7C02g",
        "outputId": "3fade62b-d7b9-41d9-8dfe-d23e532f8d09"
      },
      "source": [
        "# 은닉층 2개 , loss=mse,  act=relu,sigmoid, batch_size= 512\n",
        "model = models.Sequential()\n",
        "model.add(layers.Dense(16, activation='relu', input_shape=(10000,)))\n",
        "model.add(layers.Dense(16, activation='relu'))\n",
        "model.add(layers.Dense(1, activation='sigmoid'))\n",
        "\n",
        "model.compile(optimizer='rmsprop',\n",
        "              loss = 'mse',\n",
        "              metrics = ['accuracy'])\n",
        "\n",
        "model.fit(x_train, y_train, epochs=4, batch_size=512)\n",
        "results = model.evaluate(x_test, y_test)\n",
        "results"
      ],
      "execution_count": 17,
      "outputs": [
        {
          "output_type": "stream",
          "text": [
            "Epoch 1/4\n",
            "49/49 [==============================] - 2s 28ms/step - loss: 0.1823 - accuracy: 0.7518\n",
            "Epoch 2/4\n",
            "49/49 [==============================] - 1s 27ms/step - loss: 0.0797 - accuracy: 0.9132\n",
            "Epoch 3/4\n",
            "49/49 [==============================] - 1s 28ms/step - loss: 0.0564 - accuracy: 0.9346\n",
            "Epoch 4/4\n",
            "49/49 [==============================] - 1s 27ms/step - loss: 0.0453 - accuracy: 0.9480\n",
            "782/782 [==============================] - 2s 2ms/step - loss: 0.0922 - accuracy: 0.8744\n"
          ],
          "name": "stdout"
        },
        {
          "output_type": "execute_result",
          "data": {
            "text/plain": [
              "[0.09218798577785492, 0.8744400143623352]"
            ]
          },
          "metadata": {
            "tags": []
          },
          "execution_count": 17
        }
      ]
    },
    {
      "cell_type": "code",
      "metadata": {
        "colab": {
          "base_uri": "https://localhost:8080/"
        },
        "id": "H3iW1MfECrzt",
        "outputId": "27198ed4-6295-4af2-a979-a39cdc83be71"
      },
      "source": [
        "# 은닉층 5개 , loss=mse,  act=relu,sigmoid, batch_size= 1000\n",
        "model = models.Sequential()\n",
        "model.add(layers.Dense(32, activation='relu', input_shape=(10000,)))\n",
        "model.add(layers.Dense(64, activation='relu'))\n",
        "model.add(layers.Dense(64, activation='relu'))\n",
        "model.add(layers.Dense(64, activation='relu'))\n",
        "model.add(layers.Dense(16, activation='relu'))\n",
        "model.add(layers.Dense(1, activation='sigmoid'))\n",
        "\n",
        "model.compile(optimizer='rmsprop',\n",
        "              loss = 'mse',\n",
        "              metrics = ['accuracy'])\n",
        "\n",
        "model.fit(x_train, y_train, epochs=10, batch_size=1000)\n",
        "results = model.evaluate(x_test, y_test)\n",
        "results"
      ],
      "execution_count": 18,
      "outputs": [
        {
          "output_type": "stream",
          "text": [
            "Epoch 1/10\n",
            "25/25 [==============================] - 3s 64ms/step - loss: 0.2170 - accuracy: 0.6505\n",
            "Epoch 2/10\n",
            "25/25 [==============================] - 2s 65ms/step - loss: 0.0933 - accuracy: 0.8800\n",
            "Epoch 3/10\n",
            "25/25 [==============================] - 2s 62ms/step - loss: 0.0639 - accuracy: 0.9184\n",
            "Epoch 4/10\n",
            "25/25 [==============================] - 2s 63ms/step - loss: 0.0509 - accuracy: 0.9362\n",
            "Epoch 5/10\n",
            "25/25 [==============================] - 2s 64ms/step - loss: 0.0394 - accuracy: 0.9518\n",
            "Epoch 6/10\n",
            "25/25 [==============================] - 2s 64ms/step - loss: 0.0383 - accuracy: 0.9524\n",
            "Epoch 7/10\n",
            "25/25 [==============================] - 2s 64ms/step - loss: 0.0267 - accuracy: 0.9686\n",
            "Epoch 8/10\n",
            "25/25 [==============================] - 2s 63ms/step - loss: 0.0166 - accuracy: 0.9828\n",
            "Epoch 9/10\n",
            "25/25 [==============================] - 2s 63ms/step - loss: 0.0122 - accuracy: 0.9884\n",
            "Epoch 10/10\n",
            "25/25 [==============================] - 2s 61ms/step - loss: 0.0390 - accuracy: 0.9513\n",
            "782/782 [==============================] - 2s 3ms/step - loss: 0.1066 - accuracy: 0.8722\n"
          ],
          "name": "stdout"
        },
        {
          "output_type": "execute_result",
          "data": {
            "text/plain": [
              "[0.10661541670560837, 0.8722000122070312]"
            ]
          },
          "metadata": {
            "tags": []
          },
          "execution_count": 18
        }
      ]
    },
    {
      "cell_type": "code",
      "metadata": {
        "colab": {
          "base_uri": "https://localhost:8080/"
        },
        "id": "XHqPo0qjEchj",
        "outputId": "26b5e501-a087-4cf5-b153-05e8c49da612"
      },
      "source": [
        "# 은닉층 5개 , loss=mse,  act=relu,sigmoid, batch_size= 1000\n",
        "model = models.Sequential()\n",
        "model.add(layers.Dense(16, activation='relu', input_shape=(10000,)))\n",
        "model.add(layers.Dense(16, activation='relu'))\n",
        "model.add(layers.Dense(16, activation='relu'))\n",
        "model.add(layers.Dense(16, activation='relu'))\n",
        "model.add(layers.Dense(16, activation='relu'))\n",
        "model.add(layers.Dense(1, activation='sigmoid'))\n",
        "\n",
        "model.compile(optimizer='rmsprop',\n",
        "              loss = 'mse',\n",
        "              metrics = ['accuracy'])\n",
        "\n",
        "model.fit(x_train, y_train, epochs=10, batch_size=1000)\n",
        "results = model.evaluate(x_test, y_test)\n",
        "results"
      ],
      "execution_count": 20,
      "outputs": [
        {
          "output_type": "stream",
          "text": [
            "Epoch 1/10\n",
            "25/25 [==============================] - 2s 48ms/step - loss: 0.2243 - accuracy: 0.6653\n",
            "Epoch 2/10\n",
            "25/25 [==============================] - 1s 47ms/step - loss: 0.1210 - accuracy: 0.8922\n",
            "Epoch 3/10\n",
            "25/25 [==============================] - 1s 48ms/step - loss: 0.0761 - accuracy: 0.9160\n",
            "Epoch 4/10\n",
            "25/25 [==============================] - 1s 49ms/step - loss: 0.0630 - accuracy: 0.9248\n",
            "Epoch 5/10\n",
            "25/25 [==============================] - 1s 49ms/step - loss: 0.0479 - accuracy: 0.9449\n",
            "Epoch 6/10\n",
            "25/25 [==============================] - 1s 47ms/step - loss: 0.0441 - accuracy: 0.9475\n",
            "Epoch 7/10\n",
            "25/25 [==============================] - 1s 49ms/step - loss: 0.0365 - accuracy: 0.9567\n",
            "Epoch 8/10\n",
            "25/25 [==============================] - 1s 48ms/step - loss: 0.0310 - accuracy: 0.9644\n",
            "Epoch 9/10\n",
            "25/25 [==============================] - 1s 48ms/step - loss: 0.0282 - accuracy: 0.9682\n",
            "Epoch 10/10\n",
            "25/25 [==============================] - 1s 47ms/step - loss: 0.0259 - accuracy: 0.9711\n",
            "782/782 [==============================] - 2s 2ms/step - loss: 0.1080 - accuracy: 0.8607\n"
          ],
          "name": "stdout"
        },
        {
          "output_type": "execute_result",
          "data": {
            "text/plain": [
              "[0.10802984237670898, 0.8607199788093567]"
            ]
          },
          "metadata": {
            "tags": []
          },
          "execution_count": 20
        }
      ]
    },
    {
      "cell_type": "code",
      "metadata": {
        "colab": {
          "base_uri": "https://localhost:8080/"
        },
        "id": "ABCfR1nzEd4Y",
        "outputId": "41fed8f4-8b2b-41cc-d9b1-dcee69abd627"
      },
      "source": [
        "# 은닉층 2개 , loss=mse,  act=relu,sigmoid, batch_size= 512\n",
        "model = models.Sequential()\n",
        "model.add(layers.Dense(16, activation='relu', input_shape=(10000,)))\n",
        "model.add(layers.Dense(16, activation='relu'))\n",
        "model.add(layers.Dense(1, activation='sigmoid'))\n",
        "\n",
        "model.compile(optimizer='rmsprop',\n",
        "              loss = 'mse',\n",
        "              metrics = ['accuracy'])\n",
        "\n",
        "model.fit(x_train, y_train, epochs=5, batch_size=512\n",
        "results = model.evaluate(x_test, y_test)\n",
        "results"
      ],
      "execution_count": 21,
      "outputs": [
        {
          "output_type": "stream",
          "text": [
            "Epoch 1/5\n",
            "25/25 [==============================] - 2s 51ms/step - loss: 0.2120 - accuracy: 0.6893\n",
            "Epoch 2/5\n",
            "25/25 [==============================] - 1s 50ms/step - loss: 0.1108 - accuracy: 0.8876\n",
            "Epoch 3/5\n",
            "25/25 [==============================] - 1s 49ms/step - loss: 0.0819 - accuracy: 0.9073\n",
            "Epoch 4/5\n",
            "25/25 [==============================] - 1s 48ms/step - loss: 0.0622 - accuracy: 0.9336\n",
            "Epoch 5/5\n",
            "25/25 [==============================] - 1s 48ms/step - loss: 0.0501 - accuracy: 0.9482\n",
            "782/782 [==============================] - 2s 2ms/step - loss: 0.0876 - accuracy: 0.8839\n"
          ],
          "name": "stdout"
        },
        {
          "output_type": "execute_result",
          "data": {
            "text/plain": [
              "[0.08761581033468246, 0.8839200139045715]"
            ]
          },
          "metadata": {
            "tags": []
          },
          "execution_count": 21
        }
      ]
    },
    {
      "cell_type": "code",
      "metadata": {
        "colab": {
          "base_uri": "https://localhost:8080/"
        },
        "id": "m0AcN4jTGFmU",
        "outputId": "80f6a163-6e9e-496a-8eab-f45ab168c8ef"
      },
      "source": [
        "# 은닉층 2개 , loss=mse,  act=relu,sigmoid, batch_size= 512\n",
        "model = models.Sequential()\n",
        "model.add(layers.Dense(16, activation='relu', input_shape=(10000,)))\n",
        "model.add(layers.Dense(16, activation='relu'))\n",
        "model.add(layers.Dense(1, activation='sigmoid'))\n",
        "\n",
        "model.compile(optimizer='rmsprop',\n",
        "              loss = 'mse',\n",
        "              metrics = ['accuracy'])\n",
        "\n",
        "model.fit(x_train, y_train, epochs=5, batch_size=512)\n",
        "results = model.evaluate(x_test, y_test)\n",
        "results"
      ],
      "execution_count": 23,
      "outputs": [
        {
          "output_type": "stream",
          "text": [
            "Epoch 1/5\n",
            "49/49 [==============================] - 2s 31ms/step - loss: 0.1837 - accuracy: 0.7600\n",
            "Epoch 2/5\n",
            "49/49 [==============================] - 1s 29ms/step - loss: 0.0806 - accuracy: 0.9127\n",
            "Epoch 3/5\n",
            "49/49 [==============================] - 1s 29ms/step - loss: 0.0592 - accuracy: 0.9330\n",
            "Epoch 4/5\n",
            "49/49 [==============================] - 1s 28ms/step - loss: 0.0466 - accuracy: 0.9481\n",
            "Epoch 5/5\n",
            "49/49 [==============================] - 1s 28ms/step - loss: 0.0389 - accuracy: 0.9566\n",
            "782/782 [==============================] - 2s 2ms/step - loss: 0.0880 - accuracy: 0.8803\n"
          ],
          "name": "stdout"
        },
        {
          "output_type": "execute_result",
          "data": {
            "text/plain": [
              "[0.08802392333745956, 0.8803200125694275]"
            ]
          },
          "metadata": {
            "tags": []
          },
          "execution_count": 23
        }
      ]
    },
    {
      "cell_type": "code",
      "metadata": {
        "colab": {
          "base_uri": "https://localhost:8080/"
        },
        "id": "QqTyJI64GF71",
        "outputId": "e9da1803-82c7-4c93-fc5a-74a2668c5608"
      },
      "source": [
        "# 은닉층 2개 , loss=mse,  act=relu,sigmoid, batch_size= 512\n",
        "model = models.Sequential()\n",
        "model.add(layers.Dense(16, activation='relu', input_shape=(10000,)))\n",
        "model.add(layers.Dense(16, activation='relu'))\n",
        "model.add(layers.Dense(1, activation='sigmoid'))\n",
        "\n",
        "model.compile(optimizer='rmsprop',\n",
        "              loss = 'mse',\n",
        "              metrics = ['accuracy'])\n",
        "\n",
        "model.fit(x_train, y_train, epochs=4, batch_size=512)\n",
        "results = model.evaluate(x_test, y_test)\n",
        "results"
      ],
      "execution_count": 18,
      "outputs": [
        {
          "output_type": "stream",
          "text": [
            "Epoch 1/4\n",
            "49/49 [==============================] - 2s 29ms/step - loss: 0.1813 - accuracy: 0.7508\n",
            "Epoch 2/4\n",
            "49/49 [==============================] - 1s 28ms/step - loss: 0.0797 - accuracy: 0.9111\n",
            "Epoch 3/4\n",
            "49/49 [==============================] - 1s 28ms/step - loss: 0.0586 - accuracy: 0.9348\n",
            "Epoch 4/4\n",
            "49/49 [==============================] - 1s 27ms/step - loss: 0.0460 - accuracy: 0.9470\n",
            "782/782 [==============================] - 2s 2ms/step - loss: 0.0879 - accuracy: 0.8820\n"
          ],
          "name": "stdout"
        },
        {
          "output_type": "execute_result",
          "data": {
            "text/plain": [
              "[0.08787058293819427, 0.8819599747657776]"
            ]
          },
          "metadata": {
            "tags": []
          },
          "execution_count": 18
        }
      ]
    },
    {
      "cell_type": "code",
      "metadata": {
        "colab": {
          "base_uri": "https://localhost:8080/"
        },
        "id": "DT16ypaKG0l_",
        "outputId": "7ace52bb-cf10-4d98-e563-2a9950ac9d2e"
      },
      "source": [
        "# 은닉층 2개 , loss=mse,  act=relu,sigmoid, batch_size= 1000\n",
        "model = models.Sequential()\n",
        "model.add(layers.Dense(16, activation='relu', input_shape=(10000,)))\n",
        "model.add(layers.Dense(16, activation='relu'))\n",
        "model.add(layers.Dense(1, activation='sigmoid'))\n",
        "\n",
        "model.compile(optimizer='rmsprop',\n",
        "              loss = 'mse',\n",
        "              metrics = ['accuracy'])\n",
        "\n",
        "model.fit(x_train, y_train, epochs=4, batch_size=1000)\n",
        "results = model.evaluate(x_test, y_test)\n",
        "results"
      ],
      "execution_count": 20,
      "outputs": [
        {
          "output_type": "stream",
          "text": [
            "Epoch 1/4\n",
            "25/25 [==============================] - 2s 47ms/step - loss: 0.2047 - accuracy: 0.7069\n",
            "Epoch 2/4\n",
            "25/25 [==============================] - 1s 46ms/step - loss: 0.1077 - accuracy: 0.8969\n",
            "Epoch 3/4\n",
            "25/25 [==============================] - 1s 47ms/step - loss: 0.0788 - accuracy: 0.9208\n",
            "Epoch 4/4\n",
            "25/25 [==============================] - 1s 46ms/step - loss: 0.0630 - accuracy: 0.9318\n",
            "782/782 [==============================] - 2s 2ms/step - loss: 0.0944 - accuracy: 0.8753\n"
          ],
          "name": "stdout"
        },
        {
          "output_type": "execute_result",
          "data": {
            "text/plain": [
              "[0.09440230578184128, 0.8753200173377991]"
            ]
          },
          "metadata": {
            "tags": []
          },
          "execution_count": 20
        }
      ]
    },
    {
      "cell_type": "code",
      "metadata": {
        "colab": {
          "base_uri": "https://localhost:8080/"
        },
        "id": "7Koxsd04GTG3",
        "outputId": "7416b2c2-9c93-41ff-9ce0-3844bb7eff59"
      },
      "source": [
        "# 은닉층 1개 , loss=mse,  act=relu,sigmoid, batch_size= 1000\n",
        "model = models.Sequential()\n",
        "model.add(layers.Dense(16, activation='relu', input_shape=(10000,)))\n",
        "model.add(layers.Dense(1, activation='sigmoid'))\n",
        "\n",
        "model.compile(optimizer='rmsprop',\n",
        "              loss = 'mse',\n",
        "              metrics = ['accuracy'])\n",
        "\n",
        "model.fit(x_train, y_train, epochs=3, batch_size=1000)\n",
        "results = model.evaluate(x_test, y_test)\n",
        "results"
      ],
      "execution_count": 19,
      "outputs": [
        {
          "output_type": "stream",
          "text": [
            "Epoch 1/3\n",
            "25/25 [==============================] - 2s 50ms/step - loss: 0.2039 - accuracy: 0.6867\n",
            "Epoch 2/3\n",
            "25/25 [==============================] - 1s 50ms/step - loss: 0.1086 - accuracy: 0.8991\n",
            "Epoch 3/3\n",
            "25/25 [==============================] - 1s 47ms/step - loss: 0.0833 - accuracy: 0.9179\n",
            "782/782 [==============================] - 2s 2ms/step - loss: 0.0951 - accuracy: 0.8875\n"
          ],
          "name": "stdout"
        },
        {
          "output_type": "execute_result",
          "data": {
            "text/plain": [
              "[0.09511270374059677, 0.8875200152397156]"
            ]
          },
          "metadata": {
            "tags": []
          },
          "execution_count": 19
        }
      ]
    },
    {
      "cell_type": "code",
      "metadata": {
        "colab": {
          "base_uri": "https://localhost:8080/"
        },
        "id": "l7ouZJljGtPH",
        "outputId": "8f7d016b-af45-460f-daa8-ef613244511b"
      },
      "source": [
        "# 은닉층 1개 , loss=mse,  act=relu,sigmoid, batch_size= 512\n",
        "model = models.Sequential()\n",
        "model.add(layers.Dense(16, activation='relu', input_shape=(10000,)))\n",
        "model.add(layers.Dense(1, activation='sigmoid'))\n",
        "\n",
        "model.compile(optimizer='rmsprop',\n",
        "              loss = 'mse',\n",
        "              metrics = ['accuracy'])\n",
        "\n",
        "model.fit(x_train, y_train, epochs=3, batch_size=512)\n",
        "results = model.evaluate(x_test, y_test)\n",
        "results"
      ],
      "execution_count": 21,
      "outputs": [
        {
          "output_type": "stream",
          "text": [
            "Epoch 1/3\n",
            "49/49 [==============================] - 2s 28ms/step - loss: 0.1797 - accuracy: 0.7444\n",
            "Epoch 2/3\n",
            "49/49 [==============================] - 1s 27ms/step - loss: 0.0856 - accuracy: 0.9122\n",
            "Epoch 3/3\n",
            "49/49 [==============================] - 1s 27ms/step - loss: 0.0640 - accuracy: 0.9310\n",
            "782/782 [==============================] - 2s 2ms/step - loss: 0.0899 - accuracy: 0.8820\n"
          ],
          "name": "stdout"
        },
        {
          "output_type": "execute_result",
          "data": {
            "text/plain": [
              "[0.08993778377771378, 0.8820000290870667]"
            ]
          },
          "metadata": {
            "tags": []
          },
          "execution_count": 21
        }
      ]
    },
    {
      "cell_type": "code",
      "metadata": {
        "colab": {
          "base_uri": "https://localhost:8080/"
        },
        "id": "vdSo-HkYHDVe",
        "outputId": "98c88e36-4be4-4936-cb0b-fe88d6e37a15"
      },
      "source": [
        "# 은닉층 1개 , loss=mse,  act=relu,sigmoid, batch_size= 512\n",
        "model = models.Sequential()\n",
        "model.add(layers.Dense(16, activation='relu', input_shape=(10000,)))\n",
        "model.add(layers.Dense(1, activation='sigmoid'))\n",
        "\n",
        "model.compile(optimizer='rmsprop',\n",
        "              loss = 'mse',\n",
        "              metrics = ['accuracy'])\n",
        "\n",
        "model.fit(x_train, y_train, epochs=4, batch_size=512)\n",
        "results = model.evaluate(x_test, y_test)\n",
        "results"
      ],
      "execution_count": 22,
      "outputs": [
        {
          "output_type": "stream",
          "text": [
            "Epoch 1/4\n",
            "49/49 [==============================] - 2s 27ms/step - loss: 0.1792 - accuracy: 0.7552\n",
            "Epoch 2/4\n",
            "49/49 [==============================] - 1s 28ms/step - loss: 0.0858 - accuracy: 0.9068\n",
            "Epoch 3/4\n",
            "49/49 [==============================] - 1s 27ms/step - loss: 0.0636 - accuracy: 0.9302\n",
            "Epoch 4/4\n",
            "49/49 [==============================] - 1s 27ms/step - loss: 0.0517 - accuracy: 0.9452\n",
            "782/782 [==============================] - 2s 2ms/step - loss: 0.0863 - accuracy: 0.8851\n"
          ],
          "name": "stdout"
        },
        {
          "output_type": "execute_result",
          "data": {
            "text/plain": [
              "[0.08628525584936142, 0.8850799798965454]"
            ]
          },
          "metadata": {
            "tags": []
          },
          "execution_count": 22
        }
      ]
    },
    {
      "cell_type": "code",
      "metadata": {
        "colab": {
          "base_uri": "https://localhost:8080/"
        },
        "id": "Jlw2GyT1H4Xc",
        "outputId": "8b09d97d-b7b2-4e87-f95e-bc50c19e9d9e"
      },
      "source": [
        "# 은닉층 1개 , loss=mse,  act=relu,sigmoid, batch_size= 512 , optimizer =adam\n",
        "model = models.Sequential()\n",
        "model.add(layers.Dense(16, activation='relu', input_shape=(10000,)))\n",
        "model.add(layers.Dense(1, activation='sigmoid'))\n",
        "\n",
        "model.compile(optimizer='adam',\n",
        "              loss = 'mse',\n",
        "              metrics = ['accuracy'])\n",
        "\n",
        "model.fit(x_train, y_train, epochs=4, batch_size=512)\n",
        "results = model.evaluate(x_test, y_test)\n",
        "results"
      ],
      "execution_count": 23,
      "outputs": [
        {
          "output_type": "stream",
          "text": [
            "Epoch 1/4\n",
            "49/49 [==============================] - 2s 27ms/step - loss: 0.1922 - accuracy: 0.7361\n",
            "Epoch 2/4\n",
            "49/49 [==============================] - 1s 27ms/step - loss: 0.0825 - accuracy: 0.9094\n",
            "Epoch 3/4\n",
            "49/49 [==============================] - 1s 27ms/step - loss: 0.0617 - accuracy: 0.9343\n",
            "Epoch 4/4\n",
            "49/49 [==============================] - 1s 27ms/step - loss: 0.0501 - accuracy: 0.9497\n",
            "782/782 [==============================] - 2s 2ms/step - loss: 0.0861 - accuracy: 0.8850\n"
          ],
          "name": "stdout"
        },
        {
          "output_type": "execute_result",
          "data": {
            "text/plain": [
              "[0.08605121076107025, 0.8849999904632568]"
            ]
          },
          "metadata": {
            "tags": []
          },
          "execution_count": 23
        }
      ]
    }
  ]
}