{
  "nbformat": 4,
  "nbformat_minor": 0,
  "metadata": {
    "colab": {
      "name": "method.ipynb",
      "provenance": [],
      "authorship_tag": "ABX9TyNv96kBUW5LM3OMlgxJPJl/",
      "include_colab_link": true
    },
    "kernelspec": {
      "name": "python3",
      "display_name": "Python 3"
    },
    "language_info": {
      "name": "python"
    }
  },
  "cells": [
    {
      "cell_type": "markdown",
      "metadata": {
        "id": "view-in-github",
        "colab_type": "text"
      },
      "source": [
        "<a href=\"https://colab.research.google.com/github/gggggeun/study/blob/main/6.%20python%20%EA%B8%B0%EC%B4%88/method.ipynb\" target=\"_parent\"><img src=\"https://colab.research.google.com/assets/colab-badge.svg\" alt=\"Open In Colab\"/></a>"
      ]
    },
    {
      "cell_type": "markdown",
      "metadata": {
        "id": "A5LqYzflne0s"
      },
      "source": [
        "# 메소드 활용"
      ]
    },
    {
      "cell_type": "markdown",
      "metadata": {
        "id": "G4TDHIU6ni_V"
      },
      "source": [
        "## rjust(width, [fillchar])\n",
        "- 원하는 문자 따로 지정하고, 다른 문자열로 앞부분 채우기"
      ]
    },
    {
      "cell_type": "code",
      "metadata": {
        "colab": {
          "base_uri": "https://localhost:8080/"
        },
        "id": "ugiNVfJ-naJ-",
        "outputId": "8b02526f-6455-4502-f7c3-12a430e68417"
      },
      "source": [
        "print(\"2\".rjust(3,\"0\"))"
      ],
      "execution_count": null,
      "outputs": [
        {
          "output_type": "stream",
          "text": [
            "002\n"
          ],
          "name": "stdout"
        }
      ]
    },
    {
      "cell_type": "code",
      "metadata": {
        "colab": {
          "base_uri": "https://localhost:8080/"
        },
        "id": "5HPxufXnnvLk",
        "outputId": "58fcc73c-5709-41b4-c173-8ff9131836b6"
      },
      "source": [
        "print(\"50000\".rjust(5,\"0\"))"
      ],
      "execution_count": null,
      "outputs": [
        {
          "output_type": "stream",
          "text": [
            "50000\n"
          ],
          "name": "stdout"
        }
      ]
    },
    {
      "cell_type": "code",
      "metadata": {
        "colab": {
          "base_uri": "https://localhost:8080/"
        },
        "id": "GwbQDLkGn08v",
        "outputId": "139af8dd-afa8-496f-b86f-6b1ae2865661"
      },
      "source": [
        "print(\"123\".rjust(5,\"0\"))"
      ],
      "execution_count": null,
      "outputs": [
        {
          "output_type": "stream",
          "text": [
            "00123\n"
          ],
          "name": "stdout"
        }
      ]
    },
    {
      "cell_type": "code",
      "metadata": {
        "colab": {
          "base_uri": "https://localhost:8080/"
        },
        "id": "Gq5UyoaKn2QD",
        "outputId": "7af80d79-2090-4f82-fbdd-b7ed31c192cd"
      },
      "source": [
        "print(\"123\".rjust(5,\"a\"))"
      ],
      "execution_count": null,
      "outputs": [
        {
          "output_type": "stream",
          "text": [
            "aa123\n"
          ],
          "name": "stdout"
        }
      ]
    },
    {
      "cell_type": "markdown",
      "metadata": {
        "id": "eqORLK5SoKsF"
      },
      "source": [
        "### zfill(width)\n",
        "- 0으로 채우기"
      ]
    },
    {
      "cell_type": "code",
      "metadata": {
        "colab": {
          "base_uri": "https://localhost:8080/"
        },
        "id": "-BIAZJmfoO9Z",
        "outputId": "fc3bc71b-1c48-4ece-f7fa-a5c61b3ec890"
      },
      "source": [
        "print(\"2\".zfill(3))"
      ],
      "execution_count": null,
      "outputs": [
        {
          "output_type": "stream",
          "text": [
            "002\n"
          ],
          "name": "stdout"
        }
      ]
    },
    {
      "cell_type": "code",
      "metadata": {
        "colab": {
          "base_uri": "https://localhost:8080/"
        },
        "id": "cNxlt7xnoWV6",
        "outputId": "106ddeb1-2d84-4fc2-962c-dba94eab6c62"
      },
      "source": [
        "print(\"50000\".zfill(5))"
      ],
      "execution_count": null,
      "outputs": [
        {
          "output_type": "stream",
          "text": [
            "50000\n"
          ],
          "name": "stdout"
        }
      ]
    },
    {
      "cell_type": "code",
      "metadata": {
        "colab": {
          "base_uri": "https://localhost:8080/"
        },
        "id": "1e75kSr5oYkO",
        "outputId": "07b5cf9e-f914-4bac-f08f-6133d1acd7dd"
      },
      "source": [
        "print(\"123\".zfill(5))"
      ],
      "execution_count": null,
      "outputs": [
        {
          "output_type": "stream",
          "text": [
            "00123\n"
          ],
          "name": "stdout"
        }
      ]
    },
    {
      "cell_type": "markdown",
      "metadata": {
        "id": "tU-tI3EZoj-h"
      },
      "source": [
        "### split\n",
        "- 문자 리스트로 쪼개기"
      ]
    },
    {
      "cell_type": "code",
      "metadata": {
        "colab": {
          "base_uri": "https://localhost:8080/"
        },
        "id": "0h33irnuojKz",
        "outputId": "dab6391a-57c2-46ec-d742-2e1183f6c9d2"
      },
      "source": [
        "string_ = \"Hello, I am Jack and I am a data scientist\"\n",
        "print(string_)\n",
        "print(string_[1])"
      ],
      "execution_count": null,
      "outputs": [
        {
          "output_type": "stream",
          "text": [
            "Hello, I am Jack and I am a data scientist\n",
            "e\n"
          ],
          "name": "stdout"
        }
      ]
    },
    {
      "cell_type": "code",
      "metadata": {
        "colab": {
          "base_uri": "https://localhost:8080/"
        },
        "id": "DcnXhqqHooIs",
        "outputId": "80f0fe55-6764-4d8c-e1f4-f012999d7cdc"
      },
      "source": [
        "string_list = string_.split(\" \")\n",
        "string_list"
      ],
      "execution_count": null,
      "outputs": [
        {
          "output_type": "execute_result",
          "data": {
            "text/plain": [
              "['Hello,', 'I', 'am', 'Jack', 'and', 'I', 'am', 'a', 'data', 'scientist']"
            ]
          },
          "metadata": {
            "tags": []
          },
          "execution_count": 18
        }
      ]
    },
    {
      "cell_type": "markdown",
      "metadata": {
        "id": "pKOvtB9Kpc_x"
      },
      "source": [
        "### startswith, endswith"
      ]
    },
    {
      "cell_type": "code",
      "metadata": {
        "colab": {
          "base_uri": "https://localhost:8080/"
        },
        "id": "RRc8PnOuo6T3",
        "outputId": "e7af1def-723a-4235-b2cf-779ba50d7daa"
      },
      "source": [
        "string_.startswith('Hello')"
      ],
      "execution_count": null,
      "outputs": [
        {
          "output_type": "execute_result",
          "data": {
            "text/plain": [
              "True"
            ]
          },
          "metadata": {
            "tags": []
          },
          "execution_count": 20
        }
      ]
    },
    {
      "cell_type": "code",
      "metadata": {
        "colab": {
          "base_uri": "https://localhost:8080/"
        },
        "id": "A0yYFXFEpFLp",
        "outputId": "489b3820-9e85-4118-a824-42aa7a4b2a09"
      },
      "source": [
        "string_.endswith('scientist')"
      ],
      "execution_count": null,
      "outputs": [
        {
          "output_type": "execute_result",
          "data": {
            "text/plain": [
              "True"
            ]
          },
          "metadata": {
            "tags": []
          },
          "execution_count": 21
        }
      ]
    },
    {
      "cell_type": "code",
      "metadata": {
        "colab": {
          "base_uri": "https://localhost:8080/"
        },
        "id": "_pE-ceqZpYXF",
        "outputId": "caf3369c-4a90-4015-833c-6a39b60f0982"
      },
      "source": [
        "string_.endswith('tist')"
      ],
      "execution_count": null,
      "outputs": [
        {
          "output_type": "execute_result",
          "data": {
            "text/plain": [
              "True"
            ]
          },
          "metadata": {
            "tags": []
          },
          "execution_count": 22
        }
      ]
    },
    {
      "cell_type": "code",
      "metadata": {
        "colab": {
          "base_uri": "https://localhost:8080/"
        },
        "id": "8oHHT9ErpaPd",
        "outputId": "2f0a3b7c-00b8-44c3-8d47-027cca285e0f"
      },
      "source": [
        "string_.startswith('I')"
      ],
      "execution_count": null,
      "outputs": [
        {
          "output_type": "execute_result",
          "data": {
            "text/plain": [
              "False"
            ]
          },
          "metadata": {
            "tags": []
          },
          "execution_count": 23
        }
      ]
    },
    {
      "cell_type": "markdown",
      "metadata": {
        "id": "gZ0OiUSXprzV"
      },
      "source": [
        "### replace"
      ]
    },
    {
      "cell_type": "code",
      "metadata": {
        "colab": {
          "base_uri": "https://localhost:8080/"
        },
        "id": "lDlDYAKopj4d",
        "outputId": "702d3921-f25f-4b7c-c355-8f12cbdd2c5f"
      },
      "source": [
        "print(string_.replace(\"Jack\", \"John\"))\n",
        "print(string_)"
      ],
      "execution_count": null,
      "outputs": [
        {
          "output_type": "stream",
          "text": [
            "Hello, I am John and I am a data scientist\n",
            "Hello, I am Jack and I am a data scientist\n"
          ],
          "name": "stdout"
        }
      ]
    },
    {
      "cell_type": "code",
      "metadata": {
        "colab": {
          "base_uri": "https://localhost:8080/"
        },
        "id": "6z6y2s3GppGq",
        "outputId": "0b03e334-f407-476c-9934-6a55a24fa19c"
      },
      "source": [
        "print(string_.replace(\"I am\", \"Me is\", 1))\n",
        "print(string_)"
      ],
      "execution_count": null,
      "outputs": [
        {
          "output_type": "stream",
          "text": [
            "Hello, Me is Jack and I am a data scientist\n",
            "Hello, I am Jack and I am a data scientist\n"
          ],
          "name": "stdout"
        }
      ]
    },
    {
      "cell_type": "markdown",
      "metadata": {
        "id": "GZb4pQgMpXjo"
      },
      "source": [
        "### copy"
      ]
    },
    {
      "cell_type": "code",
      "metadata": {
        "colab": {
          "base_uri": "https://localhost:8080/"
        },
        "id": "AFiJX6LkpY2t",
        "outputId": "60dd4e7a-9b8e-46dc-9ce3-8fe05888f168"
      },
      "source": [
        "a = {'a': 5, 'b': 4, 'c': 8}\n",
        "b = a\n",
        "del b['a']\n",
        "print(b)\n",
        "print(a)"
      ],
      "execution_count": 1,
      "outputs": [
        {
          "output_type": "stream",
          "text": [
            "{'b': 4, 'c': 8}\n",
            "{'b': 4, 'c': 8}\n"
          ],
          "name": "stdout"
        }
      ]
    },
    {
      "cell_type": "code",
      "metadata": {
        "colab": {
          "base_uri": "https://localhost:8080/"
        },
        "id": "gMtwgofupcZu",
        "outputId": "8fe7c26f-3840-495d-c98d-b69cb1222593"
      },
      "source": [
        "a = {'a': 5, 'b': 4, 'c': 8}\n",
        "b = a.copy()\n",
        "del b['a']\n",
        "print(b)\n",
        "print(a)"
      ],
      "execution_count": 2,
      "outputs": [
        {
          "output_type": "stream",
          "text": [
            "{'b': 4, 'c': 8}\n",
            "{'a': 5, 'b': 4, 'c': 8}\n"
          ],
          "name": "stdout"
        }
      ]
    },
    {
      "cell_type": "code",
      "metadata": {
        "colab": {
          "base_uri": "https://localhost:8080/"
        },
        "id": "FwxYN9sspgHa",
        "outputId": "f6c1df73-2fb7-4990-8774-940399d5a236"
      },
      "source": [
        "import copy\n",
        "a = {'a': 5, 'b': 4, 'c': 8}\n",
        "b = copy.copy(a)\n",
        "del b['a']\n",
        "print(b)\n",
        "print(a)"
      ],
      "execution_count": 3,
      "outputs": [
        {
          "output_type": "stream",
          "text": [
            "{'b': 4, 'c': 8}\n",
            "{'a': 5, 'b': 4, 'c': 8}\n"
          ],
          "name": "stdout"
        }
      ]
    },
    {
      "cell_type": "code",
      "metadata": {
        "colab": {
          "base_uri": "https://localhost:8080/"
        },
        "id": "jHgDxj6qpiOo",
        "outputId": "c551d8df-de48-4708-fb52-cfd4e0cf34f4"
      },
      "source": [
        "# 얕은 카피와 깊은 카피의 차이\n",
        "\n",
        "import copy\n",
        "list_var = [[1,2],[3,4]]\n",
        "list_var_deepcopy = copy.deepcopy(list_var)\n",
        "list_var_copy = list_var.copy()\n",
        "\n",
        "list_var[1].append(5)\n",
        "\n",
        "print(list_var)  # 원래 변수\n",
        "\n",
        "print(list_var_deepcopy)  # deepcopy : append와 같은 메소드를 써도 값이 변경되지 않음\n",
        "\n",
        "print(list_var_copy)  # copy : 원본이 변경되었으므로 함께 변경됨"
      ],
      "execution_count": 5,
      "outputs": [
        {
          "output_type": "stream",
          "text": [
            "[[1, 2], [3, 4, 5]]\n",
            "[[1, 2], [3, 4]]\n",
            "[[1, 2], [3, 4, 5]]\n"
          ],
          "name": "stdout"
        }
      ]
    }
  ]
}