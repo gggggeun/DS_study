{
  "nbformat": 4,
  "nbformat_minor": 0,
  "metadata": {
    "colab": {
      "name": "Scikit-learn 라이브러리와 프레임워크  .ipynb",
      "provenance": [],
      "authorship_tag": "ABX9TyPXl5B2mqigEfk+Pv3UNbYU",
      "include_colab_link": true
    },
    "kernelspec": {
      "name": "python3",
      "display_name": "Python 3"
    }
  },
  "cells": [
    {
      "cell_type": "markdown",
      "metadata": {
        "id": "view-in-github",
        "colab_type": "text"
      },
      "source": [
        "<a href=\"https://colab.research.google.com/github/gggggeun/study/blob/main/Scikit_learn_%EB%9D%BC%EC%9D%B4%EB%B8%8C%EB%9F%AC%EB%A6%AC%EC%99%80_%ED%94%84%EB%A0%88%EC%9E%84%EC%9B%8C%ED%81%AC_.ipynb\" target=\"_parent\"><img src=\"https://colab.research.google.com/assets/colab-badge.svg\" alt=\"Open In Colab\"/></a>"
      ]
    },
    {
      "cell_type": "markdown",
      "metadata": {
        "id": "yY9SsM66LN6k"
      },
      "source": [
        "# Scikit-learn 라이브러리"
      ]
    },
    {
      "cell_type": "markdown",
      "metadata": {
        "id": "UE1x5aOxLN9B"
      },
      "source": [
        "사이킷런은 파이썬 머신러닝 라이브러리 중 가장 많이 또 오래 사용된 라이브러리이다. \r\n",
        "\r\n",
        "파이썬 기반의 머신러닝은 곧 `사이킷런으로 개발하는 것`을 의미할 정도로 세계에서 인정받았다.\r\n",
        "\r\n",
        "머신러닝을 위한 매우 다양한 알고리즘과 개발을 위한 편리한 프레임워크와 API를 제공한다."
      ]
    },
    {
      "cell_type": "markdown",
      "metadata": {
        "id": "Dwkw6Xe4LN_k"
      },
      "source": [
        "## 설치\r\n",
        "Anaconda를 설치하면 기본으로 사이킷런까지 설치가 됩니다. Colab에도 기본으로 내장되어 있습니다. 만일 사이킷런이 제거되어서 다시 설치해야하거나 버전을 새로 설치하려면 pip와 conda 명령어를 통해 사용 가능합니다. \r\n",
        "\r\n",
        "가급적이면 conda로 셋업할 것을 권장합니다. conda를 이용하면 사이킷런 구동에  필요한 numpy나 scipy 등의 다양한 라이브러리를 동시에 설치해 주기 때문입니다."
      ]
    },
    {
      "cell_type": "code",
      "metadata": {
        "id": "Ebodh8lMNje4"
      },
      "source": [
        "# conda\r\n",
        "conda install scikit-learn"
      ],
      "execution_count": null,
      "outputs": []
    },
    {
      "cell_type": "code",
      "metadata": {
        "id": "1nw1f67FNkOd"
      },
      "source": [
        "# pip\r\n",
        "pip install scikit-learn"
      ],
      "execution_count": null,
      "outputs": []
    },
    {
      "cell_type": "code",
      "metadata": {
        "colab": {
          "base_uri": "https://localhost:8080/"
        },
        "id": "NMlBJNE6NkMM",
        "outputId": "fd04bc12-6128-44d6-9262-5d31e4b44cab"
      },
      "source": [
        "# 사이킷런 버전 확인\r\n",
        "import  sklearn\r\n",
        "print(sklearn.__version__)"
      ],
      "execution_count": 1,
      "outputs": [
        {
          "output_type": "stream",
          "text": [
            "0.22.2.post1\n"
          ],
          "name": "stdout"
        }
      ]
    },
    {
      "cell_type": "markdown",
      "metadata": {
        "id": "pN8g5o_VN6BY"
      },
      "source": [
        "## 사이킷런 기반 프레임워크"
      ]
    },
    {
      "cell_type": "markdown",
      "metadata": {
        "id": "k8UBT4ikN_II"
      },
      "source": [
        "### Estimator (scikit-learn class)\r\n",
        "\r\n",
        "사이킷런에서는 분류 알고리즘을 구현한 class를 Classifier로, 회귀 알고리즘을 구현한 class를 Regressor로 지칭합니다. 이 둘을 합쳐 Estimator class 라고 부릅니다. \r\n",
        "\r\n",
        "즉, 지도학습의 모든 알고리즘을 구현한 클래스를 통칭해 Estimator라고 부릅니다. \r\n",
        "\r\n",
        "그리고 사이킷런은 머신러닝 모델 학습을 위해 **fit()**, 학습된 모델 예측을 위해 **predict()** 메서드를 제공합니다. 당연히 Estimator 클래스는 fit과 predict를 내부에 구현하고 있습니다.\r\n",
        "\r\n",
        "cross_val_score()와 같은 evaluation 함수, GridSearchCV와 같은 하이퍼 파라미터 튜닝을 지원하는 클래스의 경우 Estimator를 인자로 받아 함수 내에서 Estimator의 fit()과 predict()를 호출해서 평가를 하거나 하이퍼 파라미터 튜닝을 수행할 수 있습니다.\r\n",
        "\r\n",
        "> Classfier 구현 클래스 \r\n",
        "- DecisionTreeClassifier\r\n",
        "- RandomForestClassifier\r\n",
        "- GradientBoostingClassifier\r\n",
        "- GaussianNB\r\n",
        "- SVC\r\n",
        "\r\n",
        "> Regressor 구현 클래스 \r\n",
        "- LinearRegression\r\n",
        "- Ridge\r\n",
        "- Lasso\r\n",
        "- RandomForestRegressor\r\n",
        "- GradientBoostingRegressor\r\n"
      ]
    },
    {
      "cell_type": "markdown",
      "metadata": {
        "id": "L3JHqhHnRmQ8"
      },
      "source": [
        "사이킷런 비지도 학습의 차원축소, 클러스터링, 피처 추출 등을 구현한 클래스 역시 fit() 과 transform()을 적용하지만, 이것은 지도학습에서의 fit,transform()과 다른 의미입니다.\r\n",
        "\r\n",
        "비지도 학습에서의 fit()은 입력 데이터의 형태에 맞춰 데이터를 변환하기 위한 사전 구조를 맞추는 작업이고, transform은 fit 이후 입력 데이터의 차원 변환, 클러스터랑, 피처 추출 등의 실제 작업을 수행합니다."
      ]
    },
    {
      "cell_type": "markdown",
      "metadata": {
        "id": "RKiKMe3HTE8E"
      },
      "source": [
        "### 사이킷런 주요 모듈\r\n",
        "\r\n",
        "자주쓰이는 핵심 모듈입니다.\r\n",
        "\r\n",
        "일반적으로 머신러닝 모델을 구축하는 주요 프로세스는 피처 처리, ML 알고리즘 학습/예측 수행, 모델 평가의 단계를 반복적으로 수행하는 것 입니다."
      ]
    },
    {
      "cell_type": "code",
      "metadata": {
        "id": "v5ol5zSJTk_v"
      },
      "source": [
        "# 사이킷런 내장 예제 데이터 세트\r\n",
        "sklearn.datasets"
      ],
      "execution_count": null,
      "outputs": []
    },
    {
      "cell_type": "code",
      "metadata": {
        "id": "sHnJOuaVTrdy"
      },
      "source": [
        "# 피처 처리\r\n",
        "sklearn.preprocessing   # 데이터 전처리에 필요한 다양한 가공기능 제공(인코딩,정규화,스케일링)\r\n",
        "sklearn.feature_selection  # 알고리즘에 큰 영향을 미치는 피처를 우선순위대로 설렉션 작업을 수행하는 다양한 기능 제공\r\n",
        "sklearn.feature_extraction # 텍스트 데이터나 이미지 데이터의 벡터화된 피처를 추출하는데 사용\r\n",
        "                           # ex) 텍스트데이터의 Count Vectiorizer, Tf-Idf Vectiorizer 등 생성하는 기능 제공\r\n",
        "sklearn.feature_extraction.text  # 텍스트데이터 피처 추출\r\n",
        "sklearn.feature_extraction.image # 이미지데이터 피처 추출"
      ],
      "execution_count": null,
      "outputs": []
    },
    {
      "cell_type": "code",
      "metadata": {
        "id": "mBJ58q0xUpuX"
      },
      "source": [
        "# 피처 처리 & 차원 축소\r\n",
        "sklearn.decomposition     # 차원축소와 관련한 알고리즘을 지원하는 모듈(PCA,NMF,Truncated SVD 등의 차원축소기능)"
      ],
      "execution_count": null,
      "outputs": []
    },
    {
      "cell_type": "code",
      "metadata": {
        "id": "u7KU24wmU3WW"
      },
      "source": [
        "# 데이터 분리, 검증 & 파라미터 튜닝\r\n",
        "sklearn.model_selection   # 교차 검증을 위한 train/test data 분리, GridSearch로 최적 파라미터 추출 등의 API 제공"
      ],
      "execution_count": null,
      "outputs": []
    },
    {
      "cell_type": "code",
      "metadata": {
        "id": "E_Xog3wEVGgL"
      },
      "source": [
        "# 평가\r\n",
        "sklear.metrics       # 분류, 회귀, 클러스터링, 페어와이즈(Pairwise)에 대한 다양한 성능 측정 방법 제공\r\n",
        "                     # (Accuracy, Precision, Recall, ROC-AUC, RMSE 등)"
      ],
      "execution_count": null,
      "outputs": []
    },
    {
      "cell_type": "code",
      "metadata": {
        "id": "VU1qJ7Y8WEVE"
      },
      "source": [
        "# ML 알고리즘\r\n",
        "sklearn.ensemble     # 앙상블 알고리즘 제공. 랜덤포레스트, 에이다부스트, 그래디언트 부스팅 등을 제공\r\n",
        "sklearn.linear_model # 주로 선형회귀, 릿지(Ridge), 라쏘(Lasso) 및 로지스틱 회귀 등 회귀 관련 알고리즘을 지원. 또한 SGD(Stochastic Gradient Descent) 관련 알고리즘도 제공\r\n",
        "sklearn.naive_bayes  # 나이브 베이즈 알고리즘 제공. 가우시안 NB, 다항분포 NB 등.\r\n",
        "sklearn.neighbors    # 최근접 이웃 알고리즘 제공, K-NN 등\r\n",
        "sklearn.svm          # 서포트 벡터 머신 알고리즘 제공\r\n",
        "sklearn.tree         # 의사 결정 트리 알고리즘 제공\r\n",
        "sklearn.cluster      # 비지도 클러스터링 알고리즘 제공 (K-평균, 계층형,DBSCAN 등)"
      ],
      "execution_count": null,
      "outputs": []
    },
    {
      "cell_type": "code",
      "metadata": {
        "id": "rmi7sk_MWETC"
      },
      "source": [
        "# 유틸리티\r\n",
        "sklearn.pipline      # 피처 처리 등의 변환과 ML알고리즘 학습, 예측 등을 함께 묶어서 실행할 수 있는 유틸리티 제공"
      ],
      "execution_count": null,
      "outputs": []
    }
  ]
}
