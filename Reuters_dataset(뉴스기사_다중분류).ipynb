{
  "nbformat": 4,
  "nbformat_minor": 0,
  "metadata": {
    "colab": {
      "name": "Reuters_dataset(뉴스기사_다중분류).ipynb",
      "provenance": [],
      "authorship_tag": "ABX9TyPFXkdEsa7H1ja9JMy9dyL6",
      "include_colab_link": true
    },
    "kernelspec": {
      "name": "python3",
      "display_name": "Python 3"
    },
    "language_info": {
      "name": "python"
    }
  },
  "cells": [
    {
      "cell_type": "markdown",
      "metadata": {
        "id": "view-in-github",
        "colab_type": "text"
      },
      "source": [
        "<a href=\"https://colab.research.google.com/github/gggggeun/study/blob/main/Reuters_dataset(%EB%89%B4%EC%8A%A4%EA%B8%B0%EC%82%AC_%EB%8B%A4%EC%A4%91%EB%B6%84%EB%A5%98).ipynb\" target=\"_parent\"><img src=\"https://colab.research.google.com/assets/colab-badge.svg\" alt=\"Open In Colab\"/></a>"
      ]
    },
    {
      "cell_type": "markdown",
      "metadata": {
        "id": "eXTD20elMykf"
      },
      "source": [
        "# 뉴스 기사 분류 : 로이터(Reuters) 데이터셋\n",
        "\n",
        "1986년 로이터에서 공개한 짧은 뉴스 기사와 토픽의 집합인 데이터. \n",
        "\n",
        "텍스트 분류를 위해 널리 사용되는 간단한 데이터셋으로 46개의 토픽이 있고 어떤 토픽은 다른 것에 비해 데이터가 많다. \n",
        "\n",
        "각 토픽은 훈련 세트에 최소한 10개의 샘플을 가지고 있다. \n",
        "\n",
        "이 데이터셋은 원본 로이터 데이터셋(135개 토픽) 중 샘플이 많은 것을 뽑아 간단하게 만든 것이다.\n",
        "\n",
        "defalt값으로 8,982개의 훈련 샘플과 2,246개의 테스트 샘플이 있음.\n",
        "\n",
        "IMDB, MNIST와 마친가지로 케라스에 포함되어 있다.\n",
        "\n",
        "IMDB과 마찬가지로 미리 전체 데이터셋의 단어를 고유한 정수 인덱스로 바꾼 후 훈련/테스트 데이터로 나누어 놓았다. "
      ]
    },
    {
      "cell_type": "markdown",
      "metadata": {
        "id": "b0EIyuTSObHb"
      },
      "source": [
        "- 로이터 뉴스를 46개의 상호 배타적인 토픽으로 분류하는 신경망 만들기\n",
        "- 단일 레이블, 다중 분류 문제.(single-label, multiclass classification)\n",
        "- 각 데이터 포인트가 여러 개의 범주(ex.토픽)에 속하면 다중 레이블 다중 분류 문제가 된다."
      ]
    },
    {
      "cell_type": "markdown",
      "metadata": {
        "id": "1uLlzQcQQbZG"
      },
      "source": [
        "## 데이터 불러오기"
      ]
    },
    {
      "cell_type": "code",
      "metadata": {
        "colab": {
          "base_uri": "https://localhost:8080/"
        },
        "id": "Nc1b5fxQOa9R",
        "outputId": "d6555743-353b-4642-9dad-f063373dc26a"
      },
      "source": [
        "from keras.datasets import reuters\n",
        "\n",
        "(train_data, train_labels), (test_data, test_labels) = reuters.load_data(num_words=10000)  #단어 1만개로 제한"
      ],
      "execution_count": 2,
      "outputs": [
        {
          "output_type": "stream",
          "text": [
            "Downloading data from https://storage.googleapis.com/tensorflow/tf-keras-datasets/reuters.npz\n",
            "2113536/2110848 [==============================] - 0s 0us/step\n"
          ],
          "name": "stdout"
        },
        {
          "output_type": "stream",
          "text": [
            "/usr/local/lib/python3.7/dist-packages/tensorflow/python/keras/datasets/reuters.py:148: VisibleDeprecationWarning: Creating an ndarray from ragged nested sequences (which is a list-or-tuple of lists-or-tuples-or ndarrays with different lengths or shapes) is deprecated. If you meant to do this, you must specify 'dtype=object' when creating the ndarray\n",
            "  x_train, y_train = np.array(xs[:idx]), np.array(labels[:idx])\n",
            "/usr/local/lib/python3.7/dist-packages/tensorflow/python/keras/datasets/reuters.py:149: VisibleDeprecationWarning: Creating an ndarray from ragged nested sequences (which is a list-or-tuple of lists-or-tuples-or ndarrays with different lengths or shapes) is deprecated. If you meant to do this, you must specify 'dtype=object' when creating the ndarray\n",
            "  x_test, y_test = np.array(xs[idx:]), np.array(labels[idx:])\n"
          ],
          "name": "stderr"
        }
      ]
    },
    {
      "cell_type": "code",
      "metadata": {
        "colab": {
          "base_uri": "https://localhost:8080/"
        },
        "id": "3H3SW72KMxia",
        "outputId": "2e348dfd-04fd-4fa7-9874-c7261d37f5e1"
      },
      "source": [
        "print(len(train_data))\n",
        "print(len(test_data))"
      ],
      "execution_count": 3,
      "outputs": [
        {
          "output_type": "stream",
          "text": [
            "8982\n",
            "2246\n"
          ],
          "name": "stdout"
        }
      ]
    },
    {
      "cell_type": "code",
      "metadata": {
        "colab": {
          "base_uri": "https://localhost:8080/"
        },
        "id": "gl0N3p5vPQww",
        "outputId": "aa0c5b07-b4d0-488a-827c-b4d8c4e501d6"
      },
      "source": [
        "print(train_data[10])"
      ],
      "execution_count": 4,
      "outputs": [
        {
          "output_type": "stream",
          "text": [
            "[1, 245, 273, 207, 156, 53, 74, 160, 26, 14, 46, 296, 26, 39, 74, 2979, 3554, 14, 46, 4689, 4329, 86, 61, 3499, 4795, 14, 61, 451, 4329, 17, 12]\n"
          ],
          "name": "stdout"
        }
      ]
    },
    {
      "cell_type": "code",
      "metadata": {
        "colab": {
          "base_uri": "https://localhost:8080/"
        },
        "id": "u1AJ455DPceK",
        "outputId": "dedb2df4-d258-4148-a44b-b9ebbf60b03d"
      },
      "source": [
        "# 텍스트로 디코딩하기\n",
        "\n",
        "word_index = reuters.get_word_index()\n",
        "reverse_word_index = dict([(value, key) for (key, value) in word_index.items()])\n",
        "\n",
        "#0,1,2는 '패딩','문서시작','사전에 없음'음 위한 인덱스이므로 3을 뺸다.\n",
        "decoded_newswire = ' '.join([reverse_word_index.get(i-3, '?') for i in train_data[0]]) "
      ],
      "execution_count": 5,
      "outputs": [
        {
          "output_type": "stream",
          "text": [
            "Downloading data from https://storage.googleapis.com/tensorflow/tf-keras-datasets/reuters_word_index.json\n",
            "557056/550378 [==============================] - 0s 0us/step\n"
          ],
          "name": "stdout"
        }
      ]
    },
    {
      "cell_type": "code",
      "metadata": {
        "colab": {
          "base_uri": "https://localhost:8080/",
          "height": 89
        },
        "id": "oZB8yCQ9Db1O",
        "outputId": "7c6bf2ad-f229-4825-8e26-74c48e81df2d"
      },
      "source": [
        "decoded_newswire[15:]"
      ],
      "execution_count": 6,
      "outputs": [
        {
          "output_type": "execute_result",
          "data": {
            "application/vnd.google.colaboratory.intrinsic+json": {
              "type": "string"
            },
            "text/plain": [
              "' result of its december acquisition of space co it expects earnings per share in 1987 of 1 15 to 1 30 dlrs per share up from 70 cts in 1986 the company said pretax net should rise to nine to 10 mln dlrs from six mln dlrs in 1986 and rental operation revenues to 19 to 22 mln dlrs from 12 5 mln dlrs it said cash flow per share this year should be 2 50 to three dlrs reuter 3'"
            ]
          },
          "metadata": {
            "tags": []
          },
          "execution_count": 6
        }
      ]
    },
    {
      "cell_type": "code",
      "metadata": {
        "colab": {
          "base_uri": "https://localhost:8080/"
        },
        "id": "DYi32nx_QSW7",
        "outputId": "ac0fce46-8f1e-4811-9080-4877550dcb2a"
      },
      "source": [
        "# 토픽의 인덱스 (0~45 사이 정수)\n",
        "train_labels[10]"
      ],
      "execution_count": 7,
      "outputs": [
        {
          "output_type": "execute_result",
          "data": {
            "text/plain": [
              "3"
            ]
          },
          "metadata": {
            "tags": []
          },
          "execution_count": 7
        }
      ]
    },
    {
      "cell_type": "code",
      "metadata": {
        "colab": {
          "base_uri": "https://localhost:8080/"
        },
        "id": "TqoudY4G_kOr",
        "outputId": "984a857e-1b46-45df-b3d9-0f8f6337ee58"
      },
      "source": [
        "train_labels.shape"
      ],
      "execution_count": 8,
      "outputs": [
        {
          "output_type": "execute_result",
          "data": {
            "text/plain": [
              "(8982,)"
            ]
          },
          "metadata": {
            "tags": []
          },
          "execution_count": 8
        }
      ]
    },
    {
      "cell_type": "code",
      "metadata": {
        "colab": {
          "base_uri": "https://localhost:8080/"
        },
        "id": "xLhQwupU_ndM",
        "outputId": "6e570bd0-ea12-48f7-a621-6e13c99bb5fb"
      },
      "source": [
        "test_labels.shape"
      ],
      "execution_count": 9,
      "outputs": [
        {
          "output_type": "execute_result",
          "data": {
            "text/plain": [
              "(2246,)"
            ]
          },
          "metadata": {
            "tags": []
          },
          "execution_count": 9
        }
      ]
    },
    {
      "cell_type": "markdown",
      "metadata": {
        "id": "qPCZQQHnQeOW"
      },
      "source": [
        "## 데이터 전처리"
      ]
    },
    {
      "cell_type": "code",
      "metadata": {
        "id": "kREdBa0WQUoe"
      },
      "source": [
        "# 벡터화 : trian/test data는 파이썬 리스트의 넘파이 배열이기 때문에 to_categorical()함수 사용 못함.\n",
        "\n",
        "import numpy as np\n",
        "\n",
        "def vectorize_sequences(sequences, dimension=10000):\n",
        "  results = np.zeros((len(sequences), dimension))  #크기가 (len(sequences), dimension)이고 모든 원소가 0인 행렬을 만든다.\n",
        "  for i, sequence in enumerate(sequences):\n",
        "    results[i, sequence] = 1.  #results[i]에서 특정 인덱스의 위치를 1로 만든다.\n",
        "  return results\n",
        "\n",
        "x_train = vectorize_sequences(train_data)  # 훈련데이터 벡터변환 \n",
        "x_test = vectorize_sequences(test_data)   # 테스트데이터 벡터변환"
      ],
      "execution_count": 10,
      "outputs": []
    },
    {
      "cell_type": "markdown",
      "metadata": {
        "id": "uX0ohdtrQ0uS"
      },
      "source": [
        "레이블을 벡터로 바꾸는 방법 2가지\n",
        "1. 레이블의 리스트를 정수 텐서로 변환\n",
        "2. 원-핫 인코딩(범주형 인코딩, categorical encoding)"
      ]
    },
    {
      "cell_type": "code",
      "metadata": {
        "id": "D0eCOGdPQqVr"
      },
      "source": [
        "# 각 레이블의 인덱스자리는 1이고 나머지는 0인 벡터로 변환\n",
        "from keras.utils.np_utils import to_categorical\n",
        "\n",
        "one_hot_train_labels = to_categorical(train_labels)\n",
        "one_hot_test_labels = to_categorical(test_labels)"
      ],
      "execution_count": 11,
      "outputs": []
    },
    {
      "cell_type": "code",
      "metadata": {
        "colab": {
          "base_uri": "https://localhost:8080/"
        },
        "id": "jxY3hWFT_60V",
        "outputId": "ee7ebcc6-5ca5-4a08-dc76-8e74cc2aa194"
      },
      "source": [
        "one_hot_train_labels.shape"
      ],
      "execution_count": 12,
      "outputs": [
        {
          "output_type": "execute_result",
          "data": {
            "text/plain": [
              "(8982, 46)"
            ]
          },
          "metadata": {
            "tags": []
          },
          "execution_count": 12
        }
      ]
    },
    {
      "cell_type": "code",
      "metadata": {
        "colab": {
          "base_uri": "https://localhost:8080/"
        },
        "id": "z1PNW-7U_-UF",
        "outputId": "d8d17271-c1c0-4a64-9ce5-66411bd15490"
      },
      "source": [
        "one_hot_test_labels.shape"
      ],
      "execution_count": 13,
      "outputs": [
        {
          "output_type": "execute_result",
          "data": {
            "text/plain": [
              "(2246, 46)"
            ]
          },
          "metadata": {
            "tags": []
          },
          "execution_count": 13
        }
      ]
    },
    {
      "cell_type": "markdown",
      "metadata": {
        "id": "u9hgBFC4SqQ7"
      },
      "source": [
        "## 모델 구성\n",
        "\n",
        "IMDB와 마찬가지로 짧은 텍스트를 분류하는 문제이다. 여기에서는 새로운 제약 사항이 추가되었는데, 출력 클래스의 개수가 2개에서 46개로 늘어난 점이다.\n",
        "\n",
        "IMDB는 출력의 차원이 작아 16차원을 가진 중간층을 사용할 수 있었지만, 여기에서 16차원 공간은 46개의 클래스를 구분하기에 너무 제약이 많다. 이렇게 규모가 작은 층은 유용한 정보를 완전히 잃게 되는 정보의 병목 지점처럼 동작할 수도 있다.\n",
        "\n",
        "그런 이유로 좀 더 규모가 큰 층을 사용해야한다. (64개 유닛)"
      ]
    },
    {
      "cell_type": "code",
      "metadata": {
        "id": "-Cj79flnSovc"
      },
      "source": [
        "from keras import models\n",
        "from keras import layers\n",
        "\n",
        "model = models.Sequential()\n",
        "model.add(layers.Dense(64, activation='relu', input_shape=(10000,)))\n",
        "model.add(layers.Dense(64, activation='relu'))\n",
        "model.add(layers.Dense(46, activation='softmax'))"
      ],
      "execution_count": 14,
      "outputs": []
    },
    {
      "cell_type": "markdown",
      "metadata": {
        "id": "Tz7AtaqdUoY8"
      },
      "source": [
        "여기서 주목할점\n",
        "- 마지막 Dense 층 크기 = 46(출력값). 각 입력 샘플에 대해 46차원의 벡터를 출력한다는 뜻. 이 벡터의 각 원소(차원)는 각기 다른 출력 클래스가 인코딩된 것이다.\n",
        "- 마지막 층 softmax 활성화 함수. 각 입력 샘플마다 46개의 출력 클래스에 대한 확률 분포를 출력함. 즉 46차원의 출력 벡터를 만들며 output[i]는 어떤 샘플이 클래스 i에 속할 확률이다. 값은 모두 확률이며 46개의 값을 모두 더하면 1이 된다.\n",
        "- 이런 문제에 사용할 최선의 loss_function은 categorical_crossentropy이다. 이 함수는 두 확률 분포 사이의 거리를 측정한다. 여기에서는 네트워크가 출력한 확률 분포와 진짜 레이블의 분포 사이의 거리를 측정한다. 두 분포 사이의 거리를 최소화하면 진짜 레이블에 가능한 가까운 출력을 내도록 모델을 훈련하게 된다."
      ]
    },
    {
      "cell_type": "code",
      "metadata": {
        "id": "Il3Cct_IUncV"
      },
      "source": [
        "model.compile(optimizer='rmsprop',\n",
        "              loss = 'categorical_crossentropy',\n",
        "              metrics=['accuracy'])"
      ],
      "execution_count": 15,
      "outputs": []
    },
    {
      "cell_type": "markdown",
      "metadata": {
        "id": "6opeafxXVu4h"
      },
      "source": [
        "## 훈련 검증\n",
        "훈련 데이터에서 1000개의 샘플을 검증 세트로 사용\n",
        "\n"
      ]
    },
    {
      "cell_type": "code",
      "metadata": {
        "id": "untrx4S_VuPZ"
      },
      "source": [
        "x_val = x_train[:1000]\n",
        "partial_x_train = x_train[1000:]\n",
        "\n",
        "y_val = one_hot_train_labels[:1000]\n",
        "partial_y_train = one_hot_train_labels[1000:]"
      ],
      "execution_count": 16,
      "outputs": []
    },
    {
      "cell_type": "code",
      "metadata": {
        "colab": {
          "base_uri": "https://localhost:8080/"
        },
        "id": "27j4bVXlWGBN",
        "outputId": "ce6670d4-e06b-4134-ba44-dda42ef75fd5"
      },
      "source": [
        "#epochs =20\n",
        "\n",
        "history = model.fit(partial_x_train,\n",
        "                    partial_y_train,\n",
        "                    epochs=20,\n",
        "                    batch_size=512,\n",
        "                    validation_data=(x_val, y_val))"
      ],
      "execution_count": 17,
      "outputs": [
        {
          "output_type": "stream",
          "text": [
            "Epoch 1/20\n",
            "16/16 [==============================] - 2s 95ms/step - loss: 3.1448 - accuracy: 0.3856 - val_loss: 1.7179 - val_accuracy: 0.6390\n",
            "Epoch 2/20\n",
            "16/16 [==============================] - 1s 65ms/step - loss: 1.5010 - accuracy: 0.6860 - val_loss: 1.3030 - val_accuracy: 0.7100\n",
            "Epoch 3/20\n",
            "16/16 [==============================] - 1s 63ms/step - loss: 1.0641 - accuracy: 0.7704 - val_loss: 1.1418 - val_accuracy: 0.7560\n",
            "Epoch 4/20\n",
            "16/16 [==============================] - 1s 60ms/step - loss: 0.8497 - accuracy: 0.8232 - val_loss: 1.0477 - val_accuracy: 0.7780\n",
            "Epoch 5/20\n",
            "16/16 [==============================] - 1s 64ms/step - loss: 0.6619 - accuracy: 0.8664 - val_loss: 0.9871 - val_accuracy: 0.7870\n",
            "Epoch 6/20\n",
            "16/16 [==============================] - 1s 63ms/step - loss: 0.5605 - accuracy: 0.8877 - val_loss: 0.9686 - val_accuracy: 0.7950\n",
            "Epoch 7/20\n",
            "16/16 [==============================] - 1s 64ms/step - loss: 0.4324 - accuracy: 0.9129 - val_loss: 0.9134 - val_accuracy: 0.8060\n",
            "Epoch 8/20\n",
            "16/16 [==============================] - 1s 63ms/step - loss: 0.3503 - accuracy: 0.9288 - val_loss: 0.9067 - val_accuracy: 0.8030\n",
            "Epoch 9/20\n",
            "16/16 [==============================] - 1s 63ms/step - loss: 0.2770 - accuracy: 0.9419 - val_loss: 0.8863 - val_accuracy: 0.8090\n",
            "Epoch 10/20\n",
            "16/16 [==============================] - 1s 55ms/step - loss: 0.2230 - accuracy: 0.9558 - val_loss: 0.9403 - val_accuracy: 0.7960\n",
            "Epoch 11/20\n",
            "16/16 [==============================] - 1s 57ms/step - loss: 0.2029 - accuracy: 0.9534 - val_loss: 0.9335 - val_accuracy: 0.8140\n",
            "Epoch 12/20\n",
            "16/16 [==============================] - 1s 62ms/step - loss: 0.1662 - accuracy: 0.9589 - val_loss: 0.9539 - val_accuracy: 0.8020\n",
            "Epoch 13/20\n",
            "16/16 [==============================] - 1s 57ms/step - loss: 0.1582 - accuracy: 0.9554 - val_loss: 0.9485 - val_accuracy: 0.8140\n",
            "Epoch 14/20\n",
            "16/16 [==============================] - 1s 54ms/step - loss: 0.1465 - accuracy: 0.9566 - val_loss: 1.0311 - val_accuracy: 0.8000\n",
            "Epoch 15/20\n",
            "16/16 [==============================] - 1s 60ms/step - loss: 0.1369 - accuracy: 0.9564 - val_loss: 0.9899 - val_accuracy: 0.8100\n",
            "Epoch 16/20\n",
            "16/16 [==============================] - 1s 53ms/step - loss: 0.1215 - accuracy: 0.9621 - val_loss: 1.0431 - val_accuracy: 0.7920\n",
            "Epoch 17/20\n",
            "16/16 [==============================] - 1s 63ms/step - loss: 0.1107 - accuracy: 0.9621 - val_loss: 1.0298 - val_accuracy: 0.8080\n",
            "Epoch 18/20\n",
            "16/16 [==============================] - 1s 62ms/step - loss: 0.1072 - accuracy: 0.9637 - val_loss: 1.0211 - val_accuracy: 0.8100\n",
            "Epoch 19/20\n",
            "16/16 [==============================] - 1s 64ms/step - loss: 0.1077 - accuracy: 0.9582 - val_loss: 1.0527 - val_accuracy: 0.8050\n",
            "Epoch 20/20\n",
            "16/16 [==============================] - 1s 61ms/step - loss: 0.1077 - accuracy: 0.9590 - val_loss: 1.0760 - val_accuracy: 0.8100\n"
          ],
          "name": "stdout"
        }
      ]
    },
    {
      "cell_type": "code",
      "metadata": {
        "colab": {
          "base_uri": "https://localhost:8080/",
          "height": 295
        },
        "id": "hKCwdGtR_amu",
        "outputId": "f606f0e1-b662-4577-f3bd-7add77953712"
      },
      "source": [
        "import matplotlib.pyplot as plt\n",
        "\n",
        "loss = history.history['loss']\n",
        "val_loss =history.history['val_loss']\n",
        "\n",
        "epochs = range(1, len(loss) +1 )\n",
        "\n",
        "plt.plot(epochs, loss, 'bo', label='Training loss')\n",
        "plt.plot(epochs, val_loss, 'b', label='Validation loss')\n",
        "plt.title('Training and validation loss')\n",
        "plt.xlabel('Epochs')\n",
        "plt.ylabel('Loss')\n",
        "plt.legend()\n",
        "\n",
        "plt.show()"
      ],
      "execution_count": 18,
      "outputs": [
        {
          "output_type": "display_data",
          "data": {
            "image/png": "[encoded data removed]",
            "text/plain": [
              "<Figure size 432x288 with 1 Axes>"
            ]
          },
          "metadata": {
            "tags": [],
            "needs_background": "light"
          }
        }
      ]
    },
    {
      "cell_type": "code",
      "metadata": {
        "colab": {
          "base_uri": "https://localhost:8080/",
          "height": 295
        },
        "id": "8Yf0TuhCA4rx",
        "outputId": "0d88f041-6ac2-469e-fbb7-3e059ad651e1"
      },
      "source": [
        "plt.clf()\n",
        "\n",
        "acc = history.history['accuracy']\n",
        "val_acc = history.history['val_accuracy']\n",
        "\n",
        "plt.plot(epochs, acc, 'bp', label='Training acc')\n",
        "plt.plot(epochs, val_acc, 'b', label='Validation acc')\n",
        "plt.title('Training and validation accuracy')\n",
        "plt.xlabel('Epochs')\n",
        "plt.ylabel('Accuracy')\n",
        "plt.legend()\n",
        "\n",
        "plt.show()"
      ],
      "execution_count": 19,
      "outputs": [
        {
          "output_type": "display_data",
          "data": {
            "image/png": "[encoded data removed]",
            "text/plain": [
              "<Figure size 432x288 with 1 Axes>"
            ]
          },
          "metadata": {
            "tags": [],
            "needs_background": "light"
          }
        }
      ]
    },
    {
      "cell_type": "markdown",
      "metadata": {
        "id": "b673zG30BiKw"
      },
      "source": [
        "ephochs = 9 로 바꾸기"
      ]
    },
    {
      "cell_type": "code",
      "metadata": {
        "colab": {
          "base_uri": "https://localhost:8080/"
        },
        "id": "By8e4xTSBVAL",
        "outputId": "b255d0f3-7811-441e-e682-a78db0f4ab18"
      },
      "source": [
        "model = models.Sequential()\n",
        "model.add(layers.Dense(64, activation='relu', input_shape=(10000,)))\n",
        "model.add(layers.Dense(64, activation='relu'))\n",
        "model.add(layers.Dense(46, activation='softmax'))\n",
        "\n",
        "model.compile(optimizer='rmsprop',\n",
        "              loss = 'categorical_crossentropy',\n",
        "              metrics=['accuracy'])\n",
        "\n",
        "model.fit(partial_x_train,\n",
        "         partial_y_train,\n",
        "         epochs=9,\n",
        "         batch_size=512,\n",
        "         validation_data=(x_val, y_val))\n",
        "results = model.evaluate(x_test, one_hot_test_labels)"
      ],
      "execution_count": 20,
      "outputs": [
        {
          "output_type": "stream",
          "text": [
            "Epoch 1/9\n",
            "16/16 [==============================] - 2s 80ms/step - loss: 3.1071 - accuracy: 0.4201 - val_loss: 1.6884 - val_accuracy: 0.6410\n",
            "Epoch 2/9\n",
            "16/16 [==============================] - 1s 62ms/step - loss: 1.4786 - accuracy: 0.6960 - val_loss: 1.3164 - val_accuracy: 0.7160\n",
            "Epoch 3/9\n",
            "16/16 [==============================] - 1s 66ms/step - loss: 1.0681 - accuracy: 0.7770 - val_loss: 1.1240 - val_accuracy: 0.7660\n",
            "Epoch 4/9\n",
            "16/16 [==============================] - 1s 62ms/step - loss: 0.8250 - accuracy: 0.8230 - val_loss: 1.0344 - val_accuracy: 0.7900\n",
            "Epoch 5/9\n",
            "16/16 [==============================] - 1s 63ms/step - loss: 0.6649 - accuracy: 0.8578 - val_loss: 0.9876 - val_accuracy: 0.7820\n",
            "Epoch 6/9\n",
            "16/16 [==============================] - 1s 62ms/step - loss: 0.5286 - accuracy: 0.8910 - val_loss: 0.9258 - val_accuracy: 0.8130\n",
            "Epoch 7/9\n",
            "16/16 [==============================] - 1s 61ms/step - loss: 0.4248 - accuracy: 0.9144 - val_loss: 0.9174 - val_accuracy: 0.8130\n",
            "Epoch 8/9\n",
            "16/16 [==============================] - 1s 62ms/step - loss: 0.3414 - accuracy: 0.9340 - val_loss: 0.8923 - val_accuracy: 0.8270\n",
            "Epoch 9/9\n",
            "16/16 [==============================] - 1s 60ms/step - loss: 0.2824 - accuracy: 0.9380 - val_loss: 0.9054 - val_accuracy: 0.8160\n",
            "71/71 [==============================] - 0s 4ms/step - loss: 0.9870 - accuracy: 0.7867\n"
          ],
          "name": "stdout"
        }
      ]
    },
    {
      "cell_type": "code",
      "metadata": {
        "colab": {
          "base_uri": "https://localhost:8080/"
        },
        "id": "7uW0S_sHCTfY",
        "outputId": "4f210dca-054c-47d0-a7ab-94989b61aa55"
      },
      "source": [
        "results"
      ],
      "execution_count": 21,
      "outputs": [
        {
          "output_type": "execute_result",
          "data": {
            "text/plain": [
              "[0.9870482683181763, 0.7867319583892822]"
            ]
          },
          "metadata": {
            "tags": []
          },
          "execution_count": 21
        }
      ]
    },
    {
      "cell_type": "markdown",
      "metadata": {
        "id": "fkTg_PclCcSe"
      },
      "source": [
        "정확도 78%.\n",
        "\n",
        "균형 잡힌 이진 분류 문제에서 완전히 무작위로 분류하면 50%의 정확도를 달성한다.\n",
        "이 문제는 불균형한 데이터셋을 사용하므로 무작위로 분류하면 18% 정도를 달성한다."
      ]
    },
    {
      "cell_type": "code",
      "metadata": {
        "colab": {
          "base_uri": "https://localhost:8080/"
        },
        "id": "XxFM9eHjCXJ1",
        "outputId": "350c09cc-2652-422c-b31a-083e25dfc6c9"
      },
      "source": [
        "import copy\n",
        "test_labels_copy = copy.copy(test_labels)\n",
        "np.random.shuffle(test_labels_copy)\n",
        "hits_array = np.array(test_labels) == np.array(test_labels_copy)\n",
        "float(np.sum(hits_array)) / len(test_labels)"
      ],
      "execution_count": 22,
      "outputs": [
        {
          "output_type": "execute_result",
          "data": {
            "text/plain": [
              "0.18833481745325023"
            ]
          },
          "metadata": {
            "tags": []
          },
          "execution_count": 22
        }
      ]
    },
    {
      "cell_type": "markdown",
      "metadata": {
        "id": "KOYEHYR6D9G9"
      },
      "source": [
        "## 새로운 데이터에 대해 예측하기"
      ]
    },
    {
      "cell_type": "code",
      "metadata": {
        "id": "mSNFNeW8C-9b"
      },
      "source": [
        "predictions = model.predict(x_test)"
      ],
      "execution_count": 23,
      "outputs": []
    },
    {
      "cell_type": "code",
      "metadata": {
        "colab": {
          "base_uri": "https://localhost:8080/"
        },
        "id": "HGLRO-34ED2_",
        "outputId": "aac89b5f-e796-451c-f321-75eb4f10004e"
      },
      "source": [
        "predictions[0].shape"
      ],
      "execution_count": 24,
      "outputs": [
        {
          "output_type": "execute_result",
          "data": {
            "text/plain": [
              "(46,)"
            ]
          },
          "metadata": {
            "tags": []
          },
          "execution_count": 24
        }
      ]
    },
    {
      "cell_type": "code",
      "metadata": {
        "colab": {
          "base_uri": "https://localhost:8080/"
        },
        "id": "vU15rNbtEGKI",
        "outputId": "d545c20b-a0fc-4c39-d074-859259ed1184"
      },
      "source": [
        "# 벡터의 원소 합 =1\n",
        "np.sum(predictions[0])"
      ],
      "execution_count": 25,
      "outputs": [
        {
          "output_type": "execute_result",
          "data": {
            "text/plain": [
              "1.0"
            ]
          },
          "metadata": {
            "tags": []
          },
          "execution_count": 25
        }
      ]
    },
    {
      "cell_type": "code",
      "metadata": {
        "colab": {
          "base_uri": "https://localhost:8080/"
        },
        "id": "FZctn6WpB3QR",
        "outputId": "ab4cc69d-8d55-4853-c5aa-295ce546f029"
      },
      "source": [
        "# 가장 확률이 높은 클래스\n",
        "np.argmax(predictions[0])"
      ],
      "execution_count": 26,
      "outputs": [
        {
          "output_type": "execute_result",
          "data": {
            "text/plain": [
              "3"
            ]
          },
          "metadata": {
            "tags": []
          },
          "execution_count": 26
        }
      ]
    },
    {
      "cell_type": "markdown",
      "metadata": {
        "id": "PYWCYXy7CO60"
      },
      "source": [
        "## 레이블과 손실을 다루는 다른 방법\n",
        "\n",
        "레이블 인코딩 또 다른 방법 : 정수 텐서로 변환\n",
        "\n",
        "정수 레이블을 사용할 경우는 sparse_categorical_crossentropy를 사용할 수 있음.\n",
        "(원핫인코딩 사용 시 categorical_crossentropy를 사용했음.)"
      ]
    },
    {
      "cell_type": "code",
      "metadata": {
        "id": "JnhqI7PSCLPy"
      },
      "source": [
        "y_train = np.array(train_labels)\n",
        "y_test = np.array(test_labels)"
      ],
      "execution_count": 28,
      "outputs": []
    },
    {
      "cell_type": "code",
      "metadata": {
        "id": "3sEEpHfICoeJ"
      },
      "source": [
        "model.compile(optimizer=\"rmsprop\",\n",
        "             loss = 'sparse_categorical_crossentropy',\n",
        "             metrics=['acc'])"
      ],
      "execution_count": 31,
      "outputs": []
    },
    {
      "cell_type": "markdown",
      "metadata": {
        "id": "TSDNyqisDVTJ"
      },
      "source": [
        "## 충분히 큰 중간층을 두어야 하는 이유\n",
        "\n",
        "앞서 언급한 것처럼 마지막 출력이 46차원이기 때문에 중간층의 히든 유닛이 46개보다 많이 적어서는 안된다.  46차원보다 훨씬 작은 중간층(ex.4차원)을 두면 정보의 병목이 어떻게 나타나는지 확인해보자."
      ]
    },
    {
      "cell_type": "code",
      "metadata": {
        "colab": {
          "base_uri": "https://localhost:8080/"
        },
        "id": "QaLtsa04DMgX",
        "outputId": "0f1abb9c-3e50-44a8-dded-297bae1430f4"
      },
      "source": [
        "model = models.Sequential()\n",
        "model.add(layers.Dense(64, activation='relu', input_shape=(10000,)))\n",
        "model.add(layers.Dense(4, activation='relu'))\n",
        "model.add(layers.Dense(46, activation='softmax'))\n",
        "\n",
        "model.compile(optimizer='rmsprop',\n",
        "              loss = 'categorical_crossentropy',\n",
        "              metrics=['accuracy'])\n",
        "\n",
        "model.fit(partial_x_train,\n",
        "         partial_y_train,\n",
        "         epochs=20,\n",
        "         batch_size=512,\n",
        "         validation_data=(x_val, y_val))\n",
        "results = model.evaluate(x_test, one_hot_test_labels)"
      ],
      "execution_count": 32,
      "outputs": [
        {
          "output_type": "stream",
          "text": [
            "Epoch 1/20\n",
            "16/16 [==============================] - 2s 73ms/step - loss: 3.4926 - accuracy: 0.1035 - val_loss: 2.8185 - val_accuracy: 0.5650\n",
            "Epoch 2/20\n",
            "16/16 [==============================] - 1s 51ms/step - loss: 2.6504 - accuracy: 0.5641 - val_loss: 2.2693 - val_accuracy: 0.5530\n",
            "Epoch 3/20\n",
            "16/16 [==============================] - 1s 49ms/step - loss: 2.1221 - accuracy: 0.5647 - val_loss: 1.9372 - val_accuracy: 0.5650\n",
            "Epoch 4/20\n",
            "16/16 [==============================] - 1s 50ms/step - loss: 1.8136 - accuracy: 0.5750 - val_loss: 1.7242 - val_accuracy: 0.5800\n",
            "Epoch 5/20\n",
            "16/16 [==============================] - 1s 54ms/step - loss: 1.6093 - accuracy: 0.5873 - val_loss: 1.5970 - val_accuracy: 0.5960\n",
            "Epoch 6/20\n",
            "16/16 [==============================] - 1s 61ms/step - loss: 1.4426 - accuracy: 0.6042 - val_loss: 1.5375 - val_accuracy: 0.6010\n",
            "Epoch 7/20\n",
            "16/16 [==============================] - 1s 60ms/step - loss: 1.3376 - accuracy: 0.6241 - val_loss: 1.4470 - val_accuracy: 0.6380\n",
            "Epoch 8/20\n",
            "16/16 [==============================] - 1s 49ms/step - loss: 1.2239 - accuracy: 0.6680 - val_loss: 1.4098 - val_accuracy: 0.6580\n",
            "Epoch 9/20\n",
            "16/16 [==============================] - 1s 50ms/step - loss: 1.1477 - accuracy: 0.7009 - val_loss: 1.3722 - val_accuracy: 0.6770\n",
            "Epoch 10/20\n",
            "16/16 [==============================] - 1s 60ms/step - loss: 1.0821 - accuracy: 0.7120 - val_loss: 1.3469 - val_accuracy: 0.6820\n",
            "Epoch 11/20\n",
            "16/16 [==============================] - 1s 54ms/step - loss: 1.0163 - accuracy: 0.7298 - val_loss: 1.3424 - val_accuracy: 0.6780\n",
            "Epoch 12/20\n",
            "16/16 [==============================] - 1s 49ms/step - loss: 0.9661 - accuracy: 0.7340 - val_loss: 1.3243 - val_accuracy: 0.6860\n",
            "Epoch 13/20\n",
            "16/16 [==============================] - 1s 48ms/step - loss: 0.9005 - accuracy: 0.7592 - val_loss: 1.3183 - val_accuracy: 0.7070\n",
            "Epoch 14/20\n",
            "16/16 [==============================] - 1s 48ms/step - loss: 0.8523 - accuracy: 0.7944 - val_loss: 1.3243 - val_accuracy: 0.7100\n",
            "Epoch 15/20\n",
            "16/16 [==============================] - 1s 48ms/step - loss: 0.8102 - accuracy: 0.7995 - val_loss: 1.3061 - val_accuracy: 0.7170\n",
            "Epoch 16/20\n",
            "16/16 [==============================] - 1s 49ms/step - loss: 0.7692 - accuracy: 0.8150 - val_loss: 1.3055 - val_accuracy: 0.7120\n",
            "Epoch 17/20\n",
            "16/16 [==============================] - 1s 48ms/step - loss: 0.7401 - accuracy: 0.8155 - val_loss: 1.3118 - val_accuracy: 0.7160\n",
            "Epoch 18/20\n",
            "16/16 [==============================] - 1s 48ms/step - loss: 0.7080 - accuracy: 0.8211 - val_loss: 1.3158 - val_accuracy: 0.7140\n",
            "Epoch 19/20\n",
            "16/16 [==============================] - 1s 49ms/step - loss: 0.6739 - accuracy: 0.8234 - val_loss: 1.3265 - val_accuracy: 0.7070\n",
            "Epoch 20/20\n",
            "16/16 [==============================] - 1s 48ms/step - loss: 0.6502 - accuracy: 0.8259 - val_loss: 1.3489 - val_accuracy: 0.7100\n",
            "71/71 [==============================] - 0s 3ms/step - loss: 1.4728 - accuracy: 0.6866\n"
          ],
          "name": "stdout"
        }
      ]
    },
    {
      "cell_type": "markdown",
      "metadata": {
        "id": "zy2sAGWDD_tY"
      },
      "source": [
        "- val_accuracy의 최고값은 71%로 이전보다 약 7~8% 감소되었다.(78%였음.)\n",
        "\n",
        "이런 손실의 원인 대부분은 많은 정보(클래스 46개의 분할 초평면을 복원하기에 충분한 정보)를 중간층의 저차원 표현 공간으로 압축하려고 했기 때문이다. 이 네트워크는 필요한 정보 대부분을 4차원 표현 안에 구겨 넣었지만 전부는 넣지 못했다."
      ]
    },
    {
      "cell_type": "markdown",
      "metadata": {
        "id": "x4alg452EhX8"
      },
      "source": [
        "## 추가실험\n",
        "- 더 크거나 작은 층 사용하기 (32, 128개 유닛)\n",
        "- 1개나 3개의 은닉 층 사용해보기"
      ]
    },
    {
      "cell_type": "markdown",
      "metadata": {
        "id": "e3J65FFpSwJQ"
      },
      "source": [
        "![image.png](data:image/png;base64,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)"
      ]
    },
    {
      "cell_type": "markdown",
      "metadata": {
        "id": "1hpOFjTxTQH3"
      },
      "source": [
        "최적 : 은닉층이 1개, 유닛 개수 64개 사용 할 때"
      ]
    },
    {
      "cell_type": "code",
      "metadata": {
        "colab": {
          "base_uri": "https://localhost:8080/"
        },
        "id": "aQc7gbeKEp1J",
        "outputId": "5bf2d3e4-12f5-4fdc-b904-61ca7a16a4b7"
      },
      "source": [
        "# 32유닛\n",
        "model = models.Sequential()\n",
        "model.add(layers.Dense(64, activation='relu', input_shape=(10000,)))\n",
        "model.add(layers.Dense(32, activation='relu'))\n",
        "model.add(layers.Dense(46, activation='softmax'))\n",
        "\n",
        "model.compile(optimizer='rmsprop',\n",
        "              loss = 'categorical_crossentropy',\n",
        "              metrics=['accuracy'])\n",
        "\n",
        "model.fit(partial_x_train,\n",
        "         partial_y_train,\n",
        "         epochs=9,\n",
        "         batch_size=512,\n",
        "         validation_data=(x_val, y_val))\n",
        "results = model.evaluate(x_test, one_hot_test_labels)"
      ],
      "execution_count": 38,
      "outputs": [
        {
          "output_type": "stream",
          "text": [
            "Epoch 1/9\n",
            "16/16 [==============================] - 2s 63ms/step - loss: 3.2620 - accuracy: 0.3483 - val_loss: 2.0721 - val_accuracy: 0.6390\n",
            "Epoch 2/9\n",
            "16/16 [==============================] - 1s 64ms/step - loss: 1.8004 - accuracy: 0.6829 - val_loss: 1.4733 - val_accuracy: 0.6920\n",
            "Epoch 3/9\n",
            "16/16 [==============================] - 1s 62ms/step - loss: 1.2266 - accuracy: 0.7521 - val_loss: 1.2211 - val_accuracy: 0.7440\n",
            "Epoch 4/9\n",
            "16/16 [==============================] - 1s 54ms/step - loss: 0.9437 - accuracy: 0.8118 - val_loss: 1.1055 - val_accuracy: 0.7710\n",
            "Epoch 5/9\n",
            "16/16 [==============================] - 1s 52ms/step - loss: 0.7411 - accuracy: 0.8544 - val_loss: 1.0278 - val_accuracy: 0.7870\n",
            "Epoch 6/9\n",
            "16/16 [==============================] - 1s 50ms/step - loss: 0.6240 - accuracy: 0.8756 - val_loss: 0.9823 - val_accuracy: 0.7980\n",
            "Epoch 7/9\n",
            "16/16 [==============================] - 1s 50ms/step - loss: 0.5157 - accuracy: 0.8942 - val_loss: 0.9466 - val_accuracy: 0.8140\n",
            "Epoch 8/9\n",
            "16/16 [==============================] - 1s 50ms/step - loss: 0.4425 - accuracy: 0.9095 - val_loss: 0.9330 - val_accuracy: 0.8110\n",
            "Epoch 9/9\n",
            "16/16 [==============================] - 1s 47ms/step - loss: 0.3711 - accuracy: 0.9229 - val_loss: 0.9335 - val_accuracy: 0.8110\n",
            "71/71 [==============================] - 0s 3ms/step - loss: 1.0279 - accuracy: 0.7769\n"
          ],
          "name": "stdout"
        }
      ]
    },
    {
      "cell_type": "code",
      "metadata": {
        "colab": {
          "base_uri": "https://localhost:8080/"
        },
        "id": "rdP80b3-I9SC",
        "outputId": "deafd2bb-2b8e-41e6-ade9-0f8bc1fcc6eb"
      },
      "source": [
        "# 128유닛\n",
        "model = models.Sequential()\n",
        "model.add(layers.Dense(64, activation='relu', input_shape=(10000,)))\n",
        "model.add(layers.Dense(128, activation='relu'))\n",
        "model.add(layers.Dense(46, activation='softmax'))\n",
        "\n",
        "model.compile(optimizer='rmsprop',\n",
        "              loss = 'categorical_crossentropy',\n",
        "              metrics=['accuracy'])\n",
        "\n",
        "model.fit(partial_x_train,\n",
        "         partial_y_train,\n",
        "         epochs=9,\n",
        "         batch_size=512,\n",
        "         validation_data=(x_val, y_val))\n",
        "results = model.evaluate(x_test, one_hot_test_labels)"
      ],
      "execution_count": 39,
      "outputs": [
        {
          "output_type": "stream",
          "text": [
            "Epoch 1/9\n",
            "16/16 [==============================] - 1s 61ms/step - loss: 3.0900 - accuracy: 0.4379 - val_loss: 1.6062 - val_accuracy: 0.6600\n",
            "Epoch 2/9\n",
            "16/16 [==============================] - 1s 50ms/step - loss: 1.3835 - accuracy: 0.7140 - val_loss: 1.2505 - val_accuracy: 0.7400\n",
            "Epoch 3/9\n",
            "16/16 [==============================] - 1s 51ms/step - loss: 1.0043 - accuracy: 0.7927 - val_loss: 1.1002 - val_accuracy: 0.7760\n",
            "Epoch 4/9\n",
            "16/16 [==============================] - 1s 51ms/step - loss: 0.7685 - accuracy: 0.8440 - val_loss: 1.0044 - val_accuracy: 0.8030\n",
            "Epoch 5/9\n",
            "16/16 [==============================] - 1s 49ms/step - loss: 0.6035 - accuracy: 0.8710 - val_loss: 0.9612 - val_accuracy: 0.8150\n",
            "Epoch 6/9\n",
            "16/16 [==============================] - 1s 50ms/step - loss: 0.4941 - accuracy: 0.8969 - val_loss: 0.9196 - val_accuracy: 0.8080\n",
            "Epoch 7/9\n",
            "16/16 [==============================] - 1s 51ms/step - loss: 0.3799 - accuracy: 0.9198 - val_loss: 0.9093 - val_accuracy: 0.8130\n",
            "Epoch 8/9\n",
            "16/16 [==============================] - 1s 52ms/step - loss: 0.2983 - accuracy: 0.9385 - val_loss: 0.9386 - val_accuracy: 0.7980\n",
            "Epoch 9/9\n",
            "16/16 [==============================] - 1s 50ms/step - loss: 0.2519 - accuracy: 0.9449 - val_loss: 0.9087 - val_accuracy: 0.8190\n",
            "71/71 [==============================] - 0s 3ms/step - loss: 0.9885 - accuracy: 0.7894\n"
          ],
          "name": "stdout"
        }
      ]
    },
    {
      "cell_type": "code",
      "metadata": {
        "colab": {
          "base_uri": "https://localhost:8080/"
        },
        "id": "3ByX__wDJP5D",
        "outputId": "39d7aeb9-1250-4641-fd76-fe35a28aeb7c"
      },
      "source": [
        "# 128,128유닛\n",
        "model = models.Sequential()\n",
        "model.add(layers.Dense(128, activation='relu', input_shape=(10000,)))\n",
        "model.add(layers.Dense(128, activation='relu'))\n",
        "model.add(layers.Dense(46, activation='softmax'))\n",
        "\n",
        "model.compile(optimizer='rmsprop',\n",
        "              loss = 'categorical_crossentropy',\n",
        "              metrics=['accuracy'])\n",
        "\n",
        "model.fit(partial_x_train,\n",
        "         partial_y_train,\n",
        "         epochs=9,\n",
        "         batch_size=512,\n",
        "         validation_data=(x_val, y_val))\n",
        "results = model.evaluate(x_test, one_hot_test_labels)"
      ],
      "execution_count": 40,
      "outputs": [
        {
          "output_type": "stream",
          "text": [
            "Epoch 1/9\n",
            "16/16 [==============================] - 2s 100ms/step - loss: 2.8564 - accuracy: 0.4217 - val_loss: 1.4065 - val_accuracy: 0.7040\n",
            "Epoch 2/9\n",
            "16/16 [==============================] - 1s 88ms/step - loss: 1.1998 - accuracy: 0.7468 - val_loss: 1.1100 - val_accuracy: 0.7620\n",
            "Epoch 3/9\n",
            "16/16 [==============================] - 1s 85ms/step - loss: 0.8401 - accuracy: 0.8198 - val_loss: 0.9848 - val_accuracy: 0.7960\n",
            "Epoch 4/9\n",
            "16/16 [==============================] - 1s 84ms/step - loss: 0.5968 - accuracy: 0.8752 - val_loss: 0.9128 - val_accuracy: 0.8140\n",
            "Epoch 5/9\n",
            "16/16 [==============================] - 1s 77ms/step - loss: 0.4117 - accuracy: 0.9159 - val_loss: 0.8666 - val_accuracy: 0.8270\n",
            "Epoch 6/9\n",
            "16/16 [==============================] - 1s 78ms/step - loss: 0.3265 - accuracy: 0.9333 - val_loss: 0.8930 - val_accuracy: 0.8190\n",
            "Epoch 7/9\n",
            "16/16 [==============================] - 1s 88ms/step - loss: 0.2372 - accuracy: 0.9480 - val_loss: 0.8988 - val_accuracy: 0.8070\n",
            "Epoch 8/9\n",
            "16/16 [==============================] - 1s 82ms/step - loss: 0.2037 - accuracy: 0.9531 - val_loss: 0.8925 - val_accuracy: 0.8220\n",
            "Epoch 9/9\n",
            "16/16 [==============================] - 1s 77ms/step - loss: 0.1652 - accuracy: 0.9595 - val_loss: 0.9409 - val_accuracy: 0.8130\n",
            "71/71 [==============================] - 0s 4ms/step - loss: 1.0313 - accuracy: 0.7952\n"
          ],
          "name": "stdout"
        }
      ]
    },
    {
      "cell_type": "code",
      "metadata": {
        "colab": {
          "base_uri": "https://localhost:8080/"
        },
        "id": "cBhV5gdtQnLQ",
        "outputId": "863161f7-478d-490c-9e4d-ae3cde271f74"
      },
      "source": [
        "# 128,128유닛\n",
        "model = models.Sequential()\n",
        "model.add(layers.Dense(128, activation='relu', input_shape=(10000,)))\n",
        "model.add(layers.Dense(46, activation='softmax'))\n",
        "\n",
        "model.compile(optimizer='rmsprop',\n",
        "              loss = 'categorical_crossentropy',\n",
        "              metrics=['accuracy'])\n",
        "\n",
        "model.fit(partial_x_train,\n",
        "         partial_y_train,\n",
        "         epochs=9,\n",
        "         batch_size=512,\n",
        "         validation_data=(x_val, y_val))\n",
        "results = model.evaluate(x_test, one_hot_test_labels)"
      ],
      "execution_count": 41,
      "outputs": [
        {
          "output_type": "stream",
          "text": [
            "Epoch 1/9\n",
            "16/16 [==============================] - 2s 97ms/step - loss: 2.7107 - accuracy: 0.4777 - val_loss: 1.4304 - val_accuracy: 0.7010\n",
            "Epoch 2/9\n",
            "16/16 [==============================] - 1s 80ms/step - loss: 1.1734 - accuracy: 0.7588 - val_loss: 1.0974 - val_accuracy: 0.7830\n",
            "Epoch 3/9\n",
            "16/16 [==============================] - 1s 77ms/step - loss: 0.7810 - accuracy: 0.8443 - val_loss: 0.9586 - val_accuracy: 0.7920\n",
            "Epoch 4/9\n",
            "16/16 [==============================] - 1s 75ms/step - loss: 0.5772 - accuracy: 0.8856 - val_loss: 0.8688 - val_accuracy: 0.8250\n",
            "Epoch 5/9\n",
            "16/16 [==============================] - 1s 76ms/step - loss: 0.4307 - accuracy: 0.9170 - val_loss: 0.8346 - val_accuracy: 0.8280\n",
            "Epoch 6/9\n",
            "16/16 [==============================] - 1s 75ms/step - loss: 0.3317 - accuracy: 0.9326 - val_loss: 0.8105 - val_accuracy: 0.8260\n",
            "Epoch 7/9\n",
            "16/16 [==============================] - 1s 75ms/step - loss: 0.2581 - accuracy: 0.9436 - val_loss: 0.8222 - val_accuracy: 0.8230\n",
            "Epoch 8/9\n",
            "16/16 [==============================] - 1s 77ms/step - loss: 0.2234 - accuracy: 0.9467 - val_loss: 0.8234 - val_accuracy: 0.8270\n",
            "Epoch 9/9\n",
            "16/16 [==============================] - 1s 75ms/step - loss: 0.1809 - accuracy: 0.9573 - val_loss: 0.8301 - val_accuracy: 0.8290\n",
            "71/71 [==============================] - 0s 4ms/step - loss: 0.9452 - accuracy: 0.7970\n"
          ],
          "name": "stdout"
        }
      ]
    },
    {
      "cell_type": "code",
      "metadata": {
        "colab": {
          "base_uri": "https://localhost:8080/"
        },
        "id": "mNDXw8ydQp_6",
        "outputId": "18db7e34-fd14-4f10-ba26-3a289c5edee4"
      },
      "source": [
        "# 64유닛\n",
        "model = models.Sequential()\n",
        "model.add(layers.Dense(64, activation='relu', input_shape=(10000,)))\n",
        "model.add(layers.Dense(46, activation='softmax'))\n",
        "\n",
        "model.compile(optimizer='rmsprop',\n",
        "              loss = 'categorical_crossentropy',\n",
        "              metrics=['accuracy'])\n",
        "\n",
        "model.fit(partial_x_train,\n",
        "         partial_y_train,\n",
        "         epochs=9,\n",
        "         batch_size=512,\n",
        "         validation_data=(x_val, y_val))\n",
        "results = model.evaluate(x_test, one_hot_test_labels)"
      ],
      "execution_count": 42,
      "outputs": [
        {
          "output_type": "stream",
          "text": [
            "Epoch 1/9\n",
            "16/16 [==============================] - 1s 64ms/step - loss: 2.9942 - accuracy: 0.4846 - val_loss: 1.7698 - val_accuracy: 0.6590\n",
            "Epoch 2/9\n",
            "16/16 [==============================] - 1s 51ms/step - loss: 1.5489 - accuracy: 0.7104 - val_loss: 1.3389 - val_accuracy: 0.7240\n",
            "Epoch 3/9\n",
            "16/16 [==============================] - 1s 49ms/step - loss: 1.1010 - accuracy: 0.7865 - val_loss: 1.1437 - val_accuracy: 0.7520\n",
            "Epoch 4/9\n",
            "16/16 [==============================] - 1s 49ms/step - loss: 0.8469 - accuracy: 0.8390 - val_loss: 1.0175 - val_accuracy: 0.7930\n",
            "Epoch 5/9\n",
            "16/16 [==============================] - 1s 48ms/step - loss: 0.6877 - accuracy: 0.8674 - val_loss: 0.9509 - val_accuracy: 0.8040\n",
            "Epoch 6/9\n",
            "16/16 [==============================] - 1s 48ms/step - loss: 0.5462 - accuracy: 0.8940 - val_loss: 0.8952 - val_accuracy: 0.8150\n",
            "Epoch 7/9\n",
            "16/16 [==============================] - 1s 49ms/step - loss: 0.4558 - accuracy: 0.9084 - val_loss: 0.8664 - val_accuracy: 0.8220\n",
            "Epoch 8/9\n",
            "16/16 [==============================] - 1s 48ms/step - loss: 0.3639 - accuracy: 0.9250 - val_loss: 0.8545 - val_accuracy: 0.8250\n",
            "Epoch 9/9\n",
            "16/16 [==============================] - 1s 48ms/step - loss: 0.3001 - accuracy: 0.9390 - val_loss: 0.8455 - val_accuracy: 0.8200\n",
            "71/71 [==============================] - 0s 3ms/step - loss: 0.9166 - accuracy: 0.7988\n"
          ],
          "name": "stdout"
        }
      ]
    },
    {
      "cell_type": "code",
      "metadata": {
        "colab": {
          "base_uri": "https://localhost:8080/"
        },
        "id": "C2v6mUY_Q9v7",
        "outputId": "829b8070-635e-418f-b56b-5fce44f7dd57"
      },
      "source": [
        "# 64유닛 은닉층 3개\n",
        "model = models.Sequential()\n",
        "model.add(layers.Dense(64, activation='relu', input_shape=(10000,)))\n",
        "model.add(layers.Dense(64, activation='relu'))\n",
        "model.add(layers.Dense(64, activation='relu'))\n",
        "model.add(layers.Dense(46, activation='softmax'))\n",
        "\n",
        "model.compile(optimizer='rmsprop',\n",
        "              loss = 'categorical_crossentropy',\n",
        "              metrics=['accuracy'])\n",
        "\n",
        "model.fit(partial_x_train,\n",
        "         partial_y_train,\n",
        "         epochs=9,\n",
        "         batch_size=512,\n",
        "         validation_data=(x_val, y_val))\n",
        "results = model.evaluate(x_test, one_hot_test_labels)"
      ],
      "execution_count": 45,
      "outputs": [
        {
          "output_type": "stream",
          "text": [
            "Epoch 1/9\n",
            "16/16 [==============================] - 2s 62ms/step - loss: 3.1326 - accuracy: 0.4335 - val_loss: 1.6683 - val_accuracy: 0.6370\n",
            "Epoch 2/9\n",
            "16/16 [==============================] - 1s 50ms/step - loss: 1.4470 - accuracy: 0.6886 - val_loss: 1.3550 - val_accuracy: 0.6890\n",
            "Epoch 3/9\n",
            "16/16 [==============================] - 1s 49ms/step - loss: 1.1050 - accuracy: 0.7478 - val_loss: 1.2455 - val_accuracy: 0.7120\n",
            "Epoch 4/9\n",
            "16/16 [==============================] - 1s 49ms/step - loss: 0.8897 - accuracy: 0.8034 - val_loss: 1.1506 - val_accuracy: 0.7430\n",
            "Epoch 5/9\n",
            "16/16 [==============================] - 1s 49ms/step - loss: 0.6894 - accuracy: 0.8474 - val_loss: 1.0585 - val_accuracy: 0.7870\n",
            "Epoch 6/9\n",
            "16/16 [==============================] - 1s 49ms/step - loss: 0.5449 - accuracy: 0.8827 - val_loss: 1.0215 - val_accuracy: 0.7900\n",
            "Epoch 7/9\n",
            "16/16 [==============================] - 1s 50ms/step - loss: 0.4381 - accuracy: 0.9052 - val_loss: 1.0187 - val_accuracy: 0.8050\n",
            "Epoch 8/9\n",
            "16/16 [==============================] - 1s 49ms/step - loss: 0.3482 - accuracy: 0.9294 - val_loss: 1.0336 - val_accuracy: 0.7930\n",
            "Epoch 9/9\n",
            "16/16 [==============================] - 1s 47ms/step - loss: 0.2824 - accuracy: 0.9407 - val_loss: 1.0268 - val_accuracy: 0.7970\n",
            "71/71 [==============================] - 0s 3ms/step - loss: 1.1151 - accuracy: 0.7738\n"
          ],
          "name": "stdout"
        }
      ]
    }
  ]
}