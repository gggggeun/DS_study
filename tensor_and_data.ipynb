{
  "nbformat": 4,
  "nbformat_minor": 0,
  "metadata": {
    "colab": {
      "name": "tensor and data.ipynb",
      "provenance": [],
      "toc_visible": true,
      "authorship_tag": "ABX9TyNpK84J6emM0v+7dMm6usor",
      "include_colab_link": true
    },
    "kernelspec": {
      "name": "python3",
      "display_name": "Python 3"
    },
    "language_info": {
      "name": "python"
    }
  },
  "cells": [
    {
      "cell_type": "markdown",
      "metadata": {
        "id": "view-in-github",
        "colab_type": "text"
      },
      "source": [
        "<a href=\"https://colab.research.google.com/github/gggggeun/study/blob/main/tensor_and_data.ipynb\" target=\"_parent\"><img src=\"https://colab.research.google.com/assets/colab-badge.svg\" alt=\"Open In Colab\"/></a>"
      ]
    },
    {
      "cell_type": "markdown",
      "metadata": {
        "id": "AvQaB5fKJa_z"
      },
      "source": [
        "# 딥러닝 데이터 다루기 연습 & data 종류와 예시"
      ]
    },
    {
      "cell_type": "markdown",
      "metadata": {
        "id": "CKZp7qZ3MBZq"
      },
      "source": [
        "## 1. 이미지 데이터 tensor 속성, 이미지 불러오기"
      ]
    },
    {
      "cell_type": "markdown",
      "metadata": {
        "id": "VTjJRUNwJiGl"
      },
      "source": [
        "### Tensor의 3가지 속성 : 축의 개수, 배열의 크기, 데이터 타입"
      ]
    },
    {
      "cell_type": "code",
      "metadata": {
        "colab": {
          "base_uri": "https://localhost:8080/"
        },
        "id": "uvkG0mdSHHpY",
        "outputId": "71b02c07-ded5-4aa4-f552-ac0d3cd71bec"
      },
      "source": [
        "from keras.datasets import mnist\n",
        "(train_images, train_labels), (test_images, test_labels) = mnist.load_data()"
      ],
      "execution_count": 1,
      "outputs": [
        {
          "output_type": "stream",
          "text": [
            "Downloading data from https://storage.googleapis.com/tensorflow/tf-keras-datasets/mnist.npz\n",
            "11493376/11490434 [==============================] - 0s 0us/step\n"
          ],
          "name": "stdout"
        }
      ]
    },
    {
      "cell_type": "code",
      "metadata": {
        "colab": {
          "base_uri": "https://localhost:8080/"
        },
        "id": "z0tDeQ3JIFRP",
        "outputId": "56494d2d-ac7b-475c-c044-b3c4b387287a"
      },
      "source": [
        "print(\"train data 이미지의 축의 개수 :\", train_images.ndim)"
      ],
      "execution_count": 3,
      "outputs": [
        {
          "output_type": "stream",
          "text": [
            "train data 이미지의 축의 개수 : 3\n"
          ],
          "name": "stdout"
        }
      ]
    },
    {
      "cell_type": "code",
      "metadata": {
        "colab": {
          "base_uri": "https://localhost:8080/"
        },
        "id": "dYMWFdxvI3q2",
        "outputId": "eb1753ff-ce16-4d92-c9ed-951420317d4f"
      },
      "source": [
        "print(\"train data 이미지 배열의 크기 : \", train_images.shape)"
      ],
      "execution_count": 5,
      "outputs": [
        {
          "output_type": "stream",
          "text": [
            "train data 이미지 배열의 크기 :  (60000, 28, 28)\n"
          ],
          "name": "stdout"
        }
      ]
    },
    {
      "cell_type": "code",
      "metadata": {
        "colab": {
          "base_uri": "https://localhost:8080/"
        },
        "id": "hD4MKxbCJOCf",
        "outputId": "2aaeaab6-fa5d-49de-9e5d-6e6b73a2bcab"
      },
      "source": [
        "print(\"train data 데이터 타입 : \", train_images.dtype)"
      ],
      "execution_count": 6,
      "outputs": [
        {
          "output_type": "stream",
          "text": [
            "train data 데이터 타입 :  uint8\n"
          ],
          "name": "stdout"
        }
      ]
    },
    {
      "cell_type": "markdown",
      "metadata": {
        "id": "0pydh2kZLOMA"
      },
      "source": [
        "MNIST 데이터의 이미지 배열은 8비트 정수형 3D 텐서이다.\n",
        "\n",
        "정확하게 28 X 28크기의 정수 행렬 6만 개가 있는 배열임을 알 수 있다."
      ]
    },
    {
      "cell_type": "markdown",
      "metadata": {
        "id": "1ehPau9FMJmJ"
      },
      "source": [
        "### MNIST 이미지 불러오기"
      ]
    },
    {
      "cell_type": "code",
      "metadata": {
        "colab": {
          "base_uri": "https://localhost:8080/"
        },
        "id": "eykrL472MluB",
        "outputId": "25661385-0c0d-4f70-c762-328229c9bafa"
      },
      "source": [
        "train_images[4]"
      ],
      "execution_count": 14,
      "outputs": [
        {
          "output_type": "execute_result",
          "data": {
            "text/plain": [
              "array([[  0,   0,   0,   0,   0,   0,   0,   0,   0,   0,   0,   0,   0,\n",
              "          0,   0,   0,   0,   0,   0,   0,   0,   0,   0,   0,   0,   0,\n",
              "          0,   0],\n",
              "       [  0,   0,   0,   0,   0,   0,   0,   0,   0,   0,   0,   0,   0,\n",
              "          0,   0,   0,   0,   0,   0,   0,   0,   0,   0,   0,   0,   0,\n",
              "          0,   0],\n",
              "       [  0,   0,   0,   0,   0,   0,   0,   0,   0,   0,   0,   0,   0,\n",
              "          0,   0,   0,   0,   0,   0,   0,   0,   0,   0,   0,   0,   0,\n",
              "          0,   0],\n",
              "       [  0,   0,   0,   0,   0,   0,   0,   0,   0,   0,   0,   0,   0,\n",
              "          0,   0,   0,   0,   0,   0,   0,   0,   0,   0,   0,   0,   0,\n",
              "          0,   0],\n",
              "       [  0,   0,   0,   0,   0,   0,   0,   0,   0,   0,   0,   0,   0,\n",
              "          0,   0,   0,   0,   0,   0,   0,   0,   0,   0,   0,   0,   0,\n",
              "          0,   0],\n",
              "       [  0,   0,   0,   0,   0,   0,   0,   0,   0,   0,   0,   0,   0,\n",
              "          0,   0,   0,   0,   0,   0,   0,   0,   0,   0,   0,   0,   0,\n",
              "          0,   0],\n",
              "       [  0,   0,   0,   0,   0,   0,   0,   0,   0,   0,   0,   0,   0,\n",
              "          0,   0,   0,   0,   0,   0,   0,   0,   0,   0,   0,   0,   0,\n",
              "          0,   0],\n",
              "       [  0,   0,   0,   0,   0,   0,   0,   0,   0,   0,   0,   0,  55,\n",
              "        148, 210, 253, 253, 113,  87, 148,  55,   0,   0,   0,   0,   0,\n",
              "          0,   0],\n",
              "       [  0,   0,   0,   0,   0,   0,   0,   0,   0,   0,   0,  87, 232,\n",
              "        252, 253, 189, 210, 252, 252, 253, 168,   0,   0,   0,   0,   0,\n",
              "          0,   0],\n",
              "       [  0,   0,   0,   0,   0,   0,   0,   0,   0,   4,  57, 242, 252,\n",
              "        190,  65,   5,  12, 182, 252, 253, 116,   0,   0,   0,   0,   0,\n",
              "          0,   0],\n",
              "       [  0,   0,   0,   0,   0,   0,   0,   0,   0,  96, 252, 252, 183,\n",
              "         14,   0,   0,  92, 252, 252, 225,  21,   0,   0,   0,   0,   0,\n",
              "          0,   0],\n",
              "       [  0,   0,   0,   0,   0,   0,   0,   0, 132, 253, 252, 146,  14,\n",
              "          0,   0,   0, 215, 252, 252,  79,   0,   0,   0,   0,   0,   0,\n",
              "          0,   0],\n",
              "       [  0,   0,   0,   0,   0,   0,   0, 126, 253, 247, 176,   9,   0,\n",
              "          0,   8,  78, 245, 253, 129,   0,   0,   0,   0,   0,   0,   0,\n",
              "          0,   0],\n",
              "       [  0,   0,   0,   0,   0,   0,  16, 232, 252, 176,   0,   0,   0,\n",
              "         36, 201, 252, 252, 169,  11,   0,   0,   0,   0,   0,   0,   0,\n",
              "          0,   0],\n",
              "       [  0,   0,   0,   0,   0,   0,  22, 252, 252,  30,  22, 119, 197,\n",
              "        241, 253, 252, 251,  77,   0,   0,   0,   0,   0,   0,   0,   0,\n",
              "          0,   0],\n",
              "       [  0,   0,   0,   0,   0,   0,  16, 231, 252, 253, 252, 252, 252,\n",
              "        226, 227, 252, 231,   0,   0,   0,   0,   0,   0,   0,   0,   0,\n",
              "          0,   0],\n",
              "       [  0,   0,   0,   0,   0,   0,   0,  55, 235, 253, 217, 138,  42,\n",
              "         24, 192, 252, 143,   0,   0,   0,   0,   0,   0,   0,   0,   0,\n",
              "          0,   0],\n",
              "       [  0,   0,   0,   0,   0,   0,   0,   0,   0,   0,   0,   0,   0,\n",
              "         62, 255, 253, 109,   0,   0,   0,   0,   0,   0,   0,   0,   0,\n",
              "          0,   0],\n",
              "       [  0,   0,   0,   0,   0,   0,   0,   0,   0,   0,   0,   0,   0,\n",
              "         71, 253, 252,  21,   0,   0,   0,   0,   0,   0,   0,   0,   0,\n",
              "          0,   0],\n",
              "       [  0,   0,   0,   0,   0,   0,   0,   0,   0,   0,   0,   0,   0,\n",
              "          0, 253, 252,  21,   0,   0,   0,   0,   0,   0,   0,   0,   0,\n",
              "          0,   0],\n",
              "       [  0,   0,   0,   0,   0,   0,   0,   0,   0,   0,   0,   0,   0,\n",
              "         71, 253, 252,  21,   0,   0,   0,   0,   0,   0,   0,   0,   0,\n",
              "          0,   0],\n",
              "       [  0,   0,   0,   0,   0,   0,   0,   0,   0,   0,   0,   0,   0,\n",
              "        106, 253, 252,  21,   0,   0,   0,   0,   0,   0,   0,   0,   0,\n",
              "          0,   0],\n",
              "       [  0,   0,   0,   0,   0,   0,   0,   0,   0,   0,   0,   0,   0,\n",
              "         45, 255, 253,  21,   0,   0,   0,   0,   0,   0,   0,   0,   0,\n",
              "          0,   0],\n",
              "       [  0,   0,   0,   0,   0,   0,   0,   0,   0,   0,   0,   0,   0,\n",
              "          0, 218, 252,  56,   0,   0,   0,   0,   0,   0,   0,   0,   0,\n",
              "          0,   0],\n",
              "       [  0,   0,   0,   0,   0,   0,   0,   0,   0,   0,   0,   0,   0,\n",
              "          0,  96, 252, 189,  42,   0,   0,   0,   0,   0,   0,   0,   0,\n",
              "          0,   0],\n",
              "       [  0,   0,   0,   0,   0,   0,   0,   0,   0,   0,   0,   0,   0,\n",
              "          0,  14, 184, 252, 170,  11,   0,   0,   0,   0,   0,   0,   0,\n",
              "          0,   0],\n",
              "       [  0,   0,   0,   0,   0,   0,   0,   0,   0,   0,   0,   0,   0,\n",
              "          0,   0,  14, 147, 252,  42,   0,   0,   0,   0,   0,   0,   0,\n",
              "          0,   0],\n",
              "       [  0,   0,   0,   0,   0,   0,   0,   0,   0,   0,   0,   0,   0,\n",
              "          0,   0,   0,   0,   0,   0,   0,   0,   0,   0,   0,   0,   0,\n",
              "          0,   0]], dtype=uint8)"
            ]
          },
          "metadata": {
            "tags": []
          },
          "execution_count": 14
        }
      ]
    },
    {
      "cell_type": "code",
      "metadata": {
        "colab": {
          "base_uri": "https://localhost:8080/"
        },
        "id": "vjMqHic0N1dF",
        "outputId": "6b8408ec-1ee1-45bc-e6ae-2c8e4227bb7c"
      },
      "source": [
        "train_labels[4]"
      ],
      "execution_count": 15,
      "outputs": [
        {
          "output_type": "execute_result",
          "data": {
            "text/plain": [
              "9"
            ]
          },
          "metadata": {
            "tags": []
          },
          "execution_count": 15
        }
      ]
    },
    {
      "cell_type": "code",
      "metadata": {
        "colab": {
          "base_uri": "https://localhost:8080/",
          "height": 265
        },
        "id": "im-Nii7cJYWu",
        "outputId": "69e20096-be45-4ecf-b111-fbaed4478c39"
      },
      "source": [
        "digit = train_images[4]\n",
        "\n",
        "import matplotlib.pyplot as plt\n",
        "\n",
        "plt.imshow(digit, cmap=plt.cm.binary)\n",
        "plt.show()"
      ],
      "execution_count": 7,
      "outputs": [
        {
          "output_type": "display_data",
          "data": {
            "image/png": "[encoded data removed]",
            "text/plain": [
              "<Figure size 432x288 with 1 Axes>"
            ]
          },
          "metadata": {
            "tags": [],
            "needs_background": "light"
          }
        }
      ]
    },
    {
      "cell_type": "markdown",
      "metadata": {
        "id": "W5qS9r5MOPZv"
      },
      "source": [
        "## 2. 넘파이로 텐서 조작 - slicing"
      ]
    },
    {
      "cell_type": "markdown",
      "metadata": {
        "id": "wNZls_GeOleH"
      },
      "source": [
        "- 11번째부터 101번째까지 숫자 선택해 (90, 28, 28) 크기의 배열을 만들기"
      ]
    },
    {
      "cell_type": "code",
      "metadata": {
        "colab": {
          "base_uri": "https://localhost:8080/"
        },
        "id": "9bPU61qsK3Wt",
        "outputId": "f29c4a58-5593-4bad-d50c-98ed8ef7bfc4"
      },
      "source": [
        "my_slice = train_images[10:100]\n",
        "print(my_slice.shape)"
      ],
      "execution_count": 16,
      "outputs": [
        {
          "output_type": "stream",
          "text": [
            "(90, 28, 28)\n"
          ],
          "name": "stdout"
        }
      ]
    },
    {
      "cell_type": "code",
      "metadata": {
        "colab": {
          "base_uri": "https://localhost:8080/"
        },
        "id": "Y_lD5KF0OiDi",
        "outputId": "90266abc-b141-48b9-86f2-b9bcc28f19f2"
      },
      "source": [
        "my_slice = train_images[10:100, :, :]\n",
        "my_slice.shape"
      ],
      "execution_count": 17,
      "outputs": [
        {
          "output_type": "execute_result",
          "data": {
            "text/plain": [
              "(90, 28, 28)"
            ]
          },
          "metadata": {
            "tags": []
          },
          "execution_count": 17
        }
      ]
    },
    {
      "cell_type": "code",
      "metadata": {
        "colab": {
          "base_uri": "https://localhost:8080/"
        },
        "id": "dv2aPH--O4__",
        "outputId": "c6ff8617-2ecb-4799-858d-3704303bb932"
      },
      "source": [
        "my_slice = train_images[10:100, 0:28, 0:28]\n",
        "my_slice.shape"
      ],
      "execution_count": 18,
      "outputs": [
        {
          "output_type": "execute_result",
          "data": {
            "text/plain": [
              "(90, 28, 28)"
            ]
          },
          "metadata": {
            "tags": []
          },
          "execution_count": 18
        }
      ]
    },
    {
      "cell_type": "markdown",
      "metadata": {
        "id": "NGeajL78RRaT"
      },
      "source": [
        "- 이미지 자르기 (픽셀조절)"
      ]
    },
    {
      "cell_type": "code",
      "metadata": {
        "colab": {
          "base_uri": "https://localhost:8080/"
        },
        "id": "WlCyHTFPPAB2",
        "outputId": "4ae0f582-2306-4b2c-dc2b-ae31e36422bd"
      },
      "source": [
        "# 오른쪽아래 14x14픽셀 \n",
        "my_slice = train_images[:, 14:, 14:]\n",
        "my_slice.shape"
      ],
      "execution_count": 19,
      "outputs": [
        {
          "output_type": "execute_result",
          "data": {
            "text/plain": [
              "(60000, 14, 14)"
            ]
          },
          "metadata": {
            "tags": []
          },
          "execution_count": 19
        }
      ]
    },
    {
      "cell_type": "code",
      "metadata": {
        "colab": {
          "base_uri": "https://localhost:8080/",
          "height": 265
        },
        "id": "vWpfdp0aPRQz",
        "outputId": "dd48b1d6-7f12-4475-c23f-1c1dc9da2e33"
      },
      "source": [
        "digit = my_slice[4]\n",
        "\n",
        "import matplotlib.pyplot as plt\n",
        "\n",
        "plt.imshow(digit, cmap=plt.cm.binary)\n",
        "plt.show()"
      ],
      "execution_count": 20,
      "outputs": [
        {
          "output_type": "display_data",
          "data": {
            "image/png": "[encoded data removed]",
            "text/plain": [
              "<Figure size 432x288 with 1 Axes>"
            ]
          },
          "metadata": {
            "tags": [],
            "needs_background": "light"
          }
        }
      ]
    },
    {
      "cell_type": "code",
      "metadata": {
        "colab": {
          "base_uri": "https://localhost:8080/"
        },
        "id": "CAYh0J1cPOMZ",
        "outputId": "2f79294d-56dc-4e6a-af55-1b42e286c37a"
      },
      "source": [
        "# 음수 인덱스 (현재축 : 상대적인 위치)\n",
        "my_slice = train_images[:, 7:-7, 7:-7]\n",
        "my_slice.shape"
      ],
      "execution_count": 21,
      "outputs": [
        {
          "output_type": "execute_result",
          "data": {
            "text/plain": [
              "(60000, 14, 14)"
            ]
          },
          "metadata": {
            "tags": []
          },
          "execution_count": 21
        }
      ]
    },
    {
      "cell_type": "code",
      "metadata": {
        "colab": {
          "base_uri": "https://localhost:8080/",
          "height": 265
        },
        "id": "Vk00sFH9PfwM",
        "outputId": "9d5d4ba8-b65f-4070-e5eb-caa1aea7b19b"
      },
      "source": [
        "digit = my_slice[4]\n",
        "\n",
        "import matplotlib.pyplot as plt\n",
        "\n",
        "plt.imshow(digit, cmap=plt.cm.binary)\n",
        "plt.show()"
      ],
      "execution_count": 22,
      "outputs": [
        {
          "output_type": "display_data",
          "data": {
            "image/png": "[encoded data removed]",
            "text/plain": [
              "<Figure size 432x288 with 1 Axes>"
            ]
          },
          "metadata": {
            "tags": [],
            "needs_background": "light"
          }
        }
      ]
    },
    {
      "cell_type": "code",
      "metadata": {
        "colab": {
          "base_uri": "https://localhost:8080/"
        },
        "id": "jPAnHCw7Pnbu",
        "outputId": "19eea093-f28d-4a93-d623-c57639fcb835"
      },
      "source": [
        "my_slice = train_images[:, :15, :15]\n",
        "my_slice.shape"
      ],
      "execution_count": 23,
      "outputs": [
        {
          "output_type": "execute_result",
          "data": {
            "text/plain": [
              "(60000, 15, 15)"
            ]
          },
          "metadata": {
            "tags": []
          },
          "execution_count": 23
        }
      ]
    },
    {
      "cell_type": "code",
      "metadata": {
        "colab": {
          "base_uri": "https://localhost:8080/",
          "height": 265
        },
        "id": "P8JOnNC_PqTG",
        "outputId": "0bfc1969-7400-4c31-bb08-531bb5377d21"
      },
      "source": [
        "digit = my_slice[4]\n",
        "\n",
        "import matplotlib.pyplot as plt\n",
        "\n",
        "plt.imshow(digit, cmap=plt.cm.binary)\n",
        "plt.show()"
      ],
      "execution_count": 24,
      "outputs": [
        {
          "output_type": "display_data",
          "data": {
            "image/png": "[encoded data removed]",
            "text/plain": [
              "<Figure size 432x288 with 1 Axes>"
            ]
          },
          "metadata": {
            "tags": [],
            "needs_background": "light"
          }
        }
      ]
    },
    {
      "cell_type": "code",
      "metadata": {
        "colab": {
          "base_uri": "https://localhost:8080/"
        },
        "id": "w96fHt9PPsHr",
        "outputId": "3aa56689-fe8d-4f31-b5f9-10277739b133"
      },
      "source": [
        "my_slice = train_images[:, :-14, :-14]\n",
        "my_slice.shape"
      ],
      "execution_count": 27,
      "outputs": [
        {
          "output_type": "execute_result",
          "data": {
            "text/plain": [
              "(60000, 14, 14)"
            ]
          },
          "metadata": {
            "tags": []
          },
          "execution_count": 27
        }
      ]
    },
    {
      "cell_type": "code",
      "metadata": {
        "colab": {
          "base_uri": "https://localhost:8080/",
          "height": 265
        },
        "id": "DsQZRDLAP4QN",
        "outputId": "c1b4a8de-3f4c-46b6-bfc5-e425797cd46c"
      },
      "source": [
        "digit = my_slice[4]\n",
        "\n",
        "import matplotlib.pyplot as plt\n",
        "\n",
        "plt.imshow(digit, cmap=plt.cm.binary)\n",
        "plt.show()"
      ],
      "execution_count": 28,
      "outputs": [
        {
          "output_type": "display_data",
          "data": {
            "image/png": "[encoded data removed]",
            "text/plain": [
              "<Figure size 432x288 with 1 Axes>"
            ]
          },
          "metadata": {
            "tags": [],
            "needs_background": "light"
          }
        }
      ]
    },
    {
      "cell_type": "markdown",
      "metadata": {
        "id": "0ggEYwXiS8Go"
      },
      "source": [
        "## 3. 배치 데이터\n",
        "일반적으로 딥러닝에서 사용하는 모든 데이터 텐서의 첫 번째 축(=0)은 샘플 축(sample axis)이다.\n",
        "\n",
        "샘플 차원(sampe dimension)이라고도 부른다. (MNIST 예제에서는 숫자 이미지가 샘플이다.)\n",
        "\n",
        "\n",
        "\n",
        "딥러닝 모델은 한 번에 전체 데이터셋을 처리하지 않는다. 그 대신 데이터를 작은 배치(batch)로 나눈다. \n",
        "\n",
        "구체적으로 말하면 MNIST 숫자 데이터에서 크기가 128인 배치 하나는 다음과 같다.\n",
        "\n"
      ]
    },
    {
      "cell_type": "code",
      "metadata": {
        "id": "g0Wd1kVHP5Lf"
      },
      "source": [
        "batch = train_images[:128]\n",
        "batch = train_images[128:256]"
      ],
      "execution_count": 31,
      "outputs": []
    },
    {
      "cell_type": "markdown",
      "metadata": {
        "id": "J1z6xFirYM68"
      },
      "source": [
        "n 번째 배치"
      ]
    },
    {
      "cell_type": "code",
      "metadata": {
        "id": "s1AMEeRDWytM"
      },
      "source": [
        "# n번째 batch\n",
        "batch = train_images[128 * n:128 * (n + 1)]"
      ],
      "execution_count": null,
      "outputs": []
    },
    {
      "cell_type": "markdown",
      "metadata": {
        "id": "cZBavS8bdJH6"
      },
      "source": [
        "## 4. 텐서의 예 : 데이터 종류"
      ]
    },
    {
      "cell_type": "markdown",
      "metadata": {
        "id": "5WAGyXybjQ13"
      },
      "source": [
        "![image.png](data:image/png;base64,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)"
      ]
    },
    {
      "cell_type": "markdown",
      "metadata": {
        "id": "qfJNhgo1upqM"
      },
      "source": [
        "### 1) 벡터 데이터 (samples, featutres)\n",
        "\n",
        "\n",
        "대부분의 경우에 해당.\n",
        "\n",
        "이런 데이터셋에서는 하나의 데이터 포인트가 벡터로 인코딩될 수 있으므로 배치 데이터는 2D 텐서로 인코딩될 것이다.\n",
        "\n",
        "\n",
        "\n",
        "- 첫번 째 축 : 샘플 축(sample axis)\n",
        "\n",
        "- 두번 째 축 : 특성 축(feature axis)\n",
        "\n",
        "\n",
        "\n",
        "예시 :\n",
        "\n",
        "- 사람의 나이, 우편 번호, 소득으로 구성된 인구 통계 데이터.\n",
        "  - 각 사람은 3개의 값을 가진 벡터로 구성되고 10만 명이 포함된 전체 데이터셋은 (100000, 3) 크기의 텐서에 저장될 수 있다.\n",
        "- (공통 단어 2만 개로 만든 사전에서) 각 단어가 등장한 횟수로 표현된 텍스트 문서 데이터셋\n",
        "  - 각 문서는 2만 개의 원소(사전에 있는 단어마다 하나의 원소로 대응)를 가진 벡터로 인코딩 될 수 있다.\n",
        "  - 500개의 문서로 이루어진 전체 데이터셋은 (500, 20000) 크기의 텐서로 저장된다."
      ]
    },
    {
      "cell_type": "markdown",
      "metadata": {
        "id": "qF_rB4AHu_WH"
      },
      "source": [
        "### 2) 시계열 데이터 또는 시퀀스 데이터 (samples, timesteps, features)\n",
        "\n",
        "\n",
        "데이터에서 시간이 (또는 연속된 순서가) 중요할 때는 시간 축을 포함하여 3D 텐서로 저장된다.\n",
        "\n",
        "각 샘플은 벡터(2D 텐서)의 시퀀스로 인코딩되므로 배치 데이터는 3D 텐서로 인코딩될 것이다.\n",
        "\n",
        "![image.png](data:image/png;base64,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)\n",
        "\n",
        "3D 시계열 & 시퀀스 데이터 텐서. \n",
        "*시간 축이 두번째 축이어서 세로에 놓여야 하지만 관례적으로 시간의 흐름을 가로 방향으로 놓기 때문에 편의상 텐서 축의 순서와 맞지 않게 그림.*\n",
        "\n",
        "관례적으로 시간 축은 항상 두 번째 축(인덱스가 1인 축)이다.\n",
        "\n",
        "\n",
        "\n",
        "- 첫번 째 축 : 샘플 축(sample axis)\n",
        "\n",
        "- 두번 째 축 : 시간 축(timesteps axis)\n",
        "\n",
        "- 세번 째 축 : 특성 축(feature axis)\n",
        "\n",
        "\n",
        "\n",
        "예시 :\n",
        "\n",
        "- 주식 가격 데이터셋\n",
        "  - 1분마다 현재 주식 가격, 지난 1분 동안의 최고 가격과 최소 가격을 저장\n",
        "  - 1분마다 데이터는 3D 벡터로 인코딩되고 하루 동안의 거래는 (390, 3) 크기의 2D 텐서로 인코딩된다.(하루 거래 시간은 390분이다. *9시반~16시, 6시간반)\n",
        "  - 250일치의 데이터는 (250, 390, 3) 크기의 3D 텐서로 저장될 수 있다.(여기에서 1일치 데이터가 하나의 샘플이 된다.)\n",
        "- 트윗 데이터셋\n",
        "  - 각 트윗은 128개의 알파벳으로 구성된 280개의 문자 시퀀스이다.\n",
        "  - 여기에서는 각 문자가 128개의 크기인 이진 벡터로 인코딩될 수 있다. (해당 문자의 인덱스만 1이고 나머지는 모두 0인 벡터)\n",
        "  - 그러면 각 트윗은 (280, 128) 크기의 2D 텐서로 인코딩될 수 있다.\n",
        "  - 100만 개의 트윗으로 구성된 데이터셋은 (100000, 280, 128) 크기의 텐서에 저장된다."
      ]
    },
    {
      "cell_type": "markdown",
      "metadata": {
        "id": "-ETSgr-fvt0q"
      },
      "source": [
        "### 3) 이미지 데이터 (samples, height, width, channels)\n",
        "또는 (samples, channels, height, width)\n",
        "\n",
        "\n",
        "\n",
        "\n",
        "\n",
        "이미지는 전형적으로 높이, 너비, 컬러 채널의 3차원으로 이루어진다.\n",
        "\n",
        "MNIST 숫자처럼 흑백인 이미지는 하나의 컬러 채널만 가지고 있어 2D 텐서로 저장될 수 있지만 관례상 이미지 텐서는 항상 3D로 저장된다. \n",
        "\n",
        "흑백 이미지의 경우 컬러 채널의 차원 크기는 1이다.\n",
        "\n",
        "256 X 256 크기의 흑백 이미지에 대한 128개의 배치는 (128, 256, 256, 1) 크기의 텐서에 저장될 수 있다.\n",
        "\n",
        "컬러 이미지는 (128, 256, 256, 3) 크기의 텐서에 저장된다. (컬러 = RGB 3개)\n",
        "\n",
        "![image.png](data:image/png;base64,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)\n",
        "\n",
        "\n",
        "이미지 데이터 텐서 (channel 우선 표기)\n",
        "이미지 텐서의 크기를 지정하는 방식은 두 가지이다.\n",
        "\n",
        "1. (텐서플로에서 사용하는) Channel-last 방식 :  (samples, height, width, channels)\n",
        "2. (씨아노에서 사용하는) Channel-first 방식 :  (samples, channels, height, width)\n",
        "*일상생활에서 이미지 크기는 보통 (너비X높이)로 말하지만 행렬에서는 행이 먼저이므로 (높이 X 넓이)로 표현됨.\n",
        "\n",
        "*케라스 설정 파일 keras.json에서 \"image_data_format\" 옵션을 \"channels_last\" 또는 \"channels_first\"로 지정 할 수 있음."
      ]
    },
    {
      "cell_type": "markdown",
      "metadata": {
        "id": "591aqSS6ysRb"
      },
      "source": [
        "### 4) 비디오 데이터\n",
        "\n",
        "\n",
        "비디오 데이터는 현실에서 5D 텐서가 필요한 몇 안되는 데이터 중 하나이다.\n",
        "\n",
        "하나의 비디오는 프레임의 연속이고 각 프레임은 하나의 컬러 이미지이다.\n",
        "\n",
        "프레임이 (height, width, channel)의 3D 텐서로 저장될 수 있기 때문에 프레임의 연속은 (frames, height, width, channel)의 4D 텐서로 저장될 수 있다.\n",
        "\n",
        "여러 비디오의 배치는 (samples, frames, height, width, channel)의 5D 텐서로 저장될 수 있다.\n",
        "\n",
        "\n",
        "예시:\n",
        "\n",
        "- 60초짜리 144 X 256 유튜브 비디오 클립을 초당 4프레임으로 샘플링하면 240프레임이 된다.\n",
        "- 이런 비디오 클립을 4개 가진 배치는 (4, 240, 144, 256, 3) 크기의 텐서에 저장된다.\n",
        "- 만약 총 106,168,320개의 값이 float32로 저장되어 있다면?\n",
        "  - 각 값이 32비트로 저장되기 때문에 텐서의 저장 크기는 405MB가 된다. (너무 크다.) 하지만 실생활에서 접하는 비디오는 float32크기로 저장되지 않기 떄문에 훨씬 용량이 적고, 일반적으로 높은 압축률로(MPEG포맷 같은 방식 사용) 압축되어 있다."
      ]
    }
  ]
}