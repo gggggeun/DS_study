{
  "nbformat": 4,
  "nbformat_minor": 0,
  "metadata": {
    "colab": {
      "name": "정규표현식(Regular expression).ipynb",
      "provenance": [],
      "authorship_tag": "ABX9TyNGY3jnyadUAusH2DHnZYEE",
      "include_colab_link": true
    },
    "kernelspec": {
      "name": "python3",
      "display_name": "Python 3"
    },
    "language_info": {
      "name": "python"
    }
  },
  "cells": [
    {
      "cell_type": "markdown",
      "metadata": {
        "id": "view-in-github",
        "colab_type": "text"
      },
      "source": [
        "<a href=\"https://colab.research.google.com/github/gggggeun/study/blob/main/%EC%A0%95%EA%B7%9C%ED%91%9C%ED%98%84%EC%8B%9D(Regular_expression).ipynb\" target=\"_parent\"><img src=\"https://colab.research.google.com/assets/colab-badge.svg\" alt=\"Open In Colab\"/></a>"
      ]
    },
    {
      "cell_type": "markdown",
      "metadata": {
        "id": "yN2K89I8TJM1"
      },
      "source": [
        "# 정규 표현식 (Regular expression)\n",
        "\n",
        "- 문자열의 검색과 치환\n",
        "- 파이썬에서는 표준 라이브러리를 통해 제공\n",
        "- 패턴 : 특정 목적을 위해 필요한 문자열 집합을 지정하기 위해 쓰임\n",
        "\n",
        "https://wikidocs.net/4308#dot\n",
        "https://ko.wikipedia.org/wiki/%EC%A0%95%EA%B7%9C_%ED%91%9C%ED%98%84%EC%8B%9D\n"
      ]
    },
    {
      "cell_type": "markdown",
      "metadata": {
        "id": "xVnYmyjYU1_z"
      },
      "source": [
        "### 정규식을 이용한 문자열 검색\n",
        "\n",
        "- match()\t: 문자열의 처음부터 정규식과 매치되는지 조사한다.\n",
        "- search() : 문자열 전체를 검색하여 정규식과 매치되는지 조사한다.\n",
        "- findall() : 정규식과 매치되는 모든 문자열(substring)을 리스트로 돌려준다.\n",
        "- finditer() : 정규식과 매치되는 모든 문자열(substring)을 반복 가능한 객체로 돌려준다.\n",
        "____\n",
        "match, search는 정규식과 매치될 때는 match 객체(정규식의 검색결과)를 돌려주고, 매치되지 않을 때는 None을 돌려준다.\n"
      ]
    },
    {
      "cell_type": "code",
      "metadata": {
        "id": "BrovvYX3i2Ol"
      },
      "source": [
        "import re"
      ],
      "execution_count": 4,
      "outputs": []
    },
    {
      "cell_type": "code",
      "metadata": {
        "colab": {
          "base_uri": "https://localhost:8080/"
        },
        "id": "8HVl5A35SgYu",
        "outputId": "0b9b1b8a-c38f-4877-b051-e5955f1710a2"
      },
      "source": [
        "# dot(.) - 두 문자 a와 b 사이에 어떤 문자가 들어가도 모두 매치됨을 의미\n",
        "wordlist = [\"color\", \"colour\", \"work\", \"working\",\n",
        "            \"fox\", \"worker\", \"working\"]\n",
        "\n",
        "for word in wordlist:\n",
        "  if re.search('col.r', word) :  # cor과 r 사이에 어떤 1개의 문자가 들어가도 상관 없다.\n",
        "    print(word)"
      ],
      "execution_count": 16,
      "outputs": [
        {
          "output_type": "stream",
          "text": [
            "color\n"
          ],
          "name": "stdout"
        }
      ]
    },
    {
      "cell_type": "code",
      "metadata": {
        "colab": {
          "base_uri": "https://localhost:8080/"
        },
        "id": "HQUBDuTdSqSn",
        "outputId": "0b3f7667-e0bd-48ed-a84a-d62f20c6059a"
      },
      "source": [
        "regular_expressions = '<html><head><title>Title</title>'\n",
        "print(len(regular_expressions))\n",
        "\n",
        "print(re.match('<.*>', regular_expressions).span())\n",
        "print(re.match('<.*>', regular_expressions).group())\n",
        "\n",
        "print(re.match('<.*>', regular_expressions))"
      ],
      "execution_count": 19,
      "outputs": [
        {
          "output_type": "stream",
          "text": [
            "32\n",
            "(0, 32)\n",
            "<html><head><title>Title</title>\n",
            "<re.Match object; span=(0, 32), match='<html><head><title>Title</title>'>\n"
          ],
          "name": "stdout"
        }
      ]
    },
    {
      "cell_type": "markdown",
      "metadata": {
        "id": "fyQrIlEQj9IQ"
      },
      "source": [
        "e.compile을 사용하여 정규 표현식(위 예에서는 ab*)을 컴파일한다. re.compile의 결과로 돌려주는 객체 p(컴파일된 패턴 객체)를 사용하여 그 이후의 작업을 수행할 것이다."
      ]
    },
    {
      "cell_type": "code",
      "metadata": {
        "id": "EelmChzZi-eo"
      },
      "source": [
        "# case 1\n",
        "p = re.compile(r\"\"\"\n",
        " \\s*                 # Skip leading whitespace\n",
        " (?P<header>[^:]+)   # Header name\n",
        " \\s* :               # Whitespace, and a colon\n",
        " (?P<value>.*?)      # The header's value -- *? used to\n",
        "                     # lose the following trailing whitespace\n",
        " \\s*$                # Trailing whitespace to end-of-line\n",
        "\"\"\", re.VERBOSE)"
      ],
      "execution_count": 25,
      "outputs": []
    },
    {
      "cell_type": "code",
      "metadata": {
        "id": "740XW9IDjqsJ"
      },
      "source": [
        "# case 2\n",
        "p = re.compile(r\"\\s*(?P<header>[^:]+)\\s*:(?P<value>.*?)\\s*$\")"
      ],
      "execution_count": 26,
      "outputs": []
    }
  ]
}