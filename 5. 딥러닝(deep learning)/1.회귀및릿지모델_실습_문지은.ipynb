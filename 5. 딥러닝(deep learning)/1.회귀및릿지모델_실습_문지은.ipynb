{
  "nbformat": 4,
  "nbformat_minor": 0,
  "metadata": {
    "colab": {
      "provenance": [],
      "toc_visible": true,
      "gpuType": "T4"
    },
    "kernelspec": {
      "name": "python3",
      "display_name": "Python 3"
    },
    "language_info": {
      "name": "python"
    },
    "accelerator": "GPU"
  },
  "cells": [
    {
      "cell_type": "markdown",
      "source": [
        "## 회귀 및 릿지모델"
      ],
      "metadata": {
        "id": "v8Nrb44rjSmp"
      }
    },
    {
      "cell_type": "markdown",
      "source": [
        "### 구글 드라이브 마운트"
      ],
      "metadata": {
        "id": "yVtiXpg7noIt"
      }
    },
    {
      "cell_type": "code",
      "source": [
        "from google.colab import drive\n",
        "drive.mount('/content/drive')"
      ],
      "metadata": {
        "colab": {
          "base_uri": "https://localhost:8080/"
        },
        "id": "n3IPGuVJjb03",
        "outputId": "215c1db2-81da-4dc0-f737-04c1110977ff"
      },
      "execution_count": 1,
      "outputs": [
        {
          "output_type": "stream",
          "name": "stdout",
          "text": [
            "Mounted at /content/drive\n"
          ]
        }
      ]
    },
    {
      "cell_type": "code",
      "source": [
        "import pandas as pd\n",
        "import numpy as np\n",
        "\n",
        "df = pd.read_csv('/content/drive/MyDrive/Colab Notebooks/dataset/house-standard-VALP.csv')\n",
        "df.shape"
      ],
      "metadata": {
        "colab": {
          "base_uri": "https://localhost:8080/"
        },
        "id": "tT_rhVjWi8dl",
        "outputId": "f4878632-e8c1-4767-90b6-222b47e66ca0"
      },
      "execution_count": 2,
      "outputs": [
        {
          "output_type": "execute_result",
          "data": {
            "text/plain": [
              "(20495, 93)"
            ]
          },
          "metadata": {},
          "execution_count": 2
        }
      ]
    },
    {
      "cell_type": "code",
      "source": [
        "df.head()"
      ],
      "metadata": {
        "colab": {
          "base_uri": "https://localhost:8080/",
          "height": 300
        },
        "id": "0bC6l17fk-gb",
        "outputId": "fa445ab1-72bd-4522-e6be-f13f861422e8"
      },
      "execution_count": 3,
      "outputs": [
        {
          "output_type": "execute_result",
          "data": {
            "text/plain": [
              "       AGEP      BDSP      ELEP      GASP     HINCP       NRC      RMSP  \\\n",
              "0  1.277527 -0.185587 -0.218278 -0.030785 -0.857357 -0.757285 -0.779457   \n",
              "1  0.115555 -0.185587  1.548888 -1.029228  0.537778 -0.757285 -0.261327   \n",
              "2  0.074056 -0.185587  1.548888 -1.029228  0.537778 -0.757285 -0.261327   \n",
              "3  0.945535 -0.185587 -0.975635 -0.243219 -0.564886 -0.757285 -0.261327   \n",
              "4  0.987034 -0.185587  0.286627  2.093563  0.048701 -0.757285  0.256802   \n",
              "\n",
              "       VALP  BATH  FESRP  ...  SCHL_16  SCHL_17  SCHL_18  SCHL_19  SCHL_20  \\\n",
              "0  0.401699   1.0      0  ...        0        0        0        0        0   \n",
              "1  6.192561   1.0      0  ...        1        0        0        0        0   \n",
              "2  6.192561   1.0      0  ...        1        0        0        0        0   \n",
              "3 -0.578293   1.0      0  ...        0        0        1        0        0   \n",
              "4 -0.043752   1.0      0  ...        0        0        0        0        0   \n",
              "\n",
              "   SCHL_21  SCHL_22  SCHL_23  SCHL_24  SEX_2  \n",
              "0        1        0        0        0      1  \n",
              "1        0        0        0        0      1  \n",
              "2        0        0        0        0      0  \n",
              "3        0        0        0        0      0  \n",
              "4        0        1        0        0      0  \n",
              "\n",
              "[5 rows x 93 columns]"
            ],
            "text/html": [
              "\n",
              "\n",
              "  <div id=\"df-10fe0794-d144-4ebd-a489-8e1abcaf4354\">\n",
              "    <div class=\"colab-df-container\">\n",
              "      <div>\n",
              "<style scoped>\n",
              "    .dataframe tbody tr th:only-of-type {\n",
              "        vertical-align: middle;\n",
              "    }\n",
              "\n",
              "    .dataframe tbody tr th {\n",
              "        vertical-align: top;\n",
              "    }\n",
              "\n",
              "    .dataframe thead th {\n",
              "        text-align: right;\n",
              "    }\n",
              "</style>\n",
              "<table border=\"1\" class=\"dataframe\">\n",
              "  <thead>\n",
              "    <tr style=\"text-align: right;\">\n",
              "      <th></th>\n",
              "      <th>AGEP</th>\n",
              "      <th>BDSP</th>\n",
              "      <th>ELEP</th>\n",
              "      <th>GASP</th>\n",
              "      <th>HINCP</th>\n",
              "      <th>NRC</th>\n",
              "      <th>RMSP</th>\n",
              "      <th>VALP</th>\n",
              "      <th>BATH</th>\n",
              "      <th>FESRP</th>\n",
              "      <th>...</th>\n",
              "      <th>SCHL_16</th>\n",
              "      <th>SCHL_17</th>\n",
              "      <th>SCHL_18</th>\n",
              "      <th>SCHL_19</th>\n",
              "      <th>SCHL_20</th>\n",
              "      <th>SCHL_21</th>\n",
              "      <th>SCHL_22</th>\n",
              "      <th>SCHL_23</th>\n",
              "      <th>SCHL_24</th>\n",
              "      <th>SEX_2</th>\n",
              "    </tr>\n",
              "  </thead>\n",
              "  <tbody>\n",
              "    <tr>\n",
              "      <th>0</th>\n",
              "      <td>1.277527</td>\n",
              "      <td>-0.185587</td>\n",
              "      <td>-0.218278</td>\n",
              "      <td>-0.030785</td>\n",
              "      <td>-0.857357</td>\n",
              "      <td>-0.757285</td>\n",
              "      <td>-0.779457</td>\n",
              "      <td>0.401699</td>\n",
              "      <td>1.0</td>\n",
              "      <td>0</td>\n",
              "      <td>...</td>\n",
              "      <td>0</td>\n",
              "      <td>0</td>\n",
              "      <td>0</td>\n",
              "      <td>0</td>\n",
              "      <td>0</td>\n",
              "      <td>1</td>\n",
              "      <td>0</td>\n",
              "      <td>0</td>\n",
              "      <td>0</td>\n",
              "      <td>1</td>\n",
              "    </tr>\n",
              "    <tr>\n",
              "      <th>1</th>\n",
              "      <td>0.115555</td>\n",
              "      <td>-0.185587</td>\n",
              "      <td>1.548888</td>\n",
              "      <td>-1.029228</td>\n",
              "      <td>0.537778</td>\n",
              "      <td>-0.757285</td>\n",
              "      <td>-0.261327</td>\n",
              "      <td>6.192561</td>\n",
              "      <td>1.0</td>\n",
              "      <td>0</td>\n",
              "      <td>...</td>\n",
              "      <td>1</td>\n",
              "      <td>0</td>\n",
              "      <td>0</td>\n",
              "      <td>0</td>\n",
              "      <td>0</td>\n",
              "      <td>0</td>\n",
              "      <td>0</td>\n",
              "      <td>0</td>\n",
              "      <td>0</td>\n",
              "      <td>1</td>\n",
              "    </tr>\n",
              "    <tr>\n",
              "      <th>2</th>\n",
              "      <td>0.074056</td>\n",
              "      <td>-0.185587</td>\n",
              "      <td>1.548888</td>\n",
              "      <td>-1.029228</td>\n",
              "      <td>0.537778</td>\n",
              "      <td>-0.757285</td>\n",
              "      <td>-0.261327</td>\n",
              "      <td>6.192561</td>\n",
              "      <td>1.0</td>\n",
              "      <td>0</td>\n",
              "      <td>...</td>\n",
              "      <td>1</td>\n",
              "      <td>0</td>\n",
              "      <td>0</td>\n",
              "      <td>0</td>\n",
              "      <td>0</td>\n",
              "      <td>0</td>\n",
              "      <td>0</td>\n",
              "      <td>0</td>\n",
              "      <td>0</td>\n",
              "      <td>0</td>\n",
              "    </tr>\n",
              "    <tr>\n",
              "      <th>3</th>\n",
              "      <td>0.945535</td>\n",
              "      <td>-0.185587</td>\n",
              "      <td>-0.975635</td>\n",
              "      <td>-0.243219</td>\n",
              "      <td>-0.564886</td>\n",
              "      <td>-0.757285</td>\n",
              "      <td>-0.261327</td>\n",
              "      <td>-0.578293</td>\n",
              "      <td>1.0</td>\n",
              "      <td>0</td>\n",
              "      <td>...</td>\n",
              "      <td>0</td>\n",
              "      <td>0</td>\n",
              "      <td>1</td>\n",
              "      <td>0</td>\n",
              "      <td>0</td>\n",
              "      <td>0</td>\n",
              "      <td>0</td>\n",
              "      <td>0</td>\n",
              "      <td>0</td>\n",
              "      <td>0</td>\n",
              "    </tr>\n",
              "    <tr>\n",
              "      <th>4</th>\n",
              "      <td>0.987034</td>\n",
              "      <td>-0.185587</td>\n",
              "      <td>0.286627</td>\n",
              "      <td>2.093563</td>\n",
              "      <td>0.048701</td>\n",
              "      <td>-0.757285</td>\n",
              "      <td>0.256802</td>\n",
              "      <td>-0.043752</td>\n",
              "      <td>1.0</td>\n",
              "      <td>0</td>\n",
              "      <td>...</td>\n",
              "      <td>0</td>\n",
              "      <td>0</td>\n",
              "      <td>0</td>\n",
              "      <td>0</td>\n",
              "      <td>0</td>\n",
              "      <td>0</td>\n",
              "      <td>1</td>\n",
              "      <td>0</td>\n",
              "      <td>0</td>\n",
              "      <td>0</td>\n",
              "    </tr>\n",
              "  </tbody>\n",
              "</table>\n",
              "<p>5 rows × 93 columns</p>\n",
              "</div>\n",
              "      <button class=\"colab-df-convert\" onclick=\"convertToInteractive('df-10fe0794-d144-4ebd-a489-8e1abcaf4354')\"\n",
              "              title=\"Convert this dataframe to an interactive table.\"\n",
              "              style=\"display:none;\">\n",
              "\n",
              "  <svg xmlns=\"http://www.w3.org/2000/svg\" height=\"24px\"viewBox=\"0 0 24 24\"\n",
              "       width=\"24px\">\n",
              "    <path d=\"M0 0h24v24H0V0z\" fill=\"none\"/>\n",
              "    <path d=\"M18.56 5.44l.94 2.06.94-2.06 2.06-.94-2.06-.94-.94-2.06-.94 2.06-2.06.94zm-11 1L8.5 8.5l.94-2.06 2.06-.94-2.06-.94L8.5 2.5l-.94 2.06-2.06.94zm10 10l.94 2.06.94-2.06 2.06-.94-2.06-.94-.94-2.06-.94 2.06-2.06.94z\"/><path d=\"M17.41 7.96l-1.37-1.37c-.4-.4-.92-.59-1.43-.59-.52 0-1.04.2-1.43.59L10.3 9.45l-7.72 7.72c-.78.78-.78 2.05 0 2.83L4 21.41c.39.39.9.59 1.41.59.51 0 1.02-.2 1.41-.59l7.78-7.78 2.81-2.81c.8-.78.8-2.07 0-2.86zM5.41 20L4 18.59l7.72-7.72 1.47 1.35L5.41 20z\"/>\n",
              "  </svg>\n",
              "      </button>\n",
              "\n",
              "\n",
              "\n",
              "    <div id=\"df-adbb218a-97f7-47f1-b52b-a4024a91bf27\">\n",
              "      <button class=\"colab-df-quickchart\" onclick=\"quickchart('df-adbb218a-97f7-47f1-b52b-a4024a91bf27')\"\n",
              "              title=\"Suggest charts.\"\n",
              "              style=\"display:none;\">\n",
              "\n",
              "<svg xmlns=\"http://www.w3.org/2000/svg\" height=\"24px\"viewBox=\"0 0 24 24\"\n",
              "     width=\"24px\">\n",
              "    <g>\n",
              "        <path d=\"M19 3H5c-1.1 0-2 .9-2 2v14c0 1.1.9 2 2 2h14c1.1 0 2-.9 2-2V5c0-1.1-.9-2-2-2zM9 17H7v-7h2v7zm4 0h-2V7h2v10zm4 0h-2v-4h2v4z\"/>\n",
              "    </g>\n",
              "</svg>\n",
              "      </button>\n",
              "    </div>\n",
              "\n",
              "<style>\n",
              "  .colab-df-quickchart {\n",
              "    background-color: #E8F0FE;\n",
              "    border: none;\n",
              "    border-radius: 50%;\n",
              "    cursor: pointer;\n",
              "    display: none;\n",
              "    fill: #1967D2;\n",
              "    height: 32px;\n",
              "    padding: 0 0 0 0;\n",
              "    width: 32px;\n",
              "  }\n",
              "\n",
              "  .colab-df-quickchart:hover {\n",
              "    background-color: #E2EBFA;\n",
              "    box-shadow: 0px 1px 2px rgba(60, 64, 67, 0.3), 0px 1px 3px 1px rgba(60, 64, 67, 0.15);\n",
              "    fill: #174EA6;\n",
              "  }\n",
              "\n",
              "  [theme=dark] .colab-df-quickchart {\n",
              "    background-color: #3B4455;\n",
              "    fill: #D2E3FC;\n",
              "  }\n",
              "\n",
              "  [theme=dark] .colab-df-quickchart:hover {\n",
              "    background-color: #434B5C;\n",
              "    box-shadow: 0px 1px 3px 1px rgba(0, 0, 0, 0.15);\n",
              "    filter: drop-shadow(0px 1px 2px rgba(0, 0, 0, 0.3));\n",
              "    fill: #FFFFFF;\n",
              "  }\n",
              "</style>\n",
              "\n",
              "    <script>\n",
              "      async function quickchart(key) {\n",
              "        const containerElement = document.querySelector('#' + key);\n",
              "        const charts = await google.colab.kernel.invokeFunction(\n",
              "            'suggestCharts', [key], {});\n",
              "      }\n",
              "    </script>\n",
              "\n",
              "      <script>\n",
              "\n",
              "function displayQuickchartButton(domScope) {\n",
              "  let quickchartButtonEl =\n",
              "    domScope.querySelector('#df-adbb218a-97f7-47f1-b52b-a4024a91bf27 button.colab-df-quickchart');\n",
              "  quickchartButtonEl.style.display =\n",
              "    google.colab.kernel.accessAllowed ? 'block' : 'none';\n",
              "}\n",
              "\n",
              "        displayQuickchartButton(document);\n",
              "      </script>\n",
              "      <style>\n",
              "    .colab-df-container {\n",
              "      display:flex;\n",
              "      flex-wrap:wrap;\n",
              "      gap: 12px;\n",
              "    }\n",
              "\n",
              "    .colab-df-convert {\n",
              "      background-color: #E8F0FE;\n",
              "      border: none;\n",
              "      border-radius: 50%;\n",
              "      cursor: pointer;\n",
              "      display: none;\n",
              "      fill: #1967D2;\n",
              "      height: 32px;\n",
              "      padding: 0 0 0 0;\n",
              "      width: 32px;\n",
              "    }\n",
              "\n",
              "    .colab-df-convert:hover {\n",
              "      background-color: #E2EBFA;\n",
              "      box-shadow: 0px 1px 2px rgba(60, 64, 67, 0.3), 0px 1px 3px 1px rgba(60, 64, 67, 0.15);\n",
              "      fill: #174EA6;\n",
              "    }\n",
              "\n",
              "    [theme=dark] .colab-df-convert {\n",
              "      background-color: #3B4455;\n",
              "      fill: #D2E3FC;\n",
              "    }\n",
              "\n",
              "    [theme=dark] .colab-df-convert:hover {\n",
              "      background-color: #434B5C;\n",
              "      box-shadow: 0px 1px 3px 1px rgba(0, 0, 0, 0.15);\n",
              "      filter: drop-shadow(0px 1px 2px rgba(0, 0, 0, 0.3));\n",
              "      fill: #FFFFFF;\n",
              "    }\n",
              "  </style>\n",
              "\n",
              "      <script>\n",
              "        const buttonEl =\n",
              "          document.querySelector('#df-10fe0794-d144-4ebd-a489-8e1abcaf4354 button.colab-df-convert');\n",
              "        buttonEl.style.display =\n",
              "          google.colab.kernel.accessAllowed ? 'block' : 'none';\n",
              "\n",
              "        async function convertToInteractive(key) {\n",
              "          const element = document.querySelector('#df-10fe0794-d144-4ebd-a489-8e1abcaf4354');\n",
              "          const dataTable =\n",
              "            await google.colab.kernel.invokeFunction('convertToInteractive',\n",
              "                                                     [key], {});\n",
              "          if (!dataTable) return;\n",
              "\n",
              "          const docLinkHtml = 'Like what you see? Visit the ' +\n",
              "            '<a target=\"_blank\" href=https://colab.research.google.com/notebooks/data_table.ipynb>data table notebook</a>'\n",
              "            + ' to learn more about interactive tables.';\n",
              "          element.innerHTML = '';\n",
              "          dataTable['output_type'] = 'display_data';\n",
              "          await google.colab.output.renderOutput(dataTable, element);\n",
              "          const docLink = document.createElement('div');\n",
              "          docLink.innerHTML = docLinkHtml;\n",
              "          element.appendChild(docLink);\n",
              "        }\n",
              "      </script>\n",
              "    </div>\n",
              "  </div>\n"
            ]
          },
          "metadata": {},
          "execution_count": 3
        }
      ]
    },
    {
      "cell_type": "markdown",
      "source": [
        "### 타겟변수를 제외한 입력변수를 data에 저장"
      ],
      "metadata": {
        "id": "vd2KuRzxnqss"
      }
    },
    {
      "cell_type": "code",
      "source": [
        "data = df.drop(['VALP'], axis=1)\n",
        "target = df['VALP']"
      ],
      "metadata": {
        "id": "2ZYWOgZTmZQq"
      },
      "execution_count": 4,
      "outputs": []
    },
    {
      "cell_type": "markdown",
      "source": [
        "### train data, test data 분리"
      ],
      "metadata": {
        "id": "Y8A9R3ehn8cG"
      }
    },
    {
      "cell_type": "code",
      "source": [
        "from sklearn.model_selection import train_test_split\n",
        "X_train, X_test, y_train, y_test = train_test_split(data, target, test_size=0.5, random_state=42)\n",
        "\n",
        "print(\"X_train shape : \", X_train.shape)\n",
        "print(\"X_test shape : \", X_test.shape)\n",
        "print(\"y_train shape : \", y_train.shape)\n",
        "print(\"y_test shape : \", y_test.shape)"
      ],
      "metadata": {
        "colab": {
          "base_uri": "https://localhost:8080/"
        },
        "id": "3Ynaq7Jjn7x2",
        "outputId": "2e776b21-a32d-4c3b-9928-488e9767656b"
      },
      "execution_count": 5,
      "outputs": [
        {
          "output_type": "stream",
          "name": "stdout",
          "text": [
            "X_train shape :  (10247, 92)\n",
            "X_test shape :  (10248, 92)\n",
            "y_train shape :  (10247,)\n",
            "y_test shape :  (10248,)\n"
          ]
        }
      ]
    },
    {
      "cell_type": "markdown",
      "source": [
        "### 연속 변수가 타겟 변수일 때 Linear Regression 모델(default 모델) 사용"
      ],
      "metadata": {
        "id": "jUmPIIjppJDG"
      }
    },
    {
      "cell_type": "code",
      "source": [
        "from sklearn.linear_model import LinearRegression\n",
        "from sklearn.metrics import r2_score\n",
        "\n",
        "linr = LinearRegression(n_jobs = -1)\n",
        "model = linr.fit(X_train, y_train)\n",
        "pred = model.predict(X_test)\n",
        "\n",
        "print(\"Linear Reg. Training set r2 score : {:.5f}\".format(model.score(X_train, y_train)))\n",
        "print(\"    Linear Reg. Test set r2 score : {:.5f}\".format(r2_score(y_test, pred)))"
      ],
      "metadata": {
        "colab": {
          "base_uri": "https://localhost:8080/"
        },
        "id": "6A1swB8dnybz",
        "outputId": "7063b617-a213-47b5-f5bb-0ad627aac35e"
      },
      "execution_count": 6,
      "outputs": [
        {
          "output_type": "stream",
          "name": "stdout",
          "text": [
            "Linear Reg. Training set r2 score : 0.34319\n",
            "    Linear Reg. Test set r2 score : 0.33329\n"
          ]
        }
      ]
    },
    {
      "cell_type": "markdown",
      "source": [
        "### 연속 변수가 타겟변수일 때 Ridge 모델(default 모델) 사용"
      ],
      "metadata": {
        "id": "pgyUzSQVq26N"
      }
    },
    {
      "cell_type": "code",
      "source": [
        "from sklearn.linear_model import Ridge\n",
        "\n",
        "ridge = Ridge()\n",
        "model = ridge.fit(X_train, y_train)\n",
        "pred = model.predict(X_test)\n",
        "\n",
        "print(\"Ridge Reg. Training set r2 score : {:.5f}\".format(model.score(X_train, y_train)))\n",
        "print(\"    Ridge Reg. Test set r2 score : {:.5f}\".format(r2_score(y_test, pred)))"
      ],
      "metadata": {
        "colab": {
          "base_uri": "https://localhost:8080/"
        },
        "id": "JvzTFpqNppqx",
        "outputId": "9cc45815-6e79-41ca-9b73-2187ba4ed1ba"
      },
      "execution_count": 7,
      "outputs": [
        {
          "output_type": "stream",
          "name": "stdout",
          "text": [
            "Ridge Reg. Training set r2 score : 0.34405\n",
            "    Ridge Reg. Test set r2 score : 0.33379\n"
          ]
        }
      ]
    },
    {
      "cell_type": "markdown",
      "source": [
        "### 그리드 서치 실행"
      ],
      "metadata": {
        "id": "N9I0FX5OAu_1"
      }
    },
    {
      "cell_type": "code",
      "source": [
        "from sklearn.model_selection import GridSearchCV\n",
        "\n",
        "clf_Ridge = Ridge()\n",
        "params = {'alpha' : [0.001, 0.01, 0.1, 1, 10, 100, 1000],\n",
        "          'solver' : ['auto','svc','lsqr','cholesky','spares_cg','sag','saga','lbfgs']}\n",
        "\n",
        "grid_Ridge = GridSearchCV(clf_Ridge, param_grid=params, scoring='r2',cv=5, n_jobs=1, verbose=1)\n",
        "grid_Ridge.fit(X_train, y_train)\n",
        "\n",
        "print(\"GridSearchCV max score :{:.5f}\".format(grid_Ridge.best_score_))\n",
        "print(\"GridSearchCV best parameter : \", grid_Ridge.best_params_)"
      ],
      "metadata": {
        "colab": {
          "base_uri": "https://localhost:8080/"
        },
        "id": "U-8WAcmlAs5S",
        "outputId": "f239d5b6-4176-44e3-f766-87e8e00042c9"
      },
      "execution_count": 8,
      "outputs": [
        {
          "output_type": "stream",
          "name": "stdout",
          "text": [
            "Fitting 5 folds for each of 56 candidates, totalling 280 fits\n"
          ]
        },
        {
          "output_type": "stream",
          "name": "stderr",
          "text": [
            "/usr/local/lib/python3.10/dist-packages/sklearn/model_selection/_validation.py:378: FitFailedWarning: \n",
            "105 fits failed out of a total of 280.\n",
            "The score on these train-test partitions for these parameters will be set to nan.\n",
            "If these failures are not expected, you can try to debug them by setting error_score='raise'.\n",
            "\n",
            "Below are more details about the failures:\n",
            "--------------------------------------------------------------------------------\n",
            "35 fits failed with the following error:\n",
            "Traceback (most recent call last):\n",
            "  File \"/usr/local/lib/python3.10/dist-packages/sklearn/model_selection/_validation.py\", line 686, in _fit_and_score\n",
            "    estimator.fit(X_train, y_train, **fit_params)\n",
            "  File \"/usr/local/lib/python3.10/dist-packages/sklearn/linear_model/_ridge.py\", line 1123, in fit\n",
            "    self._validate_params()\n",
            "  File \"/usr/local/lib/python3.10/dist-packages/sklearn/base.py\", line 600, in _validate_params\n",
            "    validate_parameter_constraints(\n",
            "  File \"/usr/local/lib/python3.10/dist-packages/sklearn/utils/_param_validation.py\", line 97, in validate_parameter_constraints\n",
            "    raise InvalidParameterError(\n",
            "sklearn.utils._param_validation.InvalidParameterError: The 'solver' parameter of Ridge must be a str among {'lsqr', 'sag', 'saga', 'cholesky', 'svd', 'lbfgs', 'auto', 'sparse_cg'}. Got 'svc' instead.\n",
            "\n",
            "--------------------------------------------------------------------------------\n",
            "35 fits failed with the following error:\n",
            "Traceback (most recent call last):\n",
            "  File \"/usr/local/lib/python3.10/dist-packages/sklearn/model_selection/_validation.py\", line 686, in _fit_and_score\n",
            "    estimator.fit(X_train, y_train, **fit_params)\n",
            "  File \"/usr/local/lib/python3.10/dist-packages/sklearn/linear_model/_ridge.py\", line 1123, in fit\n",
            "    self._validate_params()\n",
            "  File \"/usr/local/lib/python3.10/dist-packages/sklearn/base.py\", line 600, in _validate_params\n",
            "    validate_parameter_constraints(\n",
            "  File \"/usr/local/lib/python3.10/dist-packages/sklearn/utils/_param_validation.py\", line 97, in validate_parameter_constraints\n",
            "    raise InvalidParameterError(\n",
            "sklearn.utils._param_validation.InvalidParameterError: The 'solver' parameter of Ridge must be a str among {'lsqr', 'sag', 'saga', 'cholesky', 'svd', 'lbfgs', 'auto', 'sparse_cg'}. Got 'spares_cg' instead.\n",
            "\n",
            "--------------------------------------------------------------------------------\n",
            "35 fits failed with the following error:\n",
            "Traceback (most recent call last):\n",
            "  File \"/usr/local/lib/python3.10/dist-packages/sklearn/model_selection/_validation.py\", line 686, in _fit_and_score\n",
            "    estimator.fit(X_train, y_train, **fit_params)\n",
            "  File \"/usr/local/lib/python3.10/dist-packages/sklearn/linear_model/_ridge.py\", line 1134, in fit\n",
            "    return super().fit(X, y, sample_weight=sample_weight)\n",
            "  File \"/usr/local/lib/python3.10/dist-packages/sklearn/linear_model/_ridge.py\", line 825, in fit\n",
            "    raise ValueError(\n",
            "ValueError: 'lbfgs' solver can be used only when positive=True. Please use another solver.\n",
            "\n",
            "  warnings.warn(some_fits_failed_message, FitFailedWarning)\n",
            "/usr/local/lib/python3.10/dist-packages/sklearn/model_selection/_search.py:952: UserWarning: One or more of the test scores are non-finite: [0.33051397        nan 0.33051469 0.33051397        nan 0.33051625\n",
            " 0.33051934        nan 0.33051743        nan 0.33051738 0.33051743\n",
            "        nan 0.3305195  0.33052296        nan 0.33055065        nan\n",
            " 0.33054363 0.33055065        nan 0.33055259 0.3305562         nan\n",
            " 0.33078908        nan 0.33073761 0.33078908        nan 0.33079071\n",
            " 0.33079218        nan 0.33139465        nan 0.33137425 0.33139465\n",
            "        nan 0.33139554 0.33139465        nan 0.32798663        nan\n",
            " 0.32799736 0.32798663        nan 0.32798666 0.327985          nan\n",
            " 0.29929105        nan 0.2992901  0.29929105        nan 0.299291\n",
            " 0.29929127        nan]\n",
            "  warnings.warn(\n"
          ]
        },
        {
          "output_type": "stream",
          "name": "stdout",
          "text": [
            "GridSearchCV max score :0.33140\n",
            "GridSearchCV best parameter :  {'alpha': 10, 'solver': 'sag'}\n"
          ]
        }
      ]
    },
    {
      "cell_type": "markdown",
      "source": [
        "### 연속 변수가 타겟변수 일 때 Lasso 모델 사용"
      ],
      "metadata": {
        "id": "W502x6l6FOnw"
      }
    },
    {
      "cell_type": "code",
      "source": [
        "from sklearn.linear_model import Lasso\n",
        "clt_lasso = Lasso()\n",
        "\n",
        "model = clt_lasso.fit(X_train, y_train)\n",
        "pred = model.predict(X_test)\n",
        "\n",
        "print(\"Lasso Reg. Training set r2 score : {:.5f}\".format(clt_lasso.score(X_train, y_train)))\n",
        "print(\"    Lasso Reg. Test set r2 score : {:.5f}\".format(r2_score(y_test, pred)))"
      ],
      "metadata": {
        "colab": {
          "base_uri": "https://localhost:8080/"
        },
        "id": "KbVv7Z9FEy7Q",
        "outputId": "36e807e2-53b4-46f7-ee46-389f9f5bb1d5"
      },
      "execution_count": 16,
      "outputs": [
        {
          "output_type": "stream",
          "name": "stdout",
          "text": [
            "Lasso Reg. Training set r2 score : 0.00000\n",
            "    Lasso Reg. Test set r2 score : -0.00015\n"
          ]
        }
      ]
    },
    {
      "cell_type": "code",
      "source": [],
      "metadata": {
        "id": "zHplFBgVGVrU"
      },
      "execution_count": null,
      "outputs": []
    }
  ]
}