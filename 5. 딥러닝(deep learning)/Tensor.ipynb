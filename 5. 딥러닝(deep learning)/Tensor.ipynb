{
  "nbformat": 4,
  "nbformat_minor": 0,
  "metadata": {
    "colab": {
      "name": "Tensor.ipynb",
      "provenance": [],
      "toc_visible": true,
      "authorship_tag": "ABX9TyMg/P3J3tYTHGz4E+UDF0/y",
      "include_colab_link": true
    },
    "kernelspec": {
      "name": "python3",
      "display_name": "Python 3"
    },
    "language_info": {
      "name": "python"
    }
  },
  "cells": [
    {
      "cell_type": "markdown",
      "metadata": {
        "id": "view-in-github",
        "colab_type": "text"
      },
      "source": [
        "<a href=\"https://colab.research.google.com/github/gggggeun/study/blob/main/5.%20%EB%94%A5%EB%9F%AC%EB%8B%9D(deep%20learning)/Tensor.ipynb\" target=\"_parent\"><img src=\"https://colab.research.google.com/assets/colab-badge.svg\" alt=\"Open In Colab\"/></a>"
      ]
    },
    {
      "cell_type": "markdown",
      "metadata": {
        "id": "tgRFcyV7BT-i"
      },
      "source": [
        "# Tensor\n",
        "\n",
        ": 다차원 넘파이 배열. 머신러닝 기본 데이터 구조로 사용.\n",
        "\n",
        "\n",
        "\n",
        "텐서플로를 비롯해 딥러닝 라이브러리들은 다차원 배열을 텐서라고 부른다. (하지만 파이썬 커뮤니티에서 넘파이 배열을 텐서라고 부르지는 않는다.)\n",
        "\n",
        "텐서는 임의의 차원 개수를 가지는 행렬의 일반화된 모습이다. 텐서에서는 차원(dimension)을 종종 축(axis)라고 부른다.\n",
        "\n",
        "핵심적으로 텐서는 데이터를 위한 컨테이너(container)이다. 거의 수치형 데이터를 다루므로 숫자를 위한 컨테이너라고 생각하면 된다."
      ]
    },
    {
      "cell_type": "markdown",
      "metadata": {
        "id": "HRjl8A52FIQu"
      },
      "source": [
        "### 텐서의 핵심 속성\n",
        "- 축의 개수(rank) : 2D = (axis=2), 3D = (axis=3)\n",
        "- 크기(shape) : 텐서의 각 축을 다라 얼마나 많은 차원이 있는지 나타낸 파이썬의 튜플.  \n",
        "  ex) 1D = (5,) , 3D = (3, 5) , 3D = (3, 3, 5) \n",
        "- 데이터 타입(dtype) : 텐서에 포함된 데이터의 타입. float32, uint8, float64 등. 드물게 char 타입을 사용하지만, 텐서는 사전에 할당되어 연속된 메모리에 저장되어야 하므로 넘파이 배열과 대부분 라이브러리는 가변 길이의 문자열을 지원하지 않는다."
      ]
    },
    {
      "cell_type": "markdown",
      "metadata": {
        "id": "1DWlwSui-A9w"
      },
      "source": [
        "### 1. Scalar - 0D tensor"
      ]
    },
    {
      "cell_type": "code",
      "metadata": {
        "colab": {
          "base_uri": "https://localhost:8080/"
        },
        "id": "0qYS_Rfq7uMy",
        "outputId": "0e1a18d1-08b2-40e9-ddc1-4135ec97f7a5"
      },
      "source": [
        "import numpy as np\n",
        "x = np.array(12)\n",
        "x"
      ],
      "execution_count": 3,
      "outputs": [
        {
          "output_type": "execute_result",
          "data": {
            "text/plain": [
              "array(12)"
            ]
          },
          "metadata": {
            "tags": []
          },
          "execution_count": 3
        }
      ]
    },
    {
      "cell_type": "code",
      "metadata": {
        "colab": {
          "base_uri": "https://localhost:8080/"
        },
        "id": "a0enZfN48ELT",
        "outputId": "0ab0b4de-709d-4d79-b57b-3759afc88c6f"
      },
      "source": [
        "print(\"rank : \", x.ndim)"
      ],
      "execution_count": 6,
      "outputs": [
        {
          "output_type": "stream",
          "text": [
            "rank :  0\n"
          ],
          "name": "stdout"
        }
      ]
    },
    {
      "cell_type": "markdown",
      "metadata": {
        "id": "7I0x9Hai-JuY"
      },
      "source": [
        "### 2. Vector - 1D tensor"
      ]
    },
    {
      "cell_type": "code",
      "metadata": {
        "colab": {
          "base_uri": "https://localhost:8080/"
        },
        "id": "nkLzUu649MoY",
        "outputId": "f9ae51f1-f7c1-47e0-fe8f-3d8d67bd65e3"
      },
      "source": [
        "x = np.array([1, 10, 55, 25, 9])\n",
        "x"
      ],
      "execution_count": 8,
      "outputs": [
        {
          "output_type": "execute_result",
          "data": {
            "text/plain": [
              "array([ 1, 10, 55, 25,  9])"
            ]
          },
          "metadata": {
            "tags": []
          },
          "execution_count": 8
        }
      ]
    },
    {
      "cell_type": "code",
      "metadata": {
        "colab": {
          "base_uri": "https://localhost:8080/"
        },
        "id": "AwdBaZqO-ToA",
        "outputId": "753c6535-421d-44e8-e175-f5bf5d920276"
      },
      "source": [
        "print(\"rank : \", x.ndim)"
      ],
      "execution_count": 11,
      "outputs": [
        {
          "output_type": "stream",
          "text": [
            "rank :  1\n"
          ],
          "name": "stdout"
        }
      ]
    },
    {
      "cell_type": "markdown",
      "metadata": {
        "id": "O3fWbKKEATA6"
      },
      "source": [
        "### 3. Metrix - 2D tensor"
      ]
    },
    {
      "cell_type": "code",
      "metadata": {
        "colab": {
          "base_uri": "https://localhost:8080/"
        },
        "id": "IszIdv9D-cvD",
        "outputId": "e1555c56-57c6-4309-d9b7-34aa35ff2e2a"
      },
      "source": [
        "x = np.array([[1, 3, 5, 7, 9],\n",
        "             [39, 23, 22, 1, 0],\n",
        "             [3, 66, 39, 2, 8]])\n",
        "x"
      ],
      "execution_count": 13,
      "outputs": [
        {
          "output_type": "execute_result",
          "data": {
            "text/plain": [
              "array([[ 1,  3,  5,  7,  9],\n",
              "       [39, 23, 22,  1,  0],\n",
              "       [ 3, 66, 39,  2,  8]])"
            ]
          },
          "metadata": {
            "tags": []
          },
          "execution_count": 13
        }
      ]
    },
    {
      "cell_type": "code",
      "metadata": {
        "colab": {
          "base_uri": "https://localhost:8080/"
        },
        "id": "3IgTdvQ8Aj0u",
        "outputId": "f429700f-d74c-4651-93b0-929c45f4da00"
      },
      "source": [
        "print(\"rank : \", x.ndim)"
      ],
      "execution_count": 14,
      "outputs": [
        {
          "output_type": "stream",
          "text": [
            "rank :  2\n"
          ],
          "name": "stdout"
        }
      ]
    },
    {
      "cell_type": "markdown",
      "metadata": {
        "id": "12Rxfi6TBhoy"
      },
      "source": [
        "### 4. 3D tensor & High-dimension tensor"
      ]
    },
    {
      "cell_type": "code",
      "metadata": {
        "colab": {
          "base_uri": "https://localhost:8080/"
        },
        "id": "gEMG9cOQBebQ",
        "outputId": "59358100-e0c4-4876-f303-cfef868fad81"
      },
      "source": [
        "x = np.array([[[1, 3, 5, 7, 9],\n",
        "             [39, 23, 22, 1, 0],\n",
        "             [3, 66, 39, 2, 8]],\n",
        "             [[1, 3, 5, 7, 9],\n",
        "             [39, 23, 22, 1, 0],\n",
        "             [3, 66, 39, 2, 8]],\n",
        "             [[1, 3, 5, 7, 9],\n",
        "             [39, 23, 22, 1, 0],\n",
        "             [3, 66, 39, 2, 8]]])\n",
        "x"
      ],
      "execution_count": 15,
      "outputs": [
        {
          "output_type": "execute_result",
          "data": {
            "text/plain": [
              "array([[[ 1,  3,  5,  7,  9],\n",
              "        [39, 23, 22,  1,  0],\n",
              "        [ 3, 66, 39,  2,  8]],\n",
              "\n",
              "       [[ 1,  3,  5,  7,  9],\n",
              "        [39, 23, 22,  1,  0],\n",
              "        [ 3, 66, 39,  2,  8]],\n",
              "\n",
              "       [[ 1,  3,  5,  7,  9],\n",
              "        [39, 23, 22,  1,  0],\n",
              "        [ 3, 66, 39,  2,  8]]])"
            ]
          },
          "metadata": {
            "tags": []
          },
          "execution_count": 15
        }
      ]
    },
    {
      "cell_type": "code",
      "metadata": {
        "colab": {
          "base_uri": "https://localhost:8080/"
        },
        "id": "fZ_zZxbfAs8h",
        "outputId": "d54086c2-3136-45d7-c15b-a69a99dc309c"
      },
      "source": [
        "print(\"rank : \", x.ndim)"
      ],
      "execution_count": 16,
      "outputs": [
        {
          "output_type": "stream",
          "text": [
            "rank :  3\n"
          ],
          "name": "stdout"
        }
      ]
    },
    {
      "cell_type": "markdown",
      "metadata": {
        "id": "xA9-wPzJFCaC"
      },
      "source": [
        "3D 텐서들을 하나의 배열로 합치면 4D 텐서가 만들어 진다.\n",
        "\n",
        "딥러닝에서는 보통 0D에서 4D까지의 텐서를 다룬다. 만약 동영상 데이터를 다룰 경우에는 5D 텐서 까지 가기도 한다."
      ]
    }
  ]
}