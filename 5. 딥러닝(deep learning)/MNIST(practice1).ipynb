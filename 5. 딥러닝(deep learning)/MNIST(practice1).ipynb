{
  "nbformat": 4,
  "nbformat_minor": 0,
  "metadata": {
    "colab": {
      "name": "MNIST(practice1).ipynb",
      "provenance": [],
      "toc_visible": true,
      "authorship_tag": "ABX9TyMqxQicbt4iBDaizitItFE9",
      "include_colab_link": true
    },
    "kernelspec": {
      "name": "python3",
      "display_name": "Python 3"
    },
    "language_info": {
      "name": "python"
    }
  },
  "cells": [
    {
      "cell_type": "markdown",
      "metadata": {
        "id": "view-in-github",
        "colab_type": "text"
      },
      "source": [
        "<a href=\"https://colab.research.google.com/github/gggggeun/study/blob/main/MNIST(practice1).ipynb\" target=\"_parent\"><img src=\"https://colab.research.google.com/assets/colab-badge.svg\" alt=\"Open In Colab\"/></a>"
      ]
    },
    {
      "cell_type": "markdown",
      "metadata": {
        "id": "OYznyzpjdsUU"
      },
      "source": [
        "# 흑백 손글씨 숫자 이미지 (MNIST) - practice1\n",
        "\n",
        "### 손글씨 숫자 이미지 28x28픽셀 60,000개를 10개의 범주(0~9)로 분류\n",
        "- numpy 배열 형태로 keras에 포함됨.\n",
        "- 이미지와 레이블이 1:1 관계"
      ]
    },
    {
      "cell_type": "code",
      "metadata": {
        "colab": {
          "base_uri": "https://localhost:8080/"
        },
        "id": "wo2hLoZWdkhl",
        "outputId": "157069ed-c085-4b66-8936-2848d8e37406"
      },
      "source": [
        "# MNIST 데이터 불러오기\n",
        "from keras.datasets import mnist\n",
        "(train_images, train_labels), (test_images, test_labels) = mnist.load_data()"
      ],
      "execution_count": 1,
      "outputs": [
        {
          "output_type": "stream",
          "text": [
            "Downloading data from https://storage.googleapis.com/tensorflow/tf-keras-datasets/mnist.npz\n",
            "11493376/11490434 [==============================] - 0s 0us/step\n"
          ],
          "name": "stdout"
        }
      ]
    },
    {
      "cell_type": "code",
      "metadata": {
        "colab": {
          "base_uri": "https://localhost:8080/"
        },
        "id": "h3zjWbSFef0C",
        "outputId": "8535dce2-2869-400a-d800-caeea6309892"
      },
      "source": [
        "# train data\n",
        "print(\"<train data - 28*28픽셀의 60,000개 이미지>\\n\")\n",
        "print(train_images.shape)\n",
        "print(len(train_labels))\n",
        "print(train_labels)\n",
        "\n",
        "print(\"\\n--------------\\n\")\n",
        "\n",
        "# test data\n",
        "print(\"<test data - 28*28픽셀의 10,000개 이미지>\\n\")\n",
        "print(test_images.shape)\n",
        "print(len(test_labels))\n",
        "print(test_labels)"
      ],
      "execution_count": 2,
      "outputs": [
        {
          "output_type": "stream",
          "text": [
            "<train data - 28*28픽셀의 60,000개 이미지>\n",
            "\n",
            "(60000, 28, 28)\n",
            "60000\n",
            "[5 0 4 ... 5 6 8]\n",
            "\n",
            "--------------\n",
            "\n",
            "<test data - 28*28픽셀의 10,000개 이미지>\n",
            "\n",
            "(10000, 28, 28)\n",
            "10000\n",
            "[7 2 1 ... 4 5 6]\n"
          ],
          "name": "stdout"
        }
      ]
    },
    {
      "cell_type": "markdown",
      "metadata": {
        "id": "PA0BZtl_iJ5v"
      },
      "source": [
        "## 작업 순서\n",
        "0. 학습시킬 준비를 한다.(신경망 만들기, compile, 전처리)\n",
        "1. train_images와 train_labels를 네트워크에 주입한다.\n",
        "2. 네트워크는 이미지와 레이블을 연관시킬 수 있도록 학습한다.\n",
        "3. test_images에 대한 예측을 네트워크에 요청하면 그 예측이 test_labels와 맞는지 확인할 것이다."
      ]
    },
    {
      "cell_type": "markdown",
      "metadata": {
        "id": "OfnyMC6RsFXz"
      },
      "source": [
        "#### 학습 시킬 준비하기"
      ]
    },
    {
      "cell_type": "code",
      "metadata": {
        "id": "PmzWc4yafyT_"
      },
      "source": [
        "# 간단한 신경망 만들기\n",
        "\n",
        "from keras import models\n",
        "from keras import layers\n",
        "\n",
        "network = models.Sequential()\n",
        "network.add(layers.Dense(512, activation='relu', input_shape=(28 * 28 ,)))\n",
        "network.add(layers.Dense(10, activation='softmax'))"
      ],
      "execution_count": 3,
      "outputs": []
    },
    {
      "cell_type": "markdown",
      "metadata": {
        "id": "KgLAM8WZj9xP"
      },
      "source": [
        "- **신경망의 핵심 구성 요소**는 일종의 데이터 처리 **필터**라고 생각할 수 있는 **층(layer)**이다. 이 층은 데이터가 입력되면 주어진 문제에 더 의미있는 **표현(representation)**을 추출한다.\n",
        "- 위 코드의 예에서는 조밀하게 연결된 (또는 완전연결(**fully connected**)된) 신경망 층인 **Dense층** 2개가 연속되어 있다. \n",
        "- 두번째(마지막) 층은 10개의 확률 점수가 들어 있는 배열(모두 더하면 1)을 반환하는 **softmax** 층이다.\n",
        "- 각 점수는 현재 숫자 이미지가 10개의 숫자 클래스 중 하나에 속할 확률이다."
      ]
    },
    {
      "cell_type": "code",
      "metadata": {
        "id": "eMqbVbkIjazj"
      },
      "source": [
        "# 신경망을 compile하는 단계\n",
        "\n",
        "network.compile(optimizer='rmsprop',\n",
        "                loss='categorical_crossentropy',\n",
        "                metrics=['accuracy'])"
      ],
      "execution_count": 4,
      "outputs": []
    },
    {
      "cell_type": "markdown",
      "metadata": {
        "id": "KoO_DfPhoMLF"
      },
      "source": [
        "- 옵티마이저(optimizer) : 입력된 데이터와 손실 함수를 기반으로 네트워크를 업데이트하는 메커니즘\n",
        "- 손실 함수(loss function) : 훈련 데이터에서 신경망의 성능을 측정하는 방법으로 네트워크가 옳은 방향으로 학습될 수 있도록 도와줌.\n",
        "- 지표 : 훈련과 테스트 과정을 모니터링 할 수 있다. 여기에서는 accurac 지표를 사용함."
      ]
    },
    {
      "cell_type": "code",
      "metadata": {
        "colab": {
          "base_uri": "https://localhost:8080/"
        },
        "id": "Khs55UfQujdO",
        "outputId": "9b0c3bcf-ce70-40f6-ae3d-eb8da3c9a0cc"
      },
      "source": [
        "train_images.shape"
      ],
      "execution_count": 5,
      "outputs": [
        {
          "output_type": "execute_result",
          "data": {
            "text/plain": [
              "(60000, 28, 28)"
            ]
          },
          "metadata": {
            "tags": []
          },
          "execution_count": 5
        }
      ]
    },
    {
      "cell_type": "code",
      "metadata": {
        "id": "Vc_syG_VoLRE"
      },
      "source": [
        "# 데이터 전처리\n",
        "from keras.utils import to_categorical\n",
        "\n",
        "train_images = train_images.reshape((60000, 28 * 28))\n",
        "train_images = train_images.astype('float32') / 255\n",
        "\n",
        "test_images = test_images.reshape((10000, 28 * 28))\n",
        "test_images = test_images.astype('float32') / 255\n",
        "\n",
        "train_labels = to_categorical(train_labels)\n",
        "test_labels = to_categorical(test_labels)"
      ],
      "execution_count": 6,
      "outputs": []
    },
    {
      "cell_type": "code",
      "metadata": {
        "colab": {
          "base_uri": "https://localhost:8080/"
        },
        "id": "ZSSr1p_yu1Lz",
        "outputId": "590eaa4b-f0ef-4d41-b127-0deb53d6a862"
      },
      "source": [
        "train_images.shape"
      ],
      "execution_count": 7,
      "outputs": [
        {
          "output_type": "execute_result",
          "data": {
            "text/plain": [
              "(60000, 784)"
            ]
          },
          "metadata": {
            "tags": []
          },
          "execution_count": 7
        }
      ]
    },
    {
      "cell_type": "markdown",
      "metadata": {
        "id": "Hf__pppKpQBw"
      },
      "source": [
        "- 훈련을 하려면 데이터를 네트워크에 주입해야 하기 때문에, 데이터를 네트워크에 맞는 크기로 바꾼다. (reshape)\n",
        "- 모든 값을 0과 1 사이로 스케일 조정한다. 현재 훈련 이미지는 [0,255] 사이의 값인 uint8 타입의 (60000, 28, 28) 크기를 가진 배열로 저장되어 있기 때문에 255로 나누면 모든 값이 0~1 값이 된다.\n",
        "- 레이블을 범주형으로 인코딩한다. (to_categorical)"
      ]
    },
    {
      "cell_type": "markdown",
      "metadata": {
        "id": "ycQLcE01sLbu"
      },
      "source": [
        "#### train data를 네트워크에 주입해 학습시킨다."
      ]
    },
    {
      "cell_type": "code",
      "metadata": {
        "colab": {
          "base_uri": "https://localhost:8080/"
        },
        "id": "rgycSyMRpOeX",
        "outputId": "92d704ab-3fa4-4703-b0a5-3a80570b2468"
      },
      "source": [
        "# 학습(fit)\n",
        "\n",
        "network.fit(train_images, train_labels, epochs=5, batch_size=128)"
      ],
      "execution_count": 8,
      "outputs": [
        {
          "output_type": "stream",
          "text": [
            "Epoch 1/5\n",
            "469/469 [==============================] - 5s 9ms/step - loss: 0.4232 - accuracy: 0.8777\n",
            "Epoch 2/5\n",
            "469/469 [==============================] - 4s 9ms/step - loss: 0.1109 - accuracy: 0.9671\n",
            "Epoch 3/5\n",
            "469/469 [==============================] - 4s 9ms/step - loss: 0.0687 - accuracy: 0.9797\n",
            "Epoch 4/5\n",
            "469/469 [==============================] - 4s 9ms/step - loss: 0.0477 - accuracy: 0.9856\n",
            "Epoch 5/5\n",
            "469/469 [==============================] - 4s 9ms/step - loss: 0.0351 - accuracy: 0.9896\n"
          ],
          "name": "stdout"
        },
        {
          "output_type": "execute_result",
          "data": {
            "text/plain": [
              "<tensorflow.python.keras.callbacks.History at 0x7f08c05668d0>"
            ]
          },
          "metadata": {
            "tags": []
          },
          "execution_count": 8
        }
      ]
    },
    {
      "cell_type": "markdown",
      "metadata": {
        "id": "KLs-IsE_voep"
      },
      "source": [
        "- loss, accuracy : 훈련 데이터에 대한 네트워크 손실과 정확도\n",
        "- 훈련 데이터에 대해 정확도 98.96% 달성"
      ]
    },
    {
      "cell_type": "markdown",
      "metadata": {
        "id": "MtfDborMwyG9"
      },
      "source": [
        "#### test data를 예측하고 평가한다."
      ]
    },
    {
      "cell_type": "code",
      "metadata": {
        "colab": {
          "base_uri": "https://localhost:8080/"
        },
        "id": "oxRXh3Hvvmue",
        "outputId": "92804366-eac1-4fbe-f312-92a0362ebb72"
      },
      "source": [
        "# 예측(evaluate)\n",
        "\n",
        "test_loss, test_acc = network.evaluate(test_images, test_labels)\n",
        "print('test_acc : ', test_acc)"
      ],
      "execution_count": 9,
      "outputs": [
        {
          "output_type": "stream",
          "text": [
            "313/313 [==============================] - 1s 2ms/step - loss: 0.0646 - accuracy: 0.9799\n",
            "test_acc :  0.9799000024795532\n"
          ],
          "name": "stdout"
        }
      ]
    },
    {
      "cell_type": "markdown",
      "metadata": {
        "id": "Am5Tb_N-wIax"
      },
      "source": [
        "- 테스트 데이터에 대한 정확도 97.99%\n",
        "- 훈련 정확도보다 테스트 정확도가 좀 더 낮은데 과대적합(overfitting)이 일어났기 때문이다. "
      ]
    }
  ]
}
