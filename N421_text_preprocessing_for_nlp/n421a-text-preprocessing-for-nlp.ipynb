{
  "nbformat": 4,
  "nbformat_minor": 0,
  "metadata": {
    "colab": {
      "name": "LS_DS_421_Text_Data_Assignment.ipynb",
      "provenance": [],
      "collapsed_sections": [],
      "toc_visible": true
    },
    "kernelspec": {
      "display_name": "n421a",
      "language": "python",
      "name": "n421a"
    },
    "language_info": {
      "codemirror_mode": {
        "name": "ipython",
        "version": 3
      },
      "file_extension": ".py",
      "mimetype": "text/x-python",
      "name": "python",
      "nbconvert_exporter": "python",
      "pygments_lexer": "ipython3",
      "version": "3.7.10"
    },
    "toc-autonumbering": false
  },
  "cells": [
    {
      "cell_type": "markdown",
      "metadata": {
        "id": "za56W96DnxVC"
      },
      "source": [
        "<img align=\"right\" src=\"https://ds-cs-images.s3.ap-northeast-2.amazonaws.com/Codestates_Fulllogo_Color.png\" width=100>\n",
        "\n",
        "## *DATA SCIENCE / SECTION 4 / SPRINT 2 / NOTE 1*\n",
        "\n",
        "# 📝 Assignment\n",
        "\n",
        "---\n",
        "\n",
        "\n",
        "# Text Preprocessing for NLP"
      ]
    },
    {
      "cell_type": "markdown",
      "metadata": {
        "id": "68CzOVminxVR"
      },
      "source": [
        "Women's E-Commerce Clothing Reviews\n",
        "https://www.kaggle.com/nicapotato/womens-ecommerce-clothing-reviews\n",
        "\n",
        "이번 과제의 목표는: 캐글 옷 리뷰 데이터의 텍스트 칼럼(`Review Text`)에서 토큰(단어)를 추출하고 추천(`Recommended IND`)을 할지(1) 안 할지(0)에 따른 토큰의 빈도를 살펴 보는 것 입니다.\n",
        "\n",
        "토큰을 분리하기 위해 사용 가능한 정제기술을 모두 사용하고 특히\n",
        "- Lemmatization\n",
        "- 확장된 불용어 처리\n",
        "기술을 잘 활용해 보세요\n",
        "\n",
        "토큰이 만들어지면 꼭 **올바른 토큰화**를 잘 만족하는지 확인 합니다. 그리고 결과를 분석하여 어떤 특성이 추천에 이르게 하는지 그래프로 설명하세요. 마크다운 셀을 최대한 활용하여 결과를 분석해 보시기 바랍니다."
      ]
    },
    {
      "cell_type": "markdown",
      "metadata": {
        "id": "i_IiC3InnxVS"
      },
      "source": [
        "### 1) Spacy 코스를 수강하세요\n",
        "- chapter1의 1~5 강좌 수강 (https://course.spacy.io/en/)\n",
        "  - 챕터 1, 2, 3, 4, 5를 수강하는 것은 아닙니다!\n",
        "- 문항 1) chapter1-5의 강의를 들으시고, 해당 제목을 입력하시오."
      ]
    },
    {
      "cell_type": "markdown",
      "metadata": {
        "id": "L3-XgqkYnxVS"
      },
      "source": [
        "1. Introduction to spaCy\n",
        "2. Getting Started\n",
        "3. Documents, spans and tokens\n",
        "4. Lexical attributes\n",
        "5. Statistical models "
      ]
    },
    {
      "cell_type": "markdown",
      "metadata": {
        "id": "JepbPJw5nxVT"
      },
      "source": [
        "### 2) 토큰을 정제합니다. \n",
        "- 문자를 소문자로 통일\n",
        "- 분석에 관련 없는 정보 제거\n",
        "\n",
        "- 문항 2-1) 소문자로 변경하는 함수를 입력하시오. \n",
        "- 문항 2-2) re 라이브러리에서 알파벳 소문자, 숫자만 받을 수 있는 코드를 작성하시오. "
      ]
    },
    {
      "cell_type": "markdown",
      "metadata": {
        "id": "2LSZu4sfV7my"
      },
      "source": [
        "2-1) str.lower()\n",
        "2-2) re.sub(\"[^a-z0-9 ]\", \"\", text)"
      ]
    },
    {
      "cell_type": "code",
      "metadata": {
        "colab": {
          "resources": {
            "http://localhost:8080/nbextensions/google.colab/files.js": {
              "data": "Ly8gQ29weXJpZ2h0IDIwMTcgR29vZ2xlIExMQwovLwovLyBMaWNlbnNlZCB1bmRlciB0aGUgQXBhY2hlIExpY2Vuc2UsIFZlcnNpb24gMi4wICh0aGUgIkxpY2Vuc2UiKTsKLy8geW91IG1heSBub3QgdXNlIHRoaXMgZmlsZSBleGNlcHQgaW4gY29tcGxpYW5jZSB3aXRoIHRoZSBMaWNlbnNlLgovLyBZb3UgbWF5IG9idGFpbiBhIGNvcHkgb2YgdGhlIExpY2Vuc2UgYXQKLy8KLy8gICAgICBodHRwOi8vd3d3LmFwYWNoZS5vcmcvbGljZW5zZXMvTElDRU5TRS0yLjAKLy8KLy8gVW5sZXNzIHJlcXVpcmVkIGJ5IGFwcGxpY2FibGUgbGF3IG9yIGFncmVlZCB0byBpbiB3cml0aW5nLCBzb2Z0d2FyZQovLyBkaXN0cmlidXRlZCB1bmRlciB0aGUgTGljZW5zZSBpcyBkaXN0cmlidXRlZCBvbiBhbiAiQVMgSVMiIEJBU0lTLAovLyBXSVRIT1VUIFdBUlJBTlRJRVMgT1IgQ09ORElUSU9OUyBPRiBBTlkgS0lORCwgZWl0aGVyIGV4cHJlc3Mgb3IgaW1wbGllZC4KLy8gU2VlIHRoZSBMaWNlbnNlIGZvciB0aGUgc3BlY2lmaWMgbGFuZ3VhZ2UgZ292ZXJuaW5nIHBlcm1pc3Npb25zIGFuZAovLyBsaW1pdGF0aW9ucyB1bmRlciB0aGUgTGljZW5zZS4KCi8qKgogKiBAZmlsZW92ZXJ2aWV3IEhlbHBlcnMgZm9yIGdvb2dsZS5jb2xhYiBQeXRob24gbW9kdWxlLgogKi8KKGZ1bmN0aW9uKHNjb3BlKSB7CmZ1bmN0aW9uIHNwYW4odGV4dCwgc3R5bGVBdHRyaWJ1dGVzID0ge30pIHsKICBjb25zdCBlbGVtZW50ID0gZG9jdW1lbnQuY3JlYXRlRWxlbWVudCgnc3BhbicpOwogIGVsZW1lbnQudGV4dENvbnRlbnQgPSB0ZXh0OwogIGZvciAoY29uc3Qga2V5IG9mIE9iamVjdC5rZXlzKHN0eWxlQXR0cmlidXRlcykpIHsKICAgIGVsZW1lbnQuc3R5bGVba2V5XSA9IHN0eWxlQXR0cmlidXRlc1trZXldOwogIH0KICByZXR1cm4gZWxlbWVudDsKfQoKLy8gTWF4IG51bWJlciBvZiBieXRlcyB3aGljaCB3aWxsIGJlIHVwbG9hZGVkIGF0IGEgdGltZS4KY29uc3QgTUFYX1BBWUxPQURfU0laRSA9IDEwMCAqIDEwMjQ7CgpmdW5jdGlvbiBfdXBsb2FkRmlsZXMoaW5wdXRJZCwgb3V0cHV0SWQpIHsKICBjb25zdCBzdGVwcyA9IHVwbG9hZEZpbGVzU3RlcChpbnB1dElkLCBvdXRwdXRJZCk7CiAgY29uc3Qgb3V0cHV0RWxlbWVudCA9IGRvY3VtZW50LmdldEVsZW1lbnRCeUlkKG91dHB1dElkKTsKICAvLyBDYWNoZSBzdGVwcyBvbiB0aGUgb3V0cHV0RWxlbWVudCB0byBtYWtlIGl0IGF2YWlsYWJsZSBmb3IgdGhlIG5leHQgY2FsbAogIC8vIHRvIHVwbG9hZEZpbGVzQ29udGludWUgZnJvbSBQeXRob24uCiAgb3V0cHV0RWxlbWVudC5zdGVwcyA9IHN0ZXBzOwoKICByZXR1cm4gX3VwbG9hZEZpbGVzQ29udGludWUob3V0cHV0SWQpOwp9CgovLyBUaGlzIGlzIHJvdWdobHkgYW4gYXN5bmMgZ2VuZXJhdG9yIChub3Qgc3VwcG9ydGVkIGluIHRoZSBicm93c2VyIHlldCksCi8vIHdoZXJlIHRoZXJlIGFyZSBtdWx0aXBsZSBhc3luY2hyb25vdXMgc3RlcHMgYW5kIHRoZSBQeXRob24gc2lkZSBpcyBnb2luZwovLyB0byBwb2xsIGZvciBjb21wbGV0aW9uIG9mIGVhY2ggc3RlcC4KLy8gVGhpcyB1c2VzIGEgUHJvbWlzZSB0byBibG9jayB0aGUgcHl0aG9uIHNpZGUgb24gY29tcGxldGlvbiBvZiBlYWNoIHN0ZXAsCi8vIHRoZW4gcGFzc2VzIHRoZSByZXN1bHQgb2YgdGhlIHByZXZpb3VzIHN0ZXAgYXMgdGhlIGlucHV0IHRvIHRoZSBuZXh0IHN0ZXAuCmZ1bmN0aW9uIF91cGxvYWRGaWxlc0NvbnRpbnVlKG91dHB1dElkKSB7CiAgY29uc3Qgb3V0cHV0RWxlbWVudCA9IGRvY3VtZW50LmdldEVsZW1lbnRCeUlkKG91dHB1dElkKTsKICBjb25zdCBzdGVwcyA9IG91dHB1dEVsZW1lbnQuc3RlcHM7CgogIGNvbnN0IG5leHQgPSBzdGVwcy5uZXh0KG91dHB1dEVsZW1lbnQubGFzdFByb21pc2VWYWx1ZSk7CiAgcmV0dXJuIFByb21pc2UucmVzb2x2ZShuZXh0LnZhbHVlLnByb21pc2UpLnRoZW4oKHZhbHVlKSA9PiB7CiAgICAvLyBDYWNoZSB0aGUgbGFzdCBwcm9taXNlIHZhbHVlIHRvIG1ha2UgaXQgYXZhaWxhYmxlIHRvIHRoZSBuZXh0CiAgICAvLyBzdGVwIG9mIHRoZSBnZW5lcmF0b3IuCiAgICBvdXRwdXRFbGVtZW50Lmxhc3RQcm9taXNlVmFsdWUgPSB2YWx1ZTsKICAgIHJldHVybiBuZXh0LnZhbHVlLnJlc3BvbnNlOwogIH0pOwp9CgovKioKICogR2VuZXJhdG9yIGZ1bmN0aW9uIHdoaWNoIGlzIGNhbGxlZCBiZXR3ZWVuIGVhY2ggYXN5bmMgc3RlcCBvZiB0aGUgdXBsb2FkCiAqIHByb2Nlc3MuCiAqIEBwYXJhbSB7c3RyaW5nfSBpbnB1dElkIEVsZW1lbnQgSUQgb2YgdGhlIGlucHV0IGZpbGUgcGlja2VyIGVsZW1lbnQuCiAqIEBwYXJhbSB7c3RyaW5nfSBvdXRwdXRJZCBFbGVtZW50IElEIG9mIHRoZSBvdXRwdXQgZGlzcGxheS4KICogQHJldHVybiB7IUl0ZXJhYmxlPCFPYmplY3Q+fSBJdGVyYWJsZSBvZiBuZXh0IHN0ZXBzLgogKi8KZnVuY3Rpb24qIHVwbG9hZEZpbGVzU3RlcChpbnB1dElkLCBvdXRwdXRJZCkgewogIGNvbnN0IGlucHV0RWxlbWVudCA9IGRvY3VtZW50LmdldEVsZW1lbnRCeUlkKGlucHV0SWQpOwogIGlucHV0RWxlbWVudC5kaXNhYmxlZCA9IGZhbHNlOwoKICBjb25zdCBvdXRwdXRFbGVtZW50ID0gZG9jdW1lbnQuZ2V0RWxlbWVudEJ5SWQob3V0cHV0SWQpOwogIG91dHB1dEVsZW1lbnQuaW5uZXJIVE1MID0gJyc7CgogIGNvbnN0IHBpY2tlZFByb21pc2UgPSBuZXcgUHJvbWlzZSgocmVzb2x2ZSkgPT4gewogICAgaW5wdXRFbGVtZW50LmFkZEV2ZW50TGlzdGVuZXIoJ2NoYW5nZScsIChlKSA9PiB7CiAgICAgIHJlc29sdmUoZS50YXJnZXQuZmlsZXMpOwogICAgfSk7CiAgfSk7CgogIGNvbnN0IGNhbmNlbCA9IGRvY3VtZW50LmNyZWF0ZUVsZW1lbnQoJ2J1dHRvbicpOwogIGlucHV0RWxlbWVudC5wYXJlbnRFbGVtZW50LmFwcGVuZENoaWxkKGNhbmNlbCk7CiAgY2FuY2VsLnRleHRDb250ZW50ID0gJ0NhbmNlbCB1cGxvYWQnOwogIGNvbnN0IGNhbmNlbFByb21pc2UgPSBuZXcgUHJvbWlzZSgocmVzb2x2ZSkgPT4gewogICAgY2FuY2VsLm9uY2xpY2sgPSAoKSA9PiB7CiAgICAgIHJlc29sdmUobnVsbCk7CiAgICB9OwogIH0pOwoKICAvLyBXYWl0IGZvciB0aGUgdXNlciB0byBwaWNrIHRoZSBmaWxlcy4KICBjb25zdCBmaWxlcyA9IHlpZWxkIHsKICAgIHByb21pc2U6IFByb21pc2UucmFjZShbcGlja2VkUHJvbWlzZSwgY2FuY2VsUHJvbWlzZV0pLAogICAgcmVzcG9uc2U6IHsKICAgICAgYWN0aW9uOiAnc3RhcnRpbmcnLAogICAgfQogIH07CgogIGNhbmNlbC5yZW1vdmUoKTsKCiAgLy8gRGlzYWJsZSB0aGUgaW5wdXQgZWxlbWVudCBzaW5jZSBmdXJ0aGVyIHBpY2tzIGFyZSBub3QgYWxsb3dlZC4KICBpbnB1dEVsZW1lbnQuZGlzYWJsZWQgPSB0cnVlOwoKICBpZiAoIWZpbGVzKSB7CiAgICByZXR1cm4gewogICAgICByZXNwb25zZTogewogICAgICAgIGFjdGlvbjogJ2NvbXBsZXRlJywKICAgICAgfQogICAgfTsKICB9CgogIGZvciAoY29uc3QgZmlsZSBvZiBmaWxlcykgewogICAgY29uc3QgbGkgPSBkb2N1bWVudC5jcmVhdGVFbGVtZW50KCdsaScpOwogICAgbGkuYXBwZW5kKHNwYW4oZmlsZS5uYW1lLCB7Zm9udFdlaWdodDogJ2JvbGQnfSkpOwogICAgbGkuYXBwZW5kKHNwYW4oCiAgICAgICAgYCgke2ZpbGUudHlwZSB8fCAnbi9hJ30pIC0gJHtmaWxlLnNpemV9IGJ5dGVzLCBgICsKICAgICAgICBgbGFzdCBtb2RpZmllZDogJHsKICAgICAgICAgICAgZmlsZS5sYXN0TW9kaWZpZWREYXRlID8gZmlsZS5sYXN0TW9kaWZpZWREYXRlLnRvTG9jYWxlRGF0ZVN0cmluZygpIDoKICAgICAgICAgICAgICAgICAgICAgICAgICAgICAgICAgICAgJ24vYSd9IC0gYCkpOwogICAgY29uc3QgcGVyY2VudCA9IHNwYW4oJzAlIGRvbmUnKTsKICAgIGxpLmFwcGVuZENoaWxkKHBlcmNlbnQpOwoKICAgIG91dHB1dEVsZW1lbnQuYXBwZW5kQ2hpbGQobGkpOwoKICAgIGNvbnN0IGZpbGVEYXRhUHJvbWlzZSA9IG5ldyBQcm9taXNlKChyZXNvbHZlKSA9PiB7CiAgICAgIGNvbnN0IHJlYWRlciA9IG5ldyBGaWxlUmVhZGVyKCk7CiAgICAgIHJlYWRlci5vbmxvYWQgPSAoZSkgPT4gewogICAgICAgIHJlc29sdmUoZS50YXJnZXQucmVzdWx0KTsKICAgICAgfTsKICAgICAgcmVhZGVyLnJlYWRBc0FycmF5QnVmZmVyKGZpbGUpOwogICAgfSk7CiAgICAvLyBXYWl0IGZvciB0aGUgZGF0YSB0byBiZSByZWFkeS4KICAgIGxldCBmaWxlRGF0YSA9IHlpZWxkIHsKICAgICAgcHJvbWlzZTogZmlsZURhdGFQcm9taXNlLAogICAgICByZXNwb25zZTogewogICAgICAgIGFjdGlvbjogJ2NvbnRpbnVlJywKICAgICAgfQogICAgfTsKCiAgICAvLyBVc2UgYSBjaHVua2VkIHNlbmRpbmcgdG8gYXZvaWQgbWVzc2FnZSBzaXplIGxpbWl0cy4gU2VlIGIvNjIxMTU2NjAuCiAgICBsZXQgcG9zaXRpb24gPSAwOwogICAgd2hpbGUgKHBvc2l0aW9uIDwgZmlsZURhdGEuYnl0ZUxlbmd0aCkgewogICAgICBjb25zdCBsZW5ndGggPSBNYXRoLm1pbihmaWxlRGF0YS5ieXRlTGVuZ3RoIC0gcG9zaXRpb24sIE1BWF9QQVlMT0FEX1NJWkUpOwogICAgICBjb25zdCBjaHVuayA9IG5ldyBVaW50OEFycmF5KGZpbGVEYXRhLCBwb3NpdGlvbiwgbGVuZ3RoKTsKICAgICAgcG9zaXRpb24gKz0gbGVuZ3RoOwoKICAgICAgY29uc3QgYmFzZTY0ID0gYnRvYShTdHJpbmcuZnJvbUNoYXJDb2RlLmFwcGx5KG51bGwsIGNodW5rKSk7CiAgICAgIHlpZWxkIHsKICAgICAgICByZXNwb25zZTogewogICAgICAgICAgYWN0aW9uOiAnYXBwZW5kJywKICAgICAgICAgIGZpbGU6IGZpbGUubmFtZSwKICAgICAgICAgIGRhdGE6IGJhc2U2NCwKICAgICAgICB9LAogICAgICB9OwogICAgICBwZXJjZW50LnRleHRDb250ZW50ID0KICAgICAgICAgIGAke01hdGgucm91bmQoKHBvc2l0aW9uIC8gZmlsZURhdGEuYnl0ZUxlbmd0aCkgKiAxMDApfSUgZG9uZWA7CiAgICB9CiAgfQoKICAvLyBBbGwgZG9uZS4KICB5aWVsZCB7CiAgICByZXNwb25zZTogewogICAgICBhY3Rpb246ICdjb21wbGV0ZScsCiAgICB9CiAgfTsKfQoKc2NvcGUuZ29vZ2xlID0gc2NvcGUuZ29vZ2xlIHx8IHt9OwpzY29wZS5nb29nbGUuY29sYWIgPSBzY29wZS5nb29nbGUuY29sYWIgfHwge307CnNjb3BlLmdvb2dsZS5jb2xhYi5fZmlsZXMgPSB7CiAgX3VwbG9hZEZpbGVzLAogIF91cGxvYWRGaWxlc0NvbnRpbnVlLAp9Owp9KShzZWxmKTsK",
              "ok": true,
              "headers": [
                [
                  "content-type",
                  "application/javascript"
                ]
              ],
              "status": 200,
              "status_text": ""
            }
          },
          "base_uri": "https://localhost:8080/",
          "height": 76
        },
        "id": "yPGuwqJQYid6",
        "outputId": "b7ef7550-6fd8-4526-cdeb-660395c8a3b4"
      },
      "source": [
        "from google.colab import files\n",
        " # 파일을 불러올 수 있는 코드\n",
        "uploaded = files.upload()"
      ],
      "execution_count": 6,
      "outputs": [
        {
          "output_type": "display_data",
          "data": {
            "text/html": [
              "\n",
              "     <input type=\"file\" id=\"files-4e082f8f-eb65-4c0c-b3f4-c1fb3a4d34b2\" name=\"files[]\" multiple disabled\n",
              "        style=\"border:none\" />\n",
              "     <output id=\"result-4e082f8f-eb65-4c0c-b3f4-c1fb3a4d34b2\">\n",
              "      Upload widget is only available when the cell has been executed in the\n",
              "      current browser session. Please rerun this cell to enable.\n",
              "      </output>\n",
              "      <script src=\"/nbextensions/google.colab/files.js\"></script> "
            ],
            "text/plain": [
              "<IPython.core.display.HTML object>"
            ]
          },
          "metadata": {
            "tags": []
          }
        },
        {
          "output_type": "stream",
          "text": [
            "Saving women_clothing_reciew.csv.csv to women_clothing_reciew.csv.csv\n"
          ],
          "name": "stdout"
        }
      ]
    },
    {
      "cell_type": "code",
      "metadata": {
        "id": "_VBRkXS6nxVT",
        "colab": {
          "base_uri": "https://localhost:8080/",
          "height": 359
        },
        "outputId": "f2ded334-7597-4bbd-d194-762a2082287a"
      },
      "source": [
        "### 이곳에서 과제를 진행해 주세요 ### \n",
        "import pandas as pd\n",
        "df=pd.read_csv('women_clothing_reciew.csv.csv', encoding='CP949', index_col=0)\n",
        "df.head(10)"
      ],
      "execution_count": 8,
      "outputs": [
        {
          "output_type": "execute_result",
          "data": {
            "text/html": [
              "<div>\n",
              "<style scoped>\n",
              "    .dataframe tbody tr th:only-of-type {\n",
              "        vertical-align: middle;\n",
              "    }\n",
              "\n",
              "    .dataframe tbody tr th {\n",
              "        vertical-align: top;\n",
              "    }\n",
              "\n",
              "    .dataframe thead th {\n",
              "        text-align: right;\n",
              "    }\n",
              "</style>\n",
              "<table border=\"1\" class=\"dataframe\">\n",
              "  <thead>\n",
              "    <tr style=\"text-align: right;\">\n",
              "      <th></th>\n",
              "      <th>Clothing ID</th>\n",
              "      <th>Age</th>\n",
              "      <th>Title</th>\n",
              "      <th>Review Text</th>\n",
              "      <th>Rating</th>\n",
              "      <th>Recommended IND</th>\n",
              "      <th>Positive Feedback Count</th>\n",
              "      <th>Division Name</th>\n",
              "      <th>Department Name</th>\n",
              "      <th>Class Name</th>\n",
              "    </tr>\n",
              "  </thead>\n",
              "  <tbody>\n",
              "    <tr>\n",
              "      <th>0</th>\n",
              "      <td>767</td>\n",
              "      <td>33</td>\n",
              "      <td>NaN</td>\n",
              "      <td>Absolutely wonderful - silky and sexy and comf...</td>\n",
              "      <td>4</td>\n",
              "      <td>1</td>\n",
              "      <td>0</td>\n",
              "      <td>Initmates</td>\n",
              "      <td>Intimate</td>\n",
              "      <td>Intimates</td>\n",
              "    </tr>\n",
              "    <tr>\n",
              "      <th>1</th>\n",
              "      <td>1080</td>\n",
              "      <td>34</td>\n",
              "      <td>NaN</td>\n",
              "      <td>Love this dress!  it's sooo pretty.  i happene...</td>\n",
              "      <td>5</td>\n",
              "      <td>1</td>\n",
              "      <td>4</td>\n",
              "      <td>General</td>\n",
              "      <td>Dresses</td>\n",
              "      <td>Dresses</td>\n",
              "    </tr>\n",
              "    <tr>\n",
              "      <th>2</th>\n",
              "      <td>1077</td>\n",
              "      <td>60</td>\n",
              "      <td>Some major design flaws</td>\n",
              "      <td>I had such high hopes for this dress and reall...</td>\n",
              "      <td>3</td>\n",
              "      <td>0</td>\n",
              "      <td>0</td>\n",
              "      <td>General</td>\n",
              "      <td>Dresses</td>\n",
              "      <td>Dresses</td>\n",
              "    </tr>\n",
              "    <tr>\n",
              "      <th>3</th>\n",
              "      <td>1049</td>\n",
              "      <td>50</td>\n",
              "      <td>My favorite buy!</td>\n",
              "      <td>I love, love, love this jumpsuit. it's fun, fl...</td>\n",
              "      <td>5</td>\n",
              "      <td>1</td>\n",
              "      <td>0</td>\n",
              "      <td>General Petite</td>\n",
              "      <td>Bottoms</td>\n",
              "      <td>Pants</td>\n",
              "    </tr>\n",
              "    <tr>\n",
              "      <th>4</th>\n",
              "      <td>847</td>\n",
              "      <td>47</td>\n",
              "      <td>Flattering shirt</td>\n",
              "      <td>This shirt is very flattering to all due to th...</td>\n",
              "      <td>5</td>\n",
              "      <td>1</td>\n",
              "      <td>6</td>\n",
              "      <td>General</td>\n",
              "      <td>Tops</td>\n",
              "      <td>Blouses</td>\n",
              "    </tr>\n",
              "    <tr>\n",
              "      <th>5</th>\n",
              "      <td>1080</td>\n",
              "      <td>49</td>\n",
              "      <td>Not for the very petite</td>\n",
              "      <td>I love tracy reese dresses, but this one is no...</td>\n",
              "      <td>2</td>\n",
              "      <td>0</td>\n",
              "      <td>4</td>\n",
              "      <td>General</td>\n",
              "      <td>Dresses</td>\n",
              "      <td>Dresses</td>\n",
              "    </tr>\n",
              "    <tr>\n",
              "      <th>6</th>\n",
              "      <td>858</td>\n",
              "      <td>39</td>\n",
              "      <td>Cagrcoal shimmer fun</td>\n",
              "      <td>I aded this in my basket at hte last mintue to...</td>\n",
              "      <td>5</td>\n",
              "      <td>1</td>\n",
              "      <td>1</td>\n",
              "      <td>General Petite</td>\n",
              "      <td>Tops</td>\n",
              "      <td>Knits</td>\n",
              "    </tr>\n",
              "    <tr>\n",
              "      <th>7</th>\n",
              "      <td>858</td>\n",
              "      <td>39</td>\n",
              "      <td>Shimmer, surprisingly goes with lots</td>\n",
              "      <td>I ordered this in carbon for store pick up, an...</td>\n",
              "      <td>4</td>\n",
              "      <td>1</td>\n",
              "      <td>4</td>\n",
              "      <td>General Petite</td>\n",
              "      <td>Tops</td>\n",
              "      <td>Knits</td>\n",
              "    </tr>\n",
              "    <tr>\n",
              "      <th>8</th>\n",
              "      <td>1077</td>\n",
              "      <td>24</td>\n",
              "      <td>Flattering</td>\n",
              "      <td>I love this dress. i usually get an xs but it ...</td>\n",
              "      <td>5</td>\n",
              "      <td>1</td>\n",
              "      <td>0</td>\n",
              "      <td>General</td>\n",
              "      <td>Dresses</td>\n",
              "      <td>Dresses</td>\n",
              "    </tr>\n",
              "    <tr>\n",
              "      <th>9</th>\n",
              "      <td>1077</td>\n",
              "      <td>34</td>\n",
              "      <td>Such a fun dress!</td>\n",
              "      <td>I'm 5\"5' and 125 lbs. i ordered the s petite t...</td>\n",
              "      <td>5</td>\n",
              "      <td>1</td>\n",
              "      <td>0</td>\n",
              "      <td>General</td>\n",
              "      <td>Dresses</td>\n",
              "      <td>Dresses</td>\n",
              "    </tr>\n",
              "  </tbody>\n",
              "</table>\n",
              "</div>"
            ],
            "text/plain": [
              "   Clothing ID  Age  ... Department Name Class Name\n",
              "0          767   33  ...        Intimate  Intimates\n",
              "1         1080   34  ...         Dresses    Dresses\n",
              "2         1077   60  ...         Dresses    Dresses\n",
              "3         1049   50  ...         Bottoms      Pants\n",
              "4          847   47  ...            Tops    Blouses\n",
              "5         1080   49  ...         Dresses    Dresses\n",
              "6          858   39  ...            Tops      Knits\n",
              "7          858   39  ...            Tops      Knits\n",
              "8         1077   24  ...         Dresses    Dresses\n",
              "9         1077   34  ...         Dresses    Dresses\n",
              "\n",
              "[10 rows x 10 columns]"
            ]
          },
          "metadata": {
            "tags": []
          },
          "execution_count": 8
        }
      ]
    },
    {
      "cell_type": "code",
      "metadata": {
        "colab": {
          "base_uri": "https://localhost:8080/"
        },
        "id": "rWa9cNtgV7m0",
        "outputId": "341eede8-896f-4e7e-aa64-79a3c08aeab4"
      },
      "source": [
        "df.shape"
      ],
      "execution_count": 9,
      "outputs": [
        {
          "output_type": "execute_result",
          "data": {
            "text/plain": [
              "(23486, 10)"
            ]
          },
          "metadata": {
            "tags": []
          },
          "execution_count": 9
        }
      ]
    },
    {
      "cell_type": "code",
      "metadata": {
        "colab": {
          "base_uri": "https://localhost:8080/"
        },
        "id": "-u08MGX0V7m1",
        "outputId": "3c5a2049-5aff-4c19-be48-2261cd2d3dc9"
      },
      "source": [
        "df.isna().sum()"
      ],
      "execution_count": 10,
      "outputs": [
        {
          "output_type": "execute_result",
          "data": {
            "text/plain": [
              "Clothing ID                   0\n",
              "Age                           0\n",
              "Title                      3810\n",
              "Review Text                 845\n",
              "Rating                        0\n",
              "Recommended IND               0\n",
              "Positive Feedback Count       0\n",
              "Division Name                14\n",
              "Department Name              14\n",
              "Class Name                   14\n",
              "dtype: int64"
            ]
          },
          "metadata": {
            "tags": []
          },
          "execution_count": 10
        }
      ]
    },
    {
      "cell_type": "code",
      "metadata": {
        "id": "q8bplRT3V7m2"
      },
      "source": [
        "df = df[df['Review Text'].notna()]"
      ],
      "execution_count": 40,
      "outputs": []
    },
    {
      "cell_type": "code",
      "metadata": {
        "id": "C2i1kMRhcKQw"
      },
      "source": [
        "import spacy\n",
        "from spacy.tokenizer import Tokenizer\n",
        "nlp = spacy.load(\"en_core_web_sm\")\n",
        "tokenizer = Tokenizer(nlp.vocab)"
      ],
      "execution_count": 41,
      "outputs": []
    },
    {
      "cell_type": "code",
      "metadata": {
        "colab": {
          "base_uri": "https://localhost:8080/"
        },
        "id": "4Jd-h_weV7m2",
        "outputId": "898bb892-dcf2-430e-b9bc-16abeb78dd7c"
      },
      "source": [
        "import re\n",
        "'''\n",
        "def tokenize(text):\n",
        "    tokens = re.sub(r'[^a-zA-Z0-9 ]', \"\", text)\n",
        "    tokens = tokens.lower().split()\n",
        "    return tokens\n",
        "'''\n",
        "for idx, text in zip(df.index, df['Review Text']):\n",
        "    text = text.lower()\n",
        "    text = re.sub(r'[^a-z0-9 ]', '', text)\n",
        "    df['Review Text'][idx] = text\n"
      ],
      "execution_count": 42,
      "outputs": [
        {
          "output_type": "stream",
          "text": [
            "/usr/local/lib/python3.7/dist-packages/ipykernel_launcher.py:11: SettingWithCopyWarning: \n",
            "A value is trying to be set on a copy of a slice from a DataFrame\n",
            "\n",
            "See the caveats in the documentation: https://pandas.pydata.org/pandas-docs/stable/user_guide/indexing.html#returning-a-view-versus-a-copy\n",
            "  # This is added back by InteractiveShellApp.init_path()\n"
          ],
          "name": "stderr"
        }
      ]
    },
    {
      "cell_type": "code",
      "metadata": {
        "colab": {
          "base_uri": "https://localhost:8080/"
        },
        "id": "tniFRisScczf",
        "outputId": "54d8ac81-d3b6-4383-e2f0-0445a35d2668"
      },
      "source": [
        "df['Review Text'].head()"
      ],
      "execution_count": 43,
      "outputs": [
        {
          "output_type": "execute_result",
          "data": {
            "text/plain": [
              "0    absolutely wonderful  silky and sexy and comfo...\n",
              "1    love this dress  its sooo pretty  i happened t...\n",
              "2    i had such high hopes for this dress and reall...\n",
              "3    i love love love this jumpsuit its fun flirty ...\n",
              "4    this shirt is very flattering to all due to th...\n",
              "Name: Review Text, dtype: object"
            ]
          },
          "metadata": {
            "tags": []
          },
          "execution_count": 43
        }
      ]
    },
    {
      "cell_type": "code",
      "metadata": {
        "colab": {
          "base_uri": "https://localhost:8080/"
        },
        "id": "32WQLfqacf4y",
        "outputId": "9ceb31bf-6c5a-44ec-e507-746db59c2cd5"
      },
      "source": [
        "tokens = []\n",
        "\n",
        "for text in tokenizer.pipe(df['Review Text']):\n",
        "    text_tokens = [token.text for token in text if token.text!=' ']\n",
        "    tokens.append(text_tokens)\n",
        "\n",
        "df['tokens'] = tokens\n",
        "df['tokens'].head()"
      ],
      "execution_count": 44,
      "outputs": [
        {
          "output_type": "execute_result",
          "data": {
            "text/plain": [
              "0    [absolutely, wonderful, silky, and, sexy, and,...\n",
              "1    [love, this, dress, its, sooo, pretty, i, happ...\n",
              "2    [i, had, such, high, hopes, for, this, dress, ...\n",
              "3    [i, love, love, love, this, jumpsuit, its, fun...\n",
              "4    [this, shirt, is, very, flattering, to, all, d...\n",
              "Name: tokens, dtype: object"
            ]
          },
          "metadata": {
            "tags": []
          },
          "execution_count": 44
        }
      ]
    },
    {
      "cell_type": "markdown",
      "metadata": {
        "id": "RdgRqlzsnxVT"
      },
      "source": [
        "### 3) 정제한 토큰을 시각화 합니다.\n",
        "- Top 10 토큰을 프린트 합니다.\n",
        "- 토큰의 수, 빈도 순위, 존재 문서 수, 비율 등 정보를 계산합니다.\n",
        "- 토큰 순위에 따른 퍼센트 누적 분포 그래프를 시각화 합니다.\n",
        "- 추천(recommended_ind)/비추천에 따라 비교되는 토큰을 시각화 합니다.\n",
        "- 문항 3) 추천 토큰 순위 10개 단어를 입력하시오."
      ]
    },
    {
      "cell_type": "code",
      "metadata": {
        "colab": {
          "base_uri": "https://localhost:8080/"
        },
        "id": "6UH2L-ohZgwR",
        "outputId": "161606c7-ca04-4b81-c179-c98e93216b0c"
      },
      "source": [
        "pip install squarify"
      ],
      "execution_count": 45,
      "outputs": [
        {
          "output_type": "stream",
          "text": [
            "Requirement already satisfied: squarify in /usr/local/lib/python3.7/dist-packages (0.4.3)\n"
          ],
          "name": "stdout"
        }
      ]
    },
    {
      "cell_type": "code",
      "metadata": {
        "id": "Ii533sC-nxVT"
      },
      "source": [
        "### 이곳에서 과제를 진행해 주세요 ### \n",
        "from collections import Counter\n",
        "import re\n",
        "import pandas as pd\n",
        "\n",
        "# squarify treemap\n",
        "import squarify\n",
        "\n",
        "import matplotlib.pyplot as plt\n",
        "import seaborn as sns\n",
        "\n",
        "# # spacy: NLP library\n",
        "# import spacy\n",
        "# from spacy.tokenizer import Tokenizer\n",
        "from nltk.stem import PorterStemmer"
      ],
      "execution_count": 46,
      "outputs": []
    },
    {
      "cell_type": "code",
      "metadata": {
        "id": "farUVUsuZtok"
      },
      "source": [
        "def word_count(docs):\n",
        "    \"\"\" 토큰화된 문서들을 입력받아 토큰을 카운트 하고 관련된 속성을 가진 데이터프레임을 리턴합니다.\n",
        "    Args:\n",
        "        docs (series or list): 토큰화된 문서가 들어있는 list\n",
        "    Returns:\n",
        "        list: Dataframe\n",
        "    \"\"\"\n",
        "    # 전체 코퍼스에서 단어 빈도 카운트\n",
        "    word_counts = Counter()\n",
        "\n",
        "    # 단어가 존재하는 문서의 빈도 카운트, 단어가 한 번 이상 존재하면 +1\n",
        "    word_in_docs = Counter()\n",
        "\n",
        "    # 전체 문서의 갯수\n",
        "    total_docs = len(docs)\n",
        "\n",
        "    for doc in docs:\n",
        "        word_counts.update(doc)\n",
        "        word_in_docs.update(set(doc))\n",
        "\n",
        "    temp = zip(word_counts.keys(), word_counts.values())\n",
        "\n",
        "    wc = pd.DataFrame(temp, columns = ['word', 'count'])\n",
        "\n",
        "    # 단어의 순위\n",
        "    # method='first': 같은 값의 경우 먼저나온 요소를 우선\n",
        "    wc['rank'] = wc['count'].rank(method='first', ascending=False)\n",
        "    total = wc['count'].sum()\n",
        "\n",
        "    # 코퍼스 내 단어의 비율\n",
        "    wc['percent'] = wc['count'].apply(lambda x: x / total)\n",
        "\n",
        "    wc = wc.sort_values(by='rank')\n",
        "\n",
        "    # 누적 비율\n",
        "    # cumsum() : cumulative sum\n",
        "    wc['cul_percent'] = wc['percent'].cumsum()\n",
        "\n",
        "    temp2 = zip(word_in_docs.keys(), word_in_docs.values())\n",
        "    ac = pd.DataFrame(temp2, columns=['word', 'word_in_docs'])\n",
        "    wc = ac.merge(wc, on='word')\n",
        "    \n",
        "    # 전체 문서 중 존재하는 비율\n",
        "    wc['word_in_docs_percent'] = wc['word_in_docs'].apply(lambda x: x / total_docs)\n",
        "\n",
        "    return wc.sort_values(by='rank')"
      ],
      "execution_count": 47,
      "outputs": []
    },
    {
      "cell_type": "code",
      "metadata": {
        "colab": {
          "base_uri": "https://localhost:8080/",
          "height": 204
        },
        "id": "hniJvFWdaUK4",
        "outputId": "e1621b34-7274-4829-ef07-0bce922d508f"
      },
      "source": [
        "wc = word_count(df['tokens'])\n",
        "wc.head()"
      ],
      "execution_count": 50,
      "outputs": [
        {
          "output_type": "execute_result",
          "data": {
            "text/html": [
              "<div>\n",
              "<style scoped>\n",
              "    .dataframe tbody tr th:only-of-type {\n",
              "        vertical-align: middle;\n",
              "    }\n",
              "\n",
              "    .dataframe tbody tr th {\n",
              "        vertical-align: top;\n",
              "    }\n",
              "\n",
              "    .dataframe thead th {\n",
              "        text-align: right;\n",
              "    }\n",
              "</style>\n",
              "<table border=\"1\" class=\"dataframe\">\n",
              "  <thead>\n",
              "    <tr style=\"text-align: right;\">\n",
              "      <th></th>\n",
              "      <th>word</th>\n",
              "      <th>word_in_docs</th>\n",
              "      <th>count</th>\n",
              "      <th>rank</th>\n",
              "      <th>percent</th>\n",
              "      <th>cul_percent</th>\n",
              "      <th>word_in_docs_percent</th>\n",
              "    </tr>\n",
              "  </thead>\n",
              "  <tbody>\n",
              "    <tr>\n",
              "      <th>38</th>\n",
              "      <td>the</td>\n",
              "      <td>19673</td>\n",
              "      <td>75568</td>\n",
              "      <td>1.0</td>\n",
              "      <td>0.055759</td>\n",
              "      <td>0.055759</td>\n",
              "      <td>0.868910</td>\n",
              "    </tr>\n",
              "    <tr>\n",
              "      <th>29</th>\n",
              "      <td>i</td>\n",
              "      <td>18902</td>\n",
              "      <td>58428</td>\n",
              "      <td>2.0</td>\n",
              "      <td>0.043112</td>\n",
              "      <td>0.098871</td>\n",
              "      <td>0.834857</td>\n",
              "    </tr>\n",
              "    <tr>\n",
              "      <th>5</th>\n",
              "      <td>and</td>\n",
              "      <td>19535</td>\n",
              "      <td>48805</td>\n",
              "      <td>3.0</td>\n",
              "      <td>0.036011</td>\n",
              "      <td>0.134882</td>\n",
              "      <td>0.862815</td>\n",
              "    </tr>\n",
              "    <tr>\n",
              "      <th>30</th>\n",
              "      <td>a</td>\n",
              "      <td>17747</td>\n",
              "      <td>42776</td>\n",
              "      <td>4.0</td>\n",
              "      <td>0.031563</td>\n",
              "      <td>0.166445</td>\n",
              "      <td>0.783843</td>\n",
              "    </tr>\n",
              "    <tr>\n",
              "      <th>24</th>\n",
              "      <td>it</td>\n",
              "      <td>16284</td>\n",
              "      <td>42325</td>\n",
              "      <td>5.0</td>\n",
              "      <td>0.031230</td>\n",
              "      <td>0.197675</td>\n",
              "      <td>0.719226</td>\n",
              "    </tr>\n",
              "  </tbody>\n",
              "</table>\n",
              "</div>"
            ],
            "text/plain": [
              "   word  word_in_docs  count  rank   percent  cul_percent  word_in_docs_percent\n",
              "38  the         19673  75568   1.0  0.055759     0.055759              0.868910\n",
              "29    i         18902  58428   2.0  0.043112     0.098871              0.834857\n",
              "5   and         19535  48805   3.0  0.036011     0.134882              0.862815\n",
              "30    a         17747  42776   4.0  0.031563     0.166445              0.783843\n",
              "24   it         16284  42325   5.0  0.031230     0.197675              0.719226"
            ]
          },
          "metadata": {
            "tags": []
          },
          "execution_count": 50
        }
      ]
    },
    {
      "cell_type": "code",
      "metadata": {
        "colab": {
          "base_uri": "https://localhost:8080/",
          "height": 279
        },
        "id": "LGJxf-DCe4o4",
        "outputId": "084b3a6e-1eba-4da3-c574-db547823876e"
      },
      "source": [
        "import seaborn as sns\n",
        "\n",
        "sns.lineplot(x='rank', y='cul_percent', data=wc);"
      ],
      "execution_count": 51,
      "outputs": [
        {
          "output_type": "display_data",
          "data": {
            "image/png": "[encoded data removed]",
            "text/plain": [
              "<Figure size 432x288 with 1 Axes>"
            ]
          },
          "metadata": {
            "tags": [],
            "needs_background": "light"
          }
        }
      ]
    },
    {
      "cell_type": "code",
      "metadata": {
        "colab": {
          "base_uri": "https://localhost:8080/"
        },
        "id": "a6Lh_OGkfBSv",
        "outputId": "552217d5-83bd-4bb7-cbe6-fc52cfa5a3b1"
      },
      "source": [
        "wc[wc['rank'] <= 1000]['cul_percent'].max()"
      ],
      "execution_count": 52,
      "outputs": [
        {
          "output_type": "execute_result",
          "data": {
            "text/plain": [
              "0.9112393682997313"
            ]
          },
          "metadata": {
            "tags": []
          },
          "execution_count": 52
        }
      ]
    },
    {
      "cell_type": "code",
      "metadata": {
        "colab": {
          "base_uri": "https://localhost:8080/",
          "height": 248
        },
        "id": "7oScmJQ_fCjL",
        "outputId": "195b66e2-cecc-4168-c4a3-c742abeb4d2d"
      },
      "source": [
        "wc_top10 = wc[wc['rank'] <= 10]\n",
        "\n",
        "squarify.plot(sizes=wc_top10['percent'], label=wc_top10['word'], alpha=0.6 )\n",
        "plt.axis('off')\n",
        "plt.show()"
      ],
      "execution_count": 53,
      "outputs": [
        {
          "output_type": "display_data",
          "data": {
            "image/png": "[encoded data removed]",
            "text/plain": [
              "<Figure size 432x288 with 1 Axes>"
            ]
          },
          "metadata": {
            "tags": [],
            "needs_background": "light"
          }
        }
      ]
    },
    {
      "cell_type": "markdown",
      "metadata": {
        "id": "sURsv85FnxVU"
      },
      "source": [
        "### 4) 확장된 불용어 사전을 사용해 토큰을 정제합니다.\n",
        "\n",
        "- 문항 4) 불용어를 제거하고 난 뒤 토큰 순위 10개의 단어를 입력하시오."
      ]
    },
    {
      "cell_type": "code",
      "metadata": {
        "id": "WAGyh77enxVU"
      },
      "source": [
        "STOP_WORDS = nlp.Defaults.stop_words"
      ],
      "execution_count": 57,
      "outputs": []
    },
    {
      "cell_type": "code",
      "metadata": {
        "id": "amwopKQdfG45"
      },
      "source": [
        "tokens = []\n",
        "\n",
        "for doc in tokenizer.pipe(df['Review Text']):\n",
        "    \n",
        "    doc_tokens = []\n",
        "    \n",
        "    for token in doc: \n",
        "        if token.text.lower() not in STOP_WORDS and token.text != ' ':\n",
        "            doc_tokens.append(token.text.lower())\n",
        "   \n",
        "    tokens.append(doc_tokens)\n",
        "    \n",
        "df['tokens'] = tokens"
      ],
      "execution_count": 59,
      "outputs": []
    },
    {
      "cell_type": "code",
      "metadata": {
        "colab": {
          "base_uri": "https://localhost:8080/",
          "height": 979
        },
        "id": "IbW6s0RYfHsY",
        "outputId": "a07ed7ce-cb7c-41be-cb17-093ce6191a14"
      },
      "source": [
        "wc_stop_word = word_count(df['tokens'])\n",
        "wc_stop_word.head(30)"
      ],
      "execution_count": 60,
      "outputs": [
        {
          "output_type": "execute_result",
          "data": {
            "text/html": [
              "<div>\n",
              "<style scoped>\n",
              "    .dataframe tbody tr th:only-of-type {\n",
              "        vertical-align: middle;\n",
              "    }\n",
              "\n",
              "    .dataframe tbody tr th {\n",
              "        vertical-align: top;\n",
              "    }\n",
              "\n",
              "    .dataframe thead th {\n",
              "        text-align: right;\n",
              "    }\n",
              "</style>\n",
              "<table border=\"1\" class=\"dataframe\">\n",
              "  <thead>\n",
              "    <tr style=\"text-align: right;\">\n",
              "      <th></th>\n",
              "      <th>word</th>\n",
              "      <th>word_in_docs</th>\n",
              "      <th>count</th>\n",
              "      <th>rank</th>\n",
              "      <th>percent</th>\n",
              "      <th>cul_percent</th>\n",
              "      <th>word_in_docs_percent</th>\n",
              "    </tr>\n",
              "  </thead>\n",
              "  <tbody>\n",
              "    <tr>\n",
              "      <th>23</th>\n",
              "      <td>dress</td>\n",
              "      <td>6034</td>\n",
              "      <td>10428</td>\n",
              "      <td>1.0</td>\n",
              "      <td>0.017780</td>\n",
              "      <td>0.017780</td>\n",
              "      <td>0.266508</td>\n",
              "    </tr>\n",
              "    <tr>\n",
              "      <th>17</th>\n",
              "      <td>love</td>\n",
              "      <td>7386</td>\n",
              "      <td>8883</td>\n",
              "      <td>2.0</td>\n",
              "      <td>0.015145</td>\n",
              "      <td>0.032925</td>\n",
              "      <td>0.326222</td>\n",
              "    </tr>\n",
              "    <tr>\n",
              "      <th>40</th>\n",
              "      <td>size</td>\n",
              "      <td>6517</td>\n",
              "      <td>8653</td>\n",
              "      <td>3.0</td>\n",
              "      <td>0.014753</td>\n",
              "      <td>0.047678</td>\n",
              "      <td>0.287841</td>\n",
              "    </tr>\n",
              "    <tr>\n",
              "      <th>48</th>\n",
              "      <td>fit</td>\n",
              "      <td>6107</td>\n",
              "      <td>7191</td>\n",
              "      <td>4.0</td>\n",
              "      <td>0.012261</td>\n",
              "      <td>0.059939</td>\n",
              "      <td>0.269732</td>\n",
              "    </tr>\n",
              "    <tr>\n",
              "      <th>127</th>\n",
              "      <td>like</td>\n",
              "      <td>5722</td>\n",
              "      <td>6984</td>\n",
              "      <td>5.0</td>\n",
              "      <td>0.011908</td>\n",
              "      <td>0.071846</td>\n",
              "      <td>0.252727</td>\n",
              "    </tr>\n",
              "    <tr>\n",
              "      <th>62</th>\n",
              "      <td>wear</td>\n",
              "      <td>5514</td>\n",
              "      <td>6407</td>\n",
              "      <td>6.0</td>\n",
              "      <td>0.010924</td>\n",
              "      <td>0.082770</td>\n",
              "      <td>0.243540</td>\n",
              "    </tr>\n",
              "    <tr>\n",
              "      <th>61</th>\n",
              "      <td>great</td>\n",
              "      <td>5157</td>\n",
              "      <td>6053</td>\n",
              "      <td>7.0</td>\n",
              "      <td>0.010320</td>\n",
              "      <td>0.093090</td>\n",
              "      <td>0.227773</td>\n",
              "    </tr>\n",
              "    <tr>\n",
              "      <th>14</th>\n",
              "      <td>im</td>\n",
              "      <td>4852</td>\n",
              "      <td>5910</td>\n",
              "      <td>8.0</td>\n",
              "      <td>0.010076</td>\n",
              "      <td>0.103167</td>\n",
              "      <td>0.214301</td>\n",
              "    </tr>\n",
              "    <tr>\n",
              "      <th>174</th>\n",
              "      <td>fabric</td>\n",
              "      <td>4102</td>\n",
              "      <td>4731</td>\n",
              "      <td>9.0</td>\n",
              "      <td>0.008066</td>\n",
              "      <td>0.111233</td>\n",
              "      <td>0.181176</td>\n",
              "    </tr>\n",
              "    <tr>\n",
              "      <th>35</th>\n",
              "      <td>small</td>\n",
              "      <td>3643</td>\n",
              "      <td>4530</td>\n",
              "      <td>10.0</td>\n",
              "      <td>0.007724</td>\n",
              "      <td>0.118956</td>\n",
              "      <td>0.160903</td>\n",
              "    </tr>\n",
              "    <tr>\n",
              "      <th>92</th>\n",
              "      <td>color</td>\n",
              "      <td>3999</td>\n",
              "      <td>4530</td>\n",
              "      <td>11.0</td>\n",
              "      <td>0.007724</td>\n",
              "      <td>0.126680</td>\n",
              "      <td>0.176626</td>\n",
              "    </tr>\n",
              "    <tr>\n",
              "      <th>112</th>\n",
              "      <td>look</td>\n",
              "      <td>3490</td>\n",
              "      <td>4001</td>\n",
              "      <td>12.0</td>\n",
              "      <td>0.006822</td>\n",
              "      <td>0.133502</td>\n",
              "      <td>0.154145</td>\n",
              "    </tr>\n",
              "    <tr>\n",
              "      <th>11</th>\n",
              "      <td>ordered</td>\n",
              "      <td>3449</td>\n",
              "      <td>3824</td>\n",
              "      <td>13.0</td>\n",
              "      <td>0.006520</td>\n",
              "      <td>0.140022</td>\n",
              "      <td>0.152334</td>\n",
              "    </tr>\n",
              "    <tr>\n",
              "      <th>13</th>\n",
              "      <td>little</td>\n",
              "      <td>3282</td>\n",
              "      <td>3768</td>\n",
              "      <td>14.0</td>\n",
              "      <td>0.006424</td>\n",
              "      <td>0.146446</td>\n",
              "      <td>0.144958</td>\n",
              "    </tr>\n",
              "    <tr>\n",
              "      <th>70</th>\n",
              "      <td>perfect</td>\n",
              "      <td>3337</td>\n",
              "      <td>3718</td>\n",
              "      <td>15.0</td>\n",
              "      <td>0.006339</td>\n",
              "      <td>0.152785</td>\n",
              "      <td>0.147387</td>\n",
              "    </tr>\n",
              "    <tr>\n",
              "      <th>76</th>\n",
              "      <td>flattering</td>\n",
              "      <td>3292</td>\n",
              "      <td>3458</td>\n",
              "      <td>16.0</td>\n",
              "      <td>0.005896</td>\n",
              "      <td>0.158681</td>\n",
              "      <td>0.145400</td>\n",
              "    </tr>\n",
              "    <tr>\n",
              "      <th>511</th>\n",
              "      <td>soft</td>\n",
              "      <td>3140</td>\n",
              "      <td>3297</td>\n",
              "      <td>17.0</td>\n",
              "      <td>0.005621</td>\n",
              "      <td>0.164302</td>\n",
              "      <td>0.138686</td>\n",
              "    </tr>\n",
              "    <tr>\n",
              "      <th>4</th>\n",
              "      <td>comfortable</td>\n",
              "      <td>2912</td>\n",
              "      <td>3016</td>\n",
              "      <td>18.0</td>\n",
              "      <td>0.005142</td>\n",
              "      <td>0.169444</td>\n",
              "      <td>0.128616</td>\n",
              "    </tr>\n",
              "    <tr>\n",
              "      <th>386</th>\n",
              "      <td>cute</td>\n",
              "      <td>2773</td>\n",
              "      <td>3005</td>\n",
              "      <td>19.0</td>\n",
              "      <td>0.005123</td>\n",
              "      <td>0.174568</td>\n",
              "      <td>0.122477</td>\n",
              "    </tr>\n",
              "    <tr>\n",
              "      <th>159</th>\n",
              "      <td>nice</td>\n",
              "      <td>2665</td>\n",
              "      <td>2993</td>\n",
              "      <td>20.0</td>\n",
              "      <td>0.005103</td>\n",
              "      <td>0.179671</td>\n",
              "      <td>0.117707</td>\n",
              "    </tr>\n",
              "    <tr>\n",
              "      <th>26</th>\n",
              "      <td>bought</td>\n",
              "      <td>2667</td>\n",
              "      <td>2978</td>\n",
              "      <td>21.0</td>\n",
              "      <td>0.005077</td>\n",
              "      <td>0.184748</td>\n",
              "      <td>0.117795</td>\n",
              "    </tr>\n",
              "    <tr>\n",
              "      <th>455</th>\n",
              "      <td>beautiful</td>\n",
              "      <td>2730</td>\n",
              "      <td>2912</td>\n",
              "      <td>22.0</td>\n",
              "      <td>0.004965</td>\n",
              "      <td>0.189713</td>\n",
              "      <td>0.120578</td>\n",
              "    </tr>\n",
              "    <tr>\n",
              "      <th>142</th>\n",
              "      <td>bit</td>\n",
              "      <td>2559</td>\n",
              "      <td>2862</td>\n",
              "      <td>23.0</td>\n",
              "      <td>0.004880</td>\n",
              "      <td>0.194593</td>\n",
              "      <td>0.113025</td>\n",
              "    </tr>\n",
              "    <tr>\n",
              "      <th>200</th>\n",
              "      <td>looks</td>\n",
              "      <td>2583</td>\n",
              "      <td>2853</td>\n",
              "      <td>24.0</td>\n",
              "      <td>0.004864</td>\n",
              "      <td>0.199457</td>\n",
              "      <td>0.114085</td>\n",
              "    </tr>\n",
              "    <tr>\n",
              "      <th>186</th>\n",
              "      <td>fits</td>\n",
              "      <td>2683</td>\n",
              "      <td>2845</td>\n",
              "      <td>25.0</td>\n",
              "      <td>0.004851</td>\n",
              "      <td>0.204308</td>\n",
              "      <td>0.118502</td>\n",
              "    </tr>\n",
              "    <tr>\n",
              "      <th>294</th>\n",
              "      <td>large</td>\n",
              "      <td>2379</td>\n",
              "      <td>2760</td>\n",
              "      <td>26.0</td>\n",
              "      <td>0.004706</td>\n",
              "      <td>0.209014</td>\n",
              "      <td>0.105075</td>\n",
              "    </tr>\n",
              "    <tr>\n",
              "      <th>193</th>\n",
              "      <td>material</td>\n",
              "      <td>2515</td>\n",
              "      <td>2734</td>\n",
              "      <td>27.0</td>\n",
              "      <td>0.004661</td>\n",
              "      <td>0.213675</td>\n",
              "      <td>0.111082</td>\n",
              "    </tr>\n",
              "    <tr>\n",
              "      <th>7</th>\n",
              "      <td>length</td>\n",
              "      <td>2352</td>\n",
              "      <td>2597</td>\n",
              "      <td>28.0</td>\n",
              "      <td>0.004428</td>\n",
              "      <td>0.218103</td>\n",
              "      <td>0.103882</td>\n",
              "    </tr>\n",
              "    <tr>\n",
              "      <th>71</th>\n",
              "      <td>shirt</td>\n",
              "      <td>1853</td>\n",
              "      <td>2538</td>\n",
              "      <td>29.0</td>\n",
              "      <td>0.004327</td>\n",
              "      <td>0.222430</td>\n",
              "      <td>0.081843</td>\n",
              "    </tr>\n",
              "    <tr>\n",
              "      <th>419</th>\n",
              "      <td>sweater</td>\n",
              "      <td>1821</td>\n",
              "      <td>2476</td>\n",
              "      <td>30.0</td>\n",
              "      <td>0.004222</td>\n",
              "      <td>0.226652</td>\n",
              "      <td>0.080429</td>\n",
              "    </tr>\n",
              "  </tbody>\n",
              "</table>\n",
              "</div>"
            ],
            "text/plain": [
              "            word  word_in_docs  ...  cul_percent  word_in_docs_percent\n",
              "23         dress          6034  ...     0.017780              0.266508\n",
              "17          love          7386  ...     0.032925              0.326222\n",
              "40          size          6517  ...     0.047678              0.287841\n",
              "48           fit          6107  ...     0.059939              0.269732\n",
              "127         like          5722  ...     0.071846              0.252727\n",
              "62          wear          5514  ...     0.082770              0.243540\n",
              "61         great          5157  ...     0.093090              0.227773\n",
              "14            im          4852  ...     0.103167              0.214301\n",
              "174       fabric          4102  ...     0.111233              0.181176\n",
              "35         small          3643  ...     0.118956              0.160903\n",
              "92         color          3999  ...     0.126680              0.176626\n",
              "112         look          3490  ...     0.133502              0.154145\n",
              "11       ordered          3449  ...     0.140022              0.152334\n",
              "13        little          3282  ...     0.146446              0.144958\n",
              "70       perfect          3337  ...     0.152785              0.147387\n",
              "76    flattering          3292  ...     0.158681              0.145400\n",
              "511         soft          3140  ...     0.164302              0.138686\n",
              "4    comfortable          2912  ...     0.169444              0.128616\n",
              "386         cute          2773  ...     0.174568              0.122477\n",
              "159         nice          2665  ...     0.179671              0.117707\n",
              "26        bought          2667  ...     0.184748              0.117795\n",
              "455    beautiful          2730  ...     0.189713              0.120578\n",
              "142          bit          2559  ...     0.194593              0.113025\n",
              "200        looks          2583  ...     0.199457              0.114085\n",
              "186         fits          2683  ...     0.204308              0.118502\n",
              "294        large          2379  ...     0.209014              0.105075\n",
              "193     material          2515  ...     0.213675              0.111082\n",
              "7         length          2352  ...     0.218103              0.103882\n",
              "71         shirt          1853  ...     0.222430              0.081843\n",
              "419      sweater          1821  ...     0.226652              0.080429\n",
              "\n",
              "[30 rows x 7 columns]"
            ]
          },
          "metadata": {
            "tags": []
          },
          "execution_count": 60
        }
      ]
    },
    {
      "cell_type": "code",
      "metadata": {
        "id": "MoDeev0lfI0k"
      },
      "source": [
        "STOP_WORDS = nlp.Defaults.stop_words.union(['im'])"
      ],
      "execution_count": 61,
      "outputs": []
    },
    {
      "cell_type": "code",
      "metadata": {
        "colab": {
          "base_uri": "https://localhost:8080/",
          "height": 669
        },
        "id": "HBZhiE1jfKdG",
        "outputId": "c7026487-ebaf-4614-b512-5da92678c604"
      },
      "source": [
        "tokens = []\n",
        "\n",
        "for doc in tokenizer.pipe(df['Review Text']):\n",
        "    \n",
        "    doc_tokens = []\n",
        "    \n",
        "    for token in doc: \n",
        "        if token.text.lower() not in STOP_WORDS and token.text != ' ':\n",
        "            doc_tokens.append(token.text.lower())\n",
        "   \n",
        "    tokens.append(doc_tokens)\n",
        "    \n",
        "df['tokens'] = tokens\n",
        "\n",
        "wc_extended_stop_word = word_count(df['tokens'])\n",
        "wc_extended_stop_word.head(20)"
      ],
      "execution_count": 62,
      "outputs": [
        {
          "output_type": "execute_result",
          "data": {
            "text/html": [
              "<div>\n",
              "<style scoped>\n",
              "    .dataframe tbody tr th:only-of-type {\n",
              "        vertical-align: middle;\n",
              "    }\n",
              "\n",
              "    .dataframe tbody tr th {\n",
              "        vertical-align: top;\n",
              "    }\n",
              "\n",
              "    .dataframe thead th {\n",
              "        text-align: right;\n",
              "    }\n",
              "</style>\n",
              "<table border=\"1\" class=\"dataframe\">\n",
              "  <thead>\n",
              "    <tr style=\"text-align: right;\">\n",
              "      <th></th>\n",
              "      <th>word</th>\n",
              "      <th>word_in_docs</th>\n",
              "      <th>count</th>\n",
              "      <th>rank</th>\n",
              "      <th>percent</th>\n",
              "      <th>cul_percent</th>\n",
              "      <th>word_in_docs_percent</th>\n",
              "    </tr>\n",
              "  </thead>\n",
              "  <tbody>\n",
              "    <tr>\n",
              "      <th>22</th>\n",
              "      <td>dress</td>\n",
              "      <td>6034</td>\n",
              "      <td>10428</td>\n",
              "      <td>1.0</td>\n",
              "      <td>0.017961</td>\n",
              "      <td>0.017961</td>\n",
              "      <td>0.266508</td>\n",
              "    </tr>\n",
              "    <tr>\n",
              "      <th>16</th>\n",
              "      <td>love</td>\n",
              "      <td>7386</td>\n",
              "      <td>8883</td>\n",
              "      <td>2.0</td>\n",
              "      <td>0.015300</td>\n",
              "      <td>0.033260</td>\n",
              "      <td>0.326222</td>\n",
              "    </tr>\n",
              "    <tr>\n",
              "      <th>39</th>\n",
              "      <td>size</td>\n",
              "      <td>6517</td>\n",
              "      <td>8653</td>\n",
              "      <td>3.0</td>\n",
              "      <td>0.014903</td>\n",
              "      <td>0.048163</td>\n",
              "      <td>0.287841</td>\n",
              "    </tr>\n",
              "    <tr>\n",
              "      <th>47</th>\n",
              "      <td>fit</td>\n",
              "      <td>6107</td>\n",
              "      <td>7191</td>\n",
              "      <td>4.0</td>\n",
              "      <td>0.012385</td>\n",
              "      <td>0.060549</td>\n",
              "      <td>0.269732</td>\n",
              "    </tr>\n",
              "    <tr>\n",
              "      <th>126</th>\n",
              "      <td>like</td>\n",
              "      <td>5722</td>\n",
              "      <td>6984</td>\n",
              "      <td>5.0</td>\n",
              "      <td>0.012029</td>\n",
              "      <td>0.072577</td>\n",
              "      <td>0.252727</td>\n",
              "    </tr>\n",
              "    <tr>\n",
              "      <th>61</th>\n",
              "      <td>wear</td>\n",
              "      <td>5514</td>\n",
              "      <td>6407</td>\n",
              "      <td>6.0</td>\n",
              "      <td>0.011035</td>\n",
              "      <td>0.083612</td>\n",
              "      <td>0.243540</td>\n",
              "    </tr>\n",
              "    <tr>\n",
              "      <th>60</th>\n",
              "      <td>great</td>\n",
              "      <td>5157</td>\n",
              "      <td>6053</td>\n",
              "      <td>7.0</td>\n",
              "      <td>0.010425</td>\n",
              "      <td>0.094038</td>\n",
              "      <td>0.227773</td>\n",
              "    </tr>\n",
              "    <tr>\n",
              "      <th>173</th>\n",
              "      <td>fabric</td>\n",
              "      <td>4102</td>\n",
              "      <td>4731</td>\n",
              "      <td>8.0</td>\n",
              "      <td>0.008148</td>\n",
              "      <td>0.102186</td>\n",
              "      <td>0.181176</td>\n",
              "    </tr>\n",
              "    <tr>\n",
              "      <th>34</th>\n",
              "      <td>small</td>\n",
              "      <td>3643</td>\n",
              "      <td>4530</td>\n",
              "      <td>9.0</td>\n",
              "      <td>0.007802</td>\n",
              "      <td>0.109988</td>\n",
              "      <td>0.160903</td>\n",
              "    </tr>\n",
              "    <tr>\n",
              "      <th>91</th>\n",
              "      <td>color</td>\n",
              "      <td>3999</td>\n",
              "      <td>4530</td>\n",
              "      <td>10.0</td>\n",
              "      <td>0.007802</td>\n",
              "      <td>0.117791</td>\n",
              "      <td>0.176626</td>\n",
              "    </tr>\n",
              "    <tr>\n",
              "      <th>111</th>\n",
              "      <td>look</td>\n",
              "      <td>3490</td>\n",
              "      <td>4001</td>\n",
              "      <td>11.0</td>\n",
              "      <td>0.006891</td>\n",
              "      <td>0.124682</td>\n",
              "      <td>0.154145</td>\n",
              "    </tr>\n",
              "    <tr>\n",
              "      <th>11</th>\n",
              "      <td>ordered</td>\n",
              "      <td>3449</td>\n",
              "      <td>3824</td>\n",
              "      <td>12.0</td>\n",
              "      <td>0.006586</td>\n",
              "      <td>0.131268</td>\n",
              "      <td>0.152334</td>\n",
              "    </tr>\n",
              "    <tr>\n",
              "      <th>13</th>\n",
              "      <td>little</td>\n",
              "      <td>3282</td>\n",
              "      <td>3768</td>\n",
              "      <td>13.0</td>\n",
              "      <td>0.006490</td>\n",
              "      <td>0.137758</td>\n",
              "      <td>0.144958</td>\n",
              "    </tr>\n",
              "    <tr>\n",
              "      <th>69</th>\n",
              "      <td>perfect</td>\n",
              "      <td>3337</td>\n",
              "      <td>3718</td>\n",
              "      <td>14.0</td>\n",
              "      <td>0.006404</td>\n",
              "      <td>0.144161</td>\n",
              "      <td>0.147387</td>\n",
              "    </tr>\n",
              "    <tr>\n",
              "      <th>75</th>\n",
              "      <td>flattering</td>\n",
              "      <td>3292</td>\n",
              "      <td>3458</td>\n",
              "      <td>15.0</td>\n",
              "      <td>0.005956</td>\n",
              "      <td>0.150117</td>\n",
              "      <td>0.145400</td>\n",
              "    </tr>\n",
              "    <tr>\n",
              "      <th>510</th>\n",
              "      <td>soft</td>\n",
              "      <td>3140</td>\n",
              "      <td>3297</td>\n",
              "      <td>16.0</td>\n",
              "      <td>0.005679</td>\n",
              "      <td>0.155796</td>\n",
              "      <td>0.138686</td>\n",
              "    </tr>\n",
              "    <tr>\n",
              "      <th>4</th>\n",
              "      <td>comfortable</td>\n",
              "      <td>2912</td>\n",
              "      <td>3016</td>\n",
              "      <td>17.0</td>\n",
              "      <td>0.005195</td>\n",
              "      <td>0.160990</td>\n",
              "      <td>0.128616</td>\n",
              "    </tr>\n",
              "    <tr>\n",
              "      <th>385</th>\n",
              "      <td>cute</td>\n",
              "      <td>2773</td>\n",
              "      <td>3005</td>\n",
              "      <td>18.0</td>\n",
              "      <td>0.005176</td>\n",
              "      <td>0.166166</td>\n",
              "      <td>0.122477</td>\n",
              "    </tr>\n",
              "    <tr>\n",
              "      <th>158</th>\n",
              "      <td>nice</td>\n",
              "      <td>2665</td>\n",
              "      <td>2993</td>\n",
              "      <td>19.0</td>\n",
              "      <td>0.005155</td>\n",
              "      <td>0.171321</td>\n",
              "      <td>0.117707</td>\n",
              "    </tr>\n",
              "    <tr>\n",
              "      <th>25</th>\n",
              "      <td>bought</td>\n",
              "      <td>2667</td>\n",
              "      <td>2978</td>\n",
              "      <td>20.0</td>\n",
              "      <td>0.005129</td>\n",
              "      <td>0.176450</td>\n",
              "      <td>0.117795</td>\n",
              "    </tr>\n",
              "  </tbody>\n",
              "</table>\n",
              "</div>"
            ],
            "text/plain": [
              "            word  word_in_docs  ...  cul_percent  word_in_docs_percent\n",
              "22         dress          6034  ...     0.017961              0.266508\n",
              "16          love          7386  ...     0.033260              0.326222\n",
              "39          size          6517  ...     0.048163              0.287841\n",
              "47           fit          6107  ...     0.060549              0.269732\n",
              "126         like          5722  ...     0.072577              0.252727\n",
              "61          wear          5514  ...     0.083612              0.243540\n",
              "60         great          5157  ...     0.094038              0.227773\n",
              "173       fabric          4102  ...     0.102186              0.181176\n",
              "34         small          3643  ...     0.109988              0.160903\n",
              "91         color          3999  ...     0.117791              0.176626\n",
              "111         look          3490  ...     0.124682              0.154145\n",
              "11       ordered          3449  ...     0.131268              0.152334\n",
              "13        little          3282  ...     0.137758              0.144958\n",
              "69       perfect          3337  ...     0.144161              0.147387\n",
              "75    flattering          3292  ...     0.150117              0.145400\n",
              "510         soft          3140  ...     0.155796              0.138686\n",
              "4    comfortable          2912  ...     0.160990              0.128616\n",
              "385         cute          2773  ...     0.166166              0.122477\n",
              "158         nice          2665  ...     0.171321              0.117707\n",
              "25        bought          2667  ...     0.176450              0.117795\n",
              "\n",
              "[20 rows x 7 columns]"
            ]
          },
          "metadata": {
            "tags": []
          },
          "execution_count": 62
        }
      ]
    },
    {
      "cell_type": "markdown",
      "metadata": {
        "id": "yYg-7lGXnxVU"
      },
      "source": [
        "### 5) 통계적 트리밍 사용 전/후 토큰 분포를 비교합니다.\n",
        "- 문서 등장 비율이 20% 미만이고, 최소 1% 이상 등장하는 단어만 선택한 뒤,\n",
        "- 통계적 트리밍 사용 전/후 토큰 분포 시각화하고,\n",
        "- 문항 5-1) 통계적 트리밍 후 상위 토큰 10개의 단어를 입력하시오.\n",
        "- 문항 5-2) 불용어 처리 & 통계적 트리밍 후 상위 토큰 10개의 단어를 입력하시오."
      ]
    },
    {
      "cell_type": "code",
      "metadata": {
        "id": "ImuyJNmenxVU",
        "colab": {
          "base_uri": "https://localhost:8080/",
          "height": 369
        },
        "outputId": "0ef85f22-2b08-4503-a716-bbbaef3037a0"
      },
      "source": [
        "wc_trimmed = wc[wc['word_in_docs_percent'] >= 0.01]\n",
        "wc_trimmed = wc_trimmed[wc_trimmed['word_in_docs_percent'] < 0.2]\n",
        "sns.displot(wc_trimmed['word_in_docs_percent'], kind='kde');"
      ],
      "execution_count": 63,
      "outputs": [
        {
          "output_type": "display_data",
          "data": {
            "image/png": "[encoded data removed]",
            "text/plain": [
              "<Figure size 360x360 with 1 Axes>"
            ]
          },
          "metadata": {
            "tags": [],
            "needs_background": "light"
          }
        }
      ]
    },
    {
      "cell_type": "code",
      "metadata": {
        "colab": {
          "base_uri": "https://localhost:8080/",
          "height": 359
        },
        "id": "x5_ggwVvkMD7",
        "outputId": "42250a8d-934c-4025-b9c0-24e4d5fd0caf"
      },
      "source": [
        "wc_trimmed.head(10)"
      ],
      "execution_count": 64,
      "outputs": [
        {
          "output_type": "execute_result",
          "data": {
            "text/html": [
              "<div>\n",
              "<style scoped>\n",
              "    .dataframe tbody tr th:only-of-type {\n",
              "        vertical-align: middle;\n",
              "    }\n",
              "\n",
              "    .dataframe tbody tr th {\n",
              "        vertical-align: top;\n",
              "    }\n",
              "\n",
              "    .dataframe thead th {\n",
              "        text-align: right;\n",
              "    }\n",
              "</style>\n",
              "<table border=\"1\" class=\"dataframe\">\n",
              "  <thead>\n",
              "    <tr style=\"text-align: right;\">\n",
              "      <th></th>\n",
              "      <th>word</th>\n",
              "      <th>word_in_docs</th>\n",
              "      <th>count</th>\n",
              "      <th>rank</th>\n",
              "      <th>percent</th>\n",
              "      <th>cul_percent</th>\n",
              "      <th>word_in_docs_percent</th>\n",
              "    </tr>\n",
              "  </thead>\n",
              "  <tbody>\n",
              "    <tr>\n",
              "      <th>242</th>\n",
              "      <td>you</td>\n",
              "      <td>3892</td>\n",
              "      <td>5158</td>\n",
              "      <td>40.0</td>\n",
              "      <td>0.003806</td>\n",
              "      <td>0.473680</td>\n",
              "      <td>0.171901</td>\n",
              "    </tr>\n",
              "    <tr>\n",
              "      <th>33</th>\n",
              "      <td>would</td>\n",
              "      <td>4284</td>\n",
              "      <td>5004</td>\n",
              "      <td>41.0</td>\n",
              "      <td>0.003692</td>\n",
              "      <td>0.477372</td>\n",
              "      <td>0.189214</td>\n",
              "    </tr>\n",
              "    <tr>\n",
              "      <th>298</th>\n",
              "      <td>they</td>\n",
              "      <td>3087</td>\n",
              "      <td>4936</td>\n",
              "      <td>42.0</td>\n",
              "      <td>0.003642</td>\n",
              "      <td>0.481014</td>\n",
              "      <td>0.136346</td>\n",
              "    </tr>\n",
              "    <tr>\n",
              "      <th>181</th>\n",
              "      <td>at</td>\n",
              "      <td>4050</td>\n",
              "      <td>4792</td>\n",
              "      <td>43.0</td>\n",
              "      <td>0.003536</td>\n",
              "      <td>0.484550</td>\n",
              "      <td>0.178879</td>\n",
              "    </tr>\n",
              "    <tr>\n",
              "      <th>252</th>\n",
              "      <td>fabric</td>\n",
              "      <td>4102</td>\n",
              "      <td>4731</td>\n",
              "      <td>44.0</td>\n",
              "      <td>0.003491</td>\n",
              "      <td>0.488041</td>\n",
              "      <td>0.181176</td>\n",
              "    </tr>\n",
              "    <tr>\n",
              "      <th>54</th>\n",
              "      <td>up</td>\n",
              "      <td>4175</td>\n",
              "      <td>4717</td>\n",
              "      <td>45.0</td>\n",
              "      <td>0.003481</td>\n",
              "      <td>0.491522</td>\n",
              "      <td>0.184400</td>\n",
              "    </tr>\n",
              "    <tr>\n",
              "      <th>63</th>\n",
              "      <td>small</td>\n",
              "      <td>3643</td>\n",
              "      <td>4530</td>\n",
              "      <td>46.0</td>\n",
              "      <td>0.003343</td>\n",
              "      <td>0.494864</td>\n",
              "      <td>0.160903</td>\n",
              "    </tr>\n",
              "    <tr>\n",
              "      <th>145</th>\n",
              "      <td>color</td>\n",
              "      <td>3999</td>\n",
              "      <td>4530</td>\n",
              "      <td>47.0</td>\n",
              "      <td>0.003343</td>\n",
              "      <td>0.498207</td>\n",
              "      <td>0.176626</td>\n",
              "    </tr>\n",
              "    <tr>\n",
              "      <th>173</th>\n",
              "      <td>look</td>\n",
              "      <td>3490</td>\n",
              "      <td>4001</td>\n",
              "      <td>48.0</td>\n",
              "      <td>0.002952</td>\n",
              "      <td>0.501159</td>\n",
              "      <td>0.154145</td>\n",
              "    </tr>\n",
              "    <tr>\n",
              "      <th>293</th>\n",
              "      <td>more</td>\n",
              "      <td>3420</td>\n",
              "      <td>3917</td>\n",
              "      <td>49.0</td>\n",
              "      <td>0.002890</td>\n",
              "      <td>0.504049</td>\n",
              "      <td>0.151053</td>\n",
              "    </tr>\n",
              "  </tbody>\n",
              "</table>\n",
              "</div>"
            ],
            "text/plain": [
              "       word  word_in_docs  count  ...   percent  cul_percent  word_in_docs_percent\n",
              "242     you          3892   5158  ...  0.003806     0.473680              0.171901\n",
              "33    would          4284   5004  ...  0.003692     0.477372              0.189214\n",
              "298    they          3087   4936  ...  0.003642     0.481014              0.136346\n",
              "181      at          4050   4792  ...  0.003536     0.484550              0.178879\n",
              "252  fabric          4102   4731  ...  0.003491     0.488041              0.181176\n",
              "54       up          4175   4717  ...  0.003481     0.491522              0.184400\n",
              "63    small          3643   4530  ...  0.003343     0.494864              0.160903\n",
              "145   color          3999   4530  ...  0.003343     0.498207              0.176626\n",
              "173    look          3490   4001  ...  0.002952     0.501159              0.154145\n",
              "293    more          3420   3917  ...  0.002890     0.504049              0.151053\n",
              "\n",
              "[10 rows x 7 columns]"
            ]
          },
          "metadata": {
            "tags": []
          },
          "execution_count": 64
        }
      ]
    },
    {
      "cell_type": "code",
      "metadata": {
        "colab": {
          "base_uri": "https://localhost:8080/"
        },
        "id": "Yh5XJUGikM63",
        "outputId": "08ae6335-a484-4a06-a6a2-5e1ce39946ab"
      },
      "source": [
        "wc_trimmed['word'].head(10)"
      ],
      "execution_count": 65,
      "outputs": [
        {
          "output_type": "execute_result",
          "data": {
            "text/plain": [
              "242       you\n",
              "33      would\n",
              "298      they\n",
              "181        at\n",
              "252    fabric\n",
              "54         up\n",
              "63      small\n",
              "145     color\n",
              "173      look\n",
              "293      more\n",
              "Name: word, dtype: object"
            ]
          },
          "metadata": {
            "tags": []
          },
          "execution_count": 65
        }
      ]
    },
    {
      "cell_type": "code",
      "metadata": {
        "colab": {
          "base_uri": "https://localhost:8080/",
          "height": 359
        },
        "id": "11xNgfMAkODI",
        "outputId": "1e27e818-e4ff-4d84-c0c5-4387c5999fa7"
      },
      "source": [
        "wc_extended_stop_word = word_count(df['tokens'])\n",
        "wc_extended_stop_word = wc_extended_stop_word[wc_extended_stop_word['word_in_docs_percent'] >= 0.01]\n",
        "wc_extended_stop_word = wc_extended_stop_word[wc_extended_stop_word['word_in_docs_percent'] < 0.2]\n",
        "wc_extended_stop_word.head(10)"
      ],
      "execution_count": 66,
      "outputs": [
        {
          "output_type": "execute_result",
          "data": {
            "text/html": [
              "<div>\n",
              "<style scoped>\n",
              "    .dataframe tbody tr th:only-of-type {\n",
              "        vertical-align: middle;\n",
              "    }\n",
              "\n",
              "    .dataframe tbody tr th {\n",
              "        vertical-align: top;\n",
              "    }\n",
              "\n",
              "    .dataframe thead th {\n",
              "        text-align: right;\n",
              "    }\n",
              "</style>\n",
              "<table border=\"1\" class=\"dataframe\">\n",
              "  <thead>\n",
              "    <tr style=\"text-align: right;\">\n",
              "      <th></th>\n",
              "      <th>word</th>\n",
              "      <th>word_in_docs</th>\n",
              "      <th>count</th>\n",
              "      <th>rank</th>\n",
              "      <th>percent</th>\n",
              "      <th>cul_percent</th>\n",
              "      <th>word_in_docs_percent</th>\n",
              "    </tr>\n",
              "  </thead>\n",
              "  <tbody>\n",
              "    <tr>\n",
              "      <th>173</th>\n",
              "      <td>fabric</td>\n",
              "      <td>4102</td>\n",
              "      <td>4731</td>\n",
              "      <td>8.0</td>\n",
              "      <td>0.008148</td>\n",
              "      <td>0.102186</td>\n",
              "      <td>0.181176</td>\n",
              "    </tr>\n",
              "    <tr>\n",
              "      <th>34</th>\n",
              "      <td>small</td>\n",
              "      <td>3643</td>\n",
              "      <td>4530</td>\n",
              "      <td>9.0</td>\n",
              "      <td>0.007802</td>\n",
              "      <td>0.109988</td>\n",
              "      <td>0.160903</td>\n",
              "    </tr>\n",
              "    <tr>\n",
              "      <th>91</th>\n",
              "      <td>color</td>\n",
              "      <td>3999</td>\n",
              "      <td>4530</td>\n",
              "      <td>10.0</td>\n",
              "      <td>0.007802</td>\n",
              "      <td>0.117791</td>\n",
              "      <td>0.176626</td>\n",
              "    </tr>\n",
              "    <tr>\n",
              "      <th>111</th>\n",
              "      <td>look</td>\n",
              "      <td>3490</td>\n",
              "      <td>4001</td>\n",
              "      <td>11.0</td>\n",
              "      <td>0.006891</td>\n",
              "      <td>0.124682</td>\n",
              "      <td>0.154145</td>\n",
              "    </tr>\n",
              "    <tr>\n",
              "      <th>11</th>\n",
              "      <td>ordered</td>\n",
              "      <td>3449</td>\n",
              "      <td>3824</td>\n",
              "      <td>12.0</td>\n",
              "      <td>0.006586</td>\n",
              "      <td>0.131268</td>\n",
              "      <td>0.152334</td>\n",
              "    </tr>\n",
              "    <tr>\n",
              "      <th>13</th>\n",
              "      <td>little</td>\n",
              "      <td>3282</td>\n",
              "      <td>3768</td>\n",
              "      <td>13.0</td>\n",
              "      <td>0.006490</td>\n",
              "      <td>0.137758</td>\n",
              "      <td>0.144958</td>\n",
              "    </tr>\n",
              "    <tr>\n",
              "      <th>69</th>\n",
              "      <td>perfect</td>\n",
              "      <td>3337</td>\n",
              "      <td>3718</td>\n",
              "      <td>14.0</td>\n",
              "      <td>0.006404</td>\n",
              "      <td>0.144161</td>\n",
              "      <td>0.147387</td>\n",
              "    </tr>\n",
              "    <tr>\n",
              "      <th>75</th>\n",
              "      <td>flattering</td>\n",
              "      <td>3292</td>\n",
              "      <td>3458</td>\n",
              "      <td>15.0</td>\n",
              "      <td>0.005956</td>\n",
              "      <td>0.150117</td>\n",
              "      <td>0.145400</td>\n",
              "    </tr>\n",
              "    <tr>\n",
              "      <th>510</th>\n",
              "      <td>soft</td>\n",
              "      <td>3140</td>\n",
              "      <td>3297</td>\n",
              "      <td>16.0</td>\n",
              "      <td>0.005679</td>\n",
              "      <td>0.155796</td>\n",
              "      <td>0.138686</td>\n",
              "    </tr>\n",
              "    <tr>\n",
              "      <th>4</th>\n",
              "      <td>comfortable</td>\n",
              "      <td>2912</td>\n",
              "      <td>3016</td>\n",
              "      <td>17.0</td>\n",
              "      <td>0.005195</td>\n",
              "      <td>0.160990</td>\n",
              "      <td>0.128616</td>\n",
              "    </tr>\n",
              "  </tbody>\n",
              "</table>\n",
              "</div>"
            ],
            "text/plain": [
              "            word  word_in_docs  ...  cul_percent  word_in_docs_percent\n",
              "173       fabric          4102  ...     0.102186              0.181176\n",
              "34         small          3643  ...     0.109988              0.160903\n",
              "91         color          3999  ...     0.117791              0.176626\n",
              "111         look          3490  ...     0.124682              0.154145\n",
              "11       ordered          3449  ...     0.131268              0.152334\n",
              "13        little          3282  ...     0.137758              0.144958\n",
              "69       perfect          3337  ...     0.144161              0.147387\n",
              "75    flattering          3292  ...     0.150117              0.145400\n",
              "510         soft          3140  ...     0.155796              0.138686\n",
              "4    comfortable          2912  ...     0.160990              0.128616\n",
              "\n",
              "[10 rows x 7 columns]"
            ]
          },
          "metadata": {
            "tags": []
          },
          "execution_count": 66
        }
      ]
    },
    {
      "cell_type": "code",
      "metadata": {
        "colab": {
          "base_uri": "https://localhost:8080/"
        },
        "id": "d_I29eKTkOz1",
        "outputId": "efecbfe8-1c63-4888-c312-ff4c1b4fad0d"
      },
      "source": [
        "wc_extended_stop_word['word'].head(10)"
      ],
      "execution_count": 67,
      "outputs": [
        {
          "output_type": "execute_result",
          "data": {
            "text/plain": [
              "173         fabric\n",
              "34           small\n",
              "91           color\n",
              "111           look\n",
              "11         ordered\n",
              "13          little\n",
              "69         perfect\n",
              "75      flattering\n",
              "510           soft\n",
              "4      comfortable\n",
              "Name: word, dtype: object"
            ]
          },
          "metadata": {
            "tags": []
          },
          "execution_count": 67
        }
      ]
    },
    {
      "cell_type": "markdown",
      "metadata": {
        "id": "f0iyh_gFnxVV"
      },
      "source": [
        "### 6) Lemmatization 사용 효과를 분석해 봅니다.\n",
        "- 문항 6-1) Stemming한 뒤 상위 10개 단어를 입력하시오.\n",
        "- 문항 6-2) Lemmatization을 진행한 뒤 상위 10개 단어를 입력하시오."
      ]
    },
    {
      "cell_type": "code",
      "metadata": {
        "id": "YcFQ2PcMnxVV"
      },
      "source": [
        "from nltk.stem import PorterStemmer\n",
        "\n",
        "ps = PorterStemmer()\n",
        "\n",
        "tokens = []\n",
        "for doc in df['tokens']:\n",
        "    doc_tokens = []\n",
        "    for token in doc:\n",
        "        doc_tokens.append(ps.stem(token))\n",
        "    tokens.append(doc_tokens)\n",
        "\n",
        "df['stems'] = tokens"
      ],
      "execution_count": 68,
      "outputs": []
    },
    {
      "cell_type": "code",
      "metadata": {
        "colab": {
          "base_uri": "https://localhost:8080/",
          "height": 359
        },
        "id": "Eo0S4KXZkRpa",
        "outputId": "d995ea4c-1879-4d1b-bbf9-b330fa196fe1"
      },
      "source": [
        "wc_stem = word_count(df['stems'])\n",
        "\n",
        "wc_stem_top10 = wc_stem[wc_stem['rank'] <= 10]\n",
        "\n",
        "wc_stem_top10"
      ],
      "execution_count": 69,
      "outputs": [
        {
          "output_type": "execute_result",
          "data": {
            "text/html": [
              "<div>\n",
              "<style scoped>\n",
              "    .dataframe tbody tr th:only-of-type {\n",
              "        vertical-align: middle;\n",
              "    }\n",
              "\n",
              "    .dataframe tbody tr th {\n",
              "        vertical-align: top;\n",
              "    }\n",
              "\n",
              "    .dataframe thead th {\n",
              "        text-align: right;\n",
              "    }\n",
              "</style>\n",
              "<table border=\"1\" class=\"dataframe\">\n",
              "  <thead>\n",
              "    <tr style=\"text-align: right;\">\n",
              "      <th></th>\n",
              "      <th>word</th>\n",
              "      <th>word_in_docs</th>\n",
              "      <th>count</th>\n",
              "      <th>rank</th>\n",
              "      <th>percent</th>\n",
              "      <th>cul_percent</th>\n",
              "      <th>word_in_docs_percent</th>\n",
              "    </tr>\n",
              "  </thead>\n",
              "  <tbody>\n",
              "    <tr>\n",
              "      <th>22</th>\n",
              "      <td>dress</td>\n",
              "      <td>6747</td>\n",
              "      <td>12022</td>\n",
              "      <td>1.0</td>\n",
              "      <td>0.020706</td>\n",
              "      <td>0.020706</td>\n",
              "      <td>0.297999</td>\n",
              "    </tr>\n",
              "    <tr>\n",
              "      <th>15</th>\n",
              "      <td>love</td>\n",
              "      <td>9165</td>\n",
              "      <td>11302</td>\n",
              "      <td>2.0</td>\n",
              "      <td>0.019466</td>\n",
              "      <td>0.040172</td>\n",
              "      <td>0.404797</td>\n",
              "    </tr>\n",
              "    <tr>\n",
              "      <th>47</th>\n",
              "      <td>fit</td>\n",
              "      <td>8971</td>\n",
              "      <td>11252</td>\n",
              "      <td>3.0</td>\n",
              "      <td>0.019380</td>\n",
              "      <td>0.059551</td>\n",
              "      <td>0.396228</td>\n",
              "    </tr>\n",
              "    <tr>\n",
              "      <th>40</th>\n",
              "      <td>size</td>\n",
              "      <td>7446</td>\n",
              "      <td>10551</td>\n",
              "      <td>4.0</td>\n",
              "      <td>0.018172</td>\n",
              "      <td>0.077724</td>\n",
              "      <td>0.328872</td>\n",
              "    </tr>\n",
              "    <tr>\n",
              "      <th>109</th>\n",
              "      <td>look</td>\n",
              "      <td>7116</td>\n",
              "      <td>9253</td>\n",
              "      <td>5.0</td>\n",
              "      <td>0.015937</td>\n",
              "      <td>0.093661</td>\n",
              "      <td>0.314297</td>\n",
              "    </tr>\n",
              "    <tr>\n",
              "      <th>60</th>\n",
              "      <td>wear</td>\n",
              "      <td>6672</td>\n",
              "      <td>8037</td>\n",
              "      <td>6.0</td>\n",
              "      <td>0.013842</td>\n",
              "      <td>0.107503</td>\n",
              "      <td>0.294687</td>\n",
              "    </tr>\n",
              "    <tr>\n",
              "      <th>123</th>\n",
              "      <td>like</td>\n",
              "      <td>6207</td>\n",
              "      <td>7705</td>\n",
              "      <td>7.0</td>\n",
              "      <td>0.013271</td>\n",
              "      <td>0.120774</td>\n",
              "      <td>0.274149</td>\n",
              "    </tr>\n",
              "    <tr>\n",
              "      <th>87</th>\n",
              "      <td>color</td>\n",
              "      <td>6093</td>\n",
              "      <td>7142</td>\n",
              "      <td>8.0</td>\n",
              "      <td>0.012301</td>\n",
              "      <td>0.133075</td>\n",
              "      <td>0.269114</td>\n",
              "    </tr>\n",
              "    <tr>\n",
              "      <th>59</th>\n",
              "      <td>great</td>\n",
              "      <td>5158</td>\n",
              "      <td>6054</td>\n",
              "      <td>9.0</td>\n",
              "      <td>0.010427</td>\n",
              "      <td>0.143502</td>\n",
              "      <td>0.227817</td>\n",
              "    </tr>\n",
              "    <tr>\n",
              "      <th>9</th>\n",
              "      <td>order</td>\n",
              "      <td>4198</td>\n",
              "      <td>4975</td>\n",
              "      <td>10.0</td>\n",
              "      <td>0.008569</td>\n",
              "      <td>0.152070</td>\n",
              "      <td>0.185416</td>\n",
              "    </tr>\n",
              "  </tbody>\n",
              "</table>\n",
              "</div>"
            ],
            "text/plain": [
              "      word  word_in_docs  count  ...   percent  cul_percent  word_in_docs_percent\n",
              "22   dress          6747  12022  ...  0.020706     0.020706              0.297999\n",
              "15    love          9165  11302  ...  0.019466     0.040172              0.404797\n",
              "47     fit          8971  11252  ...  0.019380     0.059551              0.396228\n",
              "40    size          7446  10551  ...  0.018172     0.077724              0.328872\n",
              "109   look          7116   9253  ...  0.015937     0.093661              0.314297\n",
              "60    wear          6672   8037  ...  0.013842     0.107503              0.294687\n",
              "123   like          6207   7705  ...  0.013271     0.120774              0.274149\n",
              "87   color          6093   7142  ...  0.012301     0.133075              0.269114\n",
              "59   great          5158   6054  ...  0.010427     0.143502              0.227817\n",
              "9    order          4198   4975  ...  0.008569     0.152070              0.185416\n",
              "\n",
              "[10 rows x 7 columns]"
            ]
          },
          "metadata": {
            "tags": []
          },
          "execution_count": 69
        }
      ]
    },
    {
      "cell_type": "code",
      "metadata": {
        "colab": {
          "base_uri": "https://localhost:8080/"
        },
        "id": "eQnNGLmkkTfp",
        "outputId": "d4e0dca2-a5a2-4b4d-8cda-0c5bcd054958"
      },
      "source": [
        "wc_stem_top10['word']"
      ],
      "execution_count": 70,
      "outputs": [
        {
          "output_type": "execute_result",
          "data": {
            "text/plain": [
              "22     dress\n",
              "15      love\n",
              "47       fit\n",
              "40      size\n",
              "109     look\n",
              "60      wear\n",
              "123     like\n",
              "87     color\n",
              "59     great\n",
              "9      order\n",
              "Name: word, dtype: object"
            ]
          },
          "metadata": {
            "tags": []
          },
          "execution_count": 70
        }
      ]
    },
    {
      "cell_type": "code",
      "metadata": {
        "id": "tfxi9zkEkUix"
      },
      "source": [
        "def get_lemmas(text):\n",
        "\n",
        "    lemmas = []\n",
        "    \n",
        "    doc = nlp(text)\n",
        "\n",
        "    for token in doc: \n",
        "        if ((token.is_stop == False) and (token.is_punct == False)) and (token.pos_ != 'PRON'):\n",
        "            lemmas.append(token.lemma_)\n",
        "    \n",
        "    return lemmas"
      ],
      "execution_count": 71,
      "outputs": []
    },
    {
      "cell_type": "code",
      "metadata": {
        "id": "7L5MffGrkVkC"
      },
      "source": [
        "df['lemmas'] = df['Review Text'].apply(get_lemmas)"
      ],
      "execution_count": 72,
      "outputs": []
    },
    {
      "cell_type": "code",
      "metadata": {
        "colab": {
          "base_uri": "https://localhost:8080/"
        },
        "id": "7ZEIVH7gkWo_",
        "outputId": "bcb32c90-e54d-4ab6-c2b2-bb3a36139b93"
      },
      "source": [
        "tokens_lemma = []\n",
        "\n",
        "for doc in df['lemmas']:\n",
        "    \n",
        "    doc_tokens = []\n",
        "    \n",
        "    for token in doc: \n",
        "        if token not in STOP_WORDS and token != ' ':\n",
        "            doc_tokens.append(token)\n",
        "   \n",
        "    tokens_lemma.append(doc_tokens)\n",
        "    \n",
        "df['tokens_lemma'] = tokens_lemma\n",
        "df['tokens_lemma']"
      ],
      "execution_count": 73,
      "outputs": [
        {
          "output_type": "execute_result",
          "data": {
            "text/plain": [
              "0        [absolutely, wonderful, silky, sexy, comfortable]\n",
              "1        [love, dress, sooo, pretty, happen, find, stor...\n",
              "2        [high, hope, dress, want, work, initially, ord...\n",
              "3        [love, love, love, jumpsuit, fun, flirty, fabu...\n",
              "4        [shirt, flattering, adjustable, tie, perfect, ...\n",
              "                               ...                        \n",
              "23481    [happy, snag, dress, great, price, easy, slip,...\n",
              "23482    [remind, maternity, clothe, soft, stretchy, sh...\n",
              "23483    [fit, work, glad, able, try, store, order, onl...\n",
              "23484    [buy, dress, wedding, summer, cute, unfortunat...\n",
              "23485    [dress, lovely, platinum, feminine, fit, perfe...\n",
              "Name: tokens_lemma, Length: 22641, dtype: object"
            ]
          },
          "metadata": {
            "tags": []
          },
          "execution_count": 73
        }
      ]
    },
    {
      "cell_type": "code",
      "metadata": {
        "colab": {
          "base_uri": "https://localhost:8080/",
          "height": 359
        },
        "id": "pCgbUCOwkXn7",
        "outputId": "b096ec2f-f7a6-44f7-86e3-bdc6d9cf570a"
      },
      "source": [
        "wc_lemma = word_count(df['tokens_lemma'])\n",
        "wc_lemma_top10 = wc_lemma[wc_lemma['rank'] <= 10]\n",
        "\n",
        "wc_lemma_top10"
      ],
      "execution_count": 74,
      "outputs": [
        {
          "output_type": "execute_result",
          "data": {
            "text/html": [
              "<div>\n",
              "<style scoped>\n",
              "    .dataframe tbody tr th:only-of-type {\n",
              "        vertical-align: middle;\n",
              "    }\n",
              "\n",
              "    .dataframe tbody tr th {\n",
              "        vertical-align: top;\n",
              "    }\n",
              "\n",
              "    .dataframe thead th {\n",
              "        text-align: right;\n",
              "    }\n",
              "</style>\n",
              "<table border=\"1\" class=\"dataframe\">\n",
              "  <thead>\n",
              "    <tr style=\"text-align: right;\">\n",
              "      <th></th>\n",
              "      <th>word</th>\n",
              "      <th>word_in_docs</th>\n",
              "      <th>count</th>\n",
              "      <th>rank</th>\n",
              "      <th>percent</th>\n",
              "      <th>cul_percent</th>\n",
              "      <th>word_in_docs_percent</th>\n",
              "    </tr>\n",
              "  </thead>\n",
              "  <tbody>\n",
              "    <tr>\n",
              "      <th>23</th>\n",
              "      <td>dress</td>\n",
              "      <td>6690</td>\n",
              "      <td>11936</td>\n",
              "      <td>1.0</td>\n",
              "      <td>0.021520</td>\n",
              "      <td>0.021520</td>\n",
              "      <td>0.295482</td>\n",
              "    </tr>\n",
              "    <tr>\n",
              "      <th>46</th>\n",
              "      <td>fit</td>\n",
              "      <td>8664</td>\n",
              "      <td>10690</td>\n",
              "      <td>2.0</td>\n",
              "      <td>0.019274</td>\n",
              "      <td>0.040794</td>\n",
              "      <td>0.382669</td>\n",
              "    </tr>\n",
              "    <tr>\n",
              "      <th>16</th>\n",
              "      <td>love</td>\n",
              "      <td>8449</td>\n",
              "      <td>10242</td>\n",
              "      <td>3.0</td>\n",
              "      <td>0.018466</td>\n",
              "      <td>0.059259</td>\n",
              "      <td>0.373173</td>\n",
              "    </tr>\n",
              "    <tr>\n",
              "      <th>59</th>\n",
              "      <td>wear</td>\n",
              "      <td>7896</td>\n",
              "      <td>10056</td>\n",
              "      <td>4.0</td>\n",
              "      <td>0.018130</td>\n",
              "      <td>0.077390</td>\n",
              "      <td>0.348748</td>\n",
              "    </tr>\n",
              "    <tr>\n",
              "      <th>40</th>\n",
              "      <td>size</td>\n",
              "      <td>7156</td>\n",
              "      <td>10019</td>\n",
              "      <td>5.0</td>\n",
              "      <td>0.018064</td>\n",
              "      <td>0.095454</td>\n",
              "      <td>0.316064</td>\n",
              "    </tr>\n",
              "    <tr>\n",
              "      <th>105</th>\n",
              "      <td>look</td>\n",
              "      <td>7095</td>\n",
              "      <td>9209</td>\n",
              "      <td>6.0</td>\n",
              "      <td>0.016603</td>\n",
              "      <td>0.112057</td>\n",
              "      <td>0.313370</td>\n",
              "    </tr>\n",
              "    <tr>\n",
              "      <th>117</th>\n",
              "      <td>like</td>\n",
              "      <td>6121</td>\n",
              "      <td>7577</td>\n",
              "      <td>7.0</td>\n",
              "      <td>0.013661</td>\n",
              "      <td>0.125718</td>\n",
              "      <td>0.270350</td>\n",
              "    </tr>\n",
              "    <tr>\n",
              "      <th>88</th>\n",
              "      <td>color</td>\n",
              "      <td>5960</td>\n",
              "      <td>6932</td>\n",
              "      <td>8.0</td>\n",
              "      <td>0.012498</td>\n",
              "      <td>0.138216</td>\n",
              "      <td>0.263239</td>\n",
              "    </tr>\n",
              "    <tr>\n",
              "      <th>58</th>\n",
              "      <td>great</td>\n",
              "      <td>5165</td>\n",
              "      <td>6062</td>\n",
              "      <td>9.0</td>\n",
              "      <td>0.010929</td>\n",
              "      <td>0.149146</td>\n",
              "      <td>0.228126</td>\n",
              "    </tr>\n",
              "    <tr>\n",
              "      <th>36</th>\n",
              "      <td>small</td>\n",
              "      <td>4159</td>\n",
              "      <td>5228</td>\n",
              "      <td>10.0</td>\n",
              "      <td>0.009426</td>\n",
              "      <td>0.158571</td>\n",
              "      <td>0.183693</td>\n",
              "    </tr>\n",
              "  </tbody>\n",
              "</table>\n",
              "</div>"
            ],
            "text/plain": [
              "      word  word_in_docs  count  ...   percent  cul_percent  word_in_docs_percent\n",
              "23   dress          6690  11936  ...  0.021520     0.021520              0.295482\n",
              "46     fit          8664  10690  ...  0.019274     0.040794              0.382669\n",
              "16    love          8449  10242  ...  0.018466     0.059259              0.373173\n",
              "59    wear          7896  10056  ...  0.018130     0.077390              0.348748\n",
              "40    size          7156  10019  ...  0.018064     0.095454              0.316064\n",
              "105   look          7095   9209  ...  0.016603     0.112057              0.313370\n",
              "117   like          6121   7577  ...  0.013661     0.125718              0.270350\n",
              "88   color          5960   6932  ...  0.012498     0.138216              0.263239\n",
              "58   great          5165   6062  ...  0.010929     0.149146              0.228126\n",
              "36   small          4159   5228  ...  0.009426     0.158571              0.183693\n",
              "\n",
              "[10 rows x 7 columns]"
            ]
          },
          "metadata": {
            "tags": []
          },
          "execution_count": 74
        }
      ]
    },
    {
      "cell_type": "code",
      "metadata": {
        "colab": {
          "base_uri": "https://localhost:8080/"
        },
        "id": "kUk010YUkYl1",
        "outputId": "70b714f4-88df-4a17-e803-8306831df665"
      },
      "source": [
        "wc_lemma_top10['word']"
      ],
      "execution_count": 75,
      "outputs": [
        {
          "output_type": "execute_result",
          "data": {
            "text/plain": [
              "23     dress\n",
              "46       fit\n",
              "16      love\n",
              "59      wear\n",
              "40      size\n",
              "105     look\n",
              "117     like\n",
              "88     color\n",
              "58     great\n",
              "36     small\n",
              "Name: word, dtype: object"
            ]
          },
          "metadata": {
            "tags": []
          },
          "execution_count": 75
        }
      ]
    },
    {
      "cell_type": "markdown",
      "metadata": {
        "id": "fXK19yoPnxVV"
      },
      "source": [
        "### 도전과제🔥 \n",
        "- Spacy 기능을 추가적으로 한 가지 사용해 봅니다.\n",
        "- 다른 자연어 데이터셋을 이용해서 지금까지 배운 내용을 복습해 봅시다."
      ]
    },
    {
      "cell_type": "code",
      "metadata": {
        "id": "n37naUF9nxVV"
      },
      "source": [
        "### 이곳에서 과제를 진행해 주세요 ### "
      ],
      "execution_count": null,
      "outputs": []
    }
  ]
}