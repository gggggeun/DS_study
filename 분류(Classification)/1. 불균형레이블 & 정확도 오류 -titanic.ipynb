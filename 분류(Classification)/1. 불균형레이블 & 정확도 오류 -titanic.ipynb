{
  "nbformat": 4,
  "nbformat_minor": 0,
  "metadata": {
    "colab": {
      "name": "정확도 이어서.ipynb",
      "provenance": []
    },
    "kernelspec": {
      "name": "python3",
      "display_name": "Python 3"
    }
  },
  "cells": [
    {
      "cell_type": "markdown",
      "metadata": {
        "id": "kCWZfJgeIRm2"
      },
      "source": [
        "불균형한 레이블 (Unbalanced label set) - titanic\r\n",
        "\r\n",
        "여성이면 무조건 생존(1)일 경우의 Accuracy(정확도)"
      ]
    },
    {
      "cell_type": "code",
      "metadata": {
        "id": "S4Z5RZUkTvqv"
      },
      "source": [
        "import pandas as pd\r\n",
        "from google.colab import files\r\n",
        "files.upload()"
      ],
      "execution_count": null,
      "outputs": []
    },
    {
      "cell_type": "code",
      "metadata": {
        "id": "rUmUT9YIWQyn"
      },
      "source": [
        "df = pd.read_csv('train (1).csv')"
      ],
      "execution_count": 58,
      "outputs": []
    },
    {
      "cell_type": "code",
      "metadata": {
        "colab": {
          "base_uri": "https://localhost:8080/",
          "height": 156
        },
        "id": "nuExz2zeV9dS",
        "outputId": "3afd6cf6-7fac-493b-f085-e998dd807550"
      },
      "source": [
        "# 필요없는 feature 제거\r\n",
        "df.drop(['PassengerId','Name','Ticket'],axis=1,inplace=True)\r\n",
        "# 결측값 정리\r\n",
        "df['Age'].fillna(df['Age'].mean(),inplace=True)\r\n",
        "df['Cabin'].fillna('N', inplace=True)\r\n",
        "df['Embarked'].fillna('N', inplace=True)\r\n",
        "print('총 결측치 수:',df.isnull().sum().sum())\r\n",
        "# 문자열 정리\r\n",
        "df['Cabin'] = df['Cabin'].str[:1]\r\n",
        "# 인코딩\r\n",
        "from sklearn import preprocessing\r\n",
        "def encode_features(dataDF):\r\n",
        "  features = ['Cabin','Sex','Embarked']\r\n",
        "  for feature in features :\r\n",
        "    le = preprocessing.LabelEncoder()\r\n",
        "    le = le.fit(dataDF[feature])\r\n",
        "    dataDF[feature] = le.transform(dataDF[feature])\r\n",
        "  return dataDF\r\n",
        "df = encode_features(df)\r\n",
        "df.head(3)"
      ],
      "execution_count": 59,
      "outputs": [
        {
          "output_type": "stream",
          "text": [
            "총 결측치 수: 0\n"
          ],
          "name": "stdout"
        },
        {
          "output_type": "execute_result",
          "data": {
            "text/html": [
              "<div>\n",
              "<style scoped>\n",
              "    .dataframe tbody tr th:only-of-type {\n",
              "        vertical-align: middle;\n",
              "    }\n",
              "\n",
              "    .dataframe tbody tr th {\n",
              "        vertical-align: top;\n",
              "    }\n",
              "\n",
              "    .dataframe thead th {\n",
              "        text-align: right;\n",
              "    }\n",
              "</style>\n",
              "<table border=\"1\" class=\"dataframe\">\n",
              "  <thead>\n",
              "    <tr style=\"text-align: right;\">\n",
              "      <th></th>\n",
              "      <th>Survived</th>\n",
              "      <th>Pclass</th>\n",
              "      <th>Sex</th>\n",
              "      <th>Age</th>\n",
              "      <th>SibSp</th>\n",
              "      <th>Parch</th>\n",
              "      <th>Fare</th>\n",
              "      <th>Cabin</th>\n",
              "      <th>Embarked</th>\n",
              "    </tr>\n",
              "  </thead>\n",
              "  <tbody>\n",
              "    <tr>\n",
              "      <th>0</th>\n",
              "      <td>0</td>\n",
              "      <td>3</td>\n",
              "      <td>1</td>\n",
              "      <td>22.0</td>\n",
              "      <td>1</td>\n",
              "      <td>0</td>\n",
              "      <td>7.2500</td>\n",
              "      <td>7</td>\n",
              "      <td>3</td>\n",
              "    </tr>\n",
              "    <tr>\n",
              "      <th>1</th>\n",
              "      <td>1</td>\n",
              "      <td>1</td>\n",
              "      <td>0</td>\n",
              "      <td>38.0</td>\n",
              "      <td>1</td>\n",
              "      <td>0</td>\n",
              "      <td>71.2833</td>\n",
              "      <td>2</td>\n",
              "      <td>0</td>\n",
              "    </tr>\n",
              "    <tr>\n",
              "      <th>2</th>\n",
              "      <td>1</td>\n",
              "      <td>3</td>\n",
              "      <td>0</td>\n",
              "      <td>26.0</td>\n",
              "      <td>0</td>\n",
              "      <td>0</td>\n",
              "      <td>7.9250</td>\n",
              "      <td>7</td>\n",
              "      <td>3</td>\n",
              "    </tr>\n",
              "  </tbody>\n",
              "</table>\n",
              "</div>"
            ],
            "text/plain": [
              "   Survived  Pclass  Sex   Age  SibSp  Parch     Fare  Cabin  Embarked\n",
              "0         0       3    1  22.0      1      0   7.2500      7         3\n",
              "1         1       1    0  38.0      1      0  71.2833      2         0\n",
              "2         1       3    0  26.0      0      0   7.9250      7         3"
            ]
          },
          "metadata": {
            "tags": []
          },
          "execution_count": 59
        }
      ]
    },
    {
      "cell_type": "code",
      "metadata": {
        "colab": {
          "base_uri": "https://localhost:8080/",
          "height": 297
        },
        "id": "VGcUIHQ4Ilge",
        "outputId": "67706850-f08f-4566-9577-c06df310c5f2"
      },
      "source": [
        "# 성별에 따른 생존율(0=female)\r\n",
        "sns.barplot(x='Sex',y='Survived',data=df)"
      ],
      "execution_count": 60,
      "outputs": [
        {
          "output_type": "execute_result",
          "data": {
            "text/plain": [
              "<matplotlib.axes._subplots.AxesSubplot at 0x7f98b6460588>"
            ]
          },
          "metadata": {
            "tags": []
          },
          "execution_count": 60
        },
        {
          "output_type": "display_data",
          "data": {
            "image/png": "[encoded data removed]",
            "text/plain": [
              "<Figure size 432x288 with 1 Axes>"
            ]
          },
          "metadata": {
            "tags": [],
            "needs_background": "light"
          }
        }
      ]
    },
    {
      "cell_type": "code",
      "metadata": {
        "id": "N55tc-gLQUru"
      },
      "source": [
        "from sklearn.base import BaseEstimator\r\n",
        "import numpy as np\r\n",
        "\r\n",
        "class MyDummyClassifier(BaseEstimator):\r\n",
        "  #fit() 사용x (학습하지 않음)\r\n",
        "  def fit(self, X, y=None):\r\n",
        "    pass\r\n",
        "  #predict() 단순히 Sex feature 가 1이면 0, 그렇지 않으면 1로 예측함.\r\n",
        "  def predict(self, X):\r\n",
        "    pred = np.zeros((X.shape[0],1))\r\n",
        "    for i in range (X.shape[0]) :\r\n",
        "      if X['Sex'].iloc[i] ==1:\r\n",
        "        pred[i] = 0\r\n",
        "      else :\r\n",
        "        pred[i] = 1\r\n",
        "\r\n",
        "    return pred\r\n"
      ],
      "execution_count": 61,
      "outputs": []
    },
    {
      "cell_type": "code",
      "metadata": {
        "colab": {
          "base_uri": "https://localhost:8080/"
        },
        "id": "wKaAUV4HT0Wl",
        "outputId": "06a37ecd-548e-4bf1-bc50-c0d38297a6ba"
      },
      "source": [
        "# 무조건 여성일 경우 '생존'으로 예측해보기\r\n",
        "\r\n",
        "import pandas as pd\r\n",
        "from sklearn.model_selection import train_test_split\r\n",
        "from sklearn.metrics import accuracy_score\r\n",
        "target = df['Survived']\r\n",
        "features = df.drop('Survived', axis=1)\r\n",
        "X_train, X_test,y_train, y_test = train_test_split(features, target, \r\n",
        "                                                   test_size=0.2, random_state=10)\r\n",
        "#Dummy Classifier로 학습/예측/정확도 평가\r\n",
        "myclf = MyDummyClassifier()\r\n",
        "myclf.fit(X_train, y_train)\r\n",
        "\r\n",
        "# 위에서 생성한 Dummy Classifier를 이용해 학습/예측/평가 수행\r\n",
        "mypredictions = myclf.predict(X_test)\r\n",
        "print('Dummy Classifier의 정확도는:{:.4f}'.format(accuracy_score(y_test, mypredictions)))"
      ],
      "execution_count": 64,
      "outputs": [
        {
          "output_type": "stream",
          "text": [
            "Dummy Classifier의 정확도는:0.8212\n"
          ],
          "name": "stdout"
        }
      ]
    },
    {
      "cell_type": "markdown",
      "metadata": {
        "id": "QVeOmSRlKQPz"
      },
      "source": [
        "여성이면 무조건 '생존' 으로 예측할 경우 test set의 정확도 가 82% 나왔다.\r\n",
        "불균형한 레이블 값 분포에서 머신러닝 모델의 성능을 판단한 경우, 정확도(Accuracy)는 적합한 평가 지표가 아님을 보여준다.\r\n",
        "\r\n",
        "\r\n",
        "---\r\n",
        "\r\n"
      ]
    }
  ]
}