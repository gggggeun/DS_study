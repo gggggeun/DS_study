{
  "nbformat": 4,
  "nbformat_minor": 0,
  "metadata": {
    "colab": {
      "name": "사이킷런으로 피쳐스케일링.ipynb",
      "provenance": [],
      "include_colab_link": true
    },
    "kernelspec": {
      "name": "python3",
      "display_name": "Python 3"
    }
  },
  "cells": [
    {
      "cell_type": "markdown",
      "metadata": {
        "id": "view-in-github",
        "colab_type": "text"
      },
      "source": [
        "<a href=\"https://colab.research.google.com/github/gggggeun/study/blob/main/1.%20%EC%82%AC%EC%9D%B4%ED%82%B7%EB%9F%B0(Scikit_learn)/5.%20%EC%82%AC%EC%9D%B4%ED%82%B7%EB%9F%B0%EC%9C%BC%EB%A1%9C_Feature%20scaling.ipynb\" target=\"_parent\"><img src=\"https://colab.research.google.com/assets/colab-badge.svg\" alt=\"Open In Colab\"/></a>"
      ]
    },
    {
      "cell_type": "markdown",
      "metadata": {
        "id": "2ouMvuKKdIdO"
      },
      "source": [
        "# 사이킷런으로 Feature scaling 하기"
      ]
    },
    {
      "cell_type": "markdown",
      "metadata": {
        "id": "Cvk5ff7sdPOg"
      },
      "source": [
        "## StandardScaler (표준화)"
      ]
    },
    {
      "cell_type": "code",
      "metadata": {
        "colab": {
          "base_uri": "https://localhost:8080/",
          "height": 197
        },
        "id": "RQWJaD2fYtZY",
        "outputId": "eeee7f85-22cb-443a-d553-7034177210af"
      },
      "source": [
        "from sklearn.datasets import load_iris\r\n",
        "import pandas as pd\r\n",
        "\r\n",
        "iris = load_iris()\r\n",
        "iris_data = iris.data\r\n",
        "iris_df = pd.DataFrame(data=iris_data, columns=iris.feature_names)\r\n",
        "iris_df.head()"
      ],
      "execution_count": null,
      "outputs": [
        {
          "output_type": "execute_result",
          "data": {
            "text/html": [
              "<div>\n",
              "<style scoped>\n",
              "    .dataframe tbody tr th:only-of-type {\n",
              "        vertical-align: middle;\n",
              "    }\n",
              "\n",
              "    .dataframe tbody tr th {\n",
              "        vertical-align: top;\n",
              "    }\n",
              "\n",
              "    .dataframe thead th {\n",
              "        text-align: right;\n",
              "    }\n",
              "</style>\n",
              "<table border=\"1\" class=\"dataframe\">\n",
              "  <thead>\n",
              "    <tr style=\"text-align: right;\">\n",
              "      <th></th>\n",
              "      <th>sepal length (cm)</th>\n",
              "      <th>sepal width (cm)</th>\n",
              "      <th>petal length (cm)</th>\n",
              "      <th>petal width (cm)</th>\n",
              "    </tr>\n",
              "  </thead>\n",
              "  <tbody>\n",
              "    <tr>\n",
              "      <th>0</th>\n",
              "      <td>5.1</td>\n",
              "      <td>3.5</td>\n",
              "      <td>1.4</td>\n",
              "      <td>0.2</td>\n",
              "    </tr>\n",
              "    <tr>\n",
              "      <th>1</th>\n",
              "      <td>4.9</td>\n",
              "      <td>3.0</td>\n",
              "      <td>1.4</td>\n",
              "      <td>0.2</td>\n",
              "    </tr>\n",
              "    <tr>\n",
              "      <th>2</th>\n",
              "      <td>4.7</td>\n",
              "      <td>3.2</td>\n",
              "      <td>1.3</td>\n",
              "      <td>0.2</td>\n",
              "    </tr>\n",
              "    <tr>\n",
              "      <th>3</th>\n",
              "      <td>4.6</td>\n",
              "      <td>3.1</td>\n",
              "      <td>1.5</td>\n",
              "      <td>0.2</td>\n",
              "    </tr>\n",
              "    <tr>\n",
              "      <th>4</th>\n",
              "      <td>5.0</td>\n",
              "      <td>3.6</td>\n",
              "      <td>1.4</td>\n",
              "      <td>0.2</td>\n",
              "    </tr>\n",
              "  </tbody>\n",
              "</table>\n",
              "</div>"
            ],
            "text/plain": [
              "   sepal length (cm)  sepal width (cm)  petal length (cm)  petal width (cm)\n",
              "0                5.1               3.5                1.4               0.2\n",
              "1                4.9               3.0                1.4               0.2\n",
              "2                4.7               3.2                1.3               0.2\n",
              "3                4.6               3.1                1.5               0.2\n",
              "4                5.0               3.6                1.4               0.2"
            ]
          },
          "metadata": {
            "tags": []
          },
          "execution_count": 3
        }
      ]
    },
    {
      "cell_type": "code",
      "metadata": {
        "colab": {
          "base_uri": "https://localhost:8080/",
          "height": 197
        },
        "id": "GJDPIRAnaCI5",
        "outputId": "e7ead5f6-e7e7-4145-8af6-c858026270a4"
      },
      "source": [
        "from sklearn.preprocessing import StandardScaler\r\n",
        "\r\n",
        "# StandardScaler 객체 생성\r\n",
        "scaler = StandardScaler()\r\n",
        "\r\n",
        "# 데이터 세트 변환\r\n",
        "scaler.fit(iris_df)\r\n",
        "iris_scaled = scaler.transform(iris_df)\r\n",
        "\r\n",
        "# ndarray -> dataframe\r\n",
        "iris_df_scaled = pd.DataFrame(data=iris_scaled, columns=iris.feature_names)\r\n",
        "iris_df_scaled.head()"
      ],
      "execution_count": null,
      "outputs": [
        {
          "output_type": "execute_result",
          "data": {
            "text/html": [
              "<div>\n",
              "<style scoped>\n",
              "    .dataframe tbody tr th:only-of-type {\n",
              "        vertical-align: middle;\n",
              "    }\n",
              "\n",
              "    .dataframe tbody tr th {\n",
              "        vertical-align: top;\n",
              "    }\n",
              "\n",
              "    .dataframe thead th {\n",
              "        text-align: right;\n",
              "    }\n",
              "</style>\n",
              "<table border=\"1\" class=\"dataframe\">\n",
              "  <thead>\n",
              "    <tr style=\"text-align: right;\">\n",
              "      <th></th>\n",
              "      <th>sepal length (cm)</th>\n",
              "      <th>sepal width (cm)</th>\n",
              "      <th>petal length (cm)</th>\n",
              "      <th>petal width (cm)</th>\n",
              "    </tr>\n",
              "  </thead>\n",
              "  <tbody>\n",
              "    <tr>\n",
              "      <th>0</th>\n",
              "      <td>-0.900681</td>\n",
              "      <td>1.019004</td>\n",
              "      <td>-1.340227</td>\n",
              "      <td>-1.315444</td>\n",
              "    </tr>\n",
              "    <tr>\n",
              "      <th>1</th>\n",
              "      <td>-1.143017</td>\n",
              "      <td>-0.131979</td>\n",
              "      <td>-1.340227</td>\n",
              "      <td>-1.315444</td>\n",
              "    </tr>\n",
              "    <tr>\n",
              "      <th>2</th>\n",
              "      <td>-1.385353</td>\n",
              "      <td>0.328414</td>\n",
              "      <td>-1.397064</td>\n",
              "      <td>-1.315444</td>\n",
              "    </tr>\n",
              "    <tr>\n",
              "      <th>3</th>\n",
              "      <td>-1.506521</td>\n",
              "      <td>0.098217</td>\n",
              "      <td>-1.283389</td>\n",
              "      <td>-1.315444</td>\n",
              "    </tr>\n",
              "    <tr>\n",
              "      <th>4</th>\n",
              "      <td>-1.021849</td>\n",
              "      <td>1.249201</td>\n",
              "      <td>-1.340227</td>\n",
              "      <td>-1.315444</td>\n",
              "    </tr>\n",
              "  </tbody>\n",
              "</table>\n",
              "</div>"
            ],
            "text/plain": [
              "   sepal length (cm)  sepal width (cm)  petal length (cm)  petal width (cm)\n",
              "0          -0.900681          1.019004          -1.340227         -1.315444\n",
              "1          -1.143017         -0.131979          -1.340227         -1.315444\n",
              "2          -1.385353          0.328414          -1.397064         -1.315444\n",
              "3          -1.506521          0.098217          -1.283389         -1.315444\n",
              "4          -1.021849          1.249201          -1.340227         -1.315444"
            ]
          },
          "metadata": {
            "tags": []
          },
          "execution_count": 19
        }
      ]
    },
    {
      "cell_type": "code",
      "metadata": {
        "colab": {
          "base_uri": "https://localhost:8080/",
          "height": 167
        },
        "id": "FG0HxjSTceat",
        "outputId": "ab0dc26b-af3b-4785-9c3a-3974291dd248"
      },
      "source": [
        "a=iris_df.mean()\r\n",
        "b=iris_df.var()\r\n",
        "c=iris_df_scaled.mean()\r\n",
        "d=iris_df_scaled.var()\r\n",
        "\r\n",
        "df = pd.DataFrame({'스케일 전 평균값':a,'스케일 후 평균값':c,'스케일 전 분산값':b,'스케일 후 분산값':d})\r\n",
        "df"
      ],
      "execution_count": null,
      "outputs": [
        {
          "output_type": "execute_result",
          "data": {
            "text/html": [
              "<div>\n",
              "<style scoped>\n",
              "    .dataframe tbody tr th:only-of-type {\n",
              "        vertical-align: middle;\n",
              "    }\n",
              "\n",
              "    .dataframe tbody tr th {\n",
              "        vertical-align: top;\n",
              "    }\n",
              "\n",
              "    .dataframe thead th {\n",
              "        text-align: right;\n",
              "    }\n",
              "</style>\n",
              "<table border=\"1\" class=\"dataframe\">\n",
              "  <thead>\n",
              "    <tr style=\"text-align: right;\">\n",
              "      <th></th>\n",
              "      <th>스케일 전 평균값</th>\n",
              "      <th>스케일 후 평균값</th>\n",
              "      <th>스케일 전 분산값</th>\n",
              "      <th>스케일 후 분산값</th>\n",
              "    </tr>\n",
              "  </thead>\n",
              "  <tbody>\n",
              "    <tr>\n",
              "      <th>sepal length (cm)</th>\n",
              "      <td>5.843333</td>\n",
              "      <td>-1.690315e-15</td>\n",
              "      <td>0.685694</td>\n",
              "      <td>1.006711</td>\n",
              "    </tr>\n",
              "    <tr>\n",
              "      <th>sepal width (cm)</th>\n",
              "      <td>3.057333</td>\n",
              "      <td>-1.842970e-15</td>\n",
              "      <td>0.189979</td>\n",
              "      <td>1.006711</td>\n",
              "    </tr>\n",
              "    <tr>\n",
              "      <th>petal length (cm)</th>\n",
              "      <td>3.758000</td>\n",
              "      <td>-1.698641e-15</td>\n",
              "      <td>3.116278</td>\n",
              "      <td>1.006711</td>\n",
              "    </tr>\n",
              "    <tr>\n",
              "      <th>petal width (cm)</th>\n",
              "      <td>1.199333</td>\n",
              "      <td>-1.409243e-15</td>\n",
              "      <td>0.581006</td>\n",
              "      <td>1.006711</td>\n",
              "    </tr>\n",
              "  </tbody>\n",
              "</table>\n",
              "</div>"
            ],
            "text/plain": [
              "                   스케일 전 평균값     스케일 후 평균값  스케일 전 분산값  스케일 후 분산값\n",
              "sepal length (cm)   5.843333 -1.690315e-15   0.685694   1.006711\n",
              "sepal width (cm)    3.057333 -1.842970e-15   0.189979   1.006711\n",
              "petal length (cm)   3.758000 -1.698641e-15   3.116278   1.006711\n",
              "petal width (cm)    1.199333 -1.409243e-15   0.581006   1.006711"
            ]
          },
          "metadata": {
            "tags": []
          },
          "execution_count": 18
        }
      ]
    },
    {
      "cell_type": "markdown",
      "metadata": {
        "id": "g_XyuetJiINL"
      },
      "source": [
        "## MinMaxScaler (정규화)"
      ]
    },
    {
      "cell_type": "code",
      "metadata": {
        "colab": {
          "base_uri": "https://localhost:8080/",
          "height": 197
        },
        "id": "yeCtiUm5iM_P",
        "outputId": "e810f75f-d7d1-4b82-c6c3-19dcd205441c"
      },
      "source": [
        "from sklearn.preprocessing import MinMaxScaler\r\n",
        "\r\n",
        "# 객체생성\r\n",
        "scaler = MinMaxScaler()\r\n",
        "# 데이터 세트 변환\r\n",
        "scaler.fit(iris_df)\r\n",
        "iris_scaled = scaler.transform(iris_df)\r\n",
        "\r\n",
        "# ndarray -> dataframe\r\n",
        "iris_df_scaled = pd.DataFrame(data=iris_scaled, columns=iris.feature_names)\r\n",
        "iris_df_scaled.head()"
      ],
      "execution_count": null,
      "outputs": [
        {
          "output_type": "execute_result",
          "data": {
            "text/html": [
              "<div>\n",
              "<style scoped>\n",
              "    .dataframe tbody tr th:only-of-type {\n",
              "        vertical-align: middle;\n",
              "    }\n",
              "\n",
              "    .dataframe tbody tr th {\n",
              "        vertical-align: top;\n",
              "    }\n",
              "\n",
              "    .dataframe thead th {\n",
              "        text-align: right;\n",
              "    }\n",
              "</style>\n",
              "<table border=\"1\" class=\"dataframe\">\n",
              "  <thead>\n",
              "    <tr style=\"text-align: right;\">\n",
              "      <th></th>\n",
              "      <th>sepal length (cm)</th>\n",
              "      <th>sepal width (cm)</th>\n",
              "      <th>petal length (cm)</th>\n",
              "      <th>petal width (cm)</th>\n",
              "    </tr>\n",
              "  </thead>\n",
              "  <tbody>\n",
              "    <tr>\n",
              "      <th>0</th>\n",
              "      <td>0.222222</td>\n",
              "      <td>0.625000</td>\n",
              "      <td>0.067797</td>\n",
              "      <td>0.041667</td>\n",
              "    </tr>\n",
              "    <tr>\n",
              "      <th>1</th>\n",
              "      <td>0.166667</td>\n",
              "      <td>0.416667</td>\n",
              "      <td>0.067797</td>\n",
              "      <td>0.041667</td>\n",
              "    </tr>\n",
              "    <tr>\n",
              "      <th>2</th>\n",
              "      <td>0.111111</td>\n",
              "      <td>0.500000</td>\n",
              "      <td>0.050847</td>\n",
              "      <td>0.041667</td>\n",
              "    </tr>\n",
              "    <tr>\n",
              "      <th>3</th>\n",
              "      <td>0.083333</td>\n",
              "      <td>0.458333</td>\n",
              "      <td>0.084746</td>\n",
              "      <td>0.041667</td>\n",
              "    </tr>\n",
              "    <tr>\n",
              "      <th>4</th>\n",
              "      <td>0.194444</td>\n",
              "      <td>0.666667</td>\n",
              "      <td>0.067797</td>\n",
              "      <td>0.041667</td>\n",
              "    </tr>\n",
              "  </tbody>\n",
              "</table>\n",
              "</div>"
            ],
            "text/plain": [
              "   sepal length (cm)  sepal width (cm)  petal length (cm)  petal width (cm)\n",
              "0           0.222222          0.625000           0.067797          0.041667\n",
              "1           0.166667          0.416667           0.067797          0.041667\n",
              "2           0.111111          0.500000           0.050847          0.041667\n",
              "3           0.083333          0.458333           0.084746          0.041667\n",
              "4           0.194444          0.666667           0.067797          0.041667"
            ]
          },
          "metadata": {
            "tags": []
          },
          "execution_count": 20
        }
      ]
    },
    {
      "cell_type": "code",
      "metadata": {
        "colab": {
          "base_uri": "https://localhost:8080/",
          "height": 167
        },
        "id": "DKx2cgHpi_9U",
        "outputId": "04336da9-bead-4461-ea79-8c0ecd9be939"
      },
      "source": [
        "x=iris_df_scaled.min()\r\n",
        "y=iris_df_scaled.max()\r\n",
        "df1 = pd.DataFrame({'스케일 후 최소값':x,'스케일 후 최대값':y})\r\n",
        "df1"
      ],
      "execution_count": null,
      "outputs": [
        {
          "output_type": "execute_result",
          "data": {
            "text/html": [
              "<div>\n",
              "<style scoped>\n",
              "    .dataframe tbody tr th:only-of-type {\n",
              "        vertical-align: middle;\n",
              "    }\n",
              "\n",
              "    .dataframe tbody tr th {\n",
              "        vertical-align: top;\n",
              "    }\n",
              "\n",
              "    .dataframe thead th {\n",
              "        text-align: right;\n",
              "    }\n",
              "</style>\n",
              "<table border=\"1\" class=\"dataframe\">\n",
              "  <thead>\n",
              "    <tr style=\"text-align: right;\">\n",
              "      <th></th>\n",
              "      <th>스케일 후 최소값</th>\n",
              "      <th>스케일 후 최대값</th>\n",
              "    </tr>\n",
              "  </thead>\n",
              "  <tbody>\n",
              "    <tr>\n",
              "      <th>sepal length (cm)</th>\n",
              "      <td>0.0</td>\n",
              "      <td>1.0</td>\n",
              "    </tr>\n",
              "    <tr>\n",
              "      <th>sepal width (cm)</th>\n",
              "      <td>0.0</td>\n",
              "      <td>1.0</td>\n",
              "    </tr>\n",
              "    <tr>\n",
              "      <th>petal length (cm)</th>\n",
              "      <td>0.0</td>\n",
              "      <td>1.0</td>\n",
              "    </tr>\n",
              "    <tr>\n",
              "      <th>petal width (cm)</th>\n",
              "      <td>0.0</td>\n",
              "      <td>1.0</td>\n",
              "    </tr>\n",
              "  </tbody>\n",
              "</table>\n",
              "</div>"
            ],
            "text/plain": [
              "                   스케일 후 최소값  스케일 후 최대값\n",
              "sepal length (cm)        0.0        1.0\n",
              "sepal width (cm)         0.0        1.0\n",
              "petal length (cm)        0.0        1.0\n",
              "petal width (cm)         0.0        1.0"
            ]
          },
          "metadata": {
            "tags": []
          },
          "execution_count": 23
        }
      ]
    }
  ]
}