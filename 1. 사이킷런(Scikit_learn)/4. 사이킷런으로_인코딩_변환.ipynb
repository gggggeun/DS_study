{
  "nbformat": 4,
  "nbformat_minor": 0,
  "metadata": {
    "colab": {
      "name": "사이킷런으로 인코딩 변환.ipynb",
      "provenance": [],
      "include_colab_link": true
    },
    "kernelspec": {
      "name": "python3",
      "display_name": "Python 3"
    }
  },
  "cells": [
    {
      "cell_type": "markdown",
      "metadata": {
        "id": "view-in-github",
        "colab_type": "text"
      },
      "source": [
        "<a href=\"https://colab.research.google.com/github/gggggeun/study/blob/main/1.%20%EC%82%AC%EC%9D%B4%ED%82%B7%EB%9F%B0(Scikit_learn)/4.%20%EC%82%AC%EC%9D%B4%ED%82%B7%EB%9F%B0%EC%9C%BC%EB%A1%9C_%EC%9D%B8%EC%BD%94%EB%94%A9_%EB%B3%80%ED%99%98.ipynb\" target=\"_parent\"><img src=\"https://colab.research.google.com/assets/colab-badge.svg\" alt=\"Open In Colab\"/></a>"
      ]
    },
    {
      "cell_type": "markdown",
      "metadata": {
        "id": "ObFViO50Ryi8"
      },
      "source": [
        "# Encoding"
      ]
    },
    {
      "cell_type": "markdown",
      "metadata": {
        "id": "226iiwKFR3o0"
      },
      "source": [
        "## Label encoding"
      ]
    },
    {
      "cell_type": "code",
      "metadata": {
        "colab": {
          "base_uri": "https://localhost:8080/"
        },
        "id": "0Z2SMqobJ9-Q",
        "outputId": "0340559e-7357-44a1-a309-9a6bc233d4a9"
      },
      "source": [
        "from sklearn.preprocessing import LabelEncoder\r\n",
        "items=['피자','치킨','짜장면','짜장면','탕수육']\r\n",
        "encoder= LabelEncoder()\r\n",
        "encoder.fit(items)\r\n",
        "labels= encoder.transform(items)\r\n",
        "print('인코딩 변환값:', labels)"
      ],
      "execution_count": null,
      "outputs": [
        {
          "output_type": "stream",
          "text": [
            "인코딩 변환값: [3 1 0 0 2]\n"
          ],
          "name": "stdout"
        }
      ]
    },
    {
      "cell_type": "code",
      "metadata": {
        "colab": {
          "base_uri": "https://localhost:8080/"
        },
        "id": "27klrVtCKMX6",
        "outputId": "c901fab7-fbac-476b-bd7c-8bc9ffbb16ea"
      },
      "source": [
        "print('인코딩 클래스 : ', encoder.classes_)\r\n",
        "print('디코딩 원본값 : ', encoder.inverse_transform([1,2,3,0]))"
      ],
      "execution_count": null,
      "outputs": [
        {
          "output_type": "stream",
          "text": [
            "인코딩 클래스 :  ['짜장면' '치킨' '탕수육' '피자']\n",
            "디코딩 원본값 :  ['치킨' '탕수육' '피자' '짜장면']\n"
          ],
          "name": "stdout"
        }
      ]
    },
    {
      "cell_type": "markdown",
      "metadata": {
        "id": "nU6_kjtLR6Sm"
      },
      "source": [
        "## One-hot encoding"
      ]
    },
    {
      "cell_type": "code",
      "metadata": {
        "colab": {
          "base_uri": "https://localhost:8080/"
        },
        "id": "dSJEMnigKRgc",
        "outputId": "e3049840-0a95-4624-de91-0ee143bd324d"
      },
      "source": [
        "from sklearn.preprocessing import OneHotEncoder\r\n",
        "import numpy as np\r\n",
        "\r\n",
        "items=['피자','치킨','짜장면','짜장면','탕수육']\r\n",
        "#먼저 label encoding을 사용해 숫자값으로 변경\r\n",
        "encoder= LabelEncoder()\r\n",
        "encoder.fit(items)\r\n",
        "labels= encoder.transform(items)\r\n",
        "labels"
      ],
      "execution_count": null,
      "outputs": [
        {
          "output_type": "execute_result",
          "data": {
            "text/plain": [
              "array([3, 1, 0, 0, 2])"
            ]
          },
          "metadata": {
            "tags": []
          },
          "execution_count": 7
        }
      ]
    },
    {
      "cell_type": "code",
      "metadata": {
        "colab": {
          "base_uri": "https://localhost:8080/"
        },
        "id": "9Bpc-G8WKbpt",
        "outputId": "94b1efb7-5e3c-41d4-860a-8ea2fc7cc7cd"
      },
      "source": [
        "#2차원 데이터로 변환\r\n",
        "labels = labels.reshape(-1,1)\r\n",
        "labels"
      ],
      "execution_count": null,
      "outputs": [
        {
          "output_type": "execute_result",
          "data": {
            "text/plain": [
              "array([[3],\n",
              "       [1],\n",
              "       [0],\n",
              "       [0],\n",
              "       [2]])"
            ]
          },
          "metadata": {
            "tags": []
          },
          "execution_count": 8
        }
      ]
    },
    {
      "cell_type": "code",
      "metadata": {
        "colab": {
          "base_uri": "https://localhost:8080/"
        },
        "id": "h5LhUsLBQe3t",
        "outputId": "5b7885de-79dc-4c7b-87de-b6f3e8e17864"
      },
      "source": [
        "#원핫인코딩\r\n",
        "oh_encoder = OneHotEncoder()\r\n",
        "oh_encoder.fit(labels)\r\n",
        "oh_labels = oh_encoder.transform(labels)\r\n",
        "print('원-핫 인코딩 데이터')\r\n",
        "print(oh_labels.toarray())\r\n",
        "print('원-핫 인코딩 데이터 차원 : ',oh_labels.shape)\r\n"
      ],
      "execution_count": null,
      "outputs": [
        {
          "output_type": "stream",
          "text": [
            "원-핫 인코딩 데이터\n",
            "[[0. 0. 0. 1.]\n",
            " [0. 1. 0. 0.]\n",
            " [1. 0. 0. 0.]\n",
            " [1. 0. 0. 0.]\n",
            " [0. 0. 1. 0.]]\n",
            "원-핫 인코딩 데이터 차원 :  (5, 4)\n"
          ],
          "name": "stdout"
        }
      ]
    },
    {
      "cell_type": "code",
      "metadata": {
        "colab": {
          "base_uri": "https://localhost:8080/",
          "height": 197
        },
        "id": "HJ3uImifSwYH",
        "outputId": "d46ee386-105d-4057-f27e-340d20fce856"
      },
      "source": [
        "import pandas as pd\r\n",
        "\r\n",
        "df = pd.DataFrame({'item' : ['피자','치킨','짜장면','짜장면','탕수육']})\r\n",
        "pd.get_dummies(df)"
      ],
      "execution_count": null,
      "outputs": [
        {
          "output_type": "execute_result",
          "data": {
            "text/html": [
              "<div>\n",
              "<style scoped>\n",
              "    .dataframe tbody tr th:only-of-type {\n",
              "        vertical-align: middle;\n",
              "    }\n",
              "\n",
              "    .dataframe tbody tr th {\n",
              "        vertical-align: top;\n",
              "    }\n",
              "\n",
              "    .dataframe thead th {\n",
              "        text-align: right;\n",
              "    }\n",
              "</style>\n",
              "<table border=\"1\" class=\"dataframe\">\n",
              "  <thead>\n",
              "    <tr style=\"text-align: right;\">\n",
              "      <th></th>\n",
              "      <th>item_짜장면</th>\n",
              "      <th>item_치킨</th>\n",
              "      <th>item_탕수육</th>\n",
              "      <th>item_피자</th>\n",
              "    </tr>\n",
              "  </thead>\n",
              "  <tbody>\n",
              "    <tr>\n",
              "      <th>0</th>\n",
              "      <td>0</td>\n",
              "      <td>0</td>\n",
              "      <td>0</td>\n",
              "      <td>1</td>\n",
              "    </tr>\n",
              "    <tr>\n",
              "      <th>1</th>\n",
              "      <td>0</td>\n",
              "      <td>1</td>\n",
              "      <td>0</td>\n",
              "      <td>0</td>\n",
              "    </tr>\n",
              "    <tr>\n",
              "      <th>2</th>\n",
              "      <td>1</td>\n",
              "      <td>0</td>\n",
              "      <td>0</td>\n",
              "      <td>0</td>\n",
              "    </tr>\n",
              "    <tr>\n",
              "      <th>3</th>\n",
              "      <td>1</td>\n",
              "      <td>0</td>\n",
              "      <td>0</td>\n",
              "      <td>0</td>\n",
              "    </tr>\n",
              "    <tr>\n",
              "      <th>4</th>\n",
              "      <td>0</td>\n",
              "      <td>0</td>\n",
              "      <td>1</td>\n",
              "      <td>0</td>\n",
              "    </tr>\n",
              "  </tbody>\n",
              "</table>\n",
              "</div>"
            ],
            "text/plain": [
              "   item_짜장면  item_치킨  item_탕수육  item_피자\n",
              "0         0        0         0        1\n",
              "1         0        1         0        0\n",
              "2         1        0         0        0\n",
              "3         1        0         0        0\n",
              "4         0        0         1        0"
            ]
          },
          "metadata": {
            "tags": []
          },
          "execution_count": 15
        }
      ]
    }
  ]
}